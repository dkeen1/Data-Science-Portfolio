{
 "cells": [
  {
   "cell_type": "markdown",
   "id": "44c2de96-63bd-4d0e-b9ca-3a3038c4c983",
   "metadata": {},
   "source": [
    "# The Fray is Back? - Daniel K.'s KMeans Algorithm Data Science Portfolio Project"
   ]
  },
  {
   "cell_type": "markdown",
   "id": "8d2f0d25-2190-457f-8455-440748e3ea8b",
   "metadata": {},
   "source": [
    "I made this project to show that I could acquire, clean, and analyze text data as a data scientist. I also wanted some experience with an unsupervised Machine Learning technique, having mostly done supervised learning at work to this point. My methods, surely are not above reproach, but I use this project to show that I can run the code and have some understanding of the limitations of this method in the context of the project here. \n",
    "\n",
    "I also did this because I am a big \"The Fray\" fan and was a little miffed at all the nerds in the YouTube comments section who were questioning whether The Fray were \"really\" back in the absence of Isaac Slade (their old lead singer). So, I set out to assess if they were actually back through a thematic analysis of their song lyrics utilizing an unsupervised machine learning algorithm (Kmeans clustering). \n",
    "\n",
    "So, for our purposes the general research question is \"Is 'The Fray' back?\" Our specific one is \"Are 'The Fray's' new songs thematically, or lyrically, similar to their old songs?\" \n",
    "\n",
    "Our null hypothesis is that they are not back and their songs are thematically distinct from their old songs, which will be confirmed or denied based on where their new songs end up in our clusters. If their new songs are so thematically, or lyrically, different, that they end up in their own cluster by themselves, I will concede to the \"nerds\" in the YouTube comments that The Fray is not back and a new band is using their name. \n",
    "\n",
    "The basic assumption here is that a band engages with similar themes utilizing similar lyrics over the course of their \"life\" as a band. Though they may wander, we should always be able to tell that the band is \"the band.\" Of course, just looking at lyrics is a bit limiting, there are a lot of variables that make up music and make music similar. But, I'll blame Spotify for banning putting their song data into machine learning algorithms and my lack of desire to write another dissertation for wanting to focus solely on the lyrics. \n",
    "\n",
    "Sue me. Now, shall we see if The Fray is actually back?"
   ]
  },
  {
   "cell_type": "markdown",
   "id": "e4496288-07fa-4ea0-9843-a1e45e8411f6",
   "metadata": {},
   "source": [
    "Importing packages"
   ]
  },
  {
   "cell_type": "code",
   "execution_count": 1,
   "id": "a1d1827f-2ba6-4d91-8807-c6a5781c2a29",
   "metadata": {},
   "outputs": [],
   "source": [
    "from bs4 import BeautifulSoup\n",
    "import requests\n",
    "import re\n",
    "from time import sleep\n",
    "from random import randint\n",
    "import pandas as pd\n",
    "import nltk as nltk\n",
    "from sklearn.cluster import KMeans\n",
    "from sklearn.metrics import silhouette_score\n",
    "from sklearn.feature_extraction.text import TfidfVectorizer\n",
    "from nltk.tokenize import sent_tokenize, word_tokenize\n",
    "from nltk.corpus import stopwords\n",
    "from nltk.stem import WordNetLemmatizer as wnl\n",
    "from sklearn.decomposition import PCA, TruncatedSVD\n",
    "from sklearn.feature_extraction.text import CountVectorizer\n",
    "from sklearn.decomposition import LatentDirichletAllocation\n",
    "from sklearn.manifold import TSNE\n",
    "from sklearn.preprocessing import MinMaxScaler\n",
    "import matplotlib.pyplot as plt\n",
    "from nltk.sentiment.vader import SentimentIntensityAnalyzer\n",
    "import seaborn as sns\n",
    "import spacy\n",
    "import numpy as np\n",
    "from scipy.sparse import csr_matrix\n",
    "import contractions"
   ]
  },
  {
   "cell_type": "code",
   "execution_count": 2,
   "id": "c2221222-2998-4686-9996-481e8217d292",
   "metadata": {},
   "outputs": [
    {
     "name": "stderr",
     "output_type": "stream",
     "text": [
      "[nltk_data] Downloading collection 'all'\n",
      "[nltk_data]    | \n",
      "[nltk_data]    | Downloading package abc to\n",
      "[nltk_data]    |     C:\\Users\\danie\\AppData\\Roaming\\nltk_data...\n",
      "[nltk_data]    |   Package abc is already up-to-date!\n",
      "[nltk_data]    | Downloading package alpino to\n",
      "[nltk_data]    |     C:\\Users\\danie\\AppData\\Roaming\\nltk_data...\n",
      "[nltk_data]    |   Package alpino is already up-to-date!\n",
      "[nltk_data]    | Downloading package averaged_perceptron_tagger to\n",
      "[nltk_data]    |     C:\\Users\\danie\\AppData\\Roaming\\nltk_data...\n",
      "[nltk_data]    |   Package averaged_perceptron_tagger is already up-\n",
      "[nltk_data]    |       to-date!\n",
      "[nltk_data]    | Downloading package averaged_perceptron_tagger_eng to\n",
      "[nltk_data]    |     C:\\Users\\danie\\AppData\\Roaming\\nltk_data...\n",
      "[nltk_data]    |   Package averaged_perceptron_tagger_eng is already\n",
      "[nltk_data]    |       up-to-date!\n",
      "[nltk_data]    | Downloading package averaged_perceptron_tagger_ru to\n",
      "[nltk_data]    |     C:\\Users\\danie\\AppData\\Roaming\\nltk_data...\n",
      "[nltk_data]    |   Package averaged_perceptron_tagger_ru is already\n",
      "[nltk_data]    |       up-to-date!\n",
      "[nltk_data]    | Downloading package averaged_perceptron_tagger_rus to\n",
      "[nltk_data]    |     C:\\Users\\danie\\AppData\\Roaming\\nltk_data...\n",
      "[nltk_data]    |   Package averaged_perceptron_tagger_rus is already\n",
      "[nltk_data]    |       up-to-date!\n",
      "[nltk_data]    | Downloading package basque_grammars to\n",
      "[nltk_data]    |     C:\\Users\\danie\\AppData\\Roaming\\nltk_data...\n",
      "[nltk_data]    |   Package basque_grammars is already up-to-date!\n",
      "[nltk_data]    | Downloading package bcp47 to\n",
      "[nltk_data]    |     C:\\Users\\danie\\AppData\\Roaming\\nltk_data...\n",
      "[nltk_data]    |   Package bcp47 is already up-to-date!\n",
      "[nltk_data]    | Downloading package biocreative_ppi to\n",
      "[nltk_data]    |     C:\\Users\\danie\\AppData\\Roaming\\nltk_data...\n",
      "[nltk_data]    |   Package biocreative_ppi is already up-to-date!\n",
      "[nltk_data]    | Downloading package bllip_wsj_no_aux to\n",
      "[nltk_data]    |     C:\\Users\\danie\\AppData\\Roaming\\nltk_data...\n",
      "[nltk_data]    |   Package bllip_wsj_no_aux is already up-to-date!\n",
      "[nltk_data]    | Downloading package book_grammars to\n",
      "[nltk_data]    |     C:\\Users\\danie\\AppData\\Roaming\\nltk_data...\n",
      "[nltk_data]    |   Package book_grammars is already up-to-date!\n",
      "[nltk_data]    | Downloading package brown to\n",
      "[nltk_data]    |     C:\\Users\\danie\\AppData\\Roaming\\nltk_data...\n",
      "[nltk_data]    |   Package brown is already up-to-date!\n",
      "[nltk_data]    | Downloading package brown_tei to\n",
      "[nltk_data]    |     C:\\Users\\danie\\AppData\\Roaming\\nltk_data...\n",
      "[nltk_data]    |   Package brown_tei is already up-to-date!\n",
      "[nltk_data]    | Downloading package cess_cat to\n",
      "[nltk_data]    |     C:\\Users\\danie\\AppData\\Roaming\\nltk_data...\n",
      "[nltk_data]    |   Package cess_cat is already up-to-date!\n",
      "[nltk_data]    | Downloading package cess_esp to\n",
      "[nltk_data]    |     C:\\Users\\danie\\AppData\\Roaming\\nltk_data...\n",
      "[nltk_data]    |   Package cess_esp is already up-to-date!\n",
      "[nltk_data]    | Downloading package chat80 to\n",
      "[nltk_data]    |     C:\\Users\\danie\\AppData\\Roaming\\nltk_data...\n",
      "[nltk_data]    |   Package chat80 is already up-to-date!\n",
      "[nltk_data]    | Downloading package city_database to\n",
      "[nltk_data]    |     C:\\Users\\danie\\AppData\\Roaming\\nltk_data...\n",
      "[nltk_data]    |   Package city_database is already up-to-date!\n",
      "[nltk_data]    | Downloading package cmudict to\n",
      "[nltk_data]    |     C:\\Users\\danie\\AppData\\Roaming\\nltk_data...\n",
      "[nltk_data]    |   Package cmudict is already up-to-date!\n",
      "[nltk_data]    | Downloading package comparative_sentences to\n",
      "[nltk_data]    |     C:\\Users\\danie\\AppData\\Roaming\\nltk_data...\n",
      "[nltk_data]    |   Package comparative_sentences is already up-to-\n",
      "[nltk_data]    |       date!\n",
      "[nltk_data]    | Downloading package comtrans to\n",
      "[nltk_data]    |     C:\\Users\\danie\\AppData\\Roaming\\nltk_data...\n",
      "[nltk_data]    |   Package comtrans is already up-to-date!\n",
      "[nltk_data]    | Downloading package conll2000 to\n",
      "[nltk_data]    |     C:\\Users\\danie\\AppData\\Roaming\\nltk_data...\n",
      "[nltk_data]    |   Package conll2000 is already up-to-date!\n",
      "[nltk_data]    | Downloading package conll2002 to\n",
      "[nltk_data]    |     C:\\Users\\danie\\AppData\\Roaming\\nltk_data...\n",
      "[nltk_data]    |   Package conll2002 is already up-to-date!\n",
      "[nltk_data]    | Downloading package conll2007 to\n",
      "[nltk_data]    |     C:\\Users\\danie\\AppData\\Roaming\\nltk_data...\n",
      "[nltk_data]    |   Package conll2007 is already up-to-date!\n",
      "[nltk_data]    | Downloading package crubadan to\n",
      "[nltk_data]    |     C:\\Users\\danie\\AppData\\Roaming\\nltk_data...\n",
      "[nltk_data]    |   Package crubadan is already up-to-date!\n",
      "[nltk_data]    | Downloading package dependency_treebank to\n",
      "[nltk_data]    |     C:\\Users\\danie\\AppData\\Roaming\\nltk_data...\n",
      "[nltk_data]    |   Package dependency_treebank is already up-to-date!\n",
      "[nltk_data]    | Downloading package dolch to\n",
      "[nltk_data]    |     C:\\Users\\danie\\AppData\\Roaming\\nltk_data...\n",
      "[nltk_data]    |   Package dolch is already up-to-date!\n",
      "[nltk_data]    | Downloading package europarl_raw to\n",
      "[nltk_data]    |     C:\\Users\\danie\\AppData\\Roaming\\nltk_data...\n",
      "[nltk_data]    |   Package europarl_raw is already up-to-date!\n",
      "[nltk_data]    | Downloading package extended_omw to\n",
      "[nltk_data]    |     C:\\Users\\danie\\AppData\\Roaming\\nltk_data...\n",
      "[nltk_data]    |   Package extended_omw is already up-to-date!\n",
      "[nltk_data]    | Downloading package floresta to\n",
      "[nltk_data]    |     C:\\Users\\danie\\AppData\\Roaming\\nltk_data...\n",
      "[nltk_data]    |   Package floresta is already up-to-date!\n",
      "[nltk_data]    | Downloading package framenet_v15 to\n",
      "[nltk_data]    |     C:\\Users\\danie\\AppData\\Roaming\\nltk_data...\n",
      "[nltk_data]    |   Package framenet_v15 is already up-to-date!\n",
      "[nltk_data]    | Downloading package framenet_v17 to\n",
      "[nltk_data]    |     C:\\Users\\danie\\AppData\\Roaming\\nltk_data...\n",
      "[nltk_data]    |   Package framenet_v17 is already up-to-date!\n",
      "[nltk_data]    | Downloading package gazetteers to\n",
      "[nltk_data]    |     C:\\Users\\danie\\AppData\\Roaming\\nltk_data...\n",
      "[nltk_data]    |   Package gazetteers is already up-to-date!\n",
      "[nltk_data]    | Downloading package genesis to\n",
      "[nltk_data]    |     C:\\Users\\danie\\AppData\\Roaming\\nltk_data...\n",
      "[nltk_data]    |   Package genesis is already up-to-date!\n",
      "[nltk_data]    | Downloading package gutenberg to\n",
      "[nltk_data]    |     C:\\Users\\danie\\AppData\\Roaming\\nltk_data...\n",
      "[nltk_data]    |   Package gutenberg is already up-to-date!\n",
      "[nltk_data]    | Downloading package ieer to\n",
      "[nltk_data]    |     C:\\Users\\danie\\AppData\\Roaming\\nltk_data...\n",
      "[nltk_data]    |   Package ieer is already up-to-date!\n",
      "[nltk_data]    | Downloading package inaugural to\n",
      "[nltk_data]    |     C:\\Users\\danie\\AppData\\Roaming\\nltk_data...\n",
      "[nltk_data]    |   Package inaugural is already up-to-date!\n",
      "[nltk_data]    | Downloading package indian to\n",
      "[nltk_data]    |     C:\\Users\\danie\\AppData\\Roaming\\nltk_data...\n",
      "[nltk_data]    |   Package indian is already up-to-date!\n",
      "[nltk_data]    | Downloading package jeita to\n",
      "[nltk_data]    |     C:\\Users\\danie\\AppData\\Roaming\\nltk_data...\n",
      "[nltk_data]    |   Package jeita is already up-to-date!\n",
      "[nltk_data]    | Downloading package kimmo to\n",
      "[nltk_data]    |     C:\\Users\\danie\\AppData\\Roaming\\nltk_data...\n",
      "[nltk_data]    |   Package kimmo is already up-to-date!\n",
      "[nltk_data]    | Downloading package knbc to\n",
      "[nltk_data]    |     C:\\Users\\danie\\AppData\\Roaming\\nltk_data...\n",
      "[nltk_data]    |   Package knbc is already up-to-date!\n",
      "[nltk_data]    | Downloading package large_grammars to\n",
      "[nltk_data]    |     C:\\Users\\danie\\AppData\\Roaming\\nltk_data...\n",
      "[nltk_data]    |   Package large_grammars is already up-to-date!\n",
      "[nltk_data]    | Downloading package lin_thesaurus to\n",
      "[nltk_data]    |     C:\\Users\\danie\\AppData\\Roaming\\nltk_data...\n",
      "[nltk_data]    |   Package lin_thesaurus is already up-to-date!\n",
      "[nltk_data]    | Downloading package mac_morpho to\n",
      "[nltk_data]    |     C:\\Users\\danie\\AppData\\Roaming\\nltk_data...\n",
      "[nltk_data]    |   Package mac_morpho is already up-to-date!\n",
      "[nltk_data]    | Downloading package machado to\n",
      "[nltk_data]    |     C:\\Users\\danie\\AppData\\Roaming\\nltk_data...\n",
      "[nltk_data]    |   Package machado is already up-to-date!\n",
      "[nltk_data]    | Downloading package masc_tagged to\n",
      "[nltk_data]    |     C:\\Users\\danie\\AppData\\Roaming\\nltk_data...\n",
      "[nltk_data]    |   Package masc_tagged is already up-to-date!\n",
      "[nltk_data]    | Downloading package maxent_ne_chunker to\n",
      "[nltk_data]    |     C:\\Users\\danie\\AppData\\Roaming\\nltk_data...\n",
      "[nltk_data]    |   Package maxent_ne_chunker is already up-to-date!\n",
      "[nltk_data]    | Downloading package maxent_ne_chunker_tab to\n",
      "[nltk_data]    |     C:\\Users\\danie\\AppData\\Roaming\\nltk_data...\n",
      "[nltk_data]    |   Package maxent_ne_chunker_tab is already up-to-\n",
      "[nltk_data]    |       date!\n",
      "[nltk_data]    | Downloading package maxent_treebank_pos_tagger to\n",
      "[nltk_data]    |     C:\\Users\\danie\\AppData\\Roaming\\nltk_data...\n",
      "[nltk_data]    |   Package maxent_treebank_pos_tagger is already up-\n",
      "[nltk_data]    |       to-date!\n",
      "[nltk_data]    | Downloading package maxent_treebank_pos_tagger_tab to\n",
      "[nltk_data]    |     C:\\Users\\danie\\AppData\\Roaming\\nltk_data...\n",
      "[nltk_data]    |   Package maxent_treebank_pos_tagger_tab is already\n",
      "[nltk_data]    |       up-to-date!\n",
      "[nltk_data]    | Downloading package moses_sample to\n",
      "[nltk_data]    |     C:\\Users\\danie\\AppData\\Roaming\\nltk_data...\n",
      "[nltk_data]    |   Package moses_sample is already up-to-date!\n",
      "[nltk_data]    | Downloading package movie_reviews to\n",
      "[nltk_data]    |     C:\\Users\\danie\\AppData\\Roaming\\nltk_data...\n",
      "[nltk_data]    |   Package movie_reviews is already up-to-date!\n",
      "[nltk_data]    | Downloading package mte_teip5 to\n",
      "[nltk_data]    |     C:\\Users\\danie\\AppData\\Roaming\\nltk_data...\n",
      "[nltk_data]    |   Package mte_teip5 is already up-to-date!\n",
      "[nltk_data]    | Downloading package mwa_ppdb to\n",
      "[nltk_data]    |     C:\\Users\\danie\\AppData\\Roaming\\nltk_data...\n",
      "[nltk_data]    |   Package mwa_ppdb is already up-to-date!\n",
      "[nltk_data]    | Downloading package names to\n",
      "[nltk_data]    |     C:\\Users\\danie\\AppData\\Roaming\\nltk_data...\n",
      "[nltk_data]    |   Package names is already up-to-date!\n",
      "[nltk_data]    | Downloading package nombank.1.0 to\n",
      "[nltk_data]    |     C:\\Users\\danie\\AppData\\Roaming\\nltk_data...\n",
      "[nltk_data]    |   Package nombank.1.0 is already up-to-date!\n",
      "[nltk_data]    | Downloading package nonbreaking_prefixes to\n",
      "[nltk_data]    |     C:\\Users\\danie\\AppData\\Roaming\\nltk_data...\n",
      "[nltk_data]    |   Package nonbreaking_prefixes is already up-to-date!\n",
      "[nltk_data]    | Downloading package nps_chat to\n",
      "[nltk_data]    |     C:\\Users\\danie\\AppData\\Roaming\\nltk_data...\n",
      "[nltk_data]    |   Package nps_chat is already up-to-date!\n",
      "[nltk_data]    | Downloading package omw to\n",
      "[nltk_data]    |     C:\\Users\\danie\\AppData\\Roaming\\nltk_data...\n",
      "[nltk_data]    |   Package omw is already up-to-date!\n",
      "[nltk_data]    | Downloading package omw-1.4 to\n",
      "[nltk_data]    |     C:\\Users\\danie\\AppData\\Roaming\\nltk_data...\n",
      "[nltk_data]    |   Package omw-1.4 is already up-to-date!\n",
      "[nltk_data]    | Downloading package opinion_lexicon to\n",
      "[nltk_data]    |     C:\\Users\\danie\\AppData\\Roaming\\nltk_data...\n",
      "[nltk_data]    |   Package opinion_lexicon is already up-to-date!\n",
      "[nltk_data]    | Downloading package panlex_swadesh to\n",
      "[nltk_data]    |     C:\\Users\\danie\\AppData\\Roaming\\nltk_data...\n",
      "[nltk_data]    |   Package panlex_swadesh is already up-to-date!\n",
      "[nltk_data]    | Downloading package paradigms to\n",
      "[nltk_data]    |     C:\\Users\\danie\\AppData\\Roaming\\nltk_data...\n",
      "[nltk_data]    |   Package paradigms is already up-to-date!\n",
      "[nltk_data]    | Downloading package pe08 to\n",
      "[nltk_data]    |     C:\\Users\\danie\\AppData\\Roaming\\nltk_data...\n",
      "[nltk_data]    |   Package pe08 is already up-to-date!\n",
      "[nltk_data]    | Downloading package perluniprops to\n",
      "[nltk_data]    |     C:\\Users\\danie\\AppData\\Roaming\\nltk_data...\n",
      "[nltk_data]    |   Package perluniprops is already up-to-date!\n",
      "[nltk_data]    | Downloading package pil to\n",
      "[nltk_data]    |     C:\\Users\\danie\\AppData\\Roaming\\nltk_data...\n",
      "[nltk_data]    |   Package pil is already up-to-date!\n",
      "[nltk_data]    | Downloading package pl196x to\n",
      "[nltk_data]    |     C:\\Users\\danie\\AppData\\Roaming\\nltk_data...\n",
      "[nltk_data]    |   Package pl196x is already up-to-date!\n",
      "[nltk_data]    | Downloading package porter_test to\n",
      "[nltk_data]    |     C:\\Users\\danie\\AppData\\Roaming\\nltk_data...\n",
      "[nltk_data]    |   Package porter_test is already up-to-date!\n",
      "[nltk_data]    | Downloading package ppattach to\n",
      "[nltk_data]    |     C:\\Users\\danie\\AppData\\Roaming\\nltk_data...\n",
      "[nltk_data]    |   Package ppattach is already up-to-date!\n",
      "[nltk_data]    | Downloading package problem_reports to\n",
      "[nltk_data]    |     C:\\Users\\danie\\AppData\\Roaming\\nltk_data...\n",
      "[nltk_data]    |   Package problem_reports is already up-to-date!\n",
      "[nltk_data]    | Downloading package product_reviews_1 to\n",
      "[nltk_data]    |     C:\\Users\\danie\\AppData\\Roaming\\nltk_data...\n",
      "[nltk_data]    |   Package product_reviews_1 is already up-to-date!\n",
      "[nltk_data]    | Downloading package product_reviews_2 to\n",
      "[nltk_data]    |     C:\\Users\\danie\\AppData\\Roaming\\nltk_data...\n",
      "[nltk_data]    |   Package product_reviews_2 is already up-to-date!\n",
      "[nltk_data]    | Downloading package propbank to\n",
      "[nltk_data]    |     C:\\Users\\danie\\AppData\\Roaming\\nltk_data...\n",
      "[nltk_data]    |   Package propbank is already up-to-date!\n",
      "[nltk_data]    | Downloading package pros_cons to\n",
      "[nltk_data]    |     C:\\Users\\danie\\AppData\\Roaming\\nltk_data...\n",
      "[nltk_data]    |   Package pros_cons is already up-to-date!\n",
      "[nltk_data]    | Downloading package ptb to\n",
      "[nltk_data]    |     C:\\Users\\danie\\AppData\\Roaming\\nltk_data...\n",
      "[nltk_data]    |   Package ptb is already up-to-date!\n",
      "[nltk_data]    | Downloading package punkt to\n",
      "[nltk_data]    |     C:\\Users\\danie\\AppData\\Roaming\\nltk_data...\n",
      "[nltk_data]    |   Package punkt is already up-to-date!\n",
      "[nltk_data]    | Downloading package punkt_tab to\n",
      "[nltk_data]    |     C:\\Users\\danie\\AppData\\Roaming\\nltk_data...\n",
      "[nltk_data]    |   Package punkt_tab is already up-to-date!\n",
      "[nltk_data]    | Downloading package qc to\n",
      "[nltk_data]    |     C:\\Users\\danie\\AppData\\Roaming\\nltk_data...\n",
      "[nltk_data]    |   Package qc is already up-to-date!\n",
      "[nltk_data]    | Downloading package reuters to\n",
      "[nltk_data]    |     C:\\Users\\danie\\AppData\\Roaming\\nltk_data...\n",
      "[nltk_data]    |   Package reuters is already up-to-date!\n",
      "[nltk_data]    | Downloading package rslp to\n",
      "[nltk_data]    |     C:\\Users\\danie\\AppData\\Roaming\\nltk_data...\n",
      "[nltk_data]    |   Package rslp is already up-to-date!\n",
      "[nltk_data]    | Downloading package rte to\n",
      "[nltk_data]    |     C:\\Users\\danie\\AppData\\Roaming\\nltk_data...\n",
      "[nltk_data]    |   Package rte is already up-to-date!\n",
      "[nltk_data]    | Downloading package sample_grammars to\n",
      "[nltk_data]    |     C:\\Users\\danie\\AppData\\Roaming\\nltk_data...\n",
      "[nltk_data]    |   Package sample_grammars is already up-to-date!\n",
      "[nltk_data]    | Downloading package semcor to\n",
      "[nltk_data]    |     C:\\Users\\danie\\AppData\\Roaming\\nltk_data...\n",
      "[nltk_data]    |   Package semcor is already up-to-date!\n",
      "[nltk_data]    | Downloading package senseval to\n",
      "[nltk_data]    |     C:\\Users\\danie\\AppData\\Roaming\\nltk_data...\n",
      "[nltk_data]    |   Package senseval is already up-to-date!\n",
      "[nltk_data]    | Downloading package sentence_polarity to\n",
      "[nltk_data]    |     C:\\Users\\danie\\AppData\\Roaming\\nltk_data...\n",
      "[nltk_data]    |   Package sentence_polarity is already up-to-date!\n",
      "[nltk_data]    | Downloading package sentiwordnet to\n",
      "[nltk_data]    |     C:\\Users\\danie\\AppData\\Roaming\\nltk_data...\n",
      "[nltk_data]    |   Package sentiwordnet is already up-to-date!\n",
      "[nltk_data]    | Downloading package shakespeare to\n",
      "[nltk_data]    |     C:\\Users\\danie\\AppData\\Roaming\\nltk_data...\n",
      "[nltk_data]    |   Package shakespeare is already up-to-date!\n",
      "[nltk_data]    | Downloading package sinica_treebank to\n",
      "[nltk_data]    |     C:\\Users\\danie\\AppData\\Roaming\\nltk_data...\n",
      "[nltk_data]    |   Package sinica_treebank is already up-to-date!\n",
      "[nltk_data]    | Downloading package smultron to\n",
      "[nltk_data]    |     C:\\Users\\danie\\AppData\\Roaming\\nltk_data...\n",
      "[nltk_data]    |   Package smultron is already up-to-date!\n",
      "[nltk_data]    | Downloading package snowball_data to\n",
      "[nltk_data]    |     C:\\Users\\danie\\AppData\\Roaming\\nltk_data...\n",
      "[nltk_data]    |   Package snowball_data is already up-to-date!\n",
      "[nltk_data]    | Downloading package spanish_grammars to\n",
      "[nltk_data]    |     C:\\Users\\danie\\AppData\\Roaming\\nltk_data...\n",
      "[nltk_data]    |   Package spanish_grammars is already up-to-date!\n",
      "[nltk_data]    | Downloading package state_union to\n",
      "[nltk_data]    |     C:\\Users\\danie\\AppData\\Roaming\\nltk_data...\n",
      "[nltk_data]    |   Package state_union is already up-to-date!\n",
      "[nltk_data]    | Downloading package stopwords to\n",
      "[nltk_data]    |     C:\\Users\\danie\\AppData\\Roaming\\nltk_data...\n",
      "[nltk_data]    |   Package stopwords is already up-to-date!\n",
      "[nltk_data]    | Downloading package subjectivity to\n",
      "[nltk_data]    |     C:\\Users\\danie\\AppData\\Roaming\\nltk_data...\n",
      "[nltk_data]    |   Package subjectivity is already up-to-date!\n",
      "[nltk_data]    | Downloading package swadesh to\n",
      "[nltk_data]    |     C:\\Users\\danie\\AppData\\Roaming\\nltk_data...\n",
      "[nltk_data]    |   Package swadesh is already up-to-date!\n",
      "[nltk_data]    | Downloading package switchboard to\n",
      "[nltk_data]    |     C:\\Users\\danie\\AppData\\Roaming\\nltk_data...\n",
      "[nltk_data]    |   Package switchboard is already up-to-date!\n",
      "[nltk_data]    | Downloading package tagsets to\n",
      "[nltk_data]    |     C:\\Users\\danie\\AppData\\Roaming\\nltk_data...\n",
      "[nltk_data]    |   Package tagsets is already up-to-date!\n",
      "[nltk_data]    | Downloading package tagsets_json to\n",
      "[nltk_data]    |     C:\\Users\\danie\\AppData\\Roaming\\nltk_data...\n",
      "[nltk_data]    |   Package tagsets_json is already up-to-date!\n",
      "[nltk_data]    | Downloading package timit to\n",
      "[nltk_data]    |     C:\\Users\\danie\\AppData\\Roaming\\nltk_data...\n",
      "[nltk_data]    |   Package timit is already up-to-date!\n",
      "[nltk_data]    | Downloading package toolbox to\n",
      "[nltk_data]    |     C:\\Users\\danie\\AppData\\Roaming\\nltk_data...\n",
      "[nltk_data]    |   Package toolbox is already up-to-date!\n",
      "[nltk_data]    | Downloading package treebank to\n",
      "[nltk_data]    |     C:\\Users\\danie\\AppData\\Roaming\\nltk_data...\n",
      "[nltk_data]    |   Package treebank is already up-to-date!\n",
      "[nltk_data]    | Downloading package twitter_samples to\n",
      "[nltk_data]    |     C:\\Users\\danie\\AppData\\Roaming\\nltk_data...\n",
      "[nltk_data]    |   Package twitter_samples is already up-to-date!\n",
      "[nltk_data]    | Downloading package udhr to\n",
      "[nltk_data]    |     C:\\Users\\danie\\AppData\\Roaming\\nltk_data...\n",
      "[nltk_data]    |   Package udhr is already up-to-date!\n",
      "[nltk_data]    | Downloading package udhr2 to\n",
      "[nltk_data]    |     C:\\Users\\danie\\AppData\\Roaming\\nltk_data...\n",
      "[nltk_data]    |   Package udhr2 is already up-to-date!\n",
      "[nltk_data]    | Downloading package unicode_samples to\n",
      "[nltk_data]    |     C:\\Users\\danie\\AppData\\Roaming\\nltk_data...\n",
      "[nltk_data]    |   Package unicode_samples is already up-to-date!\n",
      "[nltk_data]    | Downloading package universal_tagset to\n",
      "[nltk_data]    |     C:\\Users\\danie\\AppData\\Roaming\\nltk_data...\n",
      "[nltk_data]    |   Package universal_tagset is already up-to-date!\n",
      "[nltk_data]    | Downloading package universal_treebanks_v20 to\n",
      "[nltk_data]    |     C:\\Users\\danie\\AppData\\Roaming\\nltk_data...\n",
      "[nltk_data]    |   Package universal_treebanks_v20 is already up-to-\n",
      "[nltk_data]    |       date!\n",
      "[nltk_data]    | Downloading package vader_lexicon to\n",
      "[nltk_data]    |     C:\\Users\\danie\\AppData\\Roaming\\nltk_data...\n",
      "[nltk_data]    |   Package vader_lexicon is already up-to-date!\n",
      "[nltk_data]    | Downloading package verbnet to\n",
      "[nltk_data]    |     C:\\Users\\danie\\AppData\\Roaming\\nltk_data...\n",
      "[nltk_data]    |   Package verbnet is already up-to-date!\n",
      "[nltk_data]    | Downloading package verbnet3 to\n",
      "[nltk_data]    |     C:\\Users\\danie\\AppData\\Roaming\\nltk_data...\n",
      "[nltk_data]    |   Package verbnet3 is already up-to-date!\n",
      "[nltk_data]    | Downloading package webtext to\n",
      "[nltk_data]    |     C:\\Users\\danie\\AppData\\Roaming\\nltk_data...\n",
      "[nltk_data]    |   Package webtext is already up-to-date!\n",
      "[nltk_data]    | Downloading package wmt15_eval to\n",
      "[nltk_data]    |     C:\\Users\\danie\\AppData\\Roaming\\nltk_data...\n",
      "[nltk_data]    |   Package wmt15_eval is already up-to-date!\n",
      "[nltk_data]    | Downloading package word2vec_sample to\n",
      "[nltk_data]    |     C:\\Users\\danie\\AppData\\Roaming\\nltk_data...\n",
      "[nltk_data]    |   Package word2vec_sample is already up-to-date!\n",
      "[nltk_data]    | Downloading package wordnet to\n",
      "[nltk_data]    |     C:\\Users\\danie\\AppData\\Roaming\\nltk_data...\n",
      "[nltk_data]    |   Package wordnet is already up-to-date!\n",
      "[nltk_data]    | Downloading package wordnet2021 to\n",
      "[nltk_data]    |     C:\\Users\\danie\\AppData\\Roaming\\nltk_data...\n",
      "[nltk_data]    |   Package wordnet2021 is already up-to-date!\n",
      "[nltk_data]    | Downloading package wordnet2022 to\n",
      "[nltk_data]    |     C:\\Users\\danie\\AppData\\Roaming\\nltk_data...\n",
      "[nltk_data]    |   Package wordnet2022 is already up-to-date!\n",
      "[nltk_data]    | Downloading package wordnet31 to\n",
      "[nltk_data]    |     C:\\Users\\danie\\AppData\\Roaming\\nltk_data...\n",
      "[nltk_data]    |   Package wordnet31 is already up-to-date!\n",
      "[nltk_data]    | Downloading package wordnet_ic to\n",
      "[nltk_data]    |     C:\\Users\\danie\\AppData\\Roaming\\nltk_data...\n",
      "[nltk_data]    |   Package wordnet_ic is already up-to-date!\n",
      "[nltk_data]    | Downloading package words to\n",
      "[nltk_data]    |     C:\\Users\\danie\\AppData\\Roaming\\nltk_data...\n",
      "[nltk_data]    |   Package words is already up-to-date!\n",
      "[nltk_data]    | Downloading package ycoe to\n",
      "[nltk_data]    |     C:\\Users\\danie\\AppData\\Roaming\\nltk_data...\n",
      "[nltk_data]    |   Package ycoe is already up-to-date!\n",
      "[nltk_data]    | \n",
      "[nltk_data]  Done downloading collection all\n"
     ]
    },
    {
     "data": {
      "text/plain": [
       "True"
      ]
     },
     "execution_count": 2,
     "metadata": {},
     "output_type": "execute_result"
    }
   ],
   "source": [
    "nltk.download('all')"
   ]
  },
  {
   "cell_type": "code",
   "execution_count": 3,
   "id": "4a57fab1-6187-4c72-b78d-8d0941cf8da5",
   "metadata": {},
   "outputs": [
    {
     "name": "stderr",
     "output_type": "stream",
     "text": [
      "[nltk_data] Downloading package punkt_tab to\n",
      "[nltk_data]     C:\\Users\\danie\\AppData\\Roaming\\nltk_data...\n",
      "[nltk_data]   Package punkt_tab is already up-to-date!\n"
     ]
    },
    {
     "data": {
      "text/plain": [
       "True"
      ]
     },
     "execution_count": 3,
     "metadata": {},
     "output_type": "execute_result"
    }
   ],
   "source": [
    "nltk.download('punkt_tab')"
   ]
  },
  {
   "cell_type": "code",
   "execution_count": 4,
   "id": "c701e572-c9f7-47cf-ae6f-110d33163368",
   "metadata": {},
   "outputs": [
    {
     "name": "stderr",
     "output_type": "stream",
     "text": [
      "[nltk_data] Downloading package stopwords to\n",
      "[nltk_data]     C:\\Users\\danie\\AppData\\Roaming\\nltk_data...\n",
      "[nltk_data]   Package stopwords is already up-to-date!\n"
     ]
    },
    {
     "data": {
      "text/plain": [
       "True"
      ]
     },
     "execution_count": 4,
     "metadata": {},
     "output_type": "execute_result"
    }
   ],
   "source": [
    "nltk.download('stopwords')"
   ]
  },
  {
   "cell_type": "code",
   "execution_count": 5,
   "id": "706b8c1f-1b6a-4c24-ac4a-dccc634a6531",
   "metadata": {},
   "outputs": [
    {
     "name": "stderr",
     "output_type": "stream",
     "text": [
      "[nltk_data] Downloading package wordnet to\n",
      "[nltk_data]     C:\\Users\\danie\\AppData\\Roaming\\nltk_data...\n",
      "[nltk_data]   Package wordnet is already up-to-date!\n"
     ]
    },
    {
     "data": {
      "text/plain": [
       "True"
      ]
     },
     "execution_count": 5,
     "metadata": {},
     "output_type": "execute_result"
    }
   ],
   "source": [
    "nltk.download('wordnet')"
   ]
  },
  {
   "cell_type": "markdown",
   "id": "1865cc18-ac2e-41b3-a84c-de1d564c3926",
   "metadata": {},
   "source": [
    "#### Data Acquisition. \n",
    "\n",
    "Data was acquired by scraping AZ Lyrics' website for the Fray's song lyrics. I used the beautiful soup package to get the lyrics and the basic song information from the webpage for the song. So, the next few sections are walking through how I did that, and then I write a 'for loop' to iterate through all of the songs found on the website. I ended up putting everything into a pandas dataframe so I could further clean the lyrics and then move on with the project from there. "
   ]
  },
  {
   "cell_type": "code",
   "execution_count": 6,
   "id": "a37b59f2-3991-4cec-92f7-932cfcacb160",
   "metadata": {},
   "outputs": [],
   "source": [
    "url = 'https://www.azlyrics.com/lyrics/fray/overmyheadcablecar.html'\n",
    "response = requests.get(url)"
   ]
  },
  {
   "cell_type": "code",
   "execution_count": 7,
   "id": "e4e9c7e9-b316-4f8b-bd83-ddd2763fc0f3",
   "metadata": {},
   "outputs": [],
   "source": [
    "soup = BeautifulSoup(response.content, 'html.parser')"
   ]
  },
  {
   "cell_type": "code",
   "execution_count": 8,
   "id": "f0d1ef68-e6cc-4c67-aafe-b93af7ac2bd4",
   "metadata": {},
   "outputs": [
    {
     "name": "stdout",
     "output_type": "stream",
     "text": [
      "<!DOCTYPE html>\n",
      "\n",
      "<html lang=\"en\">\n",
      "<head>\n",
      "<meta charset=\"utf-8\"/>\n",
      "<meta content=\"IE=edge\" http-equiv=\"X-UA-Compatible\"/>\n",
      "<meta content=\"width=device-width, initial-scale=1\" name=\"viewport\"/>\n",
      "<meta content='The Fray \"Over My Head (Cable Car)\": I never knew I never knew that everything was falling through That everyone I knew was waiting on a...' name=\"description\"/>\n",
      "<meta content=\"Over My Head (Cable Car) lyrics, The Fray Over My Head (Cable Car) lyrics, The Fray lyrics\" name=\"keywords\"/>\n",
      "<meta content=\"noarchive\" name=\"robots\"/>\n",
      "<meta content=\"//www.azlyrics.com/az_logo_tr.png\" property=\"og:image\"/>\n",
      "<title>The Fray - Over My Head (Cable Car) Lyrics | AZLyrics.com</title>\n",
      "<link href=\"https://www.azlyrics.com/lyrics/fray/overmyheadcablecar.html\" rel=\"canonical\"/>\n",
      "<link href=\"https://maxcdn.bootstrapcdn.com/bootstrap/3.3.4/css/bootstrap.min.css\" rel=\"stylesheet\"/>\n",
      "<link href=\"/local/az.css\" rel=\"stylesheet\"/>\n",
      "<!-- HTML5 shim and Respond.js for IE8 support of HTML5 elements and media queries -->\n",
      "<!--[if lt IE 9]>\n",
      "<script src=\"https://oss.maxcdn.com/html5shiv/3.7.2/html5shiv.min.js\"></script>\n",
      "<script src=\"https://oss.maxcdn.com/respond/1.4.2/respond.min.js\"></script>\n",
      "<![endif]-->\n",
      "<script type=\"text/javascript\">\n",
      "window.rtkGPTSlotsTargeting = [\n",
      "    [\n",
      "        [\"genre\", \"pop\"],\n",
      "        [\"artist\", \"The Fray\"]\n",
      "    ]\n",
      "];\n",
      "</script>\n",
      "<!-- Start WKND tag. Deploy at the beginning of document head. -->\n",
      "<!-- Tag for Bandsintown | AZ Lyrics (azlyrics.com) -->\n",
      "<script>\n",
      "\t(function(d) {\n",
      "\t\tvar e = d.createElement('script');\n",
      "\t\te.src = d.location.protocol + '//tag.wknd.ai/6284/i.js';\n",
      "\t\te.async = true;\n",
      "\t\td.getElementsByTagName(\"head\")[0].appendChild(e);\n",
      "\t}(document));\n",
      "</script>\n",
      "<!-- End WKND tag -->\n",
      "<!-- Google tag (gtag.js) -->\n",
      "<script async=\"\" src=\"https://www.googletagmanager.com/gtag/js?id=G-7DQK0JTQTQ\"></script>\n",
      "<script>\n",
      "  window.dataLayer = window.dataLayer || [];\n",
      "  function gtag(){dataLayer.push(arguments);}\n",
      "  gtag('js', new Date());\n",
      "\n",
      "  gtag('config', 'G-7DQK0JTQTQ');\n",
      "</script>\n",
      "<script async=\"\" charset=\"UTF-8\" data-domain-script=\"464b7175-7273-4e0f-8753-e9a483d4a156\" data-language=\"en\" src=\"https://cookie-cdn.cookiepro.com/scripttemplates/otSDKStub.js\" type=\"text/javascript\"></script>\n",
      "<script type=\"text/javascript\">\n",
      "function OptanonWrapper() { }\n",
      "</script>\n",
      "<script type=\"text/javascript\">\n",
      "ArtistName = \"The Fray\";\n",
      "SongName = \"Over My Head (Cable Car)\";\n",
      "function submitAdded(){\n",
      "\tdocument.getElementById('addsong').submit();\n",
      "\treturn false;\n",
      "}\n",
      "function submitCorrected(){\n",
      "\tdocument.getElementById('corlyr').submit();\n",
      "\treturn false;\n",
      "}\n",
      "</script>\n",
      "<script data-cfasync=\"false\" type=\"text/javascript\">\n",
      "  (()=>{\"use strict\";var t={455:(t,e,n)=>{n.d(e,{Z:()=>c});var r=n(81),o=n.n(r),i=n(645),a=n.n(i)()(o());a.push([t.id,'div._82u8vq{position:fixed;top:0;left:0;width:100%;height:100%;background:rgba(0,0,0,.4);z-index:999999}div._82u8vq *{box-sizing:border-box}div._82u8vq div.onnj2g{position:fixed;top:50%;left:50%;transform:translate(-50%, -50%);display:flex;flex-direction:column;justify-content:flex-start;min-height:25vh;width:50%;background-color:#fff;border:none;border-radius:1em;box-shadow:0 0 10px rgba(0,0,0,.3);text-align:center;font-size:13px;font-family:Arial,Helvetica,sans-serif;font-weight:bold;line-height:2;color:#000}div._82u8vq div.onnj2g *:before,div._82u8vq div.onnj2g *:after{content:\"\";display:none}@media screen and (max-width: 479px){div._82u8vq div.onnj2g{font-size:13px;width:90%}}@media screen and (min-width: 480px){div._82u8vq div.onnj2g{font-size:14px;width:80%}}@media screen and (min-width: 608px){div._82u8vq div.onnj2g{font-size:14px;width:70%}}@media screen and (min-width: 960px){div._82u8vq div.onnj2g{font-size:16px;width:70%}}@media screen and (min-width: 1200px){div._82u8vq div.onnj2g{font-size:16px;width:840px}}div._82u8vq div.onnj2g header{width:100%;background-color:rgba(0,0,0,0);border:0;color:inherit;display:block;font-size:1em;font-family:inherit;letter-spacing:normal;margin:0;opacity:1;outline:none;padding:1em 2em;position:static;text-align:center}div._82u8vq div.onnj2g header img{display:inline;margin:0 0 16px 0;padding:0;max-width:240px;max-height:60px}div._82u8vq div.onnj2g header h2{display:block;line-height:1.3;padding:0;font-family:inherit;font-weight:normal;font-style:normal;text-decoration:initial;text-align:center;font-size:1.75em;margin:0;color:inherit}div._82u8vq div.onnj2g header h2:not(img+*){margin-top:30px}div._82u8vq div.onnj2g header span._18hdrla{position:absolute;top:0;right:15px;font-size:2em;font-weight:normal;cursor:pointer;color:inherit}div._82u8vq div.onnj2g header span._18hdrla:hover{filter:brightness(115%)}div._82u8vq div.onnj2g section{width:100%;margin:0;padding:1em 2em;text-align:center;font-family:inherit;color:inherit;background:rgba(0,0,0,0)}div._82u8vq div.onnj2g section p{display:block;margin:0 0 1em 0;line-height:1.5;text-align:center;font-size:1em;font-family:inherit;color:inherit;overflow-wrap:break-word;font-weight:normal;font-style:normal;text-decoration:initial}div._82u8vq div.onnj2g section p:last-of-type{margin:0 0 1.5em 0}div._82u8vq div.onnj2g section._1myx4a0{display:block}div._82u8vq div.onnj2g section._1myx4a0._18mgeh5{display:none}div._82u8vq div.onnj2g section._1myx4a0 a._1ajq4u1.q1a6v7{color:var(--q1a6v7)}div._82u8vq div.onnj2g section._1myx4a0 a._1ajq4u1.d8c6ui{text-decoration:var(--d8c6ui)}div._82u8vq div.onnj2g section._1myx4a0 a._1ajq4u1._1bva2lo:visited{color:var(--_1bva2lo)}div._82u8vq div.onnj2g section._1myx4a0 div.qcqk63{display:block;margin:.75em;padding:0}div._82u8vq div.onnj2g section._1myx4a0 div.qcqk63 p._1jy32sx{max-width:80%;margin:0 auto;padding:0;font-size:.85em;color:inherit;font-style:normal;font-weight:normal;cursor:pointer}div._82u8vq div.onnj2g section.mjmqhi{display:block}div._82u8vq div.onnj2g section.mjmqhi._18mgeh5{display:none}div._82u8vq div.onnj2g section.mjmqhi h4.vza2sa{color:inherit;text-align:initial;font-weight:normal;font-family:inherit;font-size:1.125em;margin:0 0 .5em .5em}div._82u8vq div.onnj2g section.mjmqhi div._1n8syyr{display:flex;margin:1.5em 0}div._82u8vq div.onnj2g section.mjmqhi div._1n8syyr ul._12y6q83{max-height:300px;flex:2;list-style:none;overflow-y:auto;margin:0 1em 0 0;padding-inline-start:0}@media screen and (min-width: 608px){div._82u8vq div.onnj2g section.mjmqhi div._1n8syyr ul._12y6q83{flex:1;margin:0 2em 0 0}}div._82u8vq div.onnj2g section.mjmqhi div._1n8syyr ul._12y6q83 li{padding:.75em;cursor:pointer;background:rgba(0,0,0,.05);font-weight:bold}div._82u8vq div.onnj2g section.mjmqhi div._1n8syyr ul._12y6q83 li:hover{background:rgba(0,0,0,.075)}div._82u8vq div.onnj2g section.mjmqhi div._1n8syyr ul._12y6q83 li._2tqkhw{color:var(--_1s2p24r);background:var(--_1u8b67d)}div._82u8vq div.onnj2g section.mjmqhi div._1n8syyr div._10v9zkx{max-height:300px;overflow-y:auto;flex:3;display:flex;flex-direction:column;justify-content:space-between;text-align:initial}div._82u8vq div.onnj2g section.mjmqhi div._1n8syyr div._10v9zkx ol._1dz8w0r{display:none;list-style-type:decimal;text-align:initial;padding:0;margin:0 2em;font-weight:normal}div._82u8vq div.onnj2g section.mjmqhi div._1n8syyr div._10v9zkx ol._1dz8w0r._2tqkhw{display:block}div._82u8vq div.onnj2g section.mjmqhi div._1n8syyr div._10v9zkx p{margin:1em 0 0;text-align:inherit;font-style:italic}div._82u8vq div.onnj2g section.mjmqhi button.te00wf{font-size:1em;text-transform:initial}div._82u8vq div.onnj2g button._16i61up{width:auto;height:auto;max-width:90%;cursor:pointer;display:inline-block;letter-spacing:normal;margin:.75em;opacity:1;outline:none;overflow-wrap:break-word;font-family:inherit;font-weight:normal;font-style:normal;text-decoration:initial;text-transform:uppercase;text-align:center;color:#fff;font-size:1.15em;padding:.75em 2em;padding-inline:2em;padding-block:.75em;line-height:normal;background:#40c28a;border:none;border-radius:.25em;box-shadow:none}div._82u8vq div.onnj2g button._16i61up:hover{filter:brightness(115%);box-shadow:none}div._82u8vq div.onnj2g a._1o9k1ce{height:50px;width:50px;position:absolute;bottom:5px;right:5px}div._82u8vq div.onnj2g a._1o9k1ce img{position:initial;height:100%;width:100%;filter:drop-shadow(1px 1px 1px var(--_16xxoaz))}',\"\"]);const c=a},645:t=>{t.exports=function(t){var e=[];return e.toString=function(){return this.map((function(e){var n=\"\",r=void 0!==e[5];return e[4]&&(n+=\"@supports (\".concat(e[4],\") {\")),e[2]&&(n+=\"@media \".concat(e[2],\" {\")),r&&(n+=\"@layer\".concat(e[5].length>0?\" \".concat(e[5]):\"\",\" {\")),n+=t(e),r&&(n+=\"}\"),e[2]&&(n+=\"}\"),e[4]&&(n+=\"}\"),n})).join(\"\")},e.i=function(t,n,r,o,i){\"string\"==typeof t&&(t=[[null,t,void 0]]);var a={};if(r)for(var c=0;c<this.length;c++){var s=this[c][0];null!=s&&(a[s]=!0)}for(var u=0;u<t.length;u++){var l=[].concat(t[u]);r&&a[l[0]]||(void 0!==i&&(void 0===l[5]||(l[1]=\"@layer\".concat(l[5].length>0?\" \".concat(l[5]):\"\",\" {\").concat(l[1],\"}\")),l[5]=i),n&&(l[2]?(l[1]=\"@media \".concat(l[2],\" {\").concat(l[1],\"}\"),l[2]=n):l[2]=n),o&&(l[4]?(l[1]=\"@supports (\".concat(l[4],\") {\").concat(l[1],\"}\"),l[4]=o):l[4]=\"\".concat(o)),e.push(l))}},e}},81:t=>{t.exports=function(t){return t[1]}},379:t=>{var e=[];function n(t){for(var n=-1,r=0;r<e.length;r++)if(e[r].identifier===t){n=r;break}return n}function r(t,r){for(var i={},a=[],c=0;c<t.length;c++){var s=t[c],u=r.base?s[0]+r.base:s[0],l=i[u]||0,d=\"\".concat(u,\" \").concat(l);i[u]=l+1;var f=n(d),h={css:s[1],media:s[2],sourceMap:s[3],supports:s[4],layer:s[5]};if(-1!==f)e[f].references++,e[f].updater(h);else{var v=o(h,r);r.byIndex=c,e.splice(c,0,{identifier:d,updater:v,references:1})}a.push(d)}return a}function o(t,e){var n=e.domAPI(e);n.update(t);return function(e){if(e){if(e.css===t.css&&e.media===t.media&&e.sourceMap===t.sourceMap&&e.supports===t.supports&&e.layer===t.layer)return;n.update(t=e)}else n.remove()}}t.exports=function(t,o){var i=r(t=t||[],o=o||{});return function(t){t=t||[];for(var a=0;a<i.length;a++){var c=n(i[a]);e[c].references--}for(var s=r(t,o),u=0;u<i.length;u++){var l=n(i[u]);0===e[l].references&&(e[l].updater(),e.splice(l,1))}i=s}}},569:t=>{var e={};t.exports=function(t,n){var r=function(t){if(void 0===e[t]){var n=document.querySelector(t);if(window.HTMLIFrameElement&&n instanceof window.HTMLIFrameElement)try{n=n.contentDocument.head}catch(t){n=null}e[t]=n}return e[t]}(t);if(!r)throw new Error(\"Couldn't find a style target. This probably means that the value for the 'insert' parameter is invalid.\");r.appendChild(n)}},216:t=>{t.exports=function(t){var e=document.createElement(\"style\");return t.setAttributes(e,t.attributes),t.insert(e,t.options),e}},565:(t,e,n)=>{t.exports=function(t){var e=n.nc;e&&t.setAttribute(\"nonce\",e)}},795:t=>{t.exports=function(t){if(\"undefined\"==typeof document)return{update:function(){},remove:function(){}};var e=t.insertStyleElement(t);return{update:function(n){!function(t,e,n){var r=\"\";n.supports&&(r+=\"@supports (\".concat(n.supports,\") {\")),n.media&&(r+=\"@media \".concat(n.media,\" {\"));var o=void 0!==n.layer;o&&(r+=\"@layer\".concat(n.layer.length>0?\" \".concat(n.layer):\"\",\" {\")),r+=n.css,o&&(r+=\"}\"),n.media&&(r+=\"}\"),n.supports&&(r+=\"}\");var i=n.sourceMap;i&&\"undefined\"!=typeof btoa&&(r+=\"\\n/*# sourceMappingURL=data:application/json;base64,\".concat(btoa(unescape(encodeURIComponent(JSON.stringify(i)))),\" */\")),e.styleTagTransform(r,t,e.options)}(e,t,n)},remove:function(){!function(t){if(null===t.parentNode)return!1;t.parentNode.removeChild(t)}(e)}}}},589:t=>{t.exports=function(t,e){if(e.styleSheet)e.styleSheet.cssText=t;else{for(;e.firstChild;)e.removeChild(e.firstChild);e.appendChild(document.createTextNode(t))}}}},e={};function n(r){var o=e[r];if(void 0!==o)return o.exports;var i=e[r]={id:r,exports:{}};return t[r](i,i.exports,n),i.exports}n.n=t=>{var e=t&&t.__esModule?()=>t.default:()=>t;return n.d(e,{a:e}),e},n.d=(t,e)=>{for(var r in e)n.o(e,r)&&!n.o(t,r)&&Object.defineProperty(t,r,{enumerable:!0,get:e[r]})},n.o=(t,e)=>Object.prototype.hasOwnProperty.call(t,e),n.nc=void 0,(()=>{const t={randomUUID:\"undefined\"!=typeof crypto&&crypto.randomUUID&&crypto.randomUUID.bind(crypto)};let e;const r=new Uint8Array(16);function o(){if(!e&&(e=\"undefined\"!=typeof crypto&&crypto.getRandomValues&&crypto.getRandomValues.bind(crypto),!e))throw new Error(\"crypto.getRandomValues() not supported. See https://github.com/uuidjs/uuid#getrandomvalues-not-supported\");return e(r)}const i=[];for(let t=0;t<256;++t)i.push((t+256).toString(16).slice(1));function a(t,e=0){return(i[t[e+0]]+i[t[e+1]]+i[t[e+2]]+i[t[e+3]]+\"-\"+i[t[e+4]]+i[t[e+5]]+\"-\"+i[t[e+6]]+i[t[e+7]]+\"-\"+i[t[e+8]]+i[t[e+9]]+\"-\"+i[t[e+10]]+i[t[e+11]]+i[t[e+12]]+i[t[e+13]]+i[t[e+14]]+i[t[e+15]]).toLowerCase()}const c=function(e,n,r){if(t.randomUUID&&!n&&!e)return t.randomUUID();const i=(e=e||{}).random||(e.rng||o)();if(i[6]=15&i[6]|64,i[8]=63&i[8]|128,n){r=r||0;for(let t=0;t<16;++t)n[r+t]=i[t];return n}return a(i)};var s=n(379),u=n.n(s),l=n(795),d=n.n(l),f=n(569),h=n.n(f),v=n(565),p=n.n(v),m=n(216),y=n.n(m),g=n(589),w=n.n(g),b=n(455),x={};x.styleTagTransform=w(),x.setAttributes=p(),x.insert=h().bind(null,\"head\"),x.domAPI=d(),x.insertStyleElement=y();u()(b.Z,x);b.Z&&b.Z.locals&&b.Z.locals;function k(t){return k=\"function\"==typeof Symbol&&\"symbol\"==typeof Symbol.iterator?function(t){return typeof t}:function(t){return t&&\"function\"==typeof Symbol&&t.constructor===Symbol&&t!==Symbol.prototype?\"symbol\":typeof t},k(t)}function L(){L=function(){return e};var t,e={},n=Object.prototype,r=n.hasOwnProperty,o=Object.defineProperty||function(t,e,n){t[e]=n.value},i=\"function\"==typeof Symbol?Symbol:{},a=i.iterator||\"@@iterator\",c=i.asyncIterator||\"@@asyncIterator\",s=i.toStringTag||\"@@toStringTag\";function u(t,e,n){return Object.defineProperty(t,e,{value:n,enumerable:!0,configurable:!0,writable:!0}),t[e]}try{u({},\"\")}catch(t){u=function(t,e,n){return t[e]=n}}function l(t,e,n,r){var i=e&&e.prototype instanceof y?e:y,a=Object.create(i.prototype),c=new Y(r||[]);return o(a,\"_invoke\",{value:A(t,n,c)}),a}function d(t,e,n){try{return{type:\"normal\",arg:t.call(e,n)}}catch(t){return{type:\"throw\",arg:t}}}e.wrap=l;var f=\"suspendedStart\",h=\"suspendedYield\",v=\"executing\",p=\"completed\",m={};function y(){}function g(){}function w(){}var b={};u(b,a,(function(){return this}));var x=Object.getPrototypeOf,j=x&&x(x(T([])));j&&j!==n&&r.call(j,a)&&(b=j);var E=w.prototype=y.prototype=Object.create(b);function C(t){[\"next\",\"throw\",\"return\"].forEach((function(e){u(t,e,(function(t){return this._invoke(e,t)}))}))}function S(t,e){function n(o,i,a,c){var s=d(t[o],t,i);if(\"throw\"!==s.type){var u=s.arg,l=u.value;return l&&\"object\"==k(l)&&r.call(l,\"__await\")?e.resolve(l.__await).then((function(t){n(\"next\",t,a,c)}),(function(t){n(\"throw\",t,a,c)})):e.resolve(l).then((function(t){u.value=t,a(u)}),(function(t){return n(\"throw\",t,a,c)}))}c(s.arg)}var i;o(this,\"_invoke\",{value:function(t,r){function o(){return new e((function(e,o){n(t,r,e,o)}))}return i=i?i.then(o,o):o()}})}function A(e,n,r){var o=f;return function(i,a){if(o===v)throw new Error(\"Generator is already running\");if(o===p){if(\"throw\"===i)throw a;return{value:t,done:!0}}for(r.method=i,r.arg=a;;){var c=r.delegate;if(c){var s=I(c,r);if(s){if(s===m)continue;return s}}if(\"next\"===r.method)r.sent=r._sent=r.arg;else if(\"throw\"===r.method){if(o===f)throw o=p,r.arg;r.dispatchException(r.arg)}else\"return\"===r.method&&r.abrupt(\"return\",r.arg);o=v;var u=d(e,n,r);if(\"normal\"===u.type){if(o=r.done?p:h,u.arg===m)continue;return{value:u.arg,done:r.done}}\"throw\"===u.type&&(o=p,r.method=\"throw\",r.arg=u.arg)}}}function I(e,n){var r=n.method,o=e.iterator[r];if(o===t)return n.delegate=null,\"throw\"===r&&e.iterator.return&&(n.method=\"return\",n.arg=t,I(e,n),\"throw\"===n.method)||\"return\"!==r&&(n.method=\"throw\",n.arg=new TypeError(\"The iterator does not provide a '\"+r+\"' method\")),m;var i=d(o,e.iterator,n.arg);if(\"throw\"===i.type)return n.method=\"throw\",n.arg=i.arg,n.delegate=null,m;var a=i.arg;return a?a.done?(n[e.resultName]=a.value,n.next=e.nextLoc,\"return\"!==n.method&&(n.method=\"next\",n.arg=t),n.delegate=null,m):a:(n.method=\"throw\",n.arg=new TypeError(\"iterator result is not an object\"),n.delegate=null,m)}function q(t){var e={tryLoc:t[0]};1 in t&&(e.catchLoc=t[1]),2 in t&&(e.finallyLoc=t[2],e.afterLoc=t[3]),this.tryEntries.push(e)}function P(t){var e=t.completion||{};e.type=\"normal\",delete e.arg,t.completion=e}function Y(t){this.tryEntries=[{tryLoc:\"root\"}],t.forEach(q,this),this.reset(!0)}function T(e){if(e||\"\"===e){var n=e[a];if(n)return n.call(e);if(\"function\"==typeof e.next)return e;if(!isNaN(e.length)){var o=-1,i=function n(){for(;++o<e.length;)if(r.call(e,o))return n.value=e[o],n.done=!1,n;return n.value=t,n.done=!0,n};return i.next=i}}throw new TypeError(k(e)+\" is not iterable\")}return g.prototype=w,o(E,\"constructor\",{value:w,configurable:!0}),o(w,\"constructor\",{value:g,configurable:!0}),g.displayName=u(w,s,\"GeneratorFunction\"),e.isGeneratorFunction=function(t){var e=\"function\"==typeof t&&t.constructor;return!!e&&(e===g||\"GeneratorFunction\"===(e.displayName||e.name))},e.mark=function(t){return Object.setPrototypeOf?Object.setPrototypeOf(t,w):(t.__proto__=w,u(t,s,\"GeneratorFunction\")),t.prototype=Object.create(E),t},e.awrap=function(t){return{__await:t}},C(S.prototype),u(S.prototype,c,(function(){return this})),e.AsyncIterator=S,e.async=function(t,n,r,o,i){void 0===i&&(i=Promise);var a=new S(l(t,n,r,o),i);return e.isGeneratorFunction(n)?a:a.next().then((function(t){return t.done?t.value:a.next()}))},C(E),u(E,s,\"Generator\"),u(E,a,(function(){return this})),u(E,\"toString\",(function(){return\"[object Generator]\"})),e.keys=function(t){var e=Object(t),n=[];for(var r in e)n.push(r);return n.reverse(),function t(){for(;n.length;){var r=n.pop();if(r in e)return t.value=r,t.done=!1,t}return t.done=!0,t}},e.values=T,Y.prototype={constructor:Y,reset:function(e){if(this.prev=0,this.next=0,this.sent=this._sent=t,this.done=!1,this.delegate=null,this.method=\"next\",this.arg=t,this.tryEntries.forEach(P),!e)for(var n in this)\"t\"===n.charAt(0)&&r.call(this,n)&&!isNaN(+n.slice(1))&&(this[n]=t)},stop:function(){this.done=!0;var t=this.tryEntries[0].completion;if(\"throw\"===t.type)throw t.arg;return this.rval},dispatchException:function(e){if(this.done)throw e;var n=this;function o(r,o){return c.type=\"throw\",c.arg=e,n.next=r,o&&(n.method=\"next\",n.arg=t),!!o}for(var i=this.tryEntries.length-1;i>=0;--i){var a=this.tryEntries[i],c=a.completion;if(\"root\"===a.tryLoc)return o(\"end\");if(a.tryLoc<=this.prev){var s=r.call(a,\"catchLoc\"),u=r.call(a,\"finallyLoc\");if(s&&u){if(this.prev<a.catchLoc)return o(a.catchLoc,!0);if(this.prev<a.finallyLoc)return o(a.finallyLoc)}else if(s){if(this.prev<a.catchLoc)return o(a.catchLoc,!0)}else{if(!u)throw new Error(\"try statement without catch or finally\");if(this.prev<a.finallyLoc)return o(a.finallyLoc)}}}},abrupt:function(t,e){for(var n=this.tryEntries.length-1;n>=0;--n){var o=this.tryEntries[n];if(o.tryLoc<=this.prev&&r.call(o,\"finallyLoc\")&&this.prev<o.finallyLoc){var i=o;break}}i&&(\"break\"===t||\"continue\"===t)&&i.tryLoc<=e&&e<=i.finallyLoc&&(i=null);var a=i?i.completion:{};return a.type=t,a.arg=e,i?(this.method=\"next\",this.next=i.finallyLoc,m):this.complete(a)},complete:function(t,e){if(\"throw\"===t.type)throw t.arg;return\"break\"===t.type||\"continue\"===t.type?this.next=t.arg:\"return\"===t.type?(this.rval=this.arg=t.arg,this.method=\"return\",this.next=\"end\"):\"normal\"===t.type&&e&&(this.next=e),m},finish:function(t){for(var e=this.tryEntries.length-1;e>=0;--e){var n=this.tryEntries[e];if(n.finallyLoc===t)return this.complete(n.completion,n.afterLoc),P(n),m}},catch:function(t){for(var e=this.tryEntries.length-1;e>=0;--e){var n=this.tryEntries[e];if(n.tryLoc===t){var r=n.completion;if(\"throw\"===r.type){var o=r.arg;P(n)}return o}}throw new Error(\"illegal catch attempt\")},delegateYield:function(e,n,r){return this.delegate={iterator:T(e),resultName:n,nextLoc:r},\"next\"===this.method&&(this.arg=t),m}},e}function j(t,e,n,r,o,i,a){try{var c=t[i](a),s=c.value}catch(t){return void n(t)}c.done?e(s):Promise.resolve(s).then(r,o)}var E=\"ZnMtYWRiLWVycg\",C=function(){var t,e=(t=L().mark((function t(){var e,n,r,o,i;return L().wrap((function(t){for(;;)switch(t.prev=t.next){case 0:if(document.body){t.next=3;break}return t.next=3,new Promise((function(t){return document.addEventListener(\"DOMContentLoaded\",t)}));case 3:for(e=[\"YWQ=\",\"YmFubmVyLWFk\",\"YmFubmVyX2Fk\",\"YmFubmVyLWFkLWNvbnRhaW5lcg==\",\"YWQtc2lkZXJhaWw=\",\"c3RpY2t5YWRz\",\"aW1wcnRudC1jbnQ=\"],(n=document.createElement(\"div\")).textContent=Math.random().toString(),n.setAttribute(atob(\"ZGF0YS1mcmVlc3Rhci1hZA==\"),\"123\"),r=0;r<e.length;r++)n.classList.add(atob(e[r]));if(n.style.display=\"block\",document.body.appendChild(n),o=window.getComputedStyle(n),i=null==o?void 0:o.display,n.remove(),\"none\"!==i){t.next=15;break}throw new Error(E);case 15:case\"end\":return t.stop()}}),t)})),function(){var e=this,n=arguments;return new Promise((function(r,o){var i=t.apply(e,n);function a(t){j(i,r,o,a,c,\"next\",t)}function c(t){j(i,r,o,a,c,\"throw\",t)}a(void 0)}))});return function(){return e.apply(this,arguments)}}(),S=function(t){return new Promise((function(e,n){var r=document.createElement(\"script\");try{r.src=t,r.addEventListener(\"load\",(function(){e()})),r.addEventListener(\"error\",(function(){n(E)})),document.head.appendChild(r)}catch(t){n(t)}finally{r.remove()}}))};function A(t){return A=\"function\"==typeof Symbol&&\"symbol\"==typeof Symbol.iterator?function(t){return typeof t}:function(t){return t&&\"function\"==typeof Symbol&&t.constructor===Symbol&&t!==Symbol.prototype?\"symbol\":typeof t},A(t)}function I(){I=function(){return e};var t,e={},n=Object.prototype,r=n.hasOwnProperty,o=Object.defineProperty||function(t,e,n){t[e]=n.value},i=\"function\"==typeof Symbol?Symbol:{},a=i.iterator||\"@@iterator\",c=i.asyncIterator||\"@@asyncIterator\",s=i.toStringTag||\"@@toStringTag\";function u(t,e,n){return Object.defineProperty(t,e,{value:n,enumerable:!0,configurable:!0,writable:!0}),t[e]}try{u({},\"\")}catch(t){u=function(t,e,n){return t[e]=n}}function l(t,e,n,r){var i=e&&e.prototype instanceof y?e:y,a=Object.create(i.prototype),c=new Y(r||[]);return o(a,\"_invoke\",{value:C(t,n,c)}),a}function d(t,e,n){try{return{type:\"normal\",arg:t.call(e,n)}}catch(t){return{type:\"throw\",arg:t}}}e.wrap=l;var f=\"suspendedStart\",h=\"suspendedYield\",v=\"executing\",p=\"completed\",m={};function y(){}function g(){}function w(){}var b={};u(b,a,(function(){return this}));var x=Object.getPrototypeOf,k=x&&x(x(T([])));k&&k!==n&&r.call(k,a)&&(b=k);var L=w.prototype=y.prototype=Object.create(b);function j(t){[\"next\",\"throw\",\"return\"].forEach((function(e){u(t,e,(function(t){return this._invoke(e,t)}))}))}function E(t,e){function n(o,i,a,c){var s=d(t[o],t,i);if(\"throw\"!==s.type){var u=s.arg,l=u.value;return l&&\"object\"==A(l)&&r.call(l,\"__await\")?e.resolve(l.__await).then((function(t){n(\"next\",t,a,c)}),(function(t){n(\"throw\",t,a,c)})):e.resolve(l).then((function(t){u.value=t,a(u)}),(function(t){return n(\"throw\",t,a,c)}))}c(s.arg)}var i;o(this,\"_invoke\",{value:function(t,r){function o(){return new e((function(e,o){n(t,r,e,o)}))}return i=i?i.then(o,o):o()}})}function C(e,n,r){var o=f;return function(i,a){if(o===v)throw new Error(\"Generator is already running\");if(o===p){if(\"throw\"===i)throw a;return{value:t,done:!0}}for(r.method=i,r.arg=a;;){var c=r.delegate;if(c){var s=S(c,r);if(s){if(s===m)continue;return s}}if(\"next\"===r.method)r.sent=r._sent=r.arg;else if(\"throw\"===r.method){if(o===f)throw o=p,r.arg;r.dispatchException(r.arg)}else\"return\"===r.method&&r.abrupt(\"return\",r.arg);o=v;var u=d(e,n,r);if(\"normal\"===u.type){if(o=r.done?p:h,u.arg===m)continue;return{value:u.arg,done:r.done}}\"throw\"===u.type&&(o=p,r.method=\"throw\",r.arg=u.arg)}}}function S(e,n){var r=n.method,o=e.iterator[r];if(o===t)return n.delegate=null,\"throw\"===r&&e.iterator.return&&(n.method=\"return\",n.arg=t,S(e,n),\"throw\"===n.method)||\"return\"!==r&&(n.method=\"throw\",n.arg=new TypeError(\"The iterator does not provide a '\"+r+\"' method\")),m;var i=d(o,e.iterator,n.arg);if(\"throw\"===i.type)return n.method=\"throw\",n.arg=i.arg,n.delegate=null,m;var a=i.arg;return a?a.done?(n[e.resultName]=a.value,n.next=e.nextLoc,\"return\"!==n.method&&(n.method=\"next\",n.arg=t),n.delegate=null,m):a:(n.method=\"throw\",n.arg=new TypeError(\"iterator result is not an object\"),n.delegate=null,m)}function q(t){var e={tryLoc:t[0]};1 in t&&(e.catchLoc=t[1]),2 in t&&(e.finallyLoc=t[2],e.afterLoc=t[3]),this.tryEntries.push(e)}function P(t){var e=t.completion||{};e.type=\"normal\",delete e.arg,t.completion=e}function Y(t){this.tryEntries=[{tryLoc:\"root\"}],t.forEach(q,this),this.reset(!0)}function T(e){if(e||\"\"===e){var n=e[a];if(n)return n.call(e);if(\"function\"==typeof e.next)return e;if(!isNaN(e.length)){var o=-1,i=function n(){for(;++o<e.length;)if(r.call(e,o))return n.value=e[o],n.done=!1,n;return n.value=t,n.done=!0,n};return i.next=i}}throw new TypeError(A(e)+\" is not iterable\")}return g.prototype=w,o(L,\"constructor\",{value:w,configurable:!0}),o(w,\"constructor\",{value:g,configurable:!0}),g.displayName=u(w,s,\"GeneratorFunction\"),e.isGeneratorFunction=function(t){var e=\"function\"==typeof t&&t.constructor;return!!e&&(e===g||\"GeneratorFunction\"===(e.displayName||e.name))},e.mark=function(t){return Object.setPrototypeOf?Object.setPrototypeOf(t,w):(t.__proto__=w,u(t,s,\"GeneratorFunction\")),t.prototype=Object.create(L),t},e.awrap=function(t){return{__await:t}},j(E.prototype),u(E.prototype,c,(function(){return this})),e.AsyncIterator=E,e.async=function(t,n,r,o,i){void 0===i&&(i=Promise);var a=new E(l(t,n,r,o),i);return e.isGeneratorFunction(n)?a:a.next().then((function(t){return t.done?t.value:a.next()}))},j(L),u(L,s,\"Generator\"),u(L,a,(function(){return this})),u(L,\"toString\",(function(){return\"[object Generator]\"})),e.keys=function(t){var e=Object(t),n=[];for(var r in e)n.push(r);return n.reverse(),function t(){for(;n.length;){var r=n.pop();if(r in e)return t.value=r,t.done=!1,t}return t.done=!0,t}},e.values=T,Y.prototype={constructor:Y,reset:function(e){if(this.prev=0,this.next=0,this.sent=this._sent=t,this.done=!1,this.delegate=null,this.method=\"next\",this.arg=t,this.tryEntries.forEach(P),!e)for(var n in this)\"t\"===n.charAt(0)&&r.call(this,n)&&!isNaN(+n.slice(1))&&(this[n]=t)},stop:function(){this.done=!0;var t=this.tryEntries[0].completion;if(\"throw\"===t.type)throw t.arg;return this.rval},dispatchException:function(e){if(this.done)throw e;var n=this;function o(r,o){return c.type=\"throw\",c.arg=e,n.next=r,o&&(n.method=\"next\",n.arg=t),!!o}for(var i=this.tryEntries.length-1;i>=0;--i){var a=this.tryEntries[i],c=a.completion;if(\"root\"===a.tryLoc)return o(\"end\");if(a.tryLoc<=this.prev){var s=r.call(a,\"catchLoc\"),u=r.call(a,\"finallyLoc\");if(s&&u){if(this.prev<a.catchLoc)return o(a.catchLoc,!0);if(this.prev<a.finallyLoc)return o(a.finallyLoc)}else if(s){if(this.prev<a.catchLoc)return o(a.catchLoc,!0)}else{if(!u)throw new Error(\"try statement without catch or finally\");if(this.prev<a.finallyLoc)return o(a.finallyLoc)}}}},abrupt:function(t,e){for(var n=this.tryEntries.length-1;n>=0;--n){var o=this.tryEntries[n];if(o.tryLoc<=this.prev&&r.call(o,\"finallyLoc\")&&this.prev<o.finallyLoc){var i=o;break}}i&&(\"break\"===t||\"continue\"===t)&&i.tryLoc<=e&&e<=i.finallyLoc&&(i=null);var a=i?i.completion:{};return a.type=t,a.arg=e,i?(this.method=\"next\",this.next=i.finallyLoc,m):this.complete(a)},complete:function(t,e){if(\"throw\"===t.type)throw t.arg;return\"break\"===t.type||\"continue\"===t.type?this.next=t.arg:\"return\"===t.type?(this.rval=this.arg=t.arg,this.method=\"return\",this.next=\"end\"):\"normal\"===t.type&&e&&(this.next=e),m},finish:function(t){for(var e=this.tryEntries.length-1;e>=0;--e){var n=this.tryEntries[e];if(n.finallyLoc===t)return this.complete(n.completion,n.afterLoc),P(n),m}},catch:function(t){for(var e=this.tryEntries.length-1;e>=0;--e){var n=this.tryEntries[e];if(n.tryLoc===t){var r=n.completion;if(\"throw\"===r.type){var o=r.arg;P(n)}return o}}throw new Error(\"illegal catch attempt\")},delegateYield:function(e,n,r){return this.delegate={iterator:T(e),resultName:n,nextLoc:r},\"next\"===this.method&&(this.arg=t),m}},e}function q(t,e,n,r,o,i,a){try{var c=t[i](a),s=c.value}catch(t){return void n(t)}c.done?e(s):Promise.resolve(s).then(r,o)}function P(t){return function(){var e=this,n=arguments;return new Promise((function(r,o){var i=t.apply(e,n);function a(t){q(i,r,o,a,c,\"next\",t)}function c(t){q(i,r,o,a,c,\"throw\",t)}a(void 0)}))}}function Y(t,e){for(var n=0;n<e.length;n++){var r=e[n];r.enumerable=r.enumerable||!1,r.configurable=!0,\"value\"in r&&(r.writable=!0),Object.defineProperty(t,(o=r.key,i=void 0,i=function(t,e){if(\"object\"!==A(t)||null===t)return t;var n=t[Symbol.toPrimitive];if(void 0!==n){var r=n.call(t,e||\"default\");if(\"object\"!==A(r))return r;throw new TypeError(\"@@toPrimitive must return a primitive value.\")}return(\"string\"===e?String:Number)(t)}(o,\"string\"),\"symbol\"===A(i)?i:String(i)),r)}var o,i}var T=function(){function t(e){!function(t,e){if(!(t instanceof e))throw new TypeError(\"Cannot call a class as a function\")}(this,t),this.config=null,this.langCode=null,this.languages=this.getUserPreferredLanguages(e)}var e,n,r,o,i,a;return e=t,n=[{key:\"init\",value:(a=P(I().mark((function t(){return I().wrap((function(t){for(;;)switch(t.prev=t.next){case 0:return t.next=2,this.fetchConfig();case 2:this.config=t.sent,null!==this.config&&(this.langCode=this.getFirstSupportedLanguage(this.languages),this.observe());case 4:case\"end\":return t.stop()}}),t,this)}))),function(){return a.apply(this,arguments)})},{key:\"fetchConfig\",value:(i=P(I().mark((function t(){var e,n,r,o,i,a;return I().wrap((function(t){for(;;)switch(t.prev=t.next){case 0:return n=(e=[\"Y29uZmlnLmNvbnRlbnQtc2V0dGluZ3MuY29t\",\"Y29uZmlnLnNpdGUtY29uZmlnLmNvbQ==\",\"29uZmlnLmZyZmlndXJlcy5jb20=\"]).length-1,r=Number.isNaN(Number(localStorage.getItem(\"fs.cdi\")))?0:Number(localStorage.getItem(\"fs.cdi\")),o=Number.isNaN(Number(localStorage.getItem(\"fs.cfc\")))?0:Number(localStorage.getItem(\"fs.cfc\")),i=atob(e[r]),a=\"https://\".concat(i,\"/azlyrics-com.json\"),t.prev=6,t.next=9,fetch(a);case 9:return t.abrupt(\"return\",t.sent.json());case 12:return t.prev=12,t.t0=t.catch(6),++o>=3&&(o=0,r++),r>n&&(r=0),t.abrupt(\"return\",null);case 18:return t.prev=18,localStorage.setItem(\"fs.cdi\",r),localStorage.setItem(\"fs.cfc\",o),t.finish(18);case 22:case\"end\":return t.stop()}}),t,null,[[6,12,18,22]])}))),function(){return i.apply(this,arguments)})},{key:\"killScroll\",value:function(t){if(t.isScrollDisabled){this.existingOverflow=document.body.style.overflow,document.body.style.overflow=\"hidden\";var e=window.pageYOffset||document.documentElement.scrollTop,n=window.pageXOffset||document.documentElement.scrollLeft;document.body.style.top=\"-\".concat(e,\"px\"),document.body.style.left=\"-\".concat(n,\"px\"),window.onscroll=function(){window.scrollTo(n,e)}}}},{key:\"reviveScroll\",value:function(){document.body.style.overflow=this.existingOverflow||\"\",window.onscroll=function(){}}},{key:\"getUserPreferredLanguages\",value:function(t){var e=t.languages,n=t.language,r=void 0===e?[n]:e;if(r)return r.map((function(t){var e=t.trim().toLowerCase();if(!e.includes(\"zh\"))return e.split(/-|_/)[0];var n=e.split(/-|_/)[1];return\"zh\"===e||[\"hans\",\"cn\",\"sg\"].includes(n)?\"zh\":[\"hant\",\"hk\",\"mo\",\"tw\"].includes(n)?\"zh-hant\":void 0}))}},{key:\"getFirstSupportedLanguage\",value:function(t){var e=this,n=[\"title\",\"paragraphOne\",\"buttonText\"],r=t.find((function(t){return n.every((function(n){return!!e.config[n][t]}))}));return void 0!==r?r:\"en\"}},{key:\"getLocalizedTextContent\",value:function(t,e){var n,r=arguments.length>2&&void 0!==arguments[2]&&arguments[2],o=t[e];if(void 0===o)throw new Error(\"Config text not found for text key \".concat(e));return r?null!==(n=o[this.langCode])&&void 0!==n?n:o.en:o[this.langCode]}},{key:\"getPixelString\",value:function(t){return\"number\"==typeof t?\"\".concat(t,\"px\"):null}},{key:\"pickContrastingColorValue\",value:function(t,e,n){var r=t.substring(1,7);return.299*parseInt(r.substring(0,2),16)+.587*parseInt(r.substring(2,4),16)+.114*parseInt(r.substring(4,6),16)>=128?e:n}},{key:\"generateOverlay\",value:function(t){var e=this,n=t.siteId,r=t.isCloseEnabled,o=t.dismissDuration,i=t.dismissDurationPv,a=t.logoUrl,c=t.font,s=t.paragraphTwo,u=t.paragraphThree,l=t.closeText,d=t.linkText,f=t.linkUrl,h=t.textColor,v=t.headerTextColor,p=t.buttonTextColor,m=t.headerBgColor,y=t.bgColor,g=t.buttonBgColor,w=t.borderColor,b=t.borderWidth,x=t.borderRadius,k=t.closeButtonColor,L=t.closeTextColor,j=t.linkTextColor,E=t.linkTextDecoration,C=t.linkVisitedTextColor,S=t.hasFsBranding,A=t.disableInstructions,I=document.createElement(\"div\");I.style.setProperty(\"--_1u8b67d\",g||\"#40C28A\"),I.style.setProperty(\"--_1s2p24r\",p||\"#000000\"),I.style.setProperty(\"--_16xxoaz\",this.pickContrastingColorValue(y||\"#FFFFFF\",\"white\",\"black\")),j&&I.style.setProperty(\"--q1a6v7\",j),C&&I.style.setProperty(\"--_1bva2lo\",C),E&&I.style.setProperty(\"--d8c6ui\",E),I.classList.add(\"_82u8vq\"),I.id=\"_1wcn8h3\",I.dir=\"auto\",this.oid=I.id;var q=document.createElement(\"div\");q.classList.add(\"onnj2g\"),y&&(q.style.backgroundColor=y),c&&(q.style.fontFamily=c),h&&(q.style.color=h);var P=this.getPixelString(x),Y=this.getPixelString(b);P&&(q.style.borderRadius=P),(w||Y)&&(q.style.borderStyle=\"solid\"),w&&(q.style.borderColor=w),Y&&(q.style.borderWidth=Y);var T=document.createElement(\"header\");if(v&&(T.style.color=v),m){T.style.backgroundColor=m;var O=P||\"1em\";T.style.borderTopLeftRadius=O,T.style.borderTopRightRadius=O}if(a){var H=document.createElement(\"img\");H.src=a,H.alt=\"Logo\",H.onerror=function(){this.style.display=\"none\"},T.appendChild(H)}var U=document.createElement(\"h2\");U.textContent=this.getLocalizedTextContent(t,\"title\"),T.appendChild(U);var _=document.createElement(\"section\");_.classList.add(\"_1myx4a0\");var R=document.createElement(\"p\");if(R.textContent=this.getLocalizedTextContent(t,\"paragraphOne\"),_.appendChild(R),s&&0!==Object.keys(s).length){var F=document.createElement(\"p\");F.textContent=this.getLocalizedTextContent(t,\"paragraphTwo\"),_.appendChild(F)}if(u&&0!==Object.keys(u).length){var B=document.createElement(\"p\");B.textContent=this.getLocalizedTextContent(t,\"paragraphThree\"),_.appendChild(B)}var V=d&&this.getLocalizedTextContent(t,\"linkText\"),z=f&&this.getLocalizedTextContent(t,\"linkUrl\",!0);if(V&&z){var G=document.createElement(\"div\");G.style.margin=\"0 0 1em\";var N=document.createElement(\"a\");N.classList.add(\"_1ajq4u1\"),j&&N.classList.add(\"q1a6v7\"),C&&N.classList.add(\"_1bva2lo\"),E&&N.classList.add(\"d8c6ui\"),N.textContent=V,N.href=z,N.target=\"_blank\",G.appendChild(N),_.appendChild(G)}var Q=document.createElement(\"button\");if(Q.classList.add(\"_16i61up\"),Q.tabIndex=0,Q.textContent=this.getLocalizedTextContent(t,\"buttonText\"),g&&(Q.style.backgroundColor=g),p&&(Q.style.color=p),Q.onclick=function(){document.querySelector(\"section._1myx4a0\").classList.add(\"_18mgeh5\"),document.querySelector(\"section.mjmqhi\").classList.remove(\"_18mgeh5\")},_.appendChild(Q),r){var D=function(){I.remove(),e.reviveScroll(),o||i?(sessionStorage.removeItem(\"fs.adb\".concat(n||\"\",\".dis\")),i?e.updateValues(\"p\"):o&&e.updateValues(\"dt\")):sessionStorage.setItem(\"fs.adb\".concat(n||\"\",\".dis\"),\"1\")},M=document.createElement(\"span\");if(M.classList.add(\"_18hdrla\"),M.innerHTML=\"&times;\",M.tabIndex=0,k&&(M.style.color=k),M.addEventListener(\"click\",D),T.appendChild(M),l&&0!==Object.keys(l).length){var W=document.createElement(\"div\");W.classList.add(\"qcqk63\");var J=document.createElement(\"p\");J.classList.add(\"_1jy32sx\"),J.textContent=this.getLocalizedTextContent(t,\"closeText\"),L&&(J.style.color=L),J.addEventListener(\"click\",D),W.appendChild(J),_.appendChild(W)}}var Z=document.createElement(\"section\");Z.classList.add(\"mjmqhi\",\"_18mgeh5\");var X=document.createElement(\"h4\");X.classList.add(\"vza2sa\"),X.textContent=this.getLocalizedTextContent(t,\"instructionsTitle\");var K=document.createElement(\"div\");K.classList.add(\"_1n8syyr\");var $=document.createElement(\"ul\");$.classList.add(\"_12y6q83\");var tt=document.createElement(\"div\");tt.classList.add(\"_10v9zkx\"),A.forEach((function(t,n){var r=document.createElement(\"li\");r.onclick=function(){return function(t){for(var e=document.querySelectorAll(\"._12y6q83 > li\"),n=document.getElementsByClassName(\"_1dz8w0r\"),r=0;r<n.length;r++)e[r].classList.remove(\"_2tqkhw\"),n[r].classList.remove(\"_2tqkhw\");e[t].classList.add(\"_2tqkhw\"),n[t].classList.add(\"_2tqkhw\")}(n)},r.textContent=e.getLocalizedTextContent(t,\"name\",!0),$.appendChild(r);var o=document.createElement(\"ol\");o.classList.add(\"_1dz8w0r\"),0===n&&(r.classList.add(\"_2tqkhw\"),o.classList.add(\"_2tqkhw\")),e.getLocalizedTextContent(t,\"steps\").forEach((function(t){var e=document.createElement(\"li\");e.textContent=t,o.appendChild(e)})),tt.appendChild(o)}));var et=this.getLocalizedTextContent(t,\"disclaimerText\"),nt=document.createElement(\"p\");nt.textContent=et,tt.appendChild(nt),K.appendChild($),K.appendChild(tt);var rt=document.createElement(\"button\");if(rt.classList.add(\"_16i61up\",\"te00wf\"),rt.textContent=this.getLocalizedTextContent(t,\"backButtonText\"),g&&(rt.style.backgroundColor=g),p&&(rt.style.color=p),rt.onclick=function(){document.querySelector(\"section.mjmqhi\").classList.add(\"_18mgeh5\"),document.querySelector(\"section._1myx4a0\").classList.remove(\"_18mgeh5\")},Z.appendChild(X),Z.appendChild(K),Z.appendChild(rt),q.appendChild(T),q.appendChild(_),q.appendChild(Z),S){var ot=document.createElement(\"a\");ot.classList.add(\"_1o9k1ce\"),ot.href=atob(\"aHR0cHM6Ly9mcmVlc3Rhci5jb20vYWQtcHJvZHVjdHMvZGVza3RvcC1tb2JpbGUvZnJlZXN0YXItcmVjb3ZlcmVk\"),ot.target=\"_blank\";var it=document.createElement(\"img\");it.alt=\"Logo\",it.src=this.pickContrastingColorValue(y||\"#FFFFFF\",\"data:image/png;base64,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\",\"data:image/png;base64,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\"),ot.appendChild(it),q.appendChild(ot)}return I.appendChild(q),I}},{key:\"getAndSetOverlay\",value:(o=P(I().mark((function t(e){var n,r,o,i;return I().wrap((function(t){for(;;)switch(t.prev=t.next){case 0:if(this.post(!0,e),e.dismissDuration||e.dismissDurationPv||\"1\"!==sessionStorage.getItem(\"fs.adb\".concat(e.siteId||\"\",\".dis\"))){t.next=3;break}return t.abrupt(\"return\");case 3:if(n=localStorage.getItem(\"fs.adb\"),r=n&&JSON.parse(n),!e.dismissDurationPv||!r.p||\"number\"!=typeof r.p){t.next=14;break}if(!(e.dismissDurationPv<=r.p+1)){t.next=10;break}this.clearValue(\"p\"),t.next=12;break;case 10:return this.updateValues(\"p\"),t.abrupt(\"return\");case 12:t.next=15;break;case 14:this.clearValue(\"p\");case 15:if(o=parseInt(r.dt,10),!e.dismissDuration||!o){t.next=25;break}if(!(Math.abs((Date.now()-o)/36e5)<e.dismissDuration)){t.next=22;break}return t.abrupt(\"return\");case 22:this.clearValue(\"dt\");case 23:t.next=26;break;case 25:this.clearValue(\"dt\");case 26:if(document.body){t.next=29;break}return t.next=29,new Promise((function(t){return document.addEventListener(\"DOMContentLoaded\",t)}));case 29:if(this.killScroll(e),null===document.querySelector(\"#\".concat(this.oid))){t.next=32;break}return t.abrupt(\"return\");case 32:i=this.generateOverlay(e),document.body.appendChild(i);case 34:case\"end\":return t.stop()}}),t,this)}))),function(t){return o.apply(this,arguments)})},{key:\"getStatus\",value:function(t,e){return!0===e?1:2===t||1===t?2:0}},{key:\"getAndSetData\",value:function(t){var e,n,r,o=localStorage.getItem(\"fs.adb\"),i=o&&JSON.parse(o),a=Date.now();return i?(e=i.i,n=i.ot,r=this.getStatus(i.s,t)):(i={},e=c(),n=a,r=t?1:0),i.i=e,i.s=r,i.ot=n,i.lt=a,localStorage.setItem(\"fs.adb\",JSON.stringify(i)),i}},{key:\"updateValues\",value:function(t){var e=localStorage.getItem(\"fs.adb\"),n=e&&JSON.parse(e);\"p\"===t?(n.p=n.p?n.p+1:1,n.dt&&delete n.dt):\"dt\"===t&&(n.dt=Date.now(),n.p&&delete n.p),localStorage.setItem(\"fs.adb\",JSON.stringify(n))}},{key:\"clearValue\",value:function(t){var e=localStorage.getItem(\"fs.adb\"),n=e&&JSON.parse(e);n[t]&&(delete n[t],localStorage.setItem(\"fs.adb\",JSON.stringify(n)))}},{key:\"post\",value:function(t,e){var n=atob(\"c2l0ZS1jb25maWcuY29t\"),r=e.cDomain||n,o=\"https://\".concat(r,\"/v2/abr\"),i=this.getAndSetData(t),a=e.accountId,c=e.siteId,s=navigator.userAgent||window.navigator.userAgent,u=document.referrer,l=window.location,d={accountId:a,siteId:c,userId:i.i,url:l.href,referalURL:u,userAgent:s,status:function(t){switch(t){case 0:return\"not detected\";case 1:return\"detected\";case 2:return\"recovered\";default:return}}(i.s),returning:i.ot!==i.lt,version:\"1.3.3\"};fetch(o,{method:\"POST\",headers:{\"Content-Type\":\"application/json\",\"X-Client-Geo-Location\":\"{client_region},{client_region_subdivision},{client_city}\"},body:JSON.stringify(d)}).catch((function(){}))}},{key:\"observe\",value:function(){var t=this,e=\"\";new MutationObserver((function(){location.pathname!==e&&(e=location.pathname,t.run())})).observe(document,{subtree:!0,childList:!0})}},{key:\"run\",value:function(){var t=this,e=this.config;setTimeout(P(I().mark((function n(){return I().wrap((function(n){for(;;)switch(n.prev=n.next){case 0:return n.next=2,C().then((function(){return S(atob(\"aHR0cHM6Ly9hLnB1Yi5uZXR3b3JrL2NvcmUvcHJlYmlkLXVuaXZlcnNhbC1jcmVhdGl2ZS5qcw==\"))})).then((function(){return S(atob(\"aHR0cHM6Ly93d3cuZ29vZ2xldGFnc2VydmljZXMuY29tL3RhZy9qcy9ncHQuanM=\"))})).then((function(){t.post(!1,e)})).catch((function(n){n!==E&&(null==n?void 0:n.message)!==E||t.getAndSetOverlay(e)}));case 2:case\"end\":return n.stop()}}),n)}))),500)}}],n&&Y(e.prototype,n),r&&Y(e,r),Object.defineProperty(e,\"prototype\",{writable:!1}),t}();window.fsabrActive=!0,new T(window.navigator).init()})()})();\n",
      "</script>\n",
      "<link href=\"https://a.pub.network/core/pubfig/cls.css\" rel=\"stylesheet\"/>\n",
      "<script data-cfasync=\"false\" type=\"text/javascript\">\n",
      "  var freestar = freestar || {};\n",
      "  freestar.queue = freestar.queue || [];\n",
      "  freestar.config = freestar.config || {};\n",
      "  freestar.config.enabled_slots = [];\n",
      "  freestar.initCallback = function () { (freestar.config.enabled_slots.length === 0) ? freestar.initCallbackCalled = false : freestar.newAdSlots(freestar.config.enabled_slots) }\n",
      "</script>\n",
      "<script async=\"\" src=\"https://a.pub.network/azlyrics-com/pubfig.min.js\"></script>\n",
      "<script async=\"\" src=\"https://srv.tunefindforfans.com/fruits/mangos.js\"></script>\n",
      "<script type=\"text/javascript\">\n",
      "  // Azlyrics.com - Flex\t\n",
      "  window.amplified = window.amplified || { init: [] };\n",
      "  amplified.init.push(function() {\n",
      "    amplified.setParams({\n",
      "      artist: \"The Fray\",\n",
      "      song: \"Over My Head (Cable Car)\",\n",
      "    });\n",
      "    amplified.pushExitAdUnit(100006366); // iOS Exit Interstitial\n",
      "    amplified.pushExitAdUnit(100006383); // Desktop Exit Interstitial\n",
      "    amplified.run();\n",
      "  });\n",
      "</script>\n",
      "</head>\n",
      "<body class=\"az-song-text\">\n",
      "<nav class=\"navbar navbar-default navbar-static-top noprint\">\n",
      "<div class=\"container\">\n",
      "<!-- Brand and toggle get grouped for better mobile display -->\n",
      "<div class=\"navbar-header\">\n",
      "<button class=\"navbar-toggle collapsed\" data-target=\"#search-collapse\" data-toggle=\"collapse\" type=\"button\">\n",
      "<span class=\"glyphicon glyphicon-search\"></span>\n",
      "</button>\n",
      "<button class=\"navbar-toggle collapsed\" data-target=\"#artists-collapse\" data-toggle=\"collapse\" type=\"button\">\n",
      "<span class=\"glyphicon glyphicon-th-list\"></span>\n",
      "</button>\n",
      "<a class=\"navbar-brand\" href=\"//www.azlyrics.com\"><img alt=\"AZLyrics.com\" class=\"pull-left\" src=\"//www.azlyrics.com/az_logo_tr.png\" style=\"max-height:40px; margin-top:-10px;\"/></a>\n",
      "</div>\n",
      "<ul class=\"collapse navbar-collapse nav navbar-nav\" id=\"artists-collapse\">\n",
      "<li>\n",
      "<div class=\"btn-group text-center\" role=\"group\">\n",
      "<a class=\"btn btn-menu\" href=\"//www.azlyrics.com/a.html\">A</a>\n",
      "<a class=\"btn btn-menu\" href=\"//www.azlyrics.com/b.html\">B</a>\n",
      "<a class=\"btn btn-menu\" href=\"//www.azlyrics.com/c.html\">C</a>\n",
      "<a class=\"btn btn-menu\" href=\"//www.azlyrics.com/d.html\">D</a>\n",
      "<a class=\"btn btn-menu\" href=\"//www.azlyrics.com/e.html\">E</a>\n",
      "<a class=\"btn btn-menu\" href=\"//www.azlyrics.com/f.html\">F</a>\n",
      "<a class=\"btn btn-menu\" href=\"//www.azlyrics.com/g.html\">G</a>\n",
      "<a class=\"btn btn-menu\" href=\"//www.azlyrics.com/h.html\">H</a>\n",
      "<a class=\"btn btn-menu\" href=\"//www.azlyrics.com/i.html\">I</a>\n",
      "<a class=\"btn btn-menu\" href=\"//www.azlyrics.com/j.html\">J</a>\n",
      "<a class=\"btn btn-menu\" href=\"//www.azlyrics.com/k.html\">K</a>\n",
      "<a class=\"btn btn-menu\" href=\"//www.azlyrics.com/l.html\">L</a>\n",
      "<a class=\"btn btn-menu\" href=\"//www.azlyrics.com/m.html\">M</a>\n",
      "<a class=\"btn btn-menu\" href=\"//www.azlyrics.com/n.html\">N</a>\n",
      "<a class=\"btn btn-menu\" href=\"//www.azlyrics.com/o.html\">O</a>\n",
      "<a class=\"btn btn-menu\" href=\"//www.azlyrics.com/p.html\">P</a>\n",
      "<a class=\"btn btn-menu\" href=\"//www.azlyrics.com/q.html\">Q</a>\n",
      "<a class=\"btn btn-menu\" href=\"//www.azlyrics.com/r.html\">R</a>\n",
      "<a class=\"btn btn-menu\" href=\"//www.azlyrics.com/s.html\">S</a>\n",
      "<a class=\"btn btn-menu\" href=\"//www.azlyrics.com/t.html\">T</a>\n",
      "<a class=\"btn btn-menu\" href=\"//www.azlyrics.com/u.html\">U</a>\n",
      "<a class=\"btn btn-menu\" href=\"//www.azlyrics.com/v.html\">V</a>\n",
      "<a class=\"btn btn-menu\" href=\"//www.azlyrics.com/w.html\">W</a>\n",
      "<a class=\"btn btn-menu\" href=\"//www.azlyrics.com/x.html\">X</a>\n",
      "<a class=\"btn btn-menu\" href=\"//www.azlyrics.com/y.html\">Y</a>\n",
      "<a class=\"btn btn-menu\" href=\"//www.azlyrics.com/z.html\">Z</a>\n",
      "<a class=\"btn btn-menu\" href=\"//www.azlyrics.com/19.html\">#</a>\n",
      "</div>\n",
      "</li>\n",
      "</ul>\n",
      "<div class=\"collapse navbar-collapse\" id=\"search-collapse\">\n",
      "<form action=\"//search.azlyrics.com/search.php\" class=\"navbar-form navbar-right search\" method=\"get\" role=\"search\">\n",
      "<div class=\"input-group\">\n",
      "<input class=\"form-control\" id=\"q\" name=\"q\" placeholder=\"\" type=\"text\"/>\n",
      "<span class=\"input-group-btn\">\n",
      "<button class=\"btn btn-primary\" type=\"submit\"><span class=\"glyphicon glyphicon-search\"></span> Search</button>\n",
      "</span>\n",
      "</div>\n",
      "</form>\n",
      "</div><!-- /.navbar-collapse -->\n",
      "</div><!-- /.container -->\n",
      "</nav>\n",
      "<!-- top ban -->\n",
      "<div class=\"lboard-wrap noprint\">\n",
      "<div class=\"container\">\n",
      "<div class=\"row\">\n",
      "<div class=\"top-ad text-center\">\n",
      "<div id=\"FreeStarVideoAdContainer\">\n",
      "<div id=\"freestar-video-parent\">\n",
      "<div id=\"freestar-video-child\"></div>\n",
      "</div>\n",
      "</div>\n",
      "</div>\n",
      "</div>\n",
      "</div>\n",
      "</div>\n",
      "<!-- main -->\n",
      "<div class=\"container main-page\">\n",
      "<div class=\"text-center noprint\">\n",
      "<!-- Tag ID: azlyrics_atf_leaderboard -->\n",
      "<div align=\"center\" data-freestar-ad=\"__320x50 __728x90\" id=\"azlyrics_atf_leaderboard\">\n",
      "<script data-cfasync=\"false\" type=\"text/javascript\">\n",
      "        freestar.config.enabled_slots.push({ placementName: \"azlyrics_atf_leaderboard\", slotId: \"azlyrics_atf_leaderboard\" });\n",
      "      </script>\n",
      "</div>\n",
      "</div>\n",
      "<div class=\"row\">\n",
      "<div class=\"col-lg-2 text-center hidden-md hidden-sm hidden-xs noprint\">\n",
      "<div class=\"sky-ad\"></div>\n",
      "</div>\n",
      "<!-- content -->\n",
      "<div class=\"col-xs-12 col-lg-8 text-center\">\n",
      "<div class=\"div-share noprint\">\n",
      "<div class=\"addthis_toolbox addthis_default_style\">\n",
      "<a class=\"btn btn-xs btn-share addthis_button_facebook\" href=\"https://www.facebook.com/sharer.php?u=https%3A%2F%2Fwww.azlyrics.com%2Flyrics%2Ffray%2Fovermyheadcablecar.html&amp;title=The%20Fray%20-%20Over%20My%20Head%20%28Cable%20Car%29%20Lyrics%20%7C%20AZLyrics.com&amp;display=page\" target=\"_blank\">\n",
      "<span class=\"playblk\"><img alt=\"Share on Facebook\" class=\"playblk\" height=\"25\" src=\"//www.azlyrics.com/images/share-icons/facebook.svg\" title=\"Share on Facebook\" width=\"25\"/></span>\n",
      "</a>\n",
      "<a class=\"btn btn-xs btn-share addthis_button_twitter\" href=\"https://twitter.com/intent/tweet?url=https%3A%2F%2Fwww.azlyrics.com%2Flyrics%2Ffray%2Fovermyheadcablecar.html&amp;text=The%20Fray%20-%20Over%20My%20Head%20%28Cable%20Car%29%20Lyrics%20%7C%20AZLyrics.com\" target=\"_blank\">\n",
      "<span class=\"playblk\"><img alt=\"Share on Twitter\" class=\"playblk\" height=\"25\" src=\"//www.azlyrics.com/images/share-icons/twitter.svg\" title=\"Share on Twitter\" width=\"25\"/></span>\n",
      "</a>\n",
      "<a class=\"btn btn-xs btn-share addthis_button_email\" href=\"mailto:?subject=The%20Fray%20-%20Over%20My%20Head%20%28Cable%20Car%29%20Lyrics%20%7C%20AZLyrics.com&amp;body=https%3A%2F%2Fwww.azlyrics.com%2Flyrics%2Ffray%2Fovermyheadcablecar.html\" target=\"_blank\">\n",
      "<span class=\"playblk\"><img alt=\"Email\" class=\"playblk\" height=\"25\" src=\"//www.azlyrics.com/images/share-icons/email.svg\" title=\"Email\" width=\"25\"/></span>\n",
      "</a>\n",
      "<a class=\"btn btn-xs btn-share addthis_button_print\" href=\"javascript:void(window.print());\" style=\"margin-right: 0px !important;\">\n",
      "<span class=\"playblk\"><img alt=\"Print\" class=\"playblk\" height=\"25\" src=\"//www.azlyrics.com/images/share-icons/print.svg\" title=\"Print\" width=\"25\"/></span>\n",
      "</a>\n",
      "</div>\n",
      "</div>\n",
      "<div class=\"div-share\"><h1>\"Over My Head (Cable Car)\" lyrics</h1></div>\n",
      "<div class=\"lyricsh\">\n",
      "<h2><a href=\"//www.azlyrics.com/f/fray.html\"><b>The Fray Lyrics</b></a></h2>\n",
      "</div>\n",
      "<div class=\"ringtone\">\n",
      "<span id=\"cf_text_top\"></span>\n",
      "</div>\n",
      "<b>\"Over My Head (Cable Car)\"</b><br/>\n",
      "<br/>\n",
      "<div>\n",
      "<!-- Usage of azlyrics.com content by any third-party lyrics provider is prohibited by our licensing agreement. Sorry about that. -->\n",
      "I never knew<br/>\n",
      "I never knew that everything was falling through<br/>\n",
      "That everyone I knew was waiting on a queue<br/>\n",
      "To turn and run when all I needed was the truth<br/>\n",
      "But that's how it's gotta be<br/>\n",
      "It's coming down to nothing more than apathy<br/>\n",
      "I'd rather run the other way than stay and see<br/>\n",
      "The smoke and who's still standing when it clears<br/>\n",
      "<br/>\n",
      "And everyone knows I'm in<br/>\n",
      "Over my head<br/>\n",
      "Over my head<br/>\n",
      "With eight seconds left in overtime<br/>\n",
      "She's on your mind, she's on your mind<br/>\n",
      "<br/>\n",
      "Let's rearrange<br/>\n",
      "I wish you were a stranger I could disengage<br/>\n",
      "Just say that we agree and then never change<br/>\n",
      "Soften a bit until we all just get along<br/>\n",
      "But that's disregard<br/>\n",
      "You find another friend and you discard<br/>\n",
      "As you lose the argument in a cable car<br/>\n",
      "Hanging above as the canyon comes between<br/>\n",
      "<br/>\n",
      "And everyone knows I'm in<br/>\n",
      "Over my head<br/>\n",
      "Over my head<br/>\n",
      "With eight seconds left in overtime<br/>\n",
      "She's on your mind<br/>\n",
      "She's on your mind<br/>\n",
      "Everyone knows I'm in<br/>\n",
      "Over my head<br/>\n",
      "Over my head<br/>\n",
      "With eight seconds left in overtime<br/>\n",
      "She's on your mind<br/>\n",
      "She's on, on<br/>\n",
      "<br/>\n",
      "And suddenly, I've become a part of your past<br/>\n",
      "I'm becoming the part that don't last<br/>\n",
      "I'm losing you and it's effortless<br/>\n",
      "Without a sound, we lose sight of the ground<br/>\n",
      "In the throw around<br/>\n",
      "Never thought that you wanted to bring it down<br/>\n",
      "I won't let it go down 'til we torch it ourselves<br/>\n",
      "<br/>\n",
      "And everyone knows I'm in<br/>\n",
      "Over my head<br/>\n",
      "Over my head<br/>\n",
      "With eight seconds left in overtime<br/>\n",
      "She's on your mind<br/>\n",
      "She's on your mind<br/>\n",
      "Everyone knows<br/>\n",
      "She's on your mind<br/>\n",
      "Everyone knows I'm in<br/>\n",
      "Over my head<br/>\n",
      "I'm in over my head, I'm over my<br/>\n",
      "Everyone knows I'm in<br/>\n",
      "Over my head<br/>\n",
      "Over my head<br/>\n",
      "With eight seconds left in overtime<br/>\n",
      "She's on your mind<br/>\n",
      "She's on your mind\n",
      "</div>\n",
      "<br/><br/>\n",
      "<!-- MxM banner -->\n",
      "<div class=\"noprint\" id=\"azmxmbanner\" style=\"display:none;\">\n",
      "<script>\n",
      "if  ( /Android|webOS|iPhone|iPod|iPad|BlackBerry|IEMobile|Opera Mini/i.test(navigator.userAgent) ) \n",
      "  {\n",
      "     document.getElementById('azmxmbanner').style.display='block';\n",
      "     document.write('<div style=\"margin-left: auto; margin-right: auto;\">'+\n",
      "  '<iframe scrolling=\"no\" style=\"border: 0px none; overflow:hidden;\" src=\"//adv.mxmcdn.net/br/t1.0/m_js/e_0/sn_0/l_8094819/su_0/rs_0/tr_3vUCAJ3eCF7S3aiMtrvM9C6gEsLnWAGsXEYJlGcc1YVw4IEWD9lM4Cb7d1alpH7TQD67o79t3ccwxPxH5nvkb0m8TpnrXeDAb5cgQ4yNOozHb6GXB_2gWuhuNqHq3Kj5aDZCKrgj6mTSijIuxAEWkguTkxR39Ca_FKa3-UjGyTsQ2rEGHnycKNnZ1DyKV79wlJ4qIV_q4GNGOiry9p8BPArl23SfgAxixma1_ZL4p3Y6vPCv5YvhmEtVW360PsYUlM9d0F47xXzDUrKrAxjMJZ-nDFEbx9Y5l9ujMtVYPGAU_mDVf2QRYDd208HxBDzwXvoAdjjPd18iJbAiDsf2ieN62E66YcEqm5TABDvWeHrwNePcrna8J7gQG-HSOTyaRjcJVS3VMim4UGmNYyrqde2cYO20BqP6jfI1SeeXXRFKqDdDNSNMas_r09AQqQ721wdkz8G9POSZTC_rMdcqwg/\" width=\"290px\" height=\"50px\"></iframe>'+\n",
      "  '</div>');\n",
      "   }\n",
      "</script>\n",
      "<br/><br/>\n",
      "</div>\n",
      "<form action=\"../../add.php\" id=\"addsong\" method=\"post\">\n",
      "<input name=\"what\" type=\"hidden\" value=\"add_song\"/>\n",
      "<input name=\"artist\" type=\"hidden\" value=\"The Fray\"/>\n",
      "<input name=\"artist_id\" type=\"hidden\" value=\"1589\"/>\n",
      "</form>\n",
      "<form action=\"../../add.php\" id=\"corlyr\" method=\"post\">\n",
      "<input name=\"what\" type=\"hidden\" value=\"correct_lyrics\"/>\n",
      "<input name=\"song_id\" type=\"hidden\" value=\"54018\"/>\n",
      "</form>\n",
      "<div class=\"smt noprint\">\n",
      "<a class=\"btn btn-primary\" href=\"#\" onclick=\"submitCorrected()\"><span class=\"glyphicon glyphicon-pencil\"></span> Submit Corrections</a>\n",
      "</div>\n",
      "<div class=\"smt\"><small>Thanks to Kayleigh Pope, Kristle, Lizi, Katherine, Holly for correcting these lyrics.<br/></small>\n",
      "</div>\n",
      "<div class=\"noprint\" style=\"padding: 15px 0\">\n",
      "<span id=\"cf_text_bottom\"></span>\n",
      "</div>\n",
      "<!-- credits -->\n",
      "<div class=\"smt\"><small>Writer(s): Isaac Slade, Joseph King</small>\n",
      "<br/>\n",
      "</div>\n",
      "<!-- song facts -->\n",
      "<div class=\"abovebreadcrumb noprint\">\n",
      "<!-- Tag ID: azlyrics_btf_2 -->\n",
      "<div align=\"center\" data-freestar-ad=\"__300x250 __728x90\" id=\"azlyrics_btf_2\">\n",
      "<script data-cfasync=\"false\" type=\"text/javascript\">\n",
      "        freestar.config.enabled_slots.push({ placementName: \"azlyrics_btf_2\", slotId: \"azlyrics_btf_2\" });\n",
      "      </script>\n",
      "</div>\n",
      "</div>\n",
      "<!-- artist link -->\n",
      "<ol class=\"breadcrumb noprint\" itemscope=\"\" itemtype=\"https://schema.org/BreadcrumbList\">\n",
      "<li itemprop=\"itemListElement\" itemscope=\"\" itemtype=\"https://schema.org/ListItem\"><a href=\"//www.azlyrics.com\" itemprop=\"item\"><span itemprop=\"name\">AZLyrics</span></a><meta content=\"1\" itemprop=\"position\"/></li>\n",
      "<li itemprop=\"itemListElement\" itemscope=\"\" itemtype=\"https://schema.org/ListItem\"><a href=\"//www.azlyrics.com/f.html\" itemprop=\"item\"><span itemprop=\"name\">F</span></a><meta content=\"2\" itemprop=\"position\"/></li>\n",
      "<li itemprop=\"itemListElement\" itemscope=\"\" itemtype=\"https://schema.org/ListItem\"><a href=\"//www.azlyrics.com/f/fray.html\" itemprop=\"item\"><span itemprop=\"name\">The Fray Lyrics</span></a><meta content=\"3\" itemprop=\"position\"/></li>\n",
      "</ol>\n",
      "<!-- album songlists -->\n",
      "<div class=\"panel songlist-panel noprint\">\n",
      "<div class=\"songinalbum_title\">album: <b>\"How To Save A Life\"</b> (2005)<div><img alt=\"The Fray - How To Save A Life album cover\" class=\"album-image\" src=\"/images/albums/523/1cdf9fb4eec6127cc8c91fd9513b8bd7.jpg\"/></div></div>\n",
      "<div class=\"listalbum-item\"><a href=\"/lyrics/fray/sheis.html\">She Is</a> </div>\n",
      "<div class=\"listalbum-item\"><a href=\"/lyrics/fray/overmyheadcablecar.html\">Over My Head (Cable Car)</a> </div>\n",
      "<div class=\"listalbum-item\"><a href=\"/lyrics/fray/howtosavealife.html\">How To Save A Life</a> </div>\n",
      "<div class=\"listalbum-item\"><a href=\"/lyrics/fray/allatonce.html\">All At Once</a> </div>\n",
      "<div class=\"listalbum-item\"><a href=\"/lyrics/fray/fallaway.html\">Fall Away</a> </div>\n",
      "<div class=\"listalbum-item\"><a href=\"/lyrics/fray/heavenforbid.html\">Heaven Forbid</a> </div>\n",
      "<div class=\"listalbum-item\"><a href=\"/lyrics/fray/lookafteryou.html\">Look After You</a> </div>\n",
      "<div class=\"listalbum-item\"><a href=\"/lyrics/fray/hundred.html\">Hundred</a> </div>\n",
      "<div class=\"listalbum-item\"><a href=\"/lyrics/fray/vienna.html\">Vienna</a> </div>\n",
      "<div class=\"listalbum-item\"><a href=\"/lyrics/fray/deadwrong.html\">Dead Wrong</a> </div>\n",
      "<div class=\"listalbum-item\"><a href=\"/lyrics/fray/littlehouse.html\">Little House</a> </div>\n",
      "<div class=\"listalbum-item\"><a href=\"/lyrics/fray/trustme.html\">Trust Me</a> </div>\n",
      "</div>\n",
      "<!-- album songlists end -->\n",
      "<div class=\"panel songlist-panel noprint\">\n",
      "<div class=\"songinalbum_title\"><b>You May Also Like</b></div>\n",
      "<div class=\"listalbum-item\"><a href=\"https://www.azlyrics.com/lyrics/fiveforfighting/supermanitsnoteasy.html\">Five For Fighting - \"Superman (It's Not Easy)\"</a> <small>I can't stand to fly\n",
      "I'm not that naïve\n",
      "I'm just out to find\n",
      "The better part of me\n",
      "\n",
      "I'm more than a bird,\n",
      "I'm more than a plane\n",
      "I'm more than some pretty face beside a train\n",
      "It's not easy to be me\n",
      "\n",
      "I...</small></div>\n",
      "<div class=\"listalbum-item\"><a href=\"https://www.azlyrics.com/lyrics/redjumpsuitapparatus/yourguardianangel.html\">The Red Jumpsuit Apparatus - \"Your Guardian Angel\"</a> <small>When I see your smile\n",
      "Tears run down my face I can't replace\n",
      "And now that I'm strong I have figured out\n",
      "How this world turns cold and it breaks through my soul\n",
      "And I know I'll find deep inside me I...</small></div>\n",
      "<div class=\"listalbum-item\"><a href=\"https://www.azlyrics.com/lyrics/wheatus/teenagedirtbag.html\">Wheatus - \"Teenage Dirtbag\"</a> <small>Her name is Noelle\n",
      "I have a dream about her\n",
      "She rings my bell\n",
      "I got gym class in half an hour\n",
      "Oh, how she rocks\n",
      "In Keds and tube socks\n",
      "But she doesn't know who I am\n",
      "And she doesn't give a damn about...</small></div>\n",
      "<div class=\"listalbum-item\"><a href=\"https://www.azlyrics.com/lyrics/daughtry/overyou.html\">Daughtry - \"Over You\"</a> <small>Now that it's all said and done\n",
      "I can't believe you were the one\n",
      "To build me up then tear me down\n",
      "Like an old abandoned house\n",
      "And what you said when you left\n",
      "Just left me cold and out of breath\n",
      "I...</small></div>\n",
      "<div class=\"listalbum-item\"><a href=\"https://www.azlyrics.com/lyrics/matchbox20/brightlights.html\">Matchbox Twenty - \"Bright Lights\"</a> <small>She got out of town\n",
      "On a railway, New York bound\n",
      "Took all except my name\n",
      "Another alien out on Broadway\n",
      "\n",
      "There's some things in this world\n",
      "You just can't change\n",
      "Some things you can't see\n",
      "Until it gets...</small></div>\n",
      "</div>\n",
      "<form action=\"//search.azlyrics.com/search.php\" class=\"search noprint\" method=\"get\" role=\"search\">\n",
      "<div class=\"input-group\" style=\"margin-bottom:15px\">\n",
      "<input class=\"form-control\" name=\"q\" placeholder=\"\" type=\"text\"/>\n",
      "<span class=\"input-group-btn\">\n",
      "<button class=\"btn btn-primary\" type=\"submit\"><span class=\"glyphicon glyphicon-search\"></span> Search</button>\n",
      "</span>\n",
      "</div>\n",
      "</form>\n",
      "<div class=\"noprint\" style=\"margin-top:5px;margin-bottom:5px\">\n",
      "</div>\n",
      "</div> <!-- content -->\n",
      "<div class=\"col-lg-2 text-center hidden-md hidden-sm hidden-xs noprint\">\n",
      "<div class=\"sky-ad\"></div>\n",
      "</div>\n",
      "</div>\n",
      "</div> <!-- container main-page -->\n",
      "<!-- nav bottom -->\n",
      "<nav class=\"navbar navbar-default navbar-bottom\">\n",
      "<div class=\"container text-center\">\n",
      "<ul class=\"nav navbar-nav navbar-center\">\n",
      "<li><a href=\"#\" onclick=\"submitAdded()\">Submit Lyrics</a></li>\n",
      "<li><a href=\"//www.stlyrics.com\">Soundtracks</a></li>\n",
      "<li><a href=\"//www.facebook.com/pages/AZLyricscom/154139197951223\">Facebook</a></li>\n",
      "<li><a href=\"//www.azlyrics.com/contact.html\">Contact Us</a></li>\n",
      "</ul>\n",
      "</div>\n",
      "</nav>\n",
      "<!-- footer -->\n",
      "<nav class=\"navbar navbar-footer noprint\">\n",
      "<div class=\"container text-center\">\n",
      "<ul class=\"nav navbar-nav navbar-center\">\n",
      "<li><a href=\"//www.azlyrics.com/adv.html\">Advertise Here</a></li>\n",
      "<li><a href=\"//www.azlyrics.com/privacy.html\">Privacy Policy</a></li>\n",
      "<li><a href=\"//www.azlyrics.com/cookie.html\">Cookie Policy</a></li>\n",
      "<li><a href=\"//www.azlyrics.com/copyright.html\">DMCA Policy</a></li>\n",
      "</ul>\n",
      "</div>\n",
      "</nav>\n",
      "<div class=\"footer-wrap\">\n",
      "<div class=\"container\">\n",
      "<div class=\"noprint\"><span style=\"font-weight:bold;line-height:54px;vertical-align:top;\">Lyrics licensed by </span><img alt=\"MusixMatch\" height=\"54\" src=\"//www.azlyrics.com/images/mxm.png\" width=\"184\"/></div>\n",
      "<small>\n",
      "<script type=\"text/javascript\">\n",
      "                curdate=new Date();\n",
      "                document.write(\"<strong>Copyright &copy; 2000-\"+curdate.getFullYear()+\" AZLyrics.com<\\/strong>\");\n",
      "             </script>\n",
      "</small>\n",
      "</div>\n",
      "</div>\n",
      "<!-- iOS Exit Interstitial -->\n",
      "<div id=\"amplified_100006366\"></div>\n",
      "<!-- Desktop Exit Interstitial -->\n",
      "<div id=\"amplified_100006383\"></div>\n",
      "<div class=\"hidden\" id=\"CssFailCheck\" style=\"height:1px;\"></div>\n",
      "<script src=\"https://ajax.googleapis.com/ajax/libs/jquery/1.12.4/jquery.min.js\"></script>\n",
      "<script>window.jQuery || document.write('<script src=\"//www.azlyrics.com/local/jquery.min.js\"><\\/script>')</script>\n",
      "<script>\n",
      "      $(function () {\n",
      "       if ($('#CssFailCheck').is(':visible') === true) {\n",
      "         $('<link rel=\"stylesheet\" type=\"text/css\" href=\"//www.azlyrics.com/bs/css/bootstrap.min.css\"><link rel=\"stylesheet\" href=\"//www.azlyrics.com/bsaz.css\">').appendTo('head');\n",
      "       }\n",
      "      });\n",
      "    </script>\n",
      "<script>\n",
      "    cf_page_artist = ArtistName;\n",
      "    cf_page_song = SongName;\n",
      "    cf_page_genre = \"pop\";\n",
      "    cf_no_bit = 0;\n",
      "    </script>\n",
      "<script src=\"/local/anew.js\"></script>\n",
      "<script src=\"/local/az.js\"></script>\n",
      "<script src=\"/geo.js\"></script>\n",
      "<script src=\"https://tracking.musixmatch.com/t1.0/m_js/e_0/sn_0/l_8094819/su_0/rs_0/tr_3vUCAJ3eCF7S3aiMtrvM9C6gEsLnWAGsXEYJlGcc1YVw4IEWD9lM4Cb7d1alpH7TQD67o79t3ccwxPxH5nvkb0m8TpnrXeDAb5cgQ4yNOozHb6GXB_2gWuhuNqHq3Kj5aDZCKrgj6mTSijIuxAEWkguTkxR39Ca_FKa3-UjGyTsQ2rEGHnycKNnZ1DyKV79wlJ4qIV_q4GNGOiry9p8BPArl23SfgAxixma1_ZL4p3Y6vPCv5YvhmEtVW360PsYUlM9d0F47xXzDUrKrAxjMJZ-nDFEbx9Y5l9ujMtVYPGAU_mDVf2QRYDd208HxBDzwXvoAdjjPd18iJbAiDsf2ieN62E66YcEqm5TABDvWeHrwNePcrna8J7gQG-HSOTyaRjcJVS3VMim4UGmNYyrqde2cYO20BqP6jfI1SeeXXRFKqDdDNSNMas_r09AQqQ721wdkz8G9POSZTC_rMdcqwg/\" type=\"text/javascript\"></script>\n",
      "</body>\n",
      "</html>\n",
      "\n"
     ]
    }
   ],
   "source": [
    "print(soup)"
   ]
  },
  {
   "cell_type": "markdown",
   "id": "a158cd7b-18d6-4f62-8232-345fb1c0fa1b",
   "metadata": {},
   "source": [
    "### Getting Artist Name from beautifulsoup object"
   ]
  },
  {
   "cell_type": "code",
   "execution_count": 9,
   "id": "e3ac6b17-4310-42d8-96c6-2170692ebb97",
   "metadata": {},
   "outputs": [],
   "source": [
    "tag = soup.b.get_text().replace(\"Lyrics\",'')"
   ]
  },
  {
   "cell_type": "code",
   "execution_count": 10,
   "id": "ca9f491b-b6c5-4cae-940b-211e9dbd4b78",
   "metadata": {},
   "outputs": [],
   "source": [
    "artist = tag.strip()"
   ]
  },
  {
   "cell_type": "code",
   "execution_count": 11,
   "id": "fe70e6eb-c7ce-40b7-b70e-c22500ba2011",
   "metadata": {},
   "outputs": [
    {
     "name": "stdout",
     "output_type": "stream",
     "text": [
      "The Fray\n"
     ]
    }
   ],
   "source": [
    "print(artist)"
   ]
  },
  {
   "cell_type": "markdown",
   "id": "f8407ef5-829e-40c1-9c7c-d856342fff17",
   "metadata": {},
   "source": [
    "### How to get a song title using beautiful soup"
   ]
  },
  {
   "cell_type": "code",
   "execution_count": 12,
   "id": "e9399d6a-c3c7-481f-90ab-440347aa41ee",
   "metadata": {},
   "outputs": [],
   "source": [
    "title = soup.title.get_text()"
   ]
  },
  {
   "cell_type": "code",
   "execution_count": 13,
   "id": "d2e4d1b6-5177-4504-9c20-86e90cfd0cdb",
   "metadata": {},
   "outputs": [],
   "source": [
    "title3 = title.split(\"Lyrics\")"
   ]
  },
  {
   "cell_type": "code",
   "execution_count": 14,
   "id": "b1574db7-6d2d-4e9a-a816-f20624ac0531",
   "metadata": {},
   "outputs": [],
   "source": [
    "song_title = title3[0].replace('The Fray - ', '').strip()"
   ]
  },
  {
   "cell_type": "code",
   "execution_count": 15,
   "id": "97d5e062-2f8e-4ae1-8f85-dcff07ad6e9a",
   "metadata": {},
   "outputs": [
    {
     "name": "stdout",
     "output_type": "stream",
     "text": [
      "Over My Head (Cable Car)\n"
     ]
    }
   ],
   "source": [
    "print(song_title)"
   ]
  },
  {
   "cell_type": "markdown",
   "id": "68ea19c0-5dd1-43e8-a71a-9ff7610d8369",
   "metadata": {},
   "source": [
    "### How to get the album title and year"
   ]
  },
  {
   "cell_type": "code",
   "execution_count": 16,
   "id": "3e725da9-a321-40e4-a111-7e9caa3e72cc",
   "metadata": {},
   "outputs": [],
   "source": [
    "#get the album title from the beautiful soup object\n",
    "test3 = soup.find('div', class_='songinalbum_title').get_text(strip=True)"
   ]
  },
  {
   "cell_type": "code",
   "execution_count": 17,
   "id": "c32fb5a4-c6d4-4095-b0a0-96e021f76843",
   "metadata": {},
   "outputs": [
    {
     "name": "stdout",
     "output_type": "stream",
     "text": [
      "album:\"How To Save A Life\"(2005)\n"
     ]
    }
   ],
   "source": [
    "print(test3)"
   ]
  },
  {
   "cell_type": "code",
   "execution_count": 18,
   "id": "2394a8d7-b386-41c4-aa36-1b6c2b530704",
   "metadata": {},
   "outputs": [],
   "source": [
    "test4 = test3.replace('\"', '') #remove the quotes from the test string"
   ]
  },
  {
   "cell_type": "code",
   "execution_count": 19,
   "id": "b37f403c-c524-4c49-860c-fe2bc72eea5f",
   "metadata": {},
   "outputs": [],
   "source": [
    "test4 = test4.replace(\"album:\", '') #remove the word \"album:\" from the string"
   ]
  },
  {
   "cell_type": "code",
   "execution_count": 20,
   "id": "a13d1f86-d5ee-4a1d-b77d-9ff22697a0f2",
   "metadata": {},
   "outputs": [],
   "source": [
    "test5 = test4.split(\"(\") #split into a tuple using the first parenthesis"
   ]
  },
  {
   "cell_type": "code",
   "execution_count": 21,
   "id": "f0a7cbde-9fba-4a14-b50d-11f4e383e369",
   "metadata": {},
   "outputs": [],
   "source": [
    "album_title = test5[0]\n",
    "album_year = test5[1].replace(\")\",'') #save as two variables (album title and album year)"
   ]
  },
  {
   "cell_type": "code",
   "execution_count": 22,
   "id": "5be2c8ba-a260-47c2-b3e5-ac68a2cf8cb5",
   "metadata": {},
   "outputs": [
    {
     "name": "stdout",
     "output_type": "stream",
     "text": [
      "How To Save A Life 2005\n"
     ]
    }
   ],
   "source": [
    "print(album_title, album_year)"
   ]
  },
  {
   "cell_type": "markdown",
   "id": "ba830ecd-e1e5-43b5-8a95-9e501910a523",
   "metadata": {},
   "source": [
    "### Getting the Lyrics from the beautiful soup object"
   ]
  },
  {
   "cell_type": "code",
   "execution_count": 23,
   "id": "cd2ba84f-e403-44de-8021-69759d070edb",
   "metadata": {},
   "outputs": [],
   "source": [
    "lyrics = soup.select_one(\".ringtone ~ div\").get_text(strip=True, separator=\"\\n\")"
   ]
  },
  {
   "cell_type": "markdown",
   "id": "4e6c0116-3a7c-4e24-881a-4c5760e77580",
   "metadata": {},
   "source": [
    "### Create Dictionary with Song Title as the Key and the other informaiton as a list"
   ]
  },
  {
   "cell_type": "code",
   "execution_count": 24,
   "id": "df5a7d1e-9e51-4deb-947a-28cda8b88f60",
   "metadata": {},
   "outputs": [],
   "source": [
    "song_information = [artist, album_title, album_year, lyrics]"
   ]
  },
  {
   "cell_type": "code",
   "execution_count": 25,
   "id": "29c5568d-eb3e-4a41-90a3-686ce132b4af",
   "metadata": {},
   "outputs": [],
   "source": [
    "song_dict = {song_title:song_information}"
   ]
  },
  {
   "cell_type": "code",
   "execution_count": 26,
   "id": "0118e08e-710b-4901-b0c2-6eaf7c42b397",
   "metadata": {},
   "outputs": [],
   "source": [
    "#print(song_dict)"
   ]
  },
  {
   "cell_type": "markdown",
   "id": "b2e33d5b-338e-4d57-91be-caa507df6d6b",
   "metadata": {
    "jp-MarkdownHeadingCollapsed": true
   },
   "source": [
    "### Starting to create loops to get the rest of the song lyrics, going to try and get the song list from the fray landing page. "
   ]
  },
  {
   "cell_type": "code",
   "execution_count": 27,
   "id": "6ff072a4-fbae-446a-80df-f21fc498bf88",
   "metadata": {},
   "outputs": [],
   "source": [
    "fray_url = 'https://www.azlyrics.com/f/fray.html'"
   ]
  },
  {
   "cell_type": "code",
   "execution_count": 28,
   "id": "8fc0faa7-d20b-40b9-b682-9e0d59108ba1",
   "metadata": {},
   "outputs": [],
   "source": [
    "fray_response = requests.get(fray_url)"
   ]
  },
  {
   "cell_type": "code",
   "execution_count": 29,
   "id": "ba0827e9-7743-4d3f-b13c-85803d362749",
   "metadata": {},
   "outputs": [],
   "source": [
    "fray_all = BeautifulSoup(fray_response.content, 'html.parser')"
   ]
  },
  {
   "cell_type": "code",
   "execution_count": 30,
   "id": "c2122b74-4531-4aa3-91cf-c88d4fb15300",
   "metadata": {},
   "outputs": [
    {
     "name": "stdout",
     "output_type": "stream",
     "text": [
      "<!DOCTYPE html>\n",
      "\n",
      "<html lang=\"en\">\n",
      "<head>\n",
      "<meta charset=\"utf-8\"/>\n",
      "<meta content=\"IE=edge\" http-equiv=\"X-UA-Compatible\"/>\n",
      "<meta content=\"width=device-width, initial-scale=1\" name=\"viewport\"/>\n",
      "<!-- The above 3 meta tags *must* come first in the head; any other head content must come *after* these tags -->\n",
      "<meta content='The Fray lyrics - 77 song lyrics sorted by album, including \"Known You Always\", \"Look After You\", \"Angeleno Moon\".' name=\"description\"/>\n",
      "<meta content=\"The Fray, The Fray lyrics, discography, albums, songs\" name=\"keywords\"/>\n",
      "<meta content=\"noarchive\" name=\"robots\"/>\n",
      "<title>The Fray Lyrics</title>\n",
      "<link href=\"https://www.azlyrics.com/f/fray.html\" rel=\"canonical\"/>\n",
      "<link href=\"https://maxcdn.bootstrapcdn.com/bootstrap/3.3.4/css/bootstrap.min.css\" rel=\"stylesheet\"/>\n",
      "<link href=\"/local/az.css\" rel=\"stylesheet\"/>\n",
      "<!-- HTML5 shim and Respond.js for IE8 support of HTML5 elements and media queries -->\n",
      "<!--[if lt IE 9]>\n",
      "<script src=\"https://oss.maxcdn.com/html5shiv/3.7.2/html5shiv.min.js\"></script>\n",
      "<script src=\"https://oss.maxcdn.com/respond/1.4.2/respond.min.js\"></script>\n",
      "<![endif]-->\n",
      "<script type=\"text/javascript\">\n",
      "window.rtkGPTSlotsTargeting = [\n",
      "    [\n",
      "        [\"genre\", \"pop\"],\n",
      "        [\"artist\", \"The Fray\"]\n",
      "    ]\n",
      "];\n",
      "</script>\n",
      "<!-- Start WKND tag. Deploy at the beginning of document head. -->\n",
      "<!-- Tag for Bandsintown | AZ Lyrics (azlyrics.com) -->\n",
      "<script>\n",
      "\t(function(d) {\n",
      "\t\tvar e = d.createElement('script');\n",
      "\t\te.src = d.location.protocol + '//tag.wknd.ai/6284/i.js';\n",
      "\t\te.async = true;\n",
      "\t\td.getElementsByTagName(\"head\")[0].appendChild(e);\n",
      "\t}(document));\n",
      "</script>\n",
      "<!-- End WKND tag -->\n",
      "<!-- Google tag (gtag.js) -->\n",
      "<script async=\"\" src=\"https://www.googletagmanager.com/gtag/js?id=G-7DQK0JTQTQ\"></script>\n",
      "<script>\n",
      "  window.dataLayer = window.dataLayer || [];\n",
      "  function gtag(){dataLayer.push(arguments);}\n",
      "  gtag('js', new Date());\n",
      "\n",
      "  gtag('config', 'G-7DQK0JTQTQ');\n",
      "</script>\n",
      "<script async=\"\" charset=\"UTF-8\" data-domain-script=\"464b7175-7273-4e0f-8753-e9a483d4a156\" data-language=\"en\" src=\"https://cookie-cdn.cookiepro.com/scripttemplates/otSDKStub.js\" type=\"text/javascript\"></script>\n",
      "<script type=\"text/javascript\">\n",
      "function OptanonWrapper() { }\n",
      "</script>\n",
      "<script type=\"text/javascript\">\n",
      "ArtistName = \"The Fray\";\n",
      "</script>\n",
      "<script data-cfasync=\"false\" type=\"text/javascript\">\n",
      "  (()=>{\"use strict\";var t={455:(t,e,n)=>{n.d(e,{Z:()=>c});var r=n(81),o=n.n(r),i=n(645),a=n.n(i)()(o());a.push([t.id,'div._82u8vq{position:fixed;top:0;left:0;width:100%;height:100%;background:rgba(0,0,0,.4);z-index:999999}div._82u8vq *{box-sizing:border-box}div._82u8vq div.onnj2g{position:fixed;top:50%;left:50%;transform:translate(-50%, -50%);display:flex;flex-direction:column;justify-content:flex-start;min-height:25vh;width:50%;background-color:#fff;border:none;border-radius:1em;box-shadow:0 0 10px rgba(0,0,0,.3);text-align:center;font-size:13px;font-family:Arial,Helvetica,sans-serif;font-weight:bold;line-height:2;color:#000}div._82u8vq div.onnj2g *:before,div._82u8vq div.onnj2g *:after{content:\"\";display:none}@media screen and (max-width: 479px){div._82u8vq div.onnj2g{font-size:13px;width:90%}}@media screen and (min-width: 480px){div._82u8vq div.onnj2g{font-size:14px;width:80%}}@media screen and (min-width: 608px){div._82u8vq div.onnj2g{font-size:14px;width:70%}}@media screen and (min-width: 960px){div._82u8vq div.onnj2g{font-size:16px;width:70%}}@media screen and (min-width: 1200px){div._82u8vq div.onnj2g{font-size:16px;width:840px}}div._82u8vq div.onnj2g header{width:100%;background-color:rgba(0,0,0,0);border:0;color:inherit;display:block;font-size:1em;font-family:inherit;letter-spacing:normal;margin:0;opacity:1;outline:none;padding:1em 2em;position:static;text-align:center}div._82u8vq div.onnj2g header img{display:inline;margin:0 0 16px 0;padding:0;max-width:240px;max-height:60px}div._82u8vq div.onnj2g header h2{display:block;line-height:1.3;padding:0;font-family:inherit;font-weight:normal;font-style:normal;text-decoration:initial;text-align:center;font-size:1.75em;margin:0;color:inherit}div._82u8vq div.onnj2g header h2:not(img+*){margin-top:30px}div._82u8vq div.onnj2g header span._18hdrla{position:absolute;top:0;right:15px;font-size:2em;font-weight:normal;cursor:pointer;color:inherit}div._82u8vq div.onnj2g header span._18hdrla:hover{filter:brightness(115%)}div._82u8vq div.onnj2g section{width:100%;margin:0;padding:1em 2em;text-align:center;font-family:inherit;color:inherit;background:rgba(0,0,0,0)}div._82u8vq div.onnj2g section p{display:block;margin:0 0 1em 0;line-height:1.5;text-align:center;font-size:1em;font-family:inherit;color:inherit;overflow-wrap:break-word;font-weight:normal;font-style:normal;text-decoration:initial}div._82u8vq div.onnj2g section p:last-of-type{margin:0 0 1.5em 0}div._82u8vq div.onnj2g section._1myx4a0{display:block}div._82u8vq div.onnj2g section._1myx4a0._18mgeh5{display:none}div._82u8vq div.onnj2g section._1myx4a0 a._1ajq4u1.q1a6v7{color:var(--q1a6v7)}div._82u8vq div.onnj2g section._1myx4a0 a._1ajq4u1.d8c6ui{text-decoration:var(--d8c6ui)}div._82u8vq div.onnj2g section._1myx4a0 a._1ajq4u1._1bva2lo:visited{color:var(--_1bva2lo)}div._82u8vq div.onnj2g section._1myx4a0 div.qcqk63{display:block;margin:.75em;padding:0}div._82u8vq div.onnj2g section._1myx4a0 div.qcqk63 p._1jy32sx{max-width:80%;margin:0 auto;padding:0;font-size:.85em;color:inherit;font-style:normal;font-weight:normal;cursor:pointer}div._82u8vq div.onnj2g section.mjmqhi{display:block}div._82u8vq div.onnj2g section.mjmqhi._18mgeh5{display:none}div._82u8vq div.onnj2g section.mjmqhi h4.vza2sa{color:inherit;text-align:initial;font-weight:normal;font-family:inherit;font-size:1.125em;margin:0 0 .5em .5em}div._82u8vq div.onnj2g section.mjmqhi div._1n8syyr{display:flex;margin:1.5em 0}div._82u8vq div.onnj2g section.mjmqhi div._1n8syyr ul._12y6q83{max-height:300px;flex:2;list-style:none;overflow-y:auto;margin:0 1em 0 0;padding-inline-start:0}@media screen and (min-width: 608px){div._82u8vq div.onnj2g section.mjmqhi div._1n8syyr ul._12y6q83{flex:1;margin:0 2em 0 0}}div._82u8vq div.onnj2g section.mjmqhi div._1n8syyr ul._12y6q83 li{padding:.75em;cursor:pointer;background:rgba(0,0,0,.05);font-weight:bold}div._82u8vq div.onnj2g section.mjmqhi div._1n8syyr ul._12y6q83 li:hover{background:rgba(0,0,0,.075)}div._82u8vq div.onnj2g section.mjmqhi div._1n8syyr ul._12y6q83 li._2tqkhw{color:var(--_1s2p24r);background:var(--_1u8b67d)}div._82u8vq div.onnj2g section.mjmqhi div._1n8syyr div._10v9zkx{max-height:300px;overflow-y:auto;flex:3;display:flex;flex-direction:column;justify-content:space-between;text-align:initial}div._82u8vq div.onnj2g section.mjmqhi div._1n8syyr div._10v9zkx ol._1dz8w0r{display:none;list-style-type:decimal;text-align:initial;padding:0;margin:0 2em;font-weight:normal}div._82u8vq div.onnj2g section.mjmqhi div._1n8syyr div._10v9zkx ol._1dz8w0r._2tqkhw{display:block}div._82u8vq div.onnj2g section.mjmqhi div._1n8syyr div._10v9zkx p{margin:1em 0 0;text-align:inherit;font-style:italic}div._82u8vq div.onnj2g section.mjmqhi button.te00wf{font-size:1em;text-transform:initial}div._82u8vq div.onnj2g button._16i61up{width:auto;height:auto;max-width:90%;cursor:pointer;display:inline-block;letter-spacing:normal;margin:.75em;opacity:1;outline:none;overflow-wrap:break-word;font-family:inherit;font-weight:normal;font-style:normal;text-decoration:initial;text-transform:uppercase;text-align:center;color:#fff;font-size:1.15em;padding:.75em 2em;padding-inline:2em;padding-block:.75em;line-height:normal;background:#40c28a;border:none;border-radius:.25em;box-shadow:none}div._82u8vq div.onnj2g button._16i61up:hover{filter:brightness(115%);box-shadow:none}div._82u8vq div.onnj2g a._1o9k1ce{height:50px;width:50px;position:absolute;bottom:5px;right:5px}div._82u8vq div.onnj2g a._1o9k1ce img{position:initial;height:100%;width:100%;filter:drop-shadow(1px 1px 1px var(--_16xxoaz))}',\"\"]);const c=a},645:t=>{t.exports=function(t){var e=[];return e.toString=function(){return this.map((function(e){var n=\"\",r=void 0!==e[5];return e[4]&&(n+=\"@supports (\".concat(e[4],\") {\")),e[2]&&(n+=\"@media \".concat(e[2],\" {\")),r&&(n+=\"@layer\".concat(e[5].length>0?\" \".concat(e[5]):\"\",\" {\")),n+=t(e),r&&(n+=\"}\"),e[2]&&(n+=\"}\"),e[4]&&(n+=\"}\"),n})).join(\"\")},e.i=function(t,n,r,o,i){\"string\"==typeof t&&(t=[[null,t,void 0]]);var a={};if(r)for(var c=0;c<this.length;c++){var s=this[c][0];null!=s&&(a[s]=!0)}for(var u=0;u<t.length;u++){var l=[].concat(t[u]);r&&a[l[0]]||(void 0!==i&&(void 0===l[5]||(l[1]=\"@layer\".concat(l[5].length>0?\" \".concat(l[5]):\"\",\" {\").concat(l[1],\"}\")),l[5]=i),n&&(l[2]?(l[1]=\"@media \".concat(l[2],\" {\").concat(l[1],\"}\"),l[2]=n):l[2]=n),o&&(l[4]?(l[1]=\"@supports (\".concat(l[4],\") {\").concat(l[1],\"}\"),l[4]=o):l[4]=\"\".concat(o)),e.push(l))}},e}},81:t=>{t.exports=function(t){return t[1]}},379:t=>{var e=[];function n(t){for(var n=-1,r=0;r<e.length;r++)if(e[r].identifier===t){n=r;break}return n}function r(t,r){for(var i={},a=[],c=0;c<t.length;c++){var s=t[c],u=r.base?s[0]+r.base:s[0],l=i[u]||0,d=\"\".concat(u,\" \").concat(l);i[u]=l+1;var f=n(d),h={css:s[1],media:s[2],sourceMap:s[3],supports:s[4],layer:s[5]};if(-1!==f)e[f].references++,e[f].updater(h);else{var v=o(h,r);r.byIndex=c,e.splice(c,0,{identifier:d,updater:v,references:1})}a.push(d)}return a}function o(t,e){var n=e.domAPI(e);n.update(t);return function(e){if(e){if(e.css===t.css&&e.media===t.media&&e.sourceMap===t.sourceMap&&e.supports===t.supports&&e.layer===t.layer)return;n.update(t=e)}else n.remove()}}t.exports=function(t,o){var i=r(t=t||[],o=o||{});return function(t){t=t||[];for(var a=0;a<i.length;a++){var c=n(i[a]);e[c].references--}for(var s=r(t,o),u=0;u<i.length;u++){var l=n(i[u]);0===e[l].references&&(e[l].updater(),e.splice(l,1))}i=s}}},569:t=>{var e={};t.exports=function(t,n){var r=function(t){if(void 0===e[t]){var n=document.querySelector(t);if(window.HTMLIFrameElement&&n instanceof window.HTMLIFrameElement)try{n=n.contentDocument.head}catch(t){n=null}e[t]=n}return e[t]}(t);if(!r)throw new Error(\"Couldn't find a style target. This probably means that the value for the 'insert' parameter is invalid.\");r.appendChild(n)}},216:t=>{t.exports=function(t){var e=document.createElement(\"style\");return t.setAttributes(e,t.attributes),t.insert(e,t.options),e}},565:(t,e,n)=>{t.exports=function(t){var e=n.nc;e&&t.setAttribute(\"nonce\",e)}},795:t=>{t.exports=function(t){if(\"undefined\"==typeof document)return{update:function(){},remove:function(){}};var e=t.insertStyleElement(t);return{update:function(n){!function(t,e,n){var r=\"\";n.supports&&(r+=\"@supports (\".concat(n.supports,\") {\")),n.media&&(r+=\"@media \".concat(n.media,\" {\"));var o=void 0!==n.layer;o&&(r+=\"@layer\".concat(n.layer.length>0?\" \".concat(n.layer):\"\",\" {\")),r+=n.css,o&&(r+=\"}\"),n.media&&(r+=\"}\"),n.supports&&(r+=\"}\");var i=n.sourceMap;i&&\"undefined\"!=typeof btoa&&(r+=\"\\n/*# sourceMappingURL=data:application/json;base64,\".concat(btoa(unescape(encodeURIComponent(JSON.stringify(i)))),\" */\")),e.styleTagTransform(r,t,e.options)}(e,t,n)},remove:function(){!function(t){if(null===t.parentNode)return!1;t.parentNode.removeChild(t)}(e)}}}},589:t=>{t.exports=function(t,e){if(e.styleSheet)e.styleSheet.cssText=t;else{for(;e.firstChild;)e.removeChild(e.firstChild);e.appendChild(document.createTextNode(t))}}}},e={};function n(r){var o=e[r];if(void 0!==o)return o.exports;var i=e[r]={id:r,exports:{}};return t[r](i,i.exports,n),i.exports}n.n=t=>{var e=t&&t.__esModule?()=>t.default:()=>t;return n.d(e,{a:e}),e},n.d=(t,e)=>{for(var r in e)n.o(e,r)&&!n.o(t,r)&&Object.defineProperty(t,r,{enumerable:!0,get:e[r]})},n.o=(t,e)=>Object.prototype.hasOwnProperty.call(t,e),n.nc=void 0,(()=>{const t={randomUUID:\"undefined\"!=typeof crypto&&crypto.randomUUID&&crypto.randomUUID.bind(crypto)};let e;const r=new Uint8Array(16);function o(){if(!e&&(e=\"undefined\"!=typeof crypto&&crypto.getRandomValues&&crypto.getRandomValues.bind(crypto),!e))throw new Error(\"crypto.getRandomValues() not supported. See https://github.com/uuidjs/uuid#getrandomvalues-not-supported\");return e(r)}const i=[];for(let t=0;t<256;++t)i.push((t+256).toString(16).slice(1));function a(t,e=0){return(i[t[e+0]]+i[t[e+1]]+i[t[e+2]]+i[t[e+3]]+\"-\"+i[t[e+4]]+i[t[e+5]]+\"-\"+i[t[e+6]]+i[t[e+7]]+\"-\"+i[t[e+8]]+i[t[e+9]]+\"-\"+i[t[e+10]]+i[t[e+11]]+i[t[e+12]]+i[t[e+13]]+i[t[e+14]]+i[t[e+15]]).toLowerCase()}const c=function(e,n,r){if(t.randomUUID&&!n&&!e)return t.randomUUID();const i=(e=e||{}).random||(e.rng||o)();if(i[6]=15&i[6]|64,i[8]=63&i[8]|128,n){r=r||0;for(let t=0;t<16;++t)n[r+t]=i[t];return n}return a(i)};var s=n(379),u=n.n(s),l=n(795),d=n.n(l),f=n(569),h=n.n(f),v=n(565),p=n.n(v),m=n(216),y=n.n(m),g=n(589),w=n.n(g),b=n(455),x={};x.styleTagTransform=w(),x.setAttributes=p(),x.insert=h().bind(null,\"head\"),x.domAPI=d(),x.insertStyleElement=y();u()(b.Z,x);b.Z&&b.Z.locals&&b.Z.locals;function k(t){return k=\"function\"==typeof Symbol&&\"symbol\"==typeof Symbol.iterator?function(t){return typeof t}:function(t){return t&&\"function\"==typeof Symbol&&t.constructor===Symbol&&t!==Symbol.prototype?\"symbol\":typeof t},k(t)}function L(){L=function(){return e};var t,e={},n=Object.prototype,r=n.hasOwnProperty,o=Object.defineProperty||function(t,e,n){t[e]=n.value},i=\"function\"==typeof Symbol?Symbol:{},a=i.iterator||\"@@iterator\",c=i.asyncIterator||\"@@asyncIterator\",s=i.toStringTag||\"@@toStringTag\";function u(t,e,n){return Object.defineProperty(t,e,{value:n,enumerable:!0,configurable:!0,writable:!0}),t[e]}try{u({},\"\")}catch(t){u=function(t,e,n){return t[e]=n}}function l(t,e,n,r){var i=e&&e.prototype instanceof y?e:y,a=Object.create(i.prototype),c=new Y(r||[]);return o(a,\"_invoke\",{value:A(t,n,c)}),a}function d(t,e,n){try{return{type:\"normal\",arg:t.call(e,n)}}catch(t){return{type:\"throw\",arg:t}}}e.wrap=l;var f=\"suspendedStart\",h=\"suspendedYield\",v=\"executing\",p=\"completed\",m={};function y(){}function g(){}function w(){}var b={};u(b,a,(function(){return this}));var x=Object.getPrototypeOf,j=x&&x(x(T([])));j&&j!==n&&r.call(j,a)&&(b=j);var E=w.prototype=y.prototype=Object.create(b);function C(t){[\"next\",\"throw\",\"return\"].forEach((function(e){u(t,e,(function(t){return this._invoke(e,t)}))}))}function S(t,e){function n(o,i,a,c){var s=d(t[o],t,i);if(\"throw\"!==s.type){var u=s.arg,l=u.value;return l&&\"object\"==k(l)&&r.call(l,\"__await\")?e.resolve(l.__await).then((function(t){n(\"next\",t,a,c)}),(function(t){n(\"throw\",t,a,c)})):e.resolve(l).then((function(t){u.value=t,a(u)}),(function(t){return n(\"throw\",t,a,c)}))}c(s.arg)}var i;o(this,\"_invoke\",{value:function(t,r){function o(){return new e((function(e,o){n(t,r,e,o)}))}return i=i?i.then(o,o):o()}})}function A(e,n,r){var o=f;return function(i,a){if(o===v)throw new Error(\"Generator is already running\");if(o===p){if(\"throw\"===i)throw a;return{value:t,done:!0}}for(r.method=i,r.arg=a;;){var c=r.delegate;if(c){var s=I(c,r);if(s){if(s===m)continue;return s}}if(\"next\"===r.method)r.sent=r._sent=r.arg;else if(\"throw\"===r.method){if(o===f)throw o=p,r.arg;r.dispatchException(r.arg)}else\"return\"===r.method&&r.abrupt(\"return\",r.arg);o=v;var u=d(e,n,r);if(\"normal\"===u.type){if(o=r.done?p:h,u.arg===m)continue;return{value:u.arg,done:r.done}}\"throw\"===u.type&&(o=p,r.method=\"throw\",r.arg=u.arg)}}}function I(e,n){var r=n.method,o=e.iterator[r];if(o===t)return n.delegate=null,\"throw\"===r&&e.iterator.return&&(n.method=\"return\",n.arg=t,I(e,n),\"throw\"===n.method)||\"return\"!==r&&(n.method=\"throw\",n.arg=new TypeError(\"The iterator does not provide a '\"+r+\"' method\")),m;var i=d(o,e.iterator,n.arg);if(\"throw\"===i.type)return n.method=\"throw\",n.arg=i.arg,n.delegate=null,m;var a=i.arg;return a?a.done?(n[e.resultName]=a.value,n.next=e.nextLoc,\"return\"!==n.method&&(n.method=\"next\",n.arg=t),n.delegate=null,m):a:(n.method=\"throw\",n.arg=new TypeError(\"iterator result is not an object\"),n.delegate=null,m)}function q(t){var e={tryLoc:t[0]};1 in t&&(e.catchLoc=t[1]),2 in t&&(e.finallyLoc=t[2],e.afterLoc=t[3]),this.tryEntries.push(e)}function P(t){var e=t.completion||{};e.type=\"normal\",delete e.arg,t.completion=e}function Y(t){this.tryEntries=[{tryLoc:\"root\"}],t.forEach(q,this),this.reset(!0)}function T(e){if(e||\"\"===e){var n=e[a];if(n)return n.call(e);if(\"function\"==typeof e.next)return e;if(!isNaN(e.length)){var o=-1,i=function n(){for(;++o<e.length;)if(r.call(e,o))return n.value=e[o],n.done=!1,n;return n.value=t,n.done=!0,n};return i.next=i}}throw new TypeError(k(e)+\" is not iterable\")}return g.prototype=w,o(E,\"constructor\",{value:w,configurable:!0}),o(w,\"constructor\",{value:g,configurable:!0}),g.displayName=u(w,s,\"GeneratorFunction\"),e.isGeneratorFunction=function(t){var e=\"function\"==typeof t&&t.constructor;return!!e&&(e===g||\"GeneratorFunction\"===(e.displayName||e.name))},e.mark=function(t){return Object.setPrototypeOf?Object.setPrototypeOf(t,w):(t.__proto__=w,u(t,s,\"GeneratorFunction\")),t.prototype=Object.create(E),t},e.awrap=function(t){return{__await:t}},C(S.prototype),u(S.prototype,c,(function(){return this})),e.AsyncIterator=S,e.async=function(t,n,r,o,i){void 0===i&&(i=Promise);var a=new S(l(t,n,r,o),i);return e.isGeneratorFunction(n)?a:a.next().then((function(t){return t.done?t.value:a.next()}))},C(E),u(E,s,\"Generator\"),u(E,a,(function(){return this})),u(E,\"toString\",(function(){return\"[object Generator]\"})),e.keys=function(t){var e=Object(t),n=[];for(var r in e)n.push(r);return n.reverse(),function t(){for(;n.length;){var r=n.pop();if(r in e)return t.value=r,t.done=!1,t}return t.done=!0,t}},e.values=T,Y.prototype={constructor:Y,reset:function(e){if(this.prev=0,this.next=0,this.sent=this._sent=t,this.done=!1,this.delegate=null,this.method=\"next\",this.arg=t,this.tryEntries.forEach(P),!e)for(var n in this)\"t\"===n.charAt(0)&&r.call(this,n)&&!isNaN(+n.slice(1))&&(this[n]=t)},stop:function(){this.done=!0;var t=this.tryEntries[0].completion;if(\"throw\"===t.type)throw t.arg;return this.rval},dispatchException:function(e){if(this.done)throw e;var n=this;function o(r,o){return c.type=\"throw\",c.arg=e,n.next=r,o&&(n.method=\"next\",n.arg=t),!!o}for(var i=this.tryEntries.length-1;i>=0;--i){var a=this.tryEntries[i],c=a.completion;if(\"root\"===a.tryLoc)return o(\"end\");if(a.tryLoc<=this.prev){var s=r.call(a,\"catchLoc\"),u=r.call(a,\"finallyLoc\");if(s&&u){if(this.prev<a.catchLoc)return o(a.catchLoc,!0);if(this.prev<a.finallyLoc)return o(a.finallyLoc)}else if(s){if(this.prev<a.catchLoc)return o(a.catchLoc,!0)}else{if(!u)throw new Error(\"try statement without catch or finally\");if(this.prev<a.finallyLoc)return o(a.finallyLoc)}}}},abrupt:function(t,e){for(var n=this.tryEntries.length-1;n>=0;--n){var o=this.tryEntries[n];if(o.tryLoc<=this.prev&&r.call(o,\"finallyLoc\")&&this.prev<o.finallyLoc){var i=o;break}}i&&(\"break\"===t||\"continue\"===t)&&i.tryLoc<=e&&e<=i.finallyLoc&&(i=null);var a=i?i.completion:{};return a.type=t,a.arg=e,i?(this.method=\"next\",this.next=i.finallyLoc,m):this.complete(a)},complete:function(t,e){if(\"throw\"===t.type)throw t.arg;return\"break\"===t.type||\"continue\"===t.type?this.next=t.arg:\"return\"===t.type?(this.rval=this.arg=t.arg,this.method=\"return\",this.next=\"end\"):\"normal\"===t.type&&e&&(this.next=e),m},finish:function(t){for(var e=this.tryEntries.length-1;e>=0;--e){var n=this.tryEntries[e];if(n.finallyLoc===t)return this.complete(n.completion,n.afterLoc),P(n),m}},catch:function(t){for(var e=this.tryEntries.length-1;e>=0;--e){var n=this.tryEntries[e];if(n.tryLoc===t){var r=n.completion;if(\"throw\"===r.type){var o=r.arg;P(n)}return o}}throw new Error(\"illegal catch attempt\")},delegateYield:function(e,n,r){return this.delegate={iterator:T(e),resultName:n,nextLoc:r},\"next\"===this.method&&(this.arg=t),m}},e}function j(t,e,n,r,o,i,a){try{var c=t[i](a),s=c.value}catch(t){return void n(t)}c.done?e(s):Promise.resolve(s).then(r,o)}var E=\"ZnMtYWRiLWVycg\",C=function(){var t,e=(t=L().mark((function t(){var e,n,r,o,i;return L().wrap((function(t){for(;;)switch(t.prev=t.next){case 0:if(document.body){t.next=3;break}return t.next=3,new Promise((function(t){return document.addEventListener(\"DOMContentLoaded\",t)}));case 3:for(e=[\"YWQ=\",\"YmFubmVyLWFk\",\"YmFubmVyX2Fk\",\"YmFubmVyLWFkLWNvbnRhaW5lcg==\",\"YWQtc2lkZXJhaWw=\",\"c3RpY2t5YWRz\",\"aW1wcnRudC1jbnQ=\"],(n=document.createElement(\"div\")).textContent=Math.random().toString(),n.setAttribute(atob(\"ZGF0YS1mcmVlc3Rhci1hZA==\"),\"123\"),r=0;r<e.length;r++)n.classList.add(atob(e[r]));if(n.style.display=\"block\",document.body.appendChild(n),o=window.getComputedStyle(n),i=null==o?void 0:o.display,n.remove(),\"none\"!==i){t.next=15;break}throw new Error(E);case 15:case\"end\":return t.stop()}}),t)})),function(){var e=this,n=arguments;return new Promise((function(r,o){var i=t.apply(e,n);function a(t){j(i,r,o,a,c,\"next\",t)}function c(t){j(i,r,o,a,c,\"throw\",t)}a(void 0)}))});return function(){return e.apply(this,arguments)}}(),S=function(t){return new Promise((function(e,n){var r=document.createElement(\"script\");try{r.src=t,r.addEventListener(\"load\",(function(){e()})),r.addEventListener(\"error\",(function(){n(E)})),document.head.appendChild(r)}catch(t){n(t)}finally{r.remove()}}))};function A(t){return A=\"function\"==typeof Symbol&&\"symbol\"==typeof Symbol.iterator?function(t){return typeof t}:function(t){return t&&\"function\"==typeof Symbol&&t.constructor===Symbol&&t!==Symbol.prototype?\"symbol\":typeof t},A(t)}function I(){I=function(){return e};var t,e={},n=Object.prototype,r=n.hasOwnProperty,o=Object.defineProperty||function(t,e,n){t[e]=n.value},i=\"function\"==typeof Symbol?Symbol:{},a=i.iterator||\"@@iterator\",c=i.asyncIterator||\"@@asyncIterator\",s=i.toStringTag||\"@@toStringTag\";function u(t,e,n){return Object.defineProperty(t,e,{value:n,enumerable:!0,configurable:!0,writable:!0}),t[e]}try{u({},\"\")}catch(t){u=function(t,e,n){return t[e]=n}}function l(t,e,n,r){var i=e&&e.prototype instanceof y?e:y,a=Object.create(i.prototype),c=new Y(r||[]);return o(a,\"_invoke\",{value:C(t,n,c)}),a}function d(t,e,n){try{return{type:\"normal\",arg:t.call(e,n)}}catch(t){return{type:\"throw\",arg:t}}}e.wrap=l;var f=\"suspendedStart\",h=\"suspendedYield\",v=\"executing\",p=\"completed\",m={};function y(){}function g(){}function w(){}var b={};u(b,a,(function(){return this}));var x=Object.getPrototypeOf,k=x&&x(x(T([])));k&&k!==n&&r.call(k,a)&&(b=k);var L=w.prototype=y.prototype=Object.create(b);function j(t){[\"next\",\"throw\",\"return\"].forEach((function(e){u(t,e,(function(t){return this._invoke(e,t)}))}))}function E(t,e){function n(o,i,a,c){var s=d(t[o],t,i);if(\"throw\"!==s.type){var u=s.arg,l=u.value;return l&&\"object\"==A(l)&&r.call(l,\"__await\")?e.resolve(l.__await).then((function(t){n(\"next\",t,a,c)}),(function(t){n(\"throw\",t,a,c)})):e.resolve(l).then((function(t){u.value=t,a(u)}),(function(t){return n(\"throw\",t,a,c)}))}c(s.arg)}var i;o(this,\"_invoke\",{value:function(t,r){function o(){return new e((function(e,o){n(t,r,e,o)}))}return i=i?i.then(o,o):o()}})}function C(e,n,r){var o=f;return function(i,a){if(o===v)throw new Error(\"Generator is already running\");if(o===p){if(\"throw\"===i)throw a;return{value:t,done:!0}}for(r.method=i,r.arg=a;;){var c=r.delegate;if(c){var s=S(c,r);if(s){if(s===m)continue;return s}}if(\"next\"===r.method)r.sent=r._sent=r.arg;else if(\"throw\"===r.method){if(o===f)throw o=p,r.arg;r.dispatchException(r.arg)}else\"return\"===r.method&&r.abrupt(\"return\",r.arg);o=v;var u=d(e,n,r);if(\"normal\"===u.type){if(o=r.done?p:h,u.arg===m)continue;return{value:u.arg,done:r.done}}\"throw\"===u.type&&(o=p,r.method=\"throw\",r.arg=u.arg)}}}function S(e,n){var r=n.method,o=e.iterator[r];if(o===t)return n.delegate=null,\"throw\"===r&&e.iterator.return&&(n.method=\"return\",n.arg=t,S(e,n),\"throw\"===n.method)||\"return\"!==r&&(n.method=\"throw\",n.arg=new TypeError(\"The iterator does not provide a '\"+r+\"' method\")),m;var i=d(o,e.iterator,n.arg);if(\"throw\"===i.type)return n.method=\"throw\",n.arg=i.arg,n.delegate=null,m;var a=i.arg;return a?a.done?(n[e.resultName]=a.value,n.next=e.nextLoc,\"return\"!==n.method&&(n.method=\"next\",n.arg=t),n.delegate=null,m):a:(n.method=\"throw\",n.arg=new TypeError(\"iterator result is not an object\"),n.delegate=null,m)}function q(t){var e={tryLoc:t[0]};1 in t&&(e.catchLoc=t[1]),2 in t&&(e.finallyLoc=t[2],e.afterLoc=t[3]),this.tryEntries.push(e)}function P(t){var e=t.completion||{};e.type=\"normal\",delete e.arg,t.completion=e}function Y(t){this.tryEntries=[{tryLoc:\"root\"}],t.forEach(q,this),this.reset(!0)}function T(e){if(e||\"\"===e){var n=e[a];if(n)return n.call(e);if(\"function\"==typeof e.next)return e;if(!isNaN(e.length)){var o=-1,i=function n(){for(;++o<e.length;)if(r.call(e,o))return n.value=e[o],n.done=!1,n;return n.value=t,n.done=!0,n};return i.next=i}}throw new TypeError(A(e)+\" is not iterable\")}return g.prototype=w,o(L,\"constructor\",{value:w,configurable:!0}),o(w,\"constructor\",{value:g,configurable:!0}),g.displayName=u(w,s,\"GeneratorFunction\"),e.isGeneratorFunction=function(t){var e=\"function\"==typeof t&&t.constructor;return!!e&&(e===g||\"GeneratorFunction\"===(e.displayName||e.name))},e.mark=function(t){return Object.setPrototypeOf?Object.setPrototypeOf(t,w):(t.__proto__=w,u(t,s,\"GeneratorFunction\")),t.prototype=Object.create(L),t},e.awrap=function(t){return{__await:t}},j(E.prototype),u(E.prototype,c,(function(){return this})),e.AsyncIterator=E,e.async=function(t,n,r,o,i){void 0===i&&(i=Promise);var a=new E(l(t,n,r,o),i);return e.isGeneratorFunction(n)?a:a.next().then((function(t){return t.done?t.value:a.next()}))},j(L),u(L,s,\"Generator\"),u(L,a,(function(){return this})),u(L,\"toString\",(function(){return\"[object Generator]\"})),e.keys=function(t){var e=Object(t),n=[];for(var r in e)n.push(r);return n.reverse(),function t(){for(;n.length;){var r=n.pop();if(r in e)return t.value=r,t.done=!1,t}return t.done=!0,t}},e.values=T,Y.prototype={constructor:Y,reset:function(e){if(this.prev=0,this.next=0,this.sent=this._sent=t,this.done=!1,this.delegate=null,this.method=\"next\",this.arg=t,this.tryEntries.forEach(P),!e)for(var n in this)\"t\"===n.charAt(0)&&r.call(this,n)&&!isNaN(+n.slice(1))&&(this[n]=t)},stop:function(){this.done=!0;var t=this.tryEntries[0].completion;if(\"throw\"===t.type)throw t.arg;return this.rval},dispatchException:function(e){if(this.done)throw e;var n=this;function o(r,o){return c.type=\"throw\",c.arg=e,n.next=r,o&&(n.method=\"next\",n.arg=t),!!o}for(var i=this.tryEntries.length-1;i>=0;--i){var a=this.tryEntries[i],c=a.completion;if(\"root\"===a.tryLoc)return o(\"end\");if(a.tryLoc<=this.prev){var s=r.call(a,\"catchLoc\"),u=r.call(a,\"finallyLoc\");if(s&&u){if(this.prev<a.catchLoc)return o(a.catchLoc,!0);if(this.prev<a.finallyLoc)return o(a.finallyLoc)}else if(s){if(this.prev<a.catchLoc)return o(a.catchLoc,!0)}else{if(!u)throw new Error(\"try statement without catch or finally\");if(this.prev<a.finallyLoc)return o(a.finallyLoc)}}}},abrupt:function(t,e){for(var n=this.tryEntries.length-1;n>=0;--n){var o=this.tryEntries[n];if(o.tryLoc<=this.prev&&r.call(o,\"finallyLoc\")&&this.prev<o.finallyLoc){var i=o;break}}i&&(\"break\"===t||\"continue\"===t)&&i.tryLoc<=e&&e<=i.finallyLoc&&(i=null);var a=i?i.completion:{};return a.type=t,a.arg=e,i?(this.method=\"next\",this.next=i.finallyLoc,m):this.complete(a)},complete:function(t,e){if(\"throw\"===t.type)throw t.arg;return\"break\"===t.type||\"continue\"===t.type?this.next=t.arg:\"return\"===t.type?(this.rval=this.arg=t.arg,this.method=\"return\",this.next=\"end\"):\"normal\"===t.type&&e&&(this.next=e),m},finish:function(t){for(var e=this.tryEntries.length-1;e>=0;--e){var n=this.tryEntries[e];if(n.finallyLoc===t)return this.complete(n.completion,n.afterLoc),P(n),m}},catch:function(t){for(var e=this.tryEntries.length-1;e>=0;--e){var n=this.tryEntries[e];if(n.tryLoc===t){var r=n.completion;if(\"throw\"===r.type){var o=r.arg;P(n)}return o}}throw new Error(\"illegal catch attempt\")},delegateYield:function(e,n,r){return this.delegate={iterator:T(e),resultName:n,nextLoc:r},\"next\"===this.method&&(this.arg=t),m}},e}function q(t,e,n,r,o,i,a){try{var c=t[i](a),s=c.value}catch(t){return void n(t)}c.done?e(s):Promise.resolve(s).then(r,o)}function P(t){return function(){var e=this,n=arguments;return new Promise((function(r,o){var i=t.apply(e,n);function a(t){q(i,r,o,a,c,\"next\",t)}function c(t){q(i,r,o,a,c,\"throw\",t)}a(void 0)}))}}function Y(t,e){for(var n=0;n<e.length;n++){var r=e[n];r.enumerable=r.enumerable||!1,r.configurable=!0,\"value\"in r&&(r.writable=!0),Object.defineProperty(t,(o=r.key,i=void 0,i=function(t,e){if(\"object\"!==A(t)||null===t)return t;var n=t[Symbol.toPrimitive];if(void 0!==n){var r=n.call(t,e||\"default\");if(\"object\"!==A(r))return r;throw new TypeError(\"@@toPrimitive must return a primitive value.\")}return(\"string\"===e?String:Number)(t)}(o,\"string\"),\"symbol\"===A(i)?i:String(i)),r)}var o,i}var T=function(){function t(e){!function(t,e){if(!(t instanceof e))throw new TypeError(\"Cannot call a class as a function\")}(this,t),this.config=null,this.langCode=null,this.languages=this.getUserPreferredLanguages(e)}var e,n,r,o,i,a;return e=t,n=[{key:\"init\",value:(a=P(I().mark((function t(){return I().wrap((function(t){for(;;)switch(t.prev=t.next){case 0:return t.next=2,this.fetchConfig();case 2:this.config=t.sent,null!==this.config&&(this.langCode=this.getFirstSupportedLanguage(this.languages),this.observe());case 4:case\"end\":return t.stop()}}),t,this)}))),function(){return a.apply(this,arguments)})},{key:\"fetchConfig\",value:(i=P(I().mark((function t(){var e,n,r,o,i,a;return I().wrap((function(t){for(;;)switch(t.prev=t.next){case 0:return n=(e=[\"Y29uZmlnLmNvbnRlbnQtc2V0dGluZ3MuY29t\",\"Y29uZmlnLnNpdGUtY29uZmlnLmNvbQ==\",\"29uZmlnLmZyZmlndXJlcy5jb20=\"]).length-1,r=Number.isNaN(Number(localStorage.getItem(\"fs.cdi\")))?0:Number(localStorage.getItem(\"fs.cdi\")),o=Number.isNaN(Number(localStorage.getItem(\"fs.cfc\")))?0:Number(localStorage.getItem(\"fs.cfc\")),i=atob(e[r]),a=\"https://\".concat(i,\"/azlyrics-com.json\"),t.prev=6,t.next=9,fetch(a);case 9:return t.abrupt(\"return\",t.sent.json());case 12:return t.prev=12,t.t0=t.catch(6),++o>=3&&(o=0,r++),r>n&&(r=0),t.abrupt(\"return\",null);case 18:return t.prev=18,localStorage.setItem(\"fs.cdi\",r),localStorage.setItem(\"fs.cfc\",o),t.finish(18);case 22:case\"end\":return t.stop()}}),t,null,[[6,12,18,22]])}))),function(){return i.apply(this,arguments)})},{key:\"killScroll\",value:function(t){if(t.isScrollDisabled){this.existingOverflow=document.body.style.overflow,document.body.style.overflow=\"hidden\";var e=window.pageYOffset||document.documentElement.scrollTop,n=window.pageXOffset||document.documentElement.scrollLeft;document.body.style.top=\"-\".concat(e,\"px\"),document.body.style.left=\"-\".concat(n,\"px\"),window.onscroll=function(){window.scrollTo(n,e)}}}},{key:\"reviveScroll\",value:function(){document.body.style.overflow=this.existingOverflow||\"\",window.onscroll=function(){}}},{key:\"getUserPreferredLanguages\",value:function(t){var e=t.languages,n=t.language,r=void 0===e?[n]:e;if(r)return r.map((function(t){var e=t.trim().toLowerCase();if(!e.includes(\"zh\"))return e.split(/-|_/)[0];var n=e.split(/-|_/)[1];return\"zh\"===e||[\"hans\",\"cn\",\"sg\"].includes(n)?\"zh\":[\"hant\",\"hk\",\"mo\",\"tw\"].includes(n)?\"zh-hant\":void 0}))}},{key:\"getFirstSupportedLanguage\",value:function(t){var e=this,n=[\"title\",\"paragraphOne\",\"buttonText\"],r=t.find((function(t){return n.every((function(n){return!!e.config[n][t]}))}));return void 0!==r?r:\"en\"}},{key:\"getLocalizedTextContent\",value:function(t,e){var n,r=arguments.length>2&&void 0!==arguments[2]&&arguments[2],o=t[e];if(void 0===o)throw new Error(\"Config text not found for text key \".concat(e));return r?null!==(n=o[this.langCode])&&void 0!==n?n:o.en:o[this.langCode]}},{key:\"getPixelString\",value:function(t){return\"number\"==typeof t?\"\".concat(t,\"px\"):null}},{key:\"pickContrastingColorValue\",value:function(t,e,n){var r=t.substring(1,7);return.299*parseInt(r.substring(0,2),16)+.587*parseInt(r.substring(2,4),16)+.114*parseInt(r.substring(4,6),16)>=128?e:n}},{key:\"generateOverlay\",value:function(t){var e=this,n=t.siteId,r=t.isCloseEnabled,o=t.dismissDuration,i=t.dismissDurationPv,a=t.logoUrl,c=t.font,s=t.paragraphTwo,u=t.paragraphThree,l=t.closeText,d=t.linkText,f=t.linkUrl,h=t.textColor,v=t.headerTextColor,p=t.buttonTextColor,m=t.headerBgColor,y=t.bgColor,g=t.buttonBgColor,w=t.borderColor,b=t.borderWidth,x=t.borderRadius,k=t.closeButtonColor,L=t.closeTextColor,j=t.linkTextColor,E=t.linkTextDecoration,C=t.linkVisitedTextColor,S=t.hasFsBranding,A=t.disableInstructions,I=document.createElement(\"div\");I.style.setProperty(\"--_1u8b67d\",g||\"#40C28A\"),I.style.setProperty(\"--_1s2p24r\",p||\"#000000\"),I.style.setProperty(\"--_16xxoaz\",this.pickContrastingColorValue(y||\"#FFFFFF\",\"white\",\"black\")),j&&I.style.setProperty(\"--q1a6v7\",j),C&&I.style.setProperty(\"--_1bva2lo\",C),E&&I.style.setProperty(\"--d8c6ui\",E),I.classList.add(\"_82u8vq\"),I.id=\"_1wcn8h3\",I.dir=\"auto\",this.oid=I.id;var q=document.createElement(\"div\");q.classList.add(\"onnj2g\"),y&&(q.style.backgroundColor=y),c&&(q.style.fontFamily=c),h&&(q.style.color=h);var P=this.getPixelString(x),Y=this.getPixelString(b);P&&(q.style.borderRadius=P),(w||Y)&&(q.style.borderStyle=\"solid\"),w&&(q.style.borderColor=w),Y&&(q.style.borderWidth=Y);var T=document.createElement(\"header\");if(v&&(T.style.color=v),m){T.style.backgroundColor=m;var O=P||\"1em\";T.style.borderTopLeftRadius=O,T.style.borderTopRightRadius=O}if(a){var H=document.createElement(\"img\");H.src=a,H.alt=\"Logo\",H.onerror=function(){this.style.display=\"none\"},T.appendChild(H)}var U=document.createElement(\"h2\");U.textContent=this.getLocalizedTextContent(t,\"title\"),T.appendChild(U);var _=document.createElement(\"section\");_.classList.add(\"_1myx4a0\");var R=document.createElement(\"p\");if(R.textContent=this.getLocalizedTextContent(t,\"paragraphOne\"),_.appendChild(R),s&&0!==Object.keys(s).length){var F=document.createElement(\"p\");F.textContent=this.getLocalizedTextContent(t,\"paragraphTwo\"),_.appendChild(F)}if(u&&0!==Object.keys(u).length){var B=document.createElement(\"p\");B.textContent=this.getLocalizedTextContent(t,\"paragraphThree\"),_.appendChild(B)}var V=d&&this.getLocalizedTextContent(t,\"linkText\"),z=f&&this.getLocalizedTextContent(t,\"linkUrl\",!0);if(V&&z){var G=document.createElement(\"div\");G.style.margin=\"0 0 1em\";var N=document.createElement(\"a\");N.classList.add(\"_1ajq4u1\"),j&&N.classList.add(\"q1a6v7\"),C&&N.classList.add(\"_1bva2lo\"),E&&N.classList.add(\"d8c6ui\"),N.textContent=V,N.href=z,N.target=\"_blank\",G.appendChild(N),_.appendChild(G)}var Q=document.createElement(\"button\");if(Q.classList.add(\"_16i61up\"),Q.tabIndex=0,Q.textContent=this.getLocalizedTextContent(t,\"buttonText\"),g&&(Q.style.backgroundColor=g),p&&(Q.style.color=p),Q.onclick=function(){document.querySelector(\"section._1myx4a0\").classList.add(\"_18mgeh5\"),document.querySelector(\"section.mjmqhi\").classList.remove(\"_18mgeh5\")},_.appendChild(Q),r){var D=function(){I.remove(),e.reviveScroll(),o||i?(sessionStorage.removeItem(\"fs.adb\".concat(n||\"\",\".dis\")),i?e.updateValues(\"p\"):o&&e.updateValues(\"dt\")):sessionStorage.setItem(\"fs.adb\".concat(n||\"\",\".dis\"),\"1\")},M=document.createElement(\"span\");if(M.classList.add(\"_18hdrla\"),M.innerHTML=\"&times;\",M.tabIndex=0,k&&(M.style.color=k),M.addEventListener(\"click\",D),T.appendChild(M),l&&0!==Object.keys(l).length){var W=document.createElement(\"div\");W.classList.add(\"qcqk63\");var J=document.createElement(\"p\");J.classList.add(\"_1jy32sx\"),J.textContent=this.getLocalizedTextContent(t,\"closeText\"),L&&(J.style.color=L),J.addEventListener(\"click\",D),W.appendChild(J),_.appendChild(W)}}var Z=document.createElement(\"section\");Z.classList.add(\"mjmqhi\",\"_18mgeh5\");var X=document.createElement(\"h4\");X.classList.add(\"vza2sa\"),X.textContent=this.getLocalizedTextContent(t,\"instructionsTitle\");var K=document.createElement(\"div\");K.classList.add(\"_1n8syyr\");var $=document.createElement(\"ul\");$.classList.add(\"_12y6q83\");var tt=document.createElement(\"div\");tt.classList.add(\"_10v9zkx\"),A.forEach((function(t,n){var r=document.createElement(\"li\");r.onclick=function(){return function(t){for(var e=document.querySelectorAll(\"._12y6q83 > li\"),n=document.getElementsByClassName(\"_1dz8w0r\"),r=0;r<n.length;r++)e[r].classList.remove(\"_2tqkhw\"),n[r].classList.remove(\"_2tqkhw\");e[t].classList.add(\"_2tqkhw\"),n[t].classList.add(\"_2tqkhw\")}(n)},r.textContent=e.getLocalizedTextContent(t,\"name\",!0),$.appendChild(r);var o=document.createElement(\"ol\");o.classList.add(\"_1dz8w0r\"),0===n&&(r.classList.add(\"_2tqkhw\"),o.classList.add(\"_2tqkhw\")),e.getLocalizedTextContent(t,\"steps\").forEach((function(t){var e=document.createElement(\"li\");e.textContent=t,o.appendChild(e)})),tt.appendChild(o)}));var et=this.getLocalizedTextContent(t,\"disclaimerText\"),nt=document.createElement(\"p\");nt.textContent=et,tt.appendChild(nt),K.appendChild($),K.appendChild(tt);var rt=document.createElement(\"button\");if(rt.classList.add(\"_16i61up\",\"te00wf\"),rt.textContent=this.getLocalizedTextContent(t,\"backButtonText\"),g&&(rt.style.backgroundColor=g),p&&(rt.style.color=p),rt.onclick=function(){document.querySelector(\"section.mjmqhi\").classList.add(\"_18mgeh5\"),document.querySelector(\"section._1myx4a0\").classList.remove(\"_18mgeh5\")},Z.appendChild(X),Z.appendChild(K),Z.appendChild(rt),q.appendChild(T),q.appendChild(_),q.appendChild(Z),S){var ot=document.createElement(\"a\");ot.classList.add(\"_1o9k1ce\"),ot.href=atob(\"aHR0cHM6Ly9mcmVlc3Rhci5jb20vYWQtcHJvZHVjdHMvZGVza3RvcC1tb2JpbGUvZnJlZXN0YXItcmVjb3ZlcmVk\"),ot.target=\"_blank\";var it=document.createElement(\"img\");it.alt=\"Logo\",it.src=this.pickContrastingColorValue(y||\"#FFFFFF\",\"data:image/png;base64,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\",\"data:image/png;base64,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\"),ot.appendChild(it),q.appendChild(ot)}return I.appendChild(q),I}},{key:\"getAndSetOverlay\",value:(o=P(I().mark((function t(e){var n,r,o,i;return I().wrap((function(t){for(;;)switch(t.prev=t.next){case 0:if(this.post(!0,e),e.dismissDuration||e.dismissDurationPv||\"1\"!==sessionStorage.getItem(\"fs.adb\".concat(e.siteId||\"\",\".dis\"))){t.next=3;break}return t.abrupt(\"return\");case 3:if(n=localStorage.getItem(\"fs.adb\"),r=n&&JSON.parse(n),!e.dismissDurationPv||!r.p||\"number\"!=typeof r.p){t.next=14;break}if(!(e.dismissDurationPv<=r.p+1)){t.next=10;break}this.clearValue(\"p\"),t.next=12;break;case 10:return this.updateValues(\"p\"),t.abrupt(\"return\");case 12:t.next=15;break;case 14:this.clearValue(\"p\");case 15:if(o=parseInt(r.dt,10),!e.dismissDuration||!o){t.next=25;break}if(!(Math.abs((Date.now()-o)/36e5)<e.dismissDuration)){t.next=22;break}return t.abrupt(\"return\");case 22:this.clearValue(\"dt\");case 23:t.next=26;break;case 25:this.clearValue(\"dt\");case 26:if(document.body){t.next=29;break}return t.next=29,new Promise((function(t){return document.addEventListener(\"DOMContentLoaded\",t)}));case 29:if(this.killScroll(e),null===document.querySelector(\"#\".concat(this.oid))){t.next=32;break}return t.abrupt(\"return\");case 32:i=this.generateOverlay(e),document.body.appendChild(i);case 34:case\"end\":return t.stop()}}),t,this)}))),function(t){return o.apply(this,arguments)})},{key:\"getStatus\",value:function(t,e){return!0===e?1:2===t||1===t?2:0}},{key:\"getAndSetData\",value:function(t){var e,n,r,o=localStorage.getItem(\"fs.adb\"),i=o&&JSON.parse(o),a=Date.now();return i?(e=i.i,n=i.ot,r=this.getStatus(i.s,t)):(i={},e=c(),n=a,r=t?1:0),i.i=e,i.s=r,i.ot=n,i.lt=a,localStorage.setItem(\"fs.adb\",JSON.stringify(i)),i}},{key:\"updateValues\",value:function(t){var e=localStorage.getItem(\"fs.adb\"),n=e&&JSON.parse(e);\"p\"===t?(n.p=n.p?n.p+1:1,n.dt&&delete n.dt):\"dt\"===t&&(n.dt=Date.now(),n.p&&delete n.p),localStorage.setItem(\"fs.adb\",JSON.stringify(n))}},{key:\"clearValue\",value:function(t){var e=localStorage.getItem(\"fs.adb\"),n=e&&JSON.parse(e);n[t]&&(delete n[t],localStorage.setItem(\"fs.adb\",JSON.stringify(n)))}},{key:\"post\",value:function(t,e){var n=atob(\"c2l0ZS1jb25maWcuY29t\"),r=e.cDomain||n,o=\"https://\".concat(r,\"/v2/abr\"),i=this.getAndSetData(t),a=e.accountId,c=e.siteId,s=navigator.userAgent||window.navigator.userAgent,u=document.referrer,l=window.location,d={accountId:a,siteId:c,userId:i.i,url:l.href,referalURL:u,userAgent:s,status:function(t){switch(t){case 0:return\"not detected\";case 1:return\"detected\";case 2:return\"recovered\";default:return}}(i.s),returning:i.ot!==i.lt,version:\"1.3.3\"};fetch(o,{method:\"POST\",headers:{\"Content-Type\":\"application/json\",\"X-Client-Geo-Location\":\"{client_region},{client_region_subdivision},{client_city}\"},body:JSON.stringify(d)}).catch((function(){}))}},{key:\"observe\",value:function(){var t=this,e=\"\";new MutationObserver((function(){location.pathname!==e&&(e=location.pathname,t.run())})).observe(document,{subtree:!0,childList:!0})}},{key:\"run\",value:function(){var t=this,e=this.config;setTimeout(P(I().mark((function n(){return I().wrap((function(n){for(;;)switch(n.prev=n.next){case 0:return n.next=2,C().then((function(){return S(atob(\"aHR0cHM6Ly9hLnB1Yi5uZXR3b3JrL2NvcmUvcHJlYmlkLXVuaXZlcnNhbC1jcmVhdGl2ZS5qcw==\"))})).then((function(){return S(atob(\"aHR0cHM6Ly93d3cuZ29vZ2xldGFnc2VydmljZXMuY29tL3RhZy9qcy9ncHQuanM=\"))})).then((function(){t.post(!1,e)})).catch((function(n){n!==E&&(null==n?void 0:n.message)!==E||t.getAndSetOverlay(e)}));case 2:case\"end\":return n.stop()}}),n)}))),500)}}],n&&Y(e.prototype,n),r&&Y(e,r),Object.defineProperty(e,\"prototype\",{writable:!1}),t}();window.fsabrActive=!0,new T(window.navigator).init()})()})();\n",
      "</script>\n",
      "<link href=\"https://a.pub.network/core/pubfig/cls.css\" rel=\"stylesheet\"/>\n",
      "<script data-cfasync=\"false\" type=\"text/javascript\">\n",
      "  var freestar = freestar || {};\n",
      "  freestar.queue = freestar.queue || [];\n",
      "  freestar.config = freestar.config || {};\n",
      "  freestar.config.enabled_slots = [];\n",
      "  freestar.initCallback = function () { (freestar.config.enabled_slots.length === 0) ? freestar.initCallbackCalled = false : freestar.newAdSlots(freestar.config.enabled_slots) }\n",
      "</script>\n",
      "<script async=\"\" src=\"https://a.pub.network/azlyrics-com/pubfig.min.js\"></script>\n",
      "<script async=\"\" src=\"https://srv.tunefindforfans.com/fruits/mangos.js\"></script>\n",
      "<script type=\"text/javascript\">\n",
      "  // Azlyrics.com - Flex\t\n",
      "  window.amplified = window.amplified || { init: [] };\n",
      "  amplified.init.push(function() {\n",
      "    amplified.setParams({\n",
      "      artist: \"The Fray\",\n",
      "      song: \"\",\n",
      "    });\n",
      "    amplified.pushExitAdUnit(100006366); // iOS Exit Interstitial\n",
      "    amplified.pushExitAdUnit(100006383); // Desktop Exit Interstitial\n",
      "    amplified.run();\n",
      "  });\n",
      "</script>\n",
      "</head>\n",
      "<body class=\"margin50\">\n",
      "<nav class=\"navbar navbar-default navbar-fixed-top\">\n",
      "<div class=\"container\">\n",
      "<!-- Brand and toggle get grouped for better mobile display -->\n",
      "<div class=\"navbar-header\">\n",
      "<button class=\"navbar-toggle collapsed\" data-target=\"#search-collapse\" data-toggle=\"collapse\" type=\"button\">\n",
      "<span class=\"glyphicon glyphicon-search\"></span>\n",
      "</button>\n",
      "<button class=\"navbar-toggle collapsed\" data-target=\"#artists-collapse\" data-toggle=\"collapse\" type=\"button\">\n",
      "<span class=\"glyphicon glyphicon-th-list\"></span>\n",
      "</button>\n",
      "<a class=\"navbar-brand\" href=\"//www.azlyrics.com\"><img alt=\"AZLyrics.com\" class=\"pull-left\" src=\"//www.azlyrics.com/az_logo_tr.png\" style=\"max-height:40px; margin-top:-10px;\"/></a>\n",
      "</div>\n",
      "<ul class=\"collapse navbar-collapse nav navbar-nav\" id=\"artists-collapse\">\n",
      "<li>\n",
      "<div class=\"btn-group text-center\" role=\"group\">\n",
      "<a class=\"btn btn-menu\" href=\"//www.azlyrics.com/a.html\">A</a>\n",
      "<a class=\"btn btn-menu\" href=\"//www.azlyrics.com/b.html\">B</a>\n",
      "<a class=\"btn btn-menu\" href=\"//www.azlyrics.com/c.html\">C</a>\n",
      "<a class=\"btn btn-menu\" href=\"//www.azlyrics.com/d.html\">D</a>\n",
      "<a class=\"btn btn-menu\" href=\"//www.azlyrics.com/e.html\">E</a>\n",
      "<a class=\"btn btn-menu\" href=\"//www.azlyrics.com/f.html\">F</a>\n",
      "<a class=\"btn btn-menu\" href=\"//www.azlyrics.com/g.html\">G</a>\n",
      "<a class=\"btn btn-menu\" href=\"//www.azlyrics.com/h.html\">H</a>\n",
      "<a class=\"btn btn-menu\" href=\"//www.azlyrics.com/i.html\">I</a>\n",
      "<a class=\"btn btn-menu\" href=\"//www.azlyrics.com/j.html\">J</a>\n",
      "<a class=\"btn btn-menu\" href=\"//www.azlyrics.com/k.html\">K</a>\n",
      "<a class=\"btn btn-menu\" href=\"//www.azlyrics.com/l.html\">L</a>\n",
      "<a class=\"btn btn-menu\" href=\"//www.azlyrics.com/m.html\">M</a>\n",
      "<a class=\"btn btn-menu\" href=\"//www.azlyrics.com/n.html\">N</a>\n",
      "<a class=\"btn btn-menu\" href=\"//www.azlyrics.com/o.html\">O</a>\n",
      "<a class=\"btn btn-menu\" href=\"//www.azlyrics.com/p.html\">P</a>\n",
      "<a class=\"btn btn-menu\" href=\"//www.azlyrics.com/q.html\">Q</a>\n",
      "<a class=\"btn btn-menu\" href=\"//www.azlyrics.com/r.html\">R</a>\n",
      "<a class=\"btn btn-menu\" href=\"//www.azlyrics.com/s.html\">S</a>\n",
      "<a class=\"btn btn-menu\" href=\"//www.azlyrics.com/t.html\">T</a>\n",
      "<a class=\"btn btn-menu\" href=\"//www.azlyrics.com/u.html\">U</a>\n",
      "<a class=\"btn btn-menu\" href=\"//www.azlyrics.com/v.html\">V</a>\n",
      "<a class=\"btn btn-menu\" href=\"//www.azlyrics.com/w.html\">W</a>\n",
      "<a class=\"btn btn-menu\" href=\"//www.azlyrics.com/x.html\">X</a>\n",
      "<a class=\"btn btn-menu\" href=\"//www.azlyrics.com/y.html\">Y</a>\n",
      "<a class=\"btn btn-menu\" href=\"//www.azlyrics.com/z.html\">Z</a>\n",
      "<a class=\"btn btn-menu\" href=\"//www.azlyrics.com/19.html\">#</a>\n",
      "</div>\n",
      "</li>\n",
      "</ul>\n",
      "<div class=\"collapse navbar-collapse\" id=\"search-collapse\">\n",
      "<form action=\"//search.azlyrics.com/search.php\" class=\"navbar-form navbar-right search\" method=\"get\" role=\"search\">\n",
      "<div class=\"input-group\">\n",
      "<input class=\"form-control\" id=\"q\" name=\"q\" placeholder=\"\" type=\"text\"/>\n",
      "<span class=\"input-group-btn\">\n",
      "<button class=\"btn btn-primary\" type=\"submit\"><span class=\"glyphicon glyphicon-search\"></span> Search</button>\n",
      "</span>\n",
      "</div>\n",
      "</form>\n",
      "</div><!-- /.navbar-collapse -->\n",
      "</div><!-- /.container -->\n",
      "</nav>\n",
      "<!-- top ban -->\n",
      "<div class=\"lboard-wrap\">\n",
      "<div class=\"container\">\n",
      "<div class=\"row\">\n",
      "<div class=\"top-ad text-center\">\n",
      "<div id=\"FreeStarVideoAdContainer\">\n",
      "<div id=\"freestar-video-parent\">\n",
      "<div id=\"freestar-video-child\"></div>\n",
      "</div>\n",
      "</div>\n",
      "</div>\n",
      "</div>\n",
      "</div>\n",
      "</div>\n",
      "<!-- main -->\n",
      "<div class=\"container main-page\">\n",
      "<div class=\"text-center noprint\">\n",
      "<!-- Tag ID: azlyrics_atf_leaderboard -->\n",
      "<div align=\"center\" data-freestar-ad=\"__320x50 __728x90\" id=\"azlyrics_atf_leaderboard\">\n",
      "<script data-cfasync=\"false\" type=\"text/javascript\">\n",
      "        freestar.config.enabled_slots.push({ placementName: \"azlyrics_atf_leaderboard\", slotId: \"azlyrics_atf_leaderboard\" });\n",
      "      </script>\n",
      "</div>\n",
      "</div>\n",
      "<div class=\"row\">\n",
      "<div class=\"col-lg-2 text-center hidden-md hidden-sm hidden-xs\">\n",
      "<div class=\"sky-ad\"></div>\n",
      "</div>\n",
      "<!-- content -->\n",
      "<div class=\"col-xs-12 col-lg-8 text-center\">\n",
      "<form action=\"../add.php\" id=\"addsong\" method=\"post\">\n",
      "<input name=\"what\" type=\"hidden\" value=\"add_song\"/>\n",
      "<input name=\"artist\" type=\"hidden\" value=\"The Fray\"/>\n",
      "<input name=\"artist_id\" type=\"hidden\" value=\"1589\"/>\n",
      "</form>\n",
      "<div class=\"div-share noprint\" style=\"padding-bottom:20px;\">\n",
      "<div class=\"addthis_toolbox addthis_default_style\">\n",
      "<a class=\"btn btn-xs btn-share addthis_button_facebook\" href=\"https://www.facebook.com/sharer.php?u=https%3A%2F%2Fwww.azlyrics.com%2Ff%2Ffray.html&amp;title=The%20Fray%20Lyrics&amp;display=page\" target=\"_blank\">\n",
      "<span class=\"playblk\"><img alt=\"Share on Facebook\" class=\"playblk\" height=\"25\" src=\"//www.azlyrics.com/images/share-icons/facebook.svg\" title=\"Share on Facebook\" width=\"25\"/></span>\n",
      "</a>\n",
      "<a class=\"btn btn-xs btn-share addthis_button_twitter\" href=\"https://twitter.com/intent/tweet?url=https%3A%2F%2Fwww.azlyrics.com%2Ff%2Ffray.html&amp;text=The%20Fray%20Lyrics\" target=\"_blank\">\n",
      "<span class=\"playblk\"><img alt=\"Share on Twitter\" class=\"playblk\" height=\"25\" src=\"//www.azlyrics.com/images/share-icons/twitter.svg\" title=\"Share on Twitter\" width=\"25\"/></span>\n",
      "</a>\n",
      "<a class=\"btn btn-xs btn-share addthis_button_email\" href=\"mailto:?subject=The%20Fray%20Lyrics&amp;body=https%3A%2F%2Fwww.azlyrics.com%2Ff%2Ffray.html\" target=\"_blank\">\n",
      "<span class=\"playblk\"><img alt=\"Email\" class=\"playblk\" height=\"25\" src=\"//www.azlyrics.com/images/share-icons/email.svg\" title=\"Email\" width=\"25\"/></span>\n",
      "</a>\n",
      "</div>\n",
      "</div>\n",
      "<div class=\"middle-ad\">\n",
      "</div>\n",
      "<h1><strong>The Fray Lyrics</strong></h1>\n",
      "<div class=\"ringtone\">\n",
      "<span id=\"cf_text_top\"></span>\n",
      "</div>\n",
      "<!-- start of song list -->\n",
      "<a class=\"btn btn-xs btn-default sorting\" id=\"az_sort_album\"><span class=\"glyphicon glyphicon-sort-by-order\"></span> sort by album</a><a class=\"btn btn-xs btn-default sorting\" id=\"az_sort_song\"><span class=\"glyphicon glyphicon-sort-by-alphabet\"></span> sort by song</a><br/>\n",
      "<div id=\"listAlbum\">\n",
      "<div class=\"album\" id=\"5316\">EP: <b>\"Reason\"</b> (2003)</div>\n",
      "<div class=\"listalbum-item\"><a href=\"/lyrics/fray/together.html\" target=\"_blank\">Together</a></div>\n",
      "<div class=\"listalbum-item\"><a href=\"/lyrics/fray/sometrust.html\" target=\"_blank\">Some Trust</a></div>\n",
      "<div class=\"listalbum-item\"><a href=\"/lyrics/fray/vienna.html\" target=\"_blank\">Vienna</a></div>\n",
      "<div class=\"listalbum-item\"><a href=\"/lyrics/fray/withoutreason.html\" target=\"_blank\">Without Reason</a></div>\n",
      "<div class=\"listalbum-item\"><a href=\"/lyrics/fray/cityhall.html\" target=\"_blank\">City Hall</a></div>\n",
      "<div class=\"listalbum-item\"><a href=\"/lyrics/fray/oceans.html\" target=\"_blank\">Oceans</a></div>\n",
      "<div class=\"listalbum-item\"><a href=\"/lyrics/fray/unsaid.html\" target=\"_blank\">Unsaid</a></div>\n",
      "<div class=\"album\" id=\"5238\">album: <b>\"How To Save A Life\"</b> (2005)<div><img alt=\"The Fray - How To Save A Life album cover\" class=\"album-image\" src=\"/images/albums/523/1cdf9fb4eec6127cc8c91fd9513b8bd7.jpg\"/></div></div>\n",
      "<div class=\"listalbum-item\"><a href=\"/lyrics/fray/sheis.html\" target=\"_blank\">She Is</a></div>\n",
      "<div class=\"listalbum-item\"><a href=\"/lyrics/fray/overmyheadcablecar.html\" target=\"_blank\">Over My Head (Cable Car)</a></div>\n",
      "<div class=\"listalbum-item\"><a href=\"/lyrics/fray/howtosavealife.html\" target=\"_blank\">How To Save A Life</a></div>\n",
      "<div class=\"listalbum-item\"><a href=\"/lyrics/fray/allatonce.html\" target=\"_blank\">All At Once</a></div>\n",
      "<div class=\"listalbum-item\"><a href=\"/lyrics/fray/fallaway.html\" target=\"_blank\">Fall Away</a></div>\n",
      "<div class=\"listalbum-item\"><a href=\"/lyrics/fray/heavenforbid.html\" target=\"_blank\">Heaven Forbid</a></div>\n",
      "<div class=\"listalbum-item\"><a href=\"/lyrics/fray/lookafteryou.html\" target=\"_blank\">Look After You</a></div>\n",
      "<div class=\"listalbum-item\"><a href=\"/lyrics/fray/hundred.html\" target=\"_blank\">Hundred</a></div>\n",
      "<div class=\"listalbum-item\"><a href=\"/lyrics/fray/vienna.html\" target=\"_blank\">Vienna</a></div>\n",
      "<div class=\"listalbum-item\"><a href=\"/lyrics/fray/deadwrong.html\" target=\"_blank\">Dead Wrong</a></div>\n",
      "<div class=\"listalbum-item\"><a href=\"/lyrics/fray/littlehouse.html\" target=\"_blank\">Little House</a></div>\n",
      "<div class=\"listalbum-item\"><a href=\"/lyrics/fray/trustme.html\" target=\"_blank\">Trust Me</a></div>\n",
      "<div class=\"album\" id=\"7206\">album: <b>\"The Fray\"</b> (2009)<div><img alt=\"The Fray - The Fray album cover\" class=\"album-image\" src=\"/images/albums/720/6903270199b99aa244c9e6552b37c182.jpg\"/></div></div>\n",
      "<div class=\"listalbum-item\"><a href=\"/lyrics/fray/syndicate.html\" target=\"_blank\">Syndicate</a></div>\n",
      "<div class=\"listalbum-item\"><a href=\"/lyrics/fray/absolute.html\" target=\"_blank\">Absolute</a></div>\n",
      "<div class=\"listalbum-item\"><a href=\"/lyrics/fray/youfoundme.html\" target=\"_blank\">You Found Me</a></div>\n",
      "<div class=\"listalbum-item\"><a href=\"/lyrics/fray/saywhen.html\" target=\"_blank\">Say When</a></div>\n",
      "<div class=\"listalbum-item\"><a href=\"/lyrics/fray/neversaynever.html\" target=\"_blank\">Never Say Never</a></div>\n",
      "<div class=\"listalbum-item\"><a href=\"/lyrics/fray/wherethestoryends.html\" target=\"_blank\">Where The Story Ends</a></div>\n",
      "<div class=\"listalbum-item\"><a href=\"/lyrics/fray/enoughfornow.html\" target=\"_blank\">Enough For Now</a></div>\n",
      "<div class=\"listalbum-item\"><a href=\"/lyrics/fray/ungodlyhour.html\" target=\"_blank\">Ungodly Hour</a></div>\n",
      "<div class=\"listalbum-item\"><a href=\"/lyrics/fray/webuildthenwebreak.html\" target=\"_blank\">We Build Then We Break</a></div>\n",
      "<div class=\"listalbum-item\"><a href=\"/lyrics/fray/happiness.html\" target=\"_blank\">Happiness</a></div>\n",
      "<div class=\"listalbum-item\"><a href=\"/lyrics/fray/heartless.html\" target=\"_blank\">Heartless</a><div class=\"comment\">(Deluxe Edition Bonus Track)</div></div>\n",
      "<div class=\"listalbum-item\"><a href=\"/lyrics/fray/fairfight.html\" target=\"_blank\">Fair Fight</a><div class=\"comment\">(iTunes Bonus Track)</div></div>\n",
      "<div class=\"listalbum-item\"><a href=\"/lyrics/fray/betheone.html\" target=\"_blank\">Be The One</a><div class=\"comment\">(Deluxe Edition Bonus Track)</div></div>\n",
      "<div class=\"listalbum-item\"><a href=\"/lyrics/fray/uncertainty.html\" target=\"_blank\">Uncertainty</a><div class=\"comment\">(iTunes Bonus Track)</div></div>\n",
      "<div class=\"album\" id=\"18612\">album: <b>\"Scars And Stories\"</b> (2012)</div>\n",
      "<div class=\"listalbum-item\"><a href=\"/lyrics/fray/heartbeat.html\" target=\"_blank\">Heartbeat</a></div>\n",
      "<div class=\"listalbum-item\"><a href=\"/lyrics/fray/thefighter.html\" target=\"_blank\">The Fighter</a></div>\n",
      "<div class=\"listalbum-item\"><a href=\"/lyrics/fray/turnmeon.html\" target=\"_blank\">Turn Me On</a></div>\n",
      "<div class=\"listalbum-item\"><a href=\"/lyrics/fray/runforyourlife.html\" target=\"_blank\">Run For Your Life</a></div>\n",
      "<div class=\"listalbum-item\"><a href=\"/lyrics/fray/thewind.html\" target=\"_blank\">The Wind</a></div>\n",
      "<div class=\"listalbum-item\"><a href=\"/lyrics/fray/1961.html\" target=\"_blank\">1961</a></div>\n",
      "<div class=\"listalbum-item\"><a href=\"/lyrics/fray/icanbarelysay.html\" target=\"_blank\">I Can Barely Say</a></div>\n",
      "<div class=\"listalbum-item\"><a href=\"/lyrics/fray/munich.html\" target=\"_blank\">Munich</a></div>\n",
      "<div class=\"listalbum-item\"><a href=\"/lyrics/fray/hereweare.html\" target=\"_blank\">Here We Are</a></div>\n",
      "<div class=\"listalbum-item\"><a href=\"/lyrics/fray/48togo.html\" target=\"_blank\">48 To Go</a></div>\n",
      "<div class=\"listalbum-item\"><a href=\"/lyrics/fray/rainyzurich.html\" target=\"_blank\">Rainy Zurich</a></div>\n",
      "<div class=\"listalbum-item\"><a href=\"/lyrics/fray/bestill.html\" target=\"_blank\">Be Still</a></div>\n",
      "<div class=\"listalbum-item\"><a href=\"/lyrics/fray/maps.html\" target=\"_blank\">Maps</a><div class=\"comment\">(Pre-Order iTunes Deluxe Edition Bonus Track)</div></div>\n",
      "<div class=\"listalbum-item\"><a href=\"/lyrics/fray/readyornot.html\" target=\"_blank\">Ready Or Not</a><div class=\"comment\">(Pre-Order iTunes Deluxe Edition Bonus Track)</div></div>\n",
      "<div class=\"listalbum-item\"><a href=\"/lyrics/fray/why.html\" target=\"_blank\">Why</a><div class=\"comment\">(Pre-Order iTunes Deluxe Edition Bonus Track)</div></div>\n",
      "<div class=\"listalbum-item\"><a href=\"/lyrics/fray/bouldertobirmingham.html\" target=\"_blank\">Boulder To Birmingham</a><div class=\"comment\">(Pre-Order iTunes Deluxe Edition Bonus Track)</div></div>\n",
      "<div class=\"listalbum-item\"><a href=\"/lyrics/fray/streetsofphiladelphia.html\" target=\"_blank\">Streets Of Philadelphia</a><div class=\"comment\">(Pre-Order iTunes Deluxe Edition Bonus Track)</div></div>\n",
      "<br/>\n",
      "<!-- Tag ID: azlyrics_incontent_1 -->\n",
      "<div align=\"center\" data-freestar-ad=\"__320x50 __728x90\" id=\"azlyrics_incontent_1\">\n",
      "<script data-cfasync=\"false\" type=\"text/javascript\">\n",
      "    freestar.config.enabled_slots.push({ placementName: \"azlyrics_incontent_1\", slotId: \"azlyrics_incontent_1\" });\n",
      "  </script>\n",
      "</div>\n",
      "<div class=\"album\" id=\"30787\">album: <b>\"Helios\"</b> (2014)<div><img alt=\"The Fray - Helios album cover\" class=\"album-image\" src=\"/images/albums/307/be266a055e1409755eb5f2f9f1c41a75.jpg\"/></div></div>\n",
      "<div class=\"listalbum-item\"><a href=\"/lyrics/fray/holdmyhand.html\" target=\"_blank\">Hold My Hand</a></div>\n",
      "<div class=\"listalbum-item\"><a href=\"/lyrics/fray/lovedontdie.html\" target=\"_blank\">Love Don't Die</a></div>\n",
      "<div class=\"listalbum-item\"><a href=\"/lyrics/fray/giveitaway.html\" target=\"_blank\">Give It Away</a></div>\n",
      "<div class=\"listalbum-item\"><a href=\"/lyrics/fray/closertome.html\" target=\"_blank\">Closer To Me</a></div>\n",
      "<div class=\"listalbum-item\"><a href=\"/lyrics/fray/hurricane.html\" target=\"_blank\">Hurricane</a></div>\n",
      "<div class=\"listalbum-item\"><a href=\"/lyrics/fray/keeponwanting.html\" target=\"_blank\">Keep On Wanting</a></div>\n",
      "<div class=\"listalbum-item\"><a href=\"/lyrics/fray/ourlastdays.html\" target=\"_blank\">Our Last Days</a></div>\n",
      "<div class=\"listalbum-item\"><a href=\"/lyrics/fray/breakyourplans.html\" target=\"_blank\">Break Your Plans</a></div>\n",
      "<div class=\"listalbum-item\"><a href=\"/lyrics/fray/whereverthisgoes.html\" target=\"_blank\">Wherever This Goes</a></div>\n",
      "<div class=\"listalbum-item\"><a href=\"/lyrics/fray/shadowandadancer.html\" target=\"_blank\">Shadow And A Dancer</a></div>\n",
      "<div class=\"listalbum-item\"><a href=\"/lyrics/fray/sameasyou.html\" target=\"_blank\">Same As You</a></div>\n",
      "<div class=\"listalbum-item\"><a href=\"/lyrics/fray/wintersun.html\" target=\"_blank\">Winter Sun</a><div class=\"comment\">(Japanese Bonus Track)</div></div>\n",
      "<div class=\"listalbum-item\"><a href=\"/lyrics/fray/500000acres.html\" target=\"_blank\">500,000 Acres</a><div class=\"comment\">(Japanese Bonus Track)</div></div>\n",
      "<div class=\"album\" id=\"133375\">EP: <b>\"The Fray Is Back\"</b> (2024)<div><img alt=\"The Fray - The Fray Is Back EP cover\" class=\"album-image\" src=\"/images/albums/133/99f32a18149d630e64d6cc57e616b826.jpg\"/></div></div>\n",
      "<div class=\"listalbum-item\"><a href=\"/lyrics/fray/angelenomoon.html\" target=\"_blank\">Angeleno Moon</a></div>\n",
      "<div class=\"listalbum-item\"><a href=\"/lyrics/fray/samething.html\" target=\"_blank\">Same Thing</a></div>\n",
      "<div class=\"listalbum-item\"><a href=\"/lyrics/fray/notnow.html\" target=\"_blank\">Not Now</a></div>\n",
      "<div class=\"listalbum-item\"><a href=\"/lyrics/fray/dontlookdown.html\" target=\"_blank\">Don't Look Down</a></div>\n",
      "<div class=\"listalbum-item\"><a href=\"/lyrics/fray/timewellwasted.html\" target=\"_blank\">Time Well Wasted</a></div>\n",
      "<div class=\"listalbum-item\"><a href=\"/lyrics/fray/knownyoualways.html\" target=\"_blank\">Known You Always</a></div>\n",
      "<div class=\"album\"><b>other songs:</b></div>\n",
      "<div class=\"listalbum-item\"><a href=\"/lyrics/fray/changingtides.html\" target=\"_blank\">Changing Tides</a><div class=\"comment\">(from \"Through the Years: The Best of The Fray\" album)</div></div>\n",
      "<div class=\"listalbum-item\"><a href=\"/lyrics/fray/corners.html\" target=\"_blank\">Corners</a><div class=\"comment\">(from \"Through the Years: The Best of The Fray\" album)</div></div>\n",
      "<div class=\"listalbum-item\"><a href=\"/lyrics/fray/dixie.html\" target=\"_blank\">Dixie</a></div>\n",
      "<div class=\"listalbum-item\"><a href=\"/lyrics/fray/happyxmaswarisover.html\" target=\"_blank\">Happy Xmas (War Is Over)</a></div>\n",
      "<div class=\"listalbum-item\"><a href=\"/lyrics/fray/itsforyou.html\" target=\"_blank\">It's For You</a></div>\n",
      "<div class=\"listalbum-item\"><a href=\"/lyrics/fray/kissme.html\" target=\"_blank\">Kiss Me</a></div>\n",
      "<div class=\"listalbum-item\"><a href=\"/lyrics/fray/singinglow.html\" target=\"_blank\">Singing Low</a><div class=\"comment\">(from \"Through the Years: The Best of The Fray\" album)</div></div>\n",
      "<div class=\"listalbum-item\"><a href=\"/lyrics/fray/whereyouwantto.html\" target=\"_blank\">Where You Want To</a></div>\n",
      "<script type=\"text/javascript\">\n",
      "<!--\n",
      "var songlist = [\n",
      "{s:\"1961\", h:\"/lyrics/fray/1961.html\", c:\"\", a:\"\", link_class:''},\n",
      "{s:\"48 To Go\", h:\"/lyrics/fray/48togo.html\", c:\"\", a:\"\", link_class:''},\n",
      "{s:\"500,000 Acres\", h:\"/lyrics/fray/500000acres.html\", c:\"\", a:\"\", link_class:''},\n",
      "{s:\"Absolute\", h:\"/lyrics/fray/absolute.html\", c:\"\", a:\"\", link_class:''},\n",
      "{s:\"All At Once\", h:\"/lyrics/fray/allatonce.html\", c:\"\", a:\"\", link_class:''},\n",
      "{s:\"Angeleno Moon\", h:\"/lyrics/fray/angelenomoon.html\", c:\"\", a:\"\", link_class:''},\n",
      "{s:\"Be Still\", h:\"/lyrics/fray/bestill.html\", c:\"\", a:\"\", link_class:''},\n",
      "{s:\"Be The One\", h:\"/lyrics/fray/betheone.html\", c:\"\", a:\"\", link_class:''},\n",
      "{s:\"Boulder To Birmingham\", h:\"/lyrics/fray/bouldertobirmingham.html\", c:\"\", a:\"\", link_class:''},\n",
      "{s:\"Break Your Plans\", h:\"/lyrics/fray/breakyourplans.html\", c:\"\", a:\"\", link_class:''},\n",
      "{s:\"Changing Tides\", h:\"/lyrics/fray/changingtides.html\", c:\"\", a:\"\", link_class:''},\n",
      "{s:\"City Hall\", h:\"/lyrics/fray/cityhall.html\", c:\"\", a:\"\", link_class:''},\n",
      "{s:\"Closer To Me\", h:\"/lyrics/fray/closertome.html\", c:\"\", a:\"\", link_class:''},\n",
      "{s:\"Corners\", h:\"/lyrics/fray/corners.html\", c:\"\", a:\"\", link_class:''},\n",
      "{s:\"Dead Wrong\", h:\"/lyrics/fray/deadwrong.html\", c:\"\", a:\"\", link_class:''},\n",
      "{s:\"Dixie\", h:\"/lyrics/fray/dixie.html\", c:\"\", a:\"\", link_class:''},\n",
      "{s:\"Don't Look Down\", h:\"/lyrics/fray/dontlookdown.html\", c:\"\", a:\"\", link_class:''},\n",
      "{s:\"Enough For Now\", h:\"/lyrics/fray/enoughfornow.html\", c:\"\", a:\"\", link_class:''},\n",
      "{s:\"Fair Fight\", h:\"/lyrics/fray/fairfight.html\", c:\"\", a:\"\", link_class:''},\n",
      "{s:\"Fall Away\", h:\"/lyrics/fray/fallaway.html\", c:\"\", a:\"\", link_class:''},\n",
      "{s:\"Give It Away\", h:\"/lyrics/fray/giveitaway.html\", c:\"\", a:\"\", link_class:''},\n",
      "{s:\"Happiness\", h:\"/lyrics/fray/happiness.html\", c:\"\", a:\"\", link_class:''},\n",
      "{s:\"Happy Xmas (War Is Over)\", h:\"/lyrics/fray/happyxmaswarisover.html\", c:\"\", a:\"\", link_class:''},\n",
      "{s:\"Heartbeat\", h:\"/lyrics/fray/heartbeat.html\", c:\"\", a:\"\", link_class:''},\n",
      "{s:\"Heartless\", h:\"/lyrics/fray/heartless.html\", c:\"\", a:\"\", link_class:''},\n",
      "{s:\"Heaven Forbid\", h:\"/lyrics/fray/heavenforbid.html\", c:\"\", a:\"\", link_class:''},\n",
      "{s:\"Here We Are\", h:\"/lyrics/fray/hereweare.html\", c:\"\", a:\"\", link_class:''},\n",
      "{s:\"Hold My Hand\", h:\"/lyrics/fray/holdmyhand.html\", c:\"\", a:\"\", link_class:''},\n",
      "{s:\"How To Save A Life\", h:\"/lyrics/fray/howtosavealife.html\", c:\"\", a:\"\", link_class:''},\n",
      "{s:\"Hundred\", h:\"/lyrics/fray/hundred.html\", c:\"\", a:\"\", link_class:''},\n",
      "{s:\"Hurricane\", h:\"/lyrics/fray/hurricane.html\", c:\"\", a:\"\", link_class:''},\n",
      "{s:\"I Can Barely Say\", h:\"/lyrics/fray/icanbarelysay.html\", c:\"\", a:\"\", link_class:''},\n",
      "{s:\"It's For You\", h:\"/lyrics/fray/itsforyou.html\", c:\"\", a:\"\", link_class:''},\n",
      "{s:\"Keep On Wanting\", h:\"/lyrics/fray/keeponwanting.html\", c:\"\", a:\"\", link_class:''},\n",
      "{s:\"Kiss Me\", h:\"/lyrics/fray/kissme.html\", c:\"\", a:\"\", link_class:''},\n",
      "{s:\"Known You Always\", h:\"/lyrics/fray/knownyoualways.html\", c:\"\", a:\"\", link_class:''},\n",
      "{s:\"Little House\", h:\"/lyrics/fray/littlehouse.html\", c:\"\", a:\"\", link_class:''},\n",
      "{s:\"Look After You\", h:\"/lyrics/fray/lookafteryou.html\", c:\"\", a:\"\", link_class:''},\n",
      "{s:\"Love Don't Die\", h:\"/lyrics/fray/lovedontdie.html\", c:\"\", a:\"\", link_class:''},\n",
      "{s:\"Maps\", h:\"/lyrics/fray/maps.html\", c:\"\", a:\"\", link_class:''},\n",
      "{s:\"Munich\", h:\"/lyrics/fray/munich.html\", c:\"\", a:\"\", link_class:''},\n",
      "{s:\"Never Say Never\", h:\"/lyrics/fray/neversaynever.html\", c:\"\", a:\"\", link_class:''},\n",
      "{s:\"Not Now\", h:\"/lyrics/fray/notnow.html\", c:\"\", a:\"\", link_class:''},\n",
      "{s:\"Oceans\", h:\"/lyrics/fray/oceans.html\", c:\"\", a:\"\", link_class:''},\n",
      "{s:\"Our Last Days\", h:\"/lyrics/fray/ourlastdays.html\", c:\"\", a:\"\", link_class:''},\n",
      "{s:\"Over My Head (Cable Car)\", h:\"/lyrics/fray/overmyheadcablecar.html\", c:\"\", a:\"\", link_class:''},\n",
      "{s:\"Rainy Zurich\", h:\"/lyrics/fray/rainyzurich.html\", c:\"\", a:\"\", link_class:''},\n",
      "{s:\"Ready Or Not\", h:\"/lyrics/fray/readyornot.html\", c:\"\", a:\"\", link_class:''},\n",
      "{s:\"Run For Your Life\", h:\"/lyrics/fray/runforyourlife.html\", c:\"\", a:\"\", link_class:''},\n",
      "{s:\"Same As You\", h:\"/lyrics/fray/sameasyou.html\", c:\"\", a:\"\", link_class:''},\n",
      "{s:\"Same Thing\", h:\"/lyrics/fray/samething.html\", c:\"\", a:\"\", link_class:''},\n",
      "{s:\"Say When\", h:\"/lyrics/fray/saywhen.html\", c:\"\", a:\"\", link_class:''},\n",
      "{s:\"Shadow And A Dancer\", h:\"/lyrics/fray/shadowandadancer.html\", c:\"\", a:\"\", link_class:''},\n",
      "{s:\"She Is\", h:\"/lyrics/fray/sheis.html\", c:\"\", a:\"\", link_class:''},\n",
      "{s:\"Singing Low\", h:\"/lyrics/fray/singinglow.html\", c:\"\", a:\"\", link_class:''},\n",
      "{s:\"Some Trust\", h:\"/lyrics/fray/sometrust.html\", c:\"\", a:\"\", link_class:''},\n",
      "{s:\"Streets Of Philadelphia\", h:\"/lyrics/fray/streetsofphiladelphia.html\", c:\"\", a:\"\", link_class:''},\n",
      "{s:\"Syndicate\", h:\"/lyrics/fray/syndicate.html\", c:\"\", a:\"\", link_class:''},\n",
      "{s:\"The Fighter\", h:\"/lyrics/fray/thefighter.html\", c:\"\", a:\"\", link_class:''},\n",
      "{s:\"The Wind\", h:\"/lyrics/fray/thewind.html\", c:\"\", a:\"\", link_class:''},\n",
      "{s:\"Time Well Wasted\", h:\"/lyrics/fray/timewellwasted.html\", c:\"\", a:\"\", link_class:''},\n",
      "{s:\"Together\", h:\"/lyrics/fray/together.html\", c:\"\", a:\"\", link_class:''},\n",
      "{s:\"Trust Me\", h:\"/lyrics/fray/trustme.html\", c:\"\", a:\"\", link_class:''},\n",
      "{s:\"Turn Me On\", h:\"/lyrics/fray/turnmeon.html\", c:\"\", a:\"\", link_class:''},\n",
      "{s:\"Uncertainty\", h:\"/lyrics/fray/uncertainty.html\", c:\"\", a:\"\", link_class:''},\n",
      "{s:\"Ungodly Hour\", h:\"/lyrics/fray/ungodlyhour.html\", c:\"\", a:\"\", link_class:''},\n",
      "{s:\"Unsaid\", h:\"/lyrics/fray/unsaid.html\", c:\"\", a:\"\", link_class:''},\n",
      "{s:\"Vienna\", h:\"/lyrics/fray/vienna.html\", c:\"\", a:\"\", link_class:''},\n",
      "{s:\"We Build Then We Break\", h:\"/lyrics/fray/webuildthenwebreak.html\", c:\"\", a:\"\", link_class:''},\n",
      "{s:\"Where The Story Ends\", h:\"/lyrics/fray/wherethestoryends.html\", c:\"\", a:\"\", link_class:''},\n",
      "{s:\"Where You Want To\", h:\"/lyrics/fray/whereyouwantto.html\", c:\"\", a:\"\", link_class:''},\n",
      "{s:\"Wherever This Goes\", h:\"/lyrics/fray/whereverthisgoes.html\", c:\"\", a:\"\", link_class:''},\n",
      "{s:\"Why\", h:\"/lyrics/fray/why.html\", c:\"\", a:\"\", link_class:''},\n",
      "{s:\"Winter Sun\", h:\"/lyrics/fray/wintersun.html\", c:\"\", a:\"\", link_class:''},\n",
      "{s:\"Without Reason\", h:\"/lyrics/fray/withoutreason.html\", c:\"\", a:\"\", link_class:''},\n",
      "{s:\"You Found Me\", h:\"/lyrics/fray/youfoundme.html\", c:\"\", a:\"\", link_class:''}];\n",
      "var albumlist = [\"<div id=\\\"5316\\\" class=\\\"album\\\">EP: <b>\\\"Reason\\\"<\\/b> (2003)<\\/div>\\r\\n<div class=\\\"listalbum-item\\\"><a href=\\\"\\/lyrics\\/fray\\/together.html\\\" target=\\\"_blank\\\">Together<\\/a><\\/div>\\n<div class=\\\"listalbum-item\\\"><a href=\\\"\\/lyrics\\/fray\\/sometrust.html\\\" target=\\\"_blank\\\">Some Trust<\\/a><\\/div>\\n<div class=\\\"listalbum-item\\\"><a href=\\\"\\/lyrics\\/fray\\/vienna.html\\\" target=\\\"_blank\\\">Vienna<\\/a><\\/div>\\n<div class=\\\"listalbum-item\\\"><a href=\\\"\\/lyrics\\/fray\\/withoutreason.html\\\" target=\\\"_blank\\\">Without Reason<\\/a><\\/div>\\n<div class=\\\"listalbum-item\\\"><a href=\\\"\\/lyrics\\/fray\\/cityhall.html\\\" target=\\\"_blank\\\">City Hall<\\/a><\\/div>\\n<div class=\\\"listalbum-item\\\"><a href=\\\"\\/lyrics\\/fray\\/oceans.html\\\" target=\\\"_blank\\\">Oceans<\\/a><\\/div>\\n<div class=\\\"listalbum-item\\\"><a href=\\\"\\/lyrics\\/fray\\/unsaid.html\\\" target=\\\"_blank\\\">Unsaid<\\/a><\\/div>\\n\\r\\n\",\"<div id=\\\"5238\\\" class=\\\"album\\\">album: <b>\\\"How To Save A Life\\\"<\\/b> (2005)<div><img src=\\\"\\/images\\/albums\\/523\\/1cdf9fb4eec6127cc8c91fd9513b8bd7.jpg\\\" class=\\\"album-image\\\" alt=\\\"The Fray - How To Save A Life album cover\\\" \\/><\\/div><\\/div>\\r\\n<div class=\\\"listalbum-item\\\"><a href=\\\"\\/lyrics\\/fray\\/sheis.html\\\" target=\\\"_blank\\\">She Is<\\/a><\\/div>\\n<div class=\\\"listalbum-item\\\"><a href=\\\"\\/lyrics\\/fray\\/overmyheadcablecar.html\\\" target=\\\"_blank\\\">Over My Head (Cable Car)<\\/a><\\/div>\\n<div class=\\\"listalbum-item\\\"><a href=\\\"\\/lyrics\\/fray\\/howtosavealife.html\\\" target=\\\"_blank\\\">How To Save A Life<\\/a><\\/div>\\n<div class=\\\"listalbum-item\\\"><a href=\\\"\\/lyrics\\/fray\\/allatonce.html\\\" target=\\\"_blank\\\">All At Once<\\/a><\\/div>\\n<div class=\\\"listalbum-item\\\"><a href=\\\"\\/lyrics\\/fray\\/fallaway.html\\\" target=\\\"_blank\\\">Fall Away<\\/a><\\/div>\\n<div class=\\\"listalbum-item\\\"><a href=\\\"\\/lyrics\\/fray\\/heavenforbid.html\\\" target=\\\"_blank\\\">Heaven Forbid<\\/a><\\/div>\\n<div class=\\\"listalbum-item\\\"><a href=\\\"\\/lyrics\\/fray\\/lookafteryou.html\\\" target=\\\"_blank\\\">Look After You<\\/a><\\/div>\\n<div class=\\\"listalbum-item\\\"><a href=\\\"\\/lyrics\\/fray\\/hundred.html\\\" target=\\\"_blank\\\">Hundred<\\/a><\\/div>\\n<div class=\\\"listalbum-item\\\"><a href=\\\"\\/lyrics\\/fray\\/vienna.html\\\" target=\\\"_blank\\\">Vienna<\\/a><\\/div>\\n<div class=\\\"listalbum-item\\\"><a href=\\\"\\/lyrics\\/fray\\/deadwrong.html\\\" target=\\\"_blank\\\">Dead Wrong<\\/a><\\/div>\\n<div class=\\\"listalbum-item\\\"><a href=\\\"\\/lyrics\\/fray\\/littlehouse.html\\\" target=\\\"_blank\\\">Little House<\\/a><\\/div>\\n<div class=\\\"listalbum-item\\\"><a href=\\\"\\/lyrics\\/fray\\/trustme.html\\\" target=\\\"_blank\\\">Trust Me<\\/a><\\/div>\\n\\r\\n\",\"<div id=\\\"7206\\\" class=\\\"album\\\">album: <b>\\\"The Fray\\\"<\\/b> (2009)<div><img src=\\\"\\/images\\/albums\\/720\\/6903270199b99aa244c9e6552b37c182.jpg\\\" class=\\\"album-image\\\" alt=\\\"The Fray - The Fray album cover\\\" \\/><\\/div><\\/div>\\r\\n<div class=\\\"listalbum-item\\\"><a href=\\\"\\/lyrics\\/fray\\/syndicate.html\\\" target=\\\"_blank\\\">Syndicate<\\/a><\\/div>\\n<div class=\\\"listalbum-item\\\"><a href=\\\"\\/lyrics\\/fray\\/absolute.html\\\" target=\\\"_blank\\\">Absolute<\\/a><\\/div>\\n<div class=\\\"listalbum-item\\\"><a href=\\\"\\/lyrics\\/fray\\/youfoundme.html\\\" target=\\\"_blank\\\">You Found Me<\\/a><\\/div>\\n<div class=\\\"listalbum-item\\\"><a href=\\\"\\/lyrics\\/fray\\/saywhen.html\\\" target=\\\"_blank\\\">Say When<\\/a><\\/div>\\n<div class=\\\"listalbum-item\\\"><a href=\\\"\\/lyrics\\/fray\\/neversaynever.html\\\" target=\\\"_blank\\\">Never Say Never<\\/a><\\/div>\\n<div class=\\\"listalbum-item\\\"><a href=\\\"\\/lyrics\\/fray\\/wherethestoryends.html\\\" target=\\\"_blank\\\">Where The Story Ends<\\/a><\\/div>\\n<div class=\\\"listalbum-item\\\"><a href=\\\"\\/lyrics\\/fray\\/enoughfornow.html\\\" target=\\\"_blank\\\">Enough For Now<\\/a><\\/div>\\n<div class=\\\"listalbum-item\\\"><a href=\\\"\\/lyrics\\/fray\\/ungodlyhour.html\\\" target=\\\"_blank\\\">Ungodly Hour<\\/a><\\/div>\\n<div class=\\\"listalbum-item\\\"><a href=\\\"\\/lyrics\\/fray\\/webuildthenwebreak.html\\\" target=\\\"_blank\\\">We Build Then We Break<\\/a><\\/div>\\n<div class=\\\"listalbum-item\\\"><a href=\\\"\\/lyrics\\/fray\\/happiness.html\\\" target=\\\"_blank\\\">Happiness<\\/a><\\/div>\\n<div class=\\\"listalbum-item\\\"><a href=\\\"\\/lyrics\\/fray\\/heartless.html\\\" target=\\\"_blank\\\">Heartless<\\/a><div class=\\\"comment\\\">(Deluxe Edition Bonus Track)<\\/div><\\/div>\\n<div class=\\\"listalbum-item\\\"><a href=\\\"\\/lyrics\\/fray\\/fairfight.html\\\" target=\\\"_blank\\\">Fair Fight<\\/a><div class=\\\"comment\\\">(iTunes Bonus Track)<\\/div><\\/div>\\n<div class=\\\"listalbum-item\\\"><a href=\\\"\\/lyrics\\/fray\\/betheone.html\\\" target=\\\"_blank\\\">Be The One<\\/a><div class=\\\"comment\\\">(Deluxe Edition Bonus Track)<\\/div><\\/div>\\n<div class=\\\"listalbum-item\\\"><a href=\\\"\\/lyrics\\/fray\\/uncertainty.html\\\" target=\\\"_blank\\\">Uncertainty<\\/a><div class=\\\"comment\\\">(iTunes Bonus Track)<\\/div><\\/div>\\n\\r\\n\",\"<div id=\\\"18612\\\" class=\\\"album\\\">album: <b>\\\"Scars And Stories\\\"<\\/b> (2012)<\\/div>\\r\\n<div class=\\\"listalbum-item\\\"><a href=\\\"\\/lyrics\\/fray\\/heartbeat.html\\\" target=\\\"_blank\\\">Heartbeat<\\/a><\\/div>\\n<div class=\\\"listalbum-item\\\"><a href=\\\"\\/lyrics\\/fray\\/thefighter.html\\\" target=\\\"_blank\\\">The Fighter<\\/a><\\/div>\\n<div class=\\\"listalbum-item\\\"><a href=\\\"\\/lyrics\\/fray\\/turnmeon.html\\\" target=\\\"_blank\\\">Turn Me On<\\/a><\\/div>\\n<div class=\\\"listalbum-item\\\"><a href=\\\"\\/lyrics\\/fray\\/runforyourlife.html\\\" target=\\\"_blank\\\">Run For Your Life<\\/a><\\/div>\\n<div class=\\\"listalbum-item\\\"><a href=\\\"\\/lyrics\\/fray\\/thewind.html\\\" target=\\\"_blank\\\">The Wind<\\/a><\\/div>\\n<div class=\\\"listalbum-item\\\"><a href=\\\"\\/lyrics\\/fray\\/1961.html\\\" target=\\\"_blank\\\">1961<\\/a><\\/div>\\n<div class=\\\"listalbum-item\\\"><a href=\\\"\\/lyrics\\/fray\\/icanbarelysay.html\\\" target=\\\"_blank\\\">I Can Barely Say<\\/a><\\/div>\\n<div class=\\\"listalbum-item\\\"><a href=\\\"\\/lyrics\\/fray\\/munich.html\\\" target=\\\"_blank\\\">Munich<\\/a><\\/div>\\n<div class=\\\"listalbum-item\\\"><a href=\\\"\\/lyrics\\/fray\\/hereweare.html\\\" target=\\\"_blank\\\">Here We Are<\\/a><\\/div>\\n<div class=\\\"listalbum-item\\\"><a href=\\\"\\/lyrics\\/fray\\/48togo.html\\\" target=\\\"_blank\\\">48 To Go<\\/a><\\/div>\\n<div class=\\\"listalbum-item\\\"><a href=\\\"\\/lyrics\\/fray\\/rainyzurich.html\\\" target=\\\"_blank\\\">Rainy Zurich<\\/a><\\/div>\\n<div class=\\\"listalbum-item\\\"><a href=\\\"\\/lyrics\\/fray\\/bestill.html\\\" target=\\\"_blank\\\">Be Still<\\/a><\\/div>\\n<div class=\\\"listalbum-item\\\"><a href=\\\"\\/lyrics\\/fray\\/maps.html\\\" target=\\\"_blank\\\">Maps<\\/a><div class=\\\"comment\\\">(Pre-Order iTunes Deluxe Edition Bonus Track)<\\/div><\\/div>\\n<div class=\\\"listalbum-item\\\"><a href=\\\"\\/lyrics\\/fray\\/readyornot.html\\\" target=\\\"_blank\\\">Ready Or Not<\\/a><div class=\\\"comment\\\">(Pre-Order iTunes Deluxe Edition Bonus Track)<\\/div><\\/div>\\n<div class=\\\"listalbum-item\\\"><a href=\\\"\\/lyrics\\/fray\\/why.html\\\" target=\\\"_blank\\\">Why<\\/a><div class=\\\"comment\\\">(Pre-Order iTunes Deluxe Edition Bonus Track)<\\/div><\\/div>\\n<div class=\\\"listalbum-item\\\"><a href=\\\"\\/lyrics\\/fray\\/bouldertobirmingham.html\\\" target=\\\"_blank\\\">Boulder To Birmingham<\\/a><div class=\\\"comment\\\">(Pre-Order iTunes Deluxe Edition Bonus Track)<\\/div><\\/div>\\n<div class=\\\"listalbum-item\\\"><a href=\\\"\\/lyrics\\/fray\\/streetsofphiladelphia.html\\\" target=\\\"_blank\\\">Streets Of Philadelphia<\\/a><div class=\\\"comment\\\">(Pre-Order iTunes Deluxe Edition Bonus Track)<\\/div><\\/div>\\n\\r\\n\",\"<div id=\\\"30787\\\" class=\\\"album\\\">album: <b>\\\"Helios\\\"<\\/b> (2014)<div><img src=\\\"\\/images\\/albums\\/307\\/be266a055e1409755eb5f2f9f1c41a75.jpg\\\" class=\\\"album-image\\\" alt=\\\"The Fray - Helios album cover\\\" \\/><\\/div><\\/div>\\r\\n<div class=\\\"listalbum-item\\\"><a href=\\\"\\/lyrics\\/fray\\/holdmyhand.html\\\" target=\\\"_blank\\\">Hold My Hand<\\/a><\\/div>\\n<div class=\\\"listalbum-item\\\"><a href=\\\"\\/lyrics\\/fray\\/lovedontdie.html\\\" target=\\\"_blank\\\">Love Don't Die<\\/a><\\/div>\\n<div class=\\\"listalbum-item\\\"><a href=\\\"\\/lyrics\\/fray\\/giveitaway.html\\\" target=\\\"_blank\\\">Give It Away<\\/a><\\/div>\\n<div class=\\\"listalbum-item\\\"><a href=\\\"\\/lyrics\\/fray\\/closertome.html\\\" target=\\\"_blank\\\">Closer To Me<\\/a><\\/div>\\n<div class=\\\"listalbum-item\\\"><a href=\\\"\\/lyrics\\/fray\\/hurricane.html\\\" target=\\\"_blank\\\">Hurricane<\\/a><\\/div>\\n<div class=\\\"listalbum-item\\\"><a href=\\\"\\/lyrics\\/fray\\/keeponwanting.html\\\" target=\\\"_blank\\\">Keep On Wanting<\\/a><\\/div>\\n<div class=\\\"listalbum-item\\\"><a href=\\\"\\/lyrics\\/fray\\/ourlastdays.html\\\" target=\\\"_blank\\\">Our Last Days<\\/a><\\/div>\\n<div class=\\\"listalbum-item\\\"><a href=\\\"\\/lyrics\\/fray\\/breakyourplans.html\\\" target=\\\"_blank\\\">Break Your Plans<\\/a><\\/div>\\n<div class=\\\"listalbum-item\\\"><a href=\\\"\\/lyrics\\/fray\\/whereverthisgoes.html\\\" target=\\\"_blank\\\">Wherever This Goes<\\/a><\\/div>\\n<div class=\\\"listalbum-item\\\"><a href=\\\"\\/lyrics\\/fray\\/shadowandadancer.html\\\" target=\\\"_blank\\\">Shadow And A Dancer<\\/a><\\/div>\\n<div class=\\\"listalbum-item\\\"><a href=\\\"\\/lyrics\\/fray\\/sameasyou.html\\\" target=\\\"_blank\\\">Same As You<\\/a><\\/div>\\n<div class=\\\"listalbum-item\\\"><a href=\\\"\\/lyrics\\/fray\\/wintersun.html\\\" target=\\\"_blank\\\">Winter Sun<\\/a><div class=\\\"comment\\\">(Japanese Bonus Track)<\\/div><\\/div>\\n<div class=\\\"listalbum-item\\\"><a href=\\\"\\/lyrics\\/fray\\/500000acres.html\\\" target=\\\"_blank\\\">500,000 Acres<\\/a><div class=\\\"comment\\\">(Japanese Bonus Track)<\\/div><\\/div>\\n\\r\\n\",\"<div id=\\\"133375\\\" class=\\\"album\\\">EP: <b>\\\"The Fray Is Back\\\"<\\/b> (2024)<div><img src=\\\"\\/images\\/albums\\/133\\/99f32a18149d630e64d6cc57e616b826.jpg\\\" class=\\\"album-image\\\" alt=\\\"The Fray - The Fray Is Back EP cover\\\" \\/><\\/div><\\/div>\\r\\n<div class=\\\"listalbum-item\\\"><a href=\\\"\\/lyrics\\/fray\\/angelenomoon.html\\\" target=\\\"_blank\\\">Angeleno Moon<\\/a><\\/div>\\n<div class=\\\"listalbum-item\\\"><a href=\\\"\\/lyrics\\/fray\\/samething.html\\\" target=\\\"_blank\\\">Same Thing<\\/a><\\/div>\\n<div class=\\\"listalbum-item\\\"><a href=\\\"\\/lyrics\\/fray\\/notnow.html\\\" target=\\\"_blank\\\">Not Now<\\/a><\\/div>\\n<div class=\\\"listalbum-item\\\"><a href=\\\"\\/lyrics\\/fray\\/dontlookdown.html\\\" target=\\\"_blank\\\">Don't Look Down<\\/a><\\/div>\\n<div class=\\\"listalbum-item\\\"><a href=\\\"\\/lyrics\\/fray\\/timewellwasted.html\\\" target=\\\"_blank\\\">Time Well Wasted<\\/a><\\/div>\\n<div class=\\\"listalbum-item\\\"><a href=\\\"\\/lyrics\\/fray\\/knownyoualways.html\\\" target=\\\"_blank\\\">Known You Always<\\/a><\\/div>\\n\\r\\n\"];\n",
      "var albumlist_others = \"<div class=\\\"album\\\"><b>other songs:<\\/b><\\/div>\\n<div class=\\\"listalbum-item\\\"><a href=\\\"\\/lyrics\\/fray\\/changingtides.html\\\" target=\\\"_blank\\\">Changing Tides<\\/a><div class=\\\"comment\\\">(from &quot;Through the Years: The Best of The Fray&quot; album)<\\/div><\\/div>\\n<div class=\\\"listalbum-item\\\"><a href=\\\"\\/lyrics\\/fray\\/corners.html\\\" target=\\\"_blank\\\">Corners<\\/a><div class=\\\"comment\\\">(from &quot;Through the Years: The Best of The Fray&quot; album)<\\/div><\\/div>\\n<div class=\\\"listalbum-item\\\"><a href=\\\"\\/lyrics\\/fray\\/dixie.html\\\" target=\\\"_blank\\\">Dixie<\\/a><\\/div>\\n<div class=\\\"listalbum-item\\\"><a href=\\\"\\/lyrics\\/fray\\/happyxmaswarisover.html\\\" target=\\\"_blank\\\">Happy Xmas (War Is Over)<\\/a><\\/div>\\n<div class=\\\"listalbum-item\\\"><a href=\\\"\\/lyrics\\/fray\\/itsforyou.html\\\" target=\\\"_blank\\\">It's For You<\\/a><\\/div>\\n<div class=\\\"listalbum-item\\\"><a href=\\\"\\/lyrics\\/fray\\/kissme.html\\\" target=\\\"_blank\\\">Kiss Me<\\/a><\\/div>\\n<div class=\\\"listalbum-item\\\"><a href=\\\"\\/lyrics\\/fray\\/singinglow.html\\\" target=\\\"_blank\\\">Singing Low<\\/a><div class=\\\"comment\\\">(from &quot;Through the Years: The Best of The Fray&quot; album)<\\/div><\\/div>\\n<div class=\\\"listalbum-item\\\"><a href=\\\"\\/lyrics\\/fray\\/whereyouwantto.html\\\" target=\\\"_blank\\\">Where You Want To<\\/a><\\/div>\\n\\n\";\n",
      "\n",
      "window.addEventListener('DOMContentLoaded', function(){\n",
      "\n",
      "$('#az_sort_song').on('click',function(event){\n",
      "    var sortprop='data-az-song-sort';\n",
      "    var el = event.currentTarget;\n",
      "    var el_glyph = $(el).children('span.glyphicon');\n",
      "    var res='';\n",
      "    if(el.getAttribute(sortprop)){\n",
      "        el.setAttribute(sortprop,'');\n",
      "        el_glyph.removeClass('glyphicon-sort-by-alphabet');\n",
      "        el_glyph.addClass('glyphicon-sort-by-alphabet-alt');\n",
      "        for (var i=(songlist.length-1); i>=0; i--) {\n",
      "            res += '<div class=\"listalbum-item\"><a href=\"'+songlist[i].h+'\" target=\"_blank\"'+songlist[i].link_class +'>'+songlist[i].s+''+songlist[i].c+'</a>'+(songlist[i].a==\"\" ? '' : ' <div class=\"comment\">('+songlist[i].a+')</div>')+'</div>';\n",
      "        }\n",
      "    }else{\n",
      "        el.setAttribute(sortprop,'1');\n",
      "        el_glyph.removeClass('glyphicon-sort-by-alphabet-alt');\n",
      "        el_glyph.addClass('glyphicon-sort-by-alphabet');\n",
      "        for (var i=0; i<songlist.length; i++) {\n",
      "            res += '<div class=\"listalbum-item\"><a href=\"'+songlist[i].h+'\" target=\"_blank\"'+songlist[i].link_class +'>'+songlist[i].s+''+songlist[i].c+'</a>'+(songlist[i].a==\"\" ? '' : ' <div class=\"comment\">('+songlist[i].a+')</div>')+'</div>';\n",
      "        }\n",
      "    }\n",
      "    $('#listAlbum').html(res);\n",
      "    $('#listAlbum').css('padding-top','15px');\n",
      "});\n",
      "\n",
      "$('#az_sort_album').on('click',function(event){\n",
      "    var sortprop='data-az-album-sort';\n",
      "    var el = event.currentTarget;\n",
      "    var el_glyph = $(el).children('span.glyphicon');\n",
      "    var res='';\n",
      "    if(el.getAttribute(sortprop)){\n",
      "        el.setAttribute(sortprop,'');\n",
      "        el_glyph.removeClass('glyphicon-sort-by-order');\n",
      "        el_glyph.addClass('glyphicon-sort-by-order-alt');\n",
      "        for (var i=(albumlist.length-1); i>=0; i--) {\n",
      "            res += albumlist[i];\n",
      "        }\n",
      "    }else{\n",
      "        el.setAttribute(sortprop,'1');\n",
      "        el_glyph.removeClass('glyphicon-sort-by-order-alt');\n",
      "        el_glyph.addClass('glyphicon-sort-by-order');\n",
      "        for (var i=0; i<albumlist.length; i++) {\n",
      "            res += albumlist[i];\n",
      "        }\n",
      "    }\n",
      "    res += albumlist_others;\n",
      "    $('#listAlbum').html(res);\n",
      "    $('#listAlbum').css('padding-top','0');\n",
      "});\n",
      "\n",
      "});\n",
      "//-->\n",
      "</script>\n",
      "</div>\n",
      "<!-- end of song list -->\n",
      "<div class=\"ringtone\">\n",
      "<span id=\"cf_text_bottom\"></span>\n",
      "</div>\n",
      "<form action=\"//search.azlyrics.com/search.php\" class=\"search noprint\" method=\"get\" role=\"search\">\n",
      "<div class=\"input-group\" style=\"margin-bottom:15px\">\n",
      "<input class=\"form-control\" name=\"q\" placeholder=\"\" type=\"text\"/>\n",
      "<span class=\"input-group-btn\">\n",
      "<button class=\"btn btn-primary\" type=\"submit\"><span class=\"glyphicon glyphicon-search\"></span> Search</button>\n",
      "</span>\n",
      "</div>\n",
      "</form>\n",
      "</div> <!-- content -->\n",
      "<div class=\"col-lg-2 text-center hidden-md hidden-sm hidden-xs\">\n",
      "<div class=\"sky-ad\"></div>\n",
      "</div>\n",
      "</div>\n",
      "</div> <!-- container main-page -->\n",
      "<!-- nav bottom -->\n",
      "<nav class=\"navbar navbar-default navbar-bottom\">\n",
      "<div class=\"container text-center\">\n",
      "<ul class=\"nav navbar-nav navbar-center\">\n",
      "<li><a href=\"#\" onclick=\"document.forms['addsong'].submit();return false;\">Submit Lyrics</a></li>\n",
      "<li><a href=\"//www.stlyrics.com\">Soundtracks</a></li>\n",
      "<li><a href=\"//www.facebook.com/pages/AZLyricscom/154139197951223\">Facebook</a></li>\n",
      "<li><a href=\"//www.azlyrics.com/contact.html\">Contact Us</a></li>\n",
      "</ul>\n",
      "</div>\n",
      "</nav>\n",
      "<!-- footer -->\n",
      "<nav class=\"navbar navbar-footer\">\n",
      "<div class=\"container text-center\">\n",
      "<ul class=\"nav navbar-nav navbar-center\">\n",
      "<li><a href=\"//www.azlyrics.com/adv.html\">Advertise Here</a></li>\n",
      "<li><a href=\"//www.azlyrics.com/privacy.html\">Privacy Policy</a></li>\n",
      "<li><a href=\"//www.azlyrics.com/cookie.html\">Cookie Policy</a></li>\n",
      "<li><a href=\"//www.azlyrics.com/copyright.html\">DMCA Policy</a></li>\n",
      "</ul>\n",
      "</div>\n",
      "</nav>\n",
      "<div class=\"footer-wrap\">\n",
      "<div class=\"container\">\n",
      "<small>\n",
      "<script type=\"text/javascript\">\n",
      "                curdate=new Date();\n",
      "                document.write(\"<strong>Copyright &copy; 2000-\"+curdate.getFullYear()+\" AZLyrics.com<\\/strong>\");\n",
      "             </script>\n",
      "</small>\n",
      "</div>\n",
      "</div>\n",
      "<!-- iOS Exit Interstitial -->\n",
      "<div id=\"amplified_100006366\"></div>\n",
      "<!-- Desktop Exit Interstitial -->\n",
      "<div id=\"amplified_100006383\"></div>\n",
      "<div class=\"hidden\" id=\"CssFailCheck\" style=\"height:1px;\"></div>\n",
      "<script src=\"https://ajax.googleapis.com/ajax/libs/jquery/1.12.4/jquery.min.js\"></script>\n",
      "<script>window.jQuery || document.write('<script src=\"//www.azlyrics.com/local/jquery.min.js\"><\\/script>')</script>\n",
      "<script>\n",
      "      $(function () {\n",
      "       if ($('#CssFailCheck').is(':visible') === true) {\n",
      "         $('<link rel=\"stylesheet\" type=\"text/css\" href=\"//www.azlyrics.com/bs/css/bootstrap.min.css\"><link rel=\"stylesheet\" href=\"//www.azlyrics.com/bsaz.css\">').appendTo('head');\n",
      "       }\n",
      "      });\n",
      "    </script>\n",
      "<script>\n",
      "    cf_page_artist = ArtistName;\n",
      "    cf_page_song = \"\";\n",
      "    cf_page_genre = \"pop\";\n",
      "    cf_no_bit = 0;\n",
      "    </script>\n",
      "<script src=\"/local/anew.js\"></script>\n",
      "<script src=\"/local/az.js\"></script>\n",
      "<script src=\"/geo.js\"></script>\n",
      "</body>\n",
      "</html>\n",
      "\n"
     ]
    }
   ],
   "source": [
    "print(fray_all)"
   ]
  },
  {
   "cell_type": "code",
   "execution_count": 31,
   "id": "a5523a66-6359-4c55-afc1-08e5a312f723",
   "metadata": {},
   "outputs": [],
   "source": [
    "#how to save a life div class = 'album' id = 5238\n",
    "album_test = fray_all.find_all('div', class_='album')#.get_text(strip=True)"
   ]
  },
  {
   "cell_type": "code",
   "execution_count": 32,
   "id": "3dbc536e-4ce9-4bef-b54c-f887ba742878",
   "metadata": {},
   "outputs": [
    {
     "name": "stdout",
     "output_type": "stream",
     "text": [
      "[<div class=\"album\" id=\"5316\">EP: <b>\"Reason\"</b> (2003)</div>, <div class=\"album\" id=\"5238\">album: <b>\"How To Save A Life\"</b> (2005)<div><img alt=\"The Fray - How To Save A Life album cover\" class=\"album-image\" src=\"/images/albums/523/1cdf9fb4eec6127cc8c91fd9513b8bd7.jpg\"/></div></div>, <div class=\"album\" id=\"7206\">album: <b>\"The Fray\"</b> (2009)<div><img alt=\"The Fray - The Fray album cover\" class=\"album-image\" src=\"/images/albums/720/6903270199b99aa244c9e6552b37c182.jpg\"/></div></div>, <div class=\"album\" id=\"18612\">album: <b>\"Scars And Stories\"</b> (2012)</div>, <div class=\"album\" id=\"30787\">album: <b>\"Helios\"</b> (2014)<div><img alt=\"The Fray - Helios album cover\" class=\"album-image\" src=\"/images/albums/307/be266a055e1409755eb5f2f9f1c41a75.jpg\"/></div></div>, <div class=\"album\" id=\"133375\">EP: <b>\"The Fray Is Back\"</b> (2024)<div><img alt=\"The Fray - The Fray Is Back EP cover\" class=\"album-image\" src=\"/images/albums/133/99f32a18149d630e64d6cc57e616b826.jpg\"/></div></div>, <div class=\"album\"><b>other songs:</b></div>]\n"
     ]
    }
   ],
   "source": [
    "print(album_test)"
   ]
  },
  {
   "cell_type": "code",
   "execution_count": 33,
   "id": "d9b758f2-f267-4b5a-a32a-4d672ee1ff11",
   "metadata": {},
   "outputs": [],
   "source": [
    "album_list = []\n",
    "for item in album_test:\n",
    "    item2 = item.get_text(strip=True)\n",
    "    album_list.append(item2)"
   ]
  },
  {
   "cell_type": "code",
   "execution_count": 34,
   "id": "de93ec41-12a3-45b9-b3f0-5eee841be77e",
   "metadata": {},
   "outputs": [
    {
     "name": "stdout",
     "output_type": "stream",
     "text": [
      "['EP:\"Reason\"(2003)', 'album:\"How To Save A Life\"(2005)', 'album:\"The Fray\"(2009)', 'album:\"Scars And Stories\"(2012)', 'album:\"Helios\"(2014)', 'EP:\"The Fray Is Back\"(2024)', 'other songs:']\n"
     ]
    }
   ],
   "source": [
    "print(album_list)"
   ]
  },
  {
   "cell_type": "code",
   "execution_count": 35,
   "id": "c1c42253-8c5a-43f7-8da7-9b9009df0407",
   "metadata": {},
   "outputs": [],
   "source": [
    "master_list = fray_all.find_all('div', class_='listalbum-item')"
   ]
  },
  {
   "cell_type": "code",
   "execution_count": 36,
   "id": "085efcf1-8195-490f-9363-26bfe20ad04c",
   "metadata": {},
   "outputs": [],
   "source": [
    "new_master_song_list = []"
   ]
  },
  {
   "cell_type": "code",
   "execution_count": 37,
   "id": "2d7362f2-4013-4290-b96e-c5586182f41e",
   "metadata": {},
   "outputs": [],
   "source": [
    "for item in master_list:\n",
    "    item2 = item.get_text(strip=True)\n",
    "    new_master_song_list.append(item2)"
   ]
  },
  {
   "cell_type": "code",
   "execution_count": 38,
   "id": "f84354b1-acbd-4e1b-8310-c983eadd2d96",
   "metadata": {},
   "outputs": [
    {
     "name": "stdout",
     "output_type": "stream",
     "text": [
      "['Together', 'Some Trust', 'Vienna', 'Without Reason', 'City Hall', 'Oceans', 'Unsaid', 'She Is', 'Over My Head (Cable Car)', 'How To Save A Life', 'All At Once', 'Fall Away', 'Heaven Forbid', 'Look After You', 'Hundred', 'Vienna', 'Dead Wrong', 'Little House', 'Trust Me', 'Syndicate', 'Absolute', 'You Found Me', 'Say When', 'Never Say Never', 'Where The Story Ends', 'Enough For Now', 'Ungodly Hour', 'We Build Then We Break', 'Happiness', 'Heartless(Deluxe Edition Bonus Track)', 'Fair Fight(iTunes Bonus Track)', 'Be The One(Deluxe Edition Bonus Track)', 'Uncertainty(iTunes Bonus Track)', 'Heartbeat', 'The Fighter', 'Turn Me On', 'Run For Your Life', 'The Wind', '1961', 'I Can Barely Say', 'Munich', 'Here We Are', '48 To Go', 'Rainy Zurich', 'Be Still', 'Maps(Pre-Order iTunes Deluxe Edition Bonus Track)', 'Ready Or Not(Pre-Order iTunes Deluxe Edition Bonus Track)', 'Why(Pre-Order iTunes Deluxe Edition Bonus Track)', 'Boulder To Birmingham(Pre-Order iTunes Deluxe Edition Bonus Track)', 'Streets Of Philadelphia(Pre-Order iTunes Deluxe Edition Bonus Track)', 'Hold My Hand', \"Love Don't Die\", 'Give It Away', 'Closer To Me', 'Hurricane', 'Keep On Wanting', 'Our Last Days', 'Break Your Plans', 'Wherever This Goes', 'Shadow And A Dancer', 'Same As You', 'Winter Sun(Japanese Bonus Track)', '500,000 Acres(Japanese Bonus Track)', 'Angeleno Moon', 'Same Thing', 'Not Now', \"Don't Look Down\", 'Time Well Wasted', 'Known You Always', 'Changing Tides(from \"Through the Years: The Best of The Fray\" album)', 'Corners(from \"Through the Years: The Best of The Fray\" album)', 'Dixie', 'Happy Xmas (War Is Over)', \"It's For You\", 'Kiss Me', 'Singing Low(from \"Through the Years: The Best of The Fray\" album)', 'Where You Want To']\n"
     ]
    }
   ],
   "source": [
    "print(new_master_song_list)"
   ]
  },
  {
   "cell_type": "code",
   "execution_count": 39,
   "id": "67d4c900-56ab-4042-9b38-807a2c665da8",
   "metadata": {},
   "outputs": [],
   "source": [
    "#next step is is to clean this and get rid of the quotes, single quotes, and anything in parenthesis"
   ]
  },
  {
   "cell_type": "code",
   "execution_count": 40,
   "id": "5650d6bc-f429-40a7-9b33-5e5983277263",
   "metadata": {},
   "outputs": [],
   "source": [
    "new_list = []\n",
    "for item in new_master_song_list:\n",
    "    if item in new_list:\n",
    "        None\n",
    "    elif item == 'Over My Head (Cable Car)': \n",
    "        new_list.append(item)\n",
    "    elif item == 'Happy Xmas (War Is Over)':\n",
    "        new_list.append(item)\n",
    "    else:\n",
    "    #print(item)\n",
    "        item = re.sub(r'\\(.*\\)', '', item)\n",
    "    #print(item)\n",
    "        new_list.append(item)"
   ]
  },
  {
   "cell_type": "code",
   "execution_count": 41,
   "id": "240a7db6-2240-433c-95be-33d1a436ee8b",
   "metadata": {},
   "outputs": [
    {
     "name": "stdout",
     "output_type": "stream",
     "text": [
      "['Together', 'Some Trust', 'Vienna', 'Without Reason', 'City Hall', 'Oceans', 'Unsaid', 'She Is', 'Over My Head (Cable Car)', 'How To Save A Life', 'All At Once', 'Fall Away', 'Heaven Forbid', 'Look After You', 'Hundred', 'Dead Wrong', 'Little House', 'Trust Me', 'Syndicate', 'Absolute', 'You Found Me', 'Say When', 'Never Say Never', 'Where The Story Ends', 'Enough For Now', 'Ungodly Hour', 'We Build Then We Break', 'Happiness', 'Heartless', 'Fair Fight', 'Be The One', 'Uncertainty', 'Heartbeat', 'The Fighter', 'Turn Me On', 'Run For Your Life', 'The Wind', '1961', 'I Can Barely Say', 'Munich', 'Here We Are', '48 To Go', 'Rainy Zurich', 'Be Still', 'Maps', 'Ready Or Not', 'Why', 'Boulder To Birmingham', 'Streets Of Philadelphia', 'Hold My Hand', \"Love Don't Die\", 'Give It Away', 'Closer To Me', 'Hurricane', 'Keep On Wanting', 'Our Last Days', 'Break Your Plans', 'Wherever This Goes', 'Shadow And A Dancer', 'Same As You', 'Winter Sun', '500,000 Acres', 'Angeleno Moon', 'Same Thing', 'Not Now', \"Don't Look Down\", 'Time Well Wasted', 'Known You Always', 'Changing Tides', 'Corners', 'Dixie', 'Happy Xmas (War Is Over)', \"It's For You\", 'Kiss Me', 'Singing Low', 'Where You Want To']\n"
     ]
    }
   ],
   "source": [
    "print(new_list)"
   ]
  },
  {
   "cell_type": "code",
   "execution_count": 42,
   "id": "cd01152a-06bb-4847-8016-b5f1953f3167",
   "metadata": {},
   "outputs": [
    {
     "name": "stdout",
     "output_type": "stream",
     "text": [
      "Love Don't Die\n"
     ]
    }
   ],
   "source": [
    "print(new_list[50])"
   ]
  },
  {
   "cell_type": "code",
   "execution_count": 43,
   "id": "a046b858-b244-40a1-8fd3-0a6b1aa9e5ed",
   "metadata": {},
   "outputs": [],
   "source": [
    "newest_list = new_list[50:] #made this because someone didn't clean their data well enough and hit an error with the apostrophe in \n",
    "#love don't die's title"
   ]
  },
  {
   "cell_type": "code",
   "execution_count": 44,
   "id": "c3ab502e-7754-4c37-859a-52d89c933c7b",
   "metadata": {},
   "outputs": [],
   "source": [
    "most_new_list = newest_list[18:]"
   ]
  },
  {
   "cell_type": "code",
   "execution_count": 45,
   "id": "ebb8ad56-c5c7-40c6-bdef-2df0edff7fa8",
   "metadata": {},
   "outputs": [
    {
     "name": "stdout",
     "output_type": "stream",
     "text": [
      "['Changing Tides', 'Corners', 'Dixie', 'Happy Xmas (War Is Over)', \"It's For You\", 'Kiss Me', 'Singing Low', 'Where You Want To']\n"
     ]
    }
   ],
   "source": [
    "print(most_new_list)"
   ]
  },
  {
   "cell_type": "markdown",
   "id": "4aa8c481-3b5d-4cfc-ac62-2ca7fb6e696a",
   "metadata": {},
   "source": [
    "### Create loop to get all of the song lyrics"
   ]
  },
  {
   "cell_type": "code",
   "execution_count": 46,
   "id": "09d8e38b-e8b3-4bd7-9288-7dd71f86bfde",
   "metadata": {},
   "outputs": [
    {
     "name": "stdout",
     "output_type": "stream",
     "text": [
      "I just finished with together.\n",
      "I just finished with sometrust.\n",
      "I just finished with vienna.\n",
      "I just finished with withoutreason.\n",
      "I just finished with cityhall.\n",
      "I just finished with oceans.\n"
     ]
    },
    {
     "ename": "KeyboardInterrupt",
     "evalue": "",
     "output_type": "error",
     "traceback": [
      "\u001b[1;31m---------------------------------------------------------------------------\u001b[0m",
      "\u001b[1;31mKeyboardInterrupt\u001b[0m                         Traceback (most recent call last)",
      "Cell \u001b[1;32mIn[46], line 28\u001b[0m\n\u001b[0;32m     26\u001b[0m song_dict\u001b[38;5;241m.\u001b[39mupdate({song_title:song_information})\n\u001b[0;32m     27\u001b[0m \u001b[38;5;28mprint\u001b[39m(\u001b[38;5;124mf\u001b[39m\u001b[38;5;124m\"\u001b[39m\u001b[38;5;124mI just finished with \u001b[39m\u001b[38;5;132;01m{\u001b[39;00msong\u001b[38;5;132;01m}\u001b[39;00m\u001b[38;5;124m.\u001b[39m\u001b[38;5;124m\"\u001b[39m)\n\u001b[1;32m---> 28\u001b[0m sleep(randint(\u001b[38;5;241m10\u001b[39m,\u001b[38;5;241m30\u001b[39m))\n",
      "\u001b[1;31mKeyboardInterrupt\u001b[0m: "
     ]
    }
   ],
   "source": [
    "for song in new_list:\n",
    "    song = song.lower()\n",
    "    song = song.replace('(','')\n",
    "    song = song.replace(')','')\n",
    "    song = song.replace(\"'\",'')\n",
    "    song = song.replace(',','')\n",
    "    song = song.replace(' ','')\n",
    "    url = 'https://www.azlyrics.com/lyrics/fray/'+song+'.html'\n",
    "    response = requests.get(url)\n",
    "    soup = BeautifulSoup(response.content, 'html.parser')\n",
    "    #get artist name\n",
    "    tag = soup.b.get_text().replace(\"Lyrics\",'')\n",
    "    artist = tag.strip()\n",
    "    title = soup.title.get_text()\n",
    "    title3 = title.split(\"Lyrics\")\n",
    "    song_title = title3[0].replace('The Fray - ', '').strip()\n",
    "    test3 = soup.find('div', class_='songinalbum_title').get_text(strip=True)\n",
    "    test4 = test3.replace('\"', '')\n",
    "    test4 = test4.replace('album:', '')\n",
    "    test5 = test4.split('(')\n",
    "    album_title = test5[0]\n",
    "    if len(test5) >=2:\n",
    "        album_year = test5[1].replace(')','')\n",
    "    lyrics = soup.select_one(\".ringtone ~ div\").get_text(strip=True, separator=\"\\n\")\n",
    "    song_information = [artist, album_title, album_year, lyrics]\n",
    "    song_dict.update({song_title:song_information})\n",
    "    print(f\"I just finished with {song}.\")\n",
    "    sleep(randint(10,30))\n",
    "    "
   ]
  },
  {
   "cell_type": "code",
   "execution_count": null,
   "id": "ed46a3f3-ee98-42f4-a33b-ba612259b4ae",
   "metadata": {},
   "outputs": [],
   "source": [
    "print(len(song_dict))"
   ]
  },
  {
   "cell_type": "code",
   "execution_count": null,
   "id": "c4d2f44a-f4a7-4587-a881-0fcc622f7627",
   "metadata": {},
   "outputs": [],
   "source": [
    "print(song_dict['Known You Always'])"
   ]
  },
  {
   "cell_type": "code",
   "execution_count": null,
   "id": "8cb98702-e9c1-4d79-8233-f8b0f37ef3a8",
   "metadata": {},
   "outputs": [],
   "source": [
    "song_df = pd.DataFrame.from_dict(song_dict, orient='index')"
   ]
  },
  {
   "cell_type": "code",
   "execution_count": null,
   "id": "9039054b-fc4c-4af1-9b10-c87d6bd4bca9",
   "metadata": {},
   "outputs": [],
   "source": [
    "song_df.head()"
   ]
  },
  {
   "cell_type": "code",
   "execution_count": null,
   "id": "005c4ea8-c534-4551-a868-28a29db3bf18",
   "metadata": {},
   "outputs": [],
   "source": [
    "song_df.rename(columns={'Unnamed: 0':'Song_Title'},inplace=True)"
   ]
  },
  {
   "cell_type": "code",
   "execution_count": null,
   "id": "2f20a279-92ab-4841-8f1b-9917a96c0a8b",
   "metadata": {},
   "outputs": [],
   "source": [
    "song_df.head()"
   ]
  },
  {
   "cell_type": "code",
   "execution_count": null,
   "id": "375f9b68-f161-4641-95ea-b5fdc1162abe",
   "metadata": {},
   "outputs": [],
   "source": [
    "song_df['Album'].value_counts()"
   ]
  },
  {
   "cell_type": "markdown",
   "id": "81f39795-e6d7-4255-952d-4cdfe4e9e03d",
   "metadata": {},
   "source": [
    "I saved the dataframe to a csv after I collected the data so that I would not have to rescrape all of the lyrics everytime I restarted this notebook. "
   ]
  },
  {
   "cell_type": "code",
   "execution_count": null,
   "id": "d37aae05-4288-4f5f-9374-d830cbaf5558",
   "metadata": {},
   "outputs": [],
   "source": [
    "song_df.to_csv('TheFraySongs.csv')"
   ]
  },
  {
   "cell_type": "code",
   "execution_count": 6,
   "id": "50887ffd-d75e-4bb2-bc99-bbd62fbbe415",
   "metadata": {},
   "outputs": [],
   "source": [
    "song_df = pd.read_csv('TheFraySongs.csv')"
   ]
  },
  {
   "cell_type": "code",
   "execution_count": 7,
   "id": "e1052444-81d4-4f88-84f4-c53ce2ec0540",
   "metadata": {},
   "outputs": [],
   "source": [
    "song_df.rename(columns={'Unnamed: 0':'Song_Title'},inplace=True)"
   ]
  },
  {
   "cell_type": "markdown",
   "id": "93062875-f9d8-42cd-8220-51e665741f3e",
   "metadata": {},
   "source": [
    "#### Create Vectorizer for K Means Clustering"
   ]
  },
  {
   "cell_type": "markdown",
   "id": "a6c07de2-f642-4b5a-bac8-e2b62558d75a",
   "metadata": {},
   "source": [
    "##### tokenizing and lemmatizing, then removing stop words"
   ]
  },
  {
   "cell_type": "markdown",
   "id": "01b8fdc5-9f14-4d18-9b87-a043e8a035a5",
   "metadata": {},
   "source": [
    "I did a couple of things here, first, I accomplished most of the data cleaning I wanted to in my 'for loop' above. I did find, over the course of my project, that I could have also dropped out brackets and contractions ended up giving me a headache. But, I left the brackets in the songs, as they were not an issue when I tweaked my vectorizer settings later on in the project, and I found a package that made light work of fixing contractions. So, those two headaches were solved. \n",
    "\n",
    "I ended up using, what I called, a \"simple\" version of the song lyrics for this analysis. I decided the lemmatized words were a little too far from the actual song lyrics to do what I wanted and I felt like the \"raw\" vectorized song lyrics were a little tricky for the algorithm to deal with. Tricky because songs are very repetitive by nature and so some words would be weighted differently based on their frequency in the song's chorus. I decided that I would interpret each song by analyzing the unique lines of the song. So, the song ended up looking more like a poem, with a lot less repetition than a song normally would have because I essentially only counted the chorus once.\n",
    "\n",
    "My thought process with this was that the \"noise\" would be reduced, and that, from a thematic perspective, the song would not be deeply changed. But I would allow my algorithm to \"hear\" the verses a little more clearly. I think the verses are equally important to determining a song's theme to the chorus. "
   ]
  },
  {
   "cell_type": "code",
   "execution_count": 8,
   "id": "67ac30ef-de95-4236-995e-a562baa00816",
   "metadata": {},
   "outputs": [],
   "source": [
    "stopwords = set(stopwords.words('english'))"
   ]
  },
  {
   "cell_type": "code",
   "execution_count": 9,
   "id": "db05768f-328b-40c9-b25f-baa7c74c67e8",
   "metadata": {},
   "outputs": [],
   "source": [
    "song_lyrics_list = song_df['Lyrics'].to_list()\n",
    "song_lyrics_list2 = []\n",
    "for song in song_lyrics_list:\n",
    "    new_song = song.replace(\"\\n\", ' ')\n",
    "    song_lyrics_list2.append(new_song)"
   ]
  },
  {
   "cell_type": "code",
   "execution_count": 10,
   "id": "90fe31ba-27d2-4adb-a11f-60439d02c597",
   "metadata": {},
   "outputs": [],
   "source": [
    "token_lyrics = []"
   ]
  },
  {
   "cell_type": "code",
   "execution_count": 11,
   "id": "6eaa8ef6-03e0-49bd-944a-912bca1c6d44",
   "metadata": {},
   "outputs": [],
   "source": [
    "for song in song_lyrics_list2:\n",
    "    filtered_lyrics = []\n",
    "    lyrics = word_tokenize(song.lower())\n",
    "    for word in lyrics:\n",
    "        if word not in stopwords:\n",
    "            filtered_lyrics.append(word)\n",
    "    token_lyrics.append(filtered_lyrics)"
   ]
  },
  {
   "cell_type": "code",
   "execution_count": 12,
   "id": "87033411-a764-45d1-a981-a23478141151",
   "metadata": {},
   "outputs": [],
   "source": [
    "cleaned_tokens = []"
   ]
  },
  {
   "cell_type": "code",
   "execution_count": 13,
   "id": "94056282-10fe-4d9d-af3f-39a0146450f0",
   "metadata": {},
   "outputs": [],
   "source": [
    "for song in token_lyrics:\n",
    "    cleaned_song = []\n",
    "    for word in song:    \n",
    "        pattern = \"'.*\"\n",
    "        word = re.sub(pattern, '', word)\n",
    "        if len(word) >=2:\n",
    "            cleaned_song.append(word)\n",
    "    cleaned_tokens.append(cleaned_song)"
   ]
  },
  {
   "cell_type": "code",
   "execution_count": 14,
   "id": "75282022-bd09-4d38-a93f-fc281aa3fe74",
   "metadata": {},
   "outputs": [],
   "source": [
    "lemmatized_lyrics = []"
   ]
  },
  {
   "cell_type": "code",
   "execution_count": 15,
   "id": "ddd94b9b-60fa-4970-9c11-4396d9ce8d4e",
   "metadata": {},
   "outputs": [],
   "source": [
    "for song in cleaned_tokens: \n",
    "    lemma_list = []\n",
    "    for word in song:\n",
    "        word = word\n",
    "        lemma_word = wnl().morphy(word) #in case i get a \"none\" returned, then I can skip putting that word into my final lyrics for analysis\n",
    "        if lemma_word == None:\n",
    "            None\n",
    "        else:\n",
    "            lemma_list.append(lemma_word)\n",
    "    lemmatized_lyrics.append(lemma_list)\n",
    "            "
   ]
  },
  {
   "cell_type": "code",
   "execution_count": 16,
   "id": "aaaba1b5-7d59-4df8-9e54-6c406f46776c",
   "metadata": {},
   "outputs": [],
   "source": [
    "song_df['Token_Lyrics'] = token_lyrics"
   ]
  },
  {
   "cell_type": "code",
   "execution_count": 17,
   "id": "82aee9c8-26d8-4006-8ae8-7059892239e1",
   "metadata": {},
   "outputs": [],
   "source": [
    "song_df['Str_Lyrics'] = song_df['Token_Lyrics'].str.join(', ')"
   ]
  },
  {
   "cell_type": "code",
   "execution_count": 18,
   "id": "c86df828-1fd3-43b6-86a1-76a46247be5f",
   "metadata": {},
   "outputs": [],
   "source": [
    "song_df['Lemma_Lyrics'] = lemmatized_lyrics"
   ]
  },
  {
   "cell_type": "code",
   "execution_count": 19,
   "id": "8250ee13-3e29-4c7b-8cf5-183c53f2e732",
   "metadata": {},
   "outputs": [],
   "source": [
    "song_df['Lemma_Str_Lyrics'] = song_df['Lemma_Lyrics'].str.join(', ')"
   ]
  },
  {
   "cell_type": "code",
   "execution_count": 20,
   "id": "4e979683-ebea-4995-b510-2adb540a7000",
   "metadata": {},
   "outputs": [],
   "source": [
    "test_lyric = song_df[song_df['Song_Title'] == 'The Fighter']['Lyrics'].str.split(\"\\n\")"
   ]
  },
  {
   "cell_type": "code",
   "execution_count": 21,
   "id": "d6fda305-6cc7-4141-9d20-0cec3935f6c4",
   "metadata": {},
   "outputs": [
    {
     "name": "stdout",
     "output_type": "stream",
     "text": [
      "33    [The lover held her love, She begged him not t...\n",
      "Name: Lyrics, dtype: object\n"
     ]
    }
   ],
   "source": [
    "print(test_lyric)"
   ]
  },
  {
   "cell_type": "code",
   "execution_count": 23,
   "id": "6b63c6ef-3d15-47df-9836-865fac5ad557",
   "metadata": {},
   "outputs": [],
   "source": [
    "test_lyric_list = []"
   ]
  },
  {
   "cell_type": "code",
   "execution_count": 24,
   "id": "c07e9a70-b381-4fda-b2fa-896093261d53",
   "metadata": {},
   "outputs": [],
   "source": [
    "for song in song_lyrics_list:\n",
    "    new_song = song.split(\"\\n\")\n",
    "    test_lyric_list.append(new_song)"
   ]
  },
  {
   "cell_type": "code",
   "execution_count": 25,
   "id": "ff3afa0a-314c-4084-adba-e296908fbc90",
   "metadata": {},
   "outputs": [],
   "source": [
    "test_clean_list = []"
   ]
  },
  {
   "cell_type": "code",
   "execution_count": 26,
   "id": "c2e3ed00-6e80-47eb-b500-53ee97a0f40c",
   "metadata": {},
   "outputs": [],
   "source": [
    "for song in test_lyric_list:\n",
    "    intermediate_list = []\n",
    "    for line in song:\n",
    "        if line not in intermediate_list:\n",
    "            intermediate_list.append(line)\n",
    "        if line in intermediate_list:\n",
    "            None\n",
    "    test_clean_list.append(intermediate_list)"
   ]
  },
  {
   "cell_type": "code",
   "execution_count": 33,
   "id": "a60ed3f9-a672-4ee3-bcfe-24fa7305ee68",
   "metadata": {},
   "outputs": [],
   "source": [
    "new_song_clean = []"
   ]
  },
  {
   "cell_type": "code",
   "execution_count": 34,
   "id": "d7f0a692-f9dc-4551-a63a-b35d61dc0bea",
   "metadata": {},
   "outputs": [],
   "source": [
    "for song in test_clean_list:\n",
    "    intermediate_2 = []\n",
    "    for word in song: \n",
    "        new_word = contractions.fix(word)\n",
    "        intermediate_2.append(new_word)\n",
    "    new_song_clean.append(intermediate_2)"
   ]
  },
  {
   "cell_type": "code",
   "execution_count": 35,
   "id": "4c0a416c-302a-4464-88a6-e6c9ec0c69b5",
   "metadata": {},
   "outputs": [
    {
     "name": "stdout",
     "output_type": "stream",
     "text": [
      "['So you fake you are full and you feel tomorrow', 'Coming and you got to do what you can do to get', 'Away with everything you want and still get what you need', 'So you are slowing down because you have done it before', 'You look at the floor and you wonder when it is going to', 'Come on up over your head so you can get some rest', 'Some trust in love and some trust in hatred', 'Some trust in fear and some in violence', 'Some trust in faith and some trust in fortune', 'Some trust in God and some just get away', 'Swear to God I am going to get it right', 'Stay down tied until I get my fill', 'I take it all but it is falling through', 'Done it before so maybe a little bit', 'More will make it easier to get on through the door', 'Some trust in pain and some trust in pleasure', 'Some trust in union, some in innocence', 'Some trust in fear and some trust in fortune', 'Some trust everyone and some just get away', 'Call it security', 'Call it your purity', 'Call it the words we pray', 'Call it the sins we say', 'You never wanted it this way', 'Some trust in God and some trust in country', 'Some trust in love and some in violence', 'Some trust in diamonds, some trust in devils', 'Some trust in fear and some just get away', 'Get away']\n"
     ]
    }
   ],
   "source": [
    "print(new_song_clean[2])"
   ]
  },
  {
   "cell_type": "code",
   "execution_count": 36,
   "id": "829f81e5-b585-44c8-a105-206aa2b69dc0",
   "metadata": {},
   "outputs": [],
   "source": [
    "song_df['Simple_Lyrics'] = new_song_clean"
   ]
  },
  {
   "cell_type": "code",
   "execution_count": 37,
   "id": "4345ace8-173b-4055-9a67-78396486206f",
   "metadata": {},
   "outputs": [],
   "source": [
    "song_df['Simple_Lyrics_Str'] = song_df['Simple_Lyrics'].str.join(', ')"
   ]
  },
  {
   "cell_type": "code",
   "execution_count": 38,
   "id": "2f04a0d4-f870-4ea2-ae79-4b742ff0c90f",
   "metadata": {},
   "outputs": [],
   "source": [
    "#next cleaning step is to ditch contractions and some slang - and then run forward with the clusters..."
   ]
  },
  {
   "cell_type": "code",
   "execution_count": 39,
   "id": "242ae697-00f8-41e3-a899-6a743ba03249",
   "metadata": {},
   "outputs": [
    {
     "name": "stdout",
     "output_type": "stream",
     "text": [
      "0     I never knew, I never knew that everything was...\n",
      "1     As the spring in its bloom, The summer stars a...\n",
      "2     So you fake you are full and you feel tomorrow...\n",
      "3     The day's last one-way ticket train pulls in, ...\n",
      "4     I do it on a whim, It is rhyme without reason,...\n",
      "                            ...                        \n",
      "71    So this is Christmas, And what have you done, ...\n",
      "72    When the winds come and they blow, When the ra...\n",
      "73    Kiss me, out of the bearded barley, Nightly, b...\n",
      "74    Words are fallin' on our skin, Like water tort...\n",
      "75    You move my mind to you, My thoughts distracte...\n",
      "Name: Simple_Lyrics_Str, Length: 76, dtype: object\n"
     ]
    }
   ],
   "source": [
    "print(song_df['Simple_Lyrics_Str'])"
   ]
  },
  {
   "cell_type": "code",
   "execution_count": 40,
   "id": "5ad4dbba-eae7-4127-b641-b7c920126e2d",
   "metadata": {},
   "outputs": [],
   "source": [
    "song_len_unique_lyrics_list = []"
   ]
  },
  {
   "cell_type": "code",
   "execution_count": 41,
   "id": "6187325e-92c4-4610-b30c-1314da4bdfa5",
   "metadata": {},
   "outputs": [],
   "source": [
    "for song in test_clean_list:\n",
    "    len_song = len(song)\n",
    "    song_len_unique_lyrics_list.append(len_song)"
   ]
  },
  {
   "cell_type": "code",
   "execution_count": 42,
   "id": "a9320b95-22f1-4414-9a42-40753019910c",
   "metadata": {},
   "outputs": [
    {
     "name": "stdout",
     "output_type": "stream",
     "text": [
      "[32, 12, 29, 19, 18, 26, 16, 20, 19, 29, 19, 17, 13, 21, 16, 21, 19, 23, 20, 17, 41, 40, 17, 26, 23, 14, 11, 26, 41, 11, 17, 15, 26, 32, 22, 26, 23, 30, 27, 20, 16, 26, 29, 17, 15, 43, 44, 23, 19, 29, 22, 26, 21, 19, 23, 13, 17, 22, 16, 20, 37, 33, 32, 17, 16, 28, 21, 20, 25, 32, 16, 25, 16, 18, 26, 12]\n"
     ]
    }
   ],
   "source": [
    "print(song_len_unique_lyrics_list)"
   ]
  },
  {
   "cell_type": "code",
   "execution_count": 43,
   "id": "2b5384f5-5d6b-4916-89dd-61df9ade35c6",
   "metadata": {},
   "outputs": [],
   "source": [
    "song_df['Len_Simple_Lyrics'] = song_len_unique_lyrics_list"
   ]
  },
  {
   "cell_type": "markdown",
   "id": "58170fae-7ae4-46e7-bac8-31ba41783cea",
   "metadata": {},
   "source": [
    "#### Thematic Analysis (LDA with sklearn)"
   ]
  },
  {
   "cell_type": "code",
   "execution_count": 44,
   "id": "b1de90e2-bc56-4962-b73b-c0ddf04a6167",
   "metadata": {},
   "outputs": [],
   "source": [
    "count_vector = CountVectorizer(stop_words='english')"
   ]
  },
  {
   "cell_type": "code",
   "execution_count": 45,
   "id": "b3f23964-4543-4e11-91d1-8358320976d6",
   "metadata": {},
   "outputs": [],
   "source": [
    "thematic_lyrics = song_df['Lyrics']"
   ]
  },
  {
   "cell_type": "code",
   "execution_count": 46,
   "id": "d21490c6-d790-4e06-be7b-598af01b3005",
   "metadata": {},
   "outputs": [],
   "source": [
    "thematic_lyrics_vector = count_vector.fit_transform(thematic_lyrics)"
   ]
  },
  {
   "cell_type": "code",
   "execution_count": 47,
   "id": "5ecaf62b-f430-4760-9db0-4fa143b6b09d",
   "metadata": {},
   "outputs": [
    {
     "data": {
      "text/html": [
       "<style>#sk-container-id-1 {\n",
       "  /* Definition of color scheme common for light and dark mode */\n",
       "  --sklearn-color-text: black;\n",
       "  --sklearn-color-line: gray;\n",
       "  /* Definition of color scheme for unfitted estimators */\n",
       "  --sklearn-color-unfitted-level-0: #fff5e6;\n",
       "  --sklearn-color-unfitted-level-1: #f6e4d2;\n",
       "  --sklearn-color-unfitted-level-2: #ffe0b3;\n",
       "  --sklearn-color-unfitted-level-3: chocolate;\n",
       "  /* Definition of color scheme for fitted estimators */\n",
       "  --sklearn-color-fitted-level-0: #f0f8ff;\n",
       "  --sklearn-color-fitted-level-1: #d4ebff;\n",
       "  --sklearn-color-fitted-level-2: #b3dbfd;\n",
       "  --sklearn-color-fitted-level-3: cornflowerblue;\n",
       "\n",
       "  /* Specific color for light theme */\n",
       "  --sklearn-color-text-on-default-background: var(--sg-text-color, var(--theme-code-foreground, var(--jp-content-font-color1, black)));\n",
       "  --sklearn-color-background: var(--sg-background-color, var(--theme-background, var(--jp-layout-color0, white)));\n",
       "  --sklearn-color-border-box: var(--sg-text-color, var(--theme-code-foreground, var(--jp-content-font-color1, black)));\n",
       "  --sklearn-color-icon: #696969;\n",
       "\n",
       "  @media (prefers-color-scheme: dark) {\n",
       "    /* Redefinition of color scheme for dark theme */\n",
       "    --sklearn-color-text-on-default-background: var(--sg-text-color, var(--theme-code-foreground, var(--jp-content-font-color1, white)));\n",
       "    --sklearn-color-background: var(--sg-background-color, var(--theme-background, var(--jp-layout-color0, #111)));\n",
       "    --sklearn-color-border-box: var(--sg-text-color, var(--theme-code-foreground, var(--jp-content-font-color1, white)));\n",
       "    --sklearn-color-icon: #878787;\n",
       "  }\n",
       "}\n",
       "\n",
       "#sk-container-id-1 {\n",
       "  color: var(--sklearn-color-text);\n",
       "}\n",
       "\n",
       "#sk-container-id-1 pre {\n",
       "  padding: 0;\n",
       "}\n",
       "\n",
       "#sk-container-id-1 input.sk-hidden--visually {\n",
       "  border: 0;\n",
       "  clip: rect(1px 1px 1px 1px);\n",
       "  clip: rect(1px, 1px, 1px, 1px);\n",
       "  height: 1px;\n",
       "  margin: -1px;\n",
       "  overflow: hidden;\n",
       "  padding: 0;\n",
       "  position: absolute;\n",
       "  width: 1px;\n",
       "}\n",
       "\n",
       "#sk-container-id-1 div.sk-dashed-wrapped {\n",
       "  border: 1px dashed var(--sklearn-color-line);\n",
       "  margin: 0 0.4em 0.5em 0.4em;\n",
       "  box-sizing: border-box;\n",
       "  padding-bottom: 0.4em;\n",
       "  background-color: var(--sklearn-color-background);\n",
       "}\n",
       "\n",
       "#sk-container-id-1 div.sk-container {\n",
       "  /* jupyter's `normalize.less` sets `[hidden] { display: none; }`\n",
       "     but bootstrap.min.css set `[hidden] { display: none !important; }`\n",
       "     so we also need the `!important` here to be able to override the\n",
       "     default hidden behavior on the sphinx rendered scikit-learn.org.\n",
       "     See: https://github.com/scikit-learn/scikit-learn/issues/21755 */\n",
       "  display: inline-block !important;\n",
       "  position: relative;\n",
       "}\n",
       "\n",
       "#sk-container-id-1 div.sk-text-repr-fallback {\n",
       "  display: none;\n",
       "}\n",
       "\n",
       "div.sk-parallel-item,\n",
       "div.sk-serial,\n",
       "div.sk-item {\n",
       "  /* draw centered vertical line to link estimators */\n",
       "  background-image: linear-gradient(var(--sklearn-color-text-on-default-background), var(--sklearn-color-text-on-default-background));\n",
       "  background-size: 2px 100%;\n",
       "  background-repeat: no-repeat;\n",
       "  background-position: center center;\n",
       "}\n",
       "\n",
       "/* Parallel-specific style estimator block */\n",
       "\n",
       "#sk-container-id-1 div.sk-parallel-item::after {\n",
       "  content: \"\";\n",
       "  width: 100%;\n",
       "  border-bottom: 2px solid var(--sklearn-color-text-on-default-background);\n",
       "  flex-grow: 1;\n",
       "}\n",
       "\n",
       "#sk-container-id-1 div.sk-parallel {\n",
       "  display: flex;\n",
       "  align-items: stretch;\n",
       "  justify-content: center;\n",
       "  background-color: var(--sklearn-color-background);\n",
       "  position: relative;\n",
       "}\n",
       "\n",
       "#sk-container-id-1 div.sk-parallel-item {\n",
       "  display: flex;\n",
       "  flex-direction: column;\n",
       "}\n",
       "\n",
       "#sk-container-id-1 div.sk-parallel-item:first-child::after {\n",
       "  align-self: flex-end;\n",
       "  width: 50%;\n",
       "}\n",
       "\n",
       "#sk-container-id-1 div.sk-parallel-item:last-child::after {\n",
       "  align-self: flex-start;\n",
       "  width: 50%;\n",
       "}\n",
       "\n",
       "#sk-container-id-1 div.sk-parallel-item:only-child::after {\n",
       "  width: 0;\n",
       "}\n",
       "\n",
       "/* Serial-specific style estimator block */\n",
       "\n",
       "#sk-container-id-1 div.sk-serial {\n",
       "  display: flex;\n",
       "  flex-direction: column;\n",
       "  align-items: center;\n",
       "  background-color: var(--sklearn-color-background);\n",
       "  padding-right: 1em;\n",
       "  padding-left: 1em;\n",
       "}\n",
       "\n",
       "\n",
       "/* Toggleable style: style used for estimator/Pipeline/ColumnTransformer box that is\n",
       "clickable and can be expanded/collapsed.\n",
       "- Pipeline and ColumnTransformer use this feature and define the default style\n",
       "- Estimators will overwrite some part of the style using the `sk-estimator` class\n",
       "*/\n",
       "\n",
       "/* Pipeline and ColumnTransformer style (default) */\n",
       "\n",
       "#sk-container-id-1 div.sk-toggleable {\n",
       "  /* Default theme specific background. It is overwritten whether we have a\n",
       "  specific estimator or a Pipeline/ColumnTransformer */\n",
       "  background-color: var(--sklearn-color-background);\n",
       "}\n",
       "\n",
       "/* Toggleable label */\n",
       "#sk-container-id-1 label.sk-toggleable__label {\n",
       "  cursor: pointer;\n",
       "  display: block;\n",
       "  width: 100%;\n",
       "  margin-bottom: 0;\n",
       "  padding: 0.5em;\n",
       "  box-sizing: border-box;\n",
       "  text-align: center;\n",
       "}\n",
       "\n",
       "#sk-container-id-1 label.sk-toggleable__label-arrow:before {\n",
       "  /* Arrow on the left of the label */\n",
       "  content: \"▸\";\n",
       "  float: left;\n",
       "  margin-right: 0.25em;\n",
       "  color: var(--sklearn-color-icon);\n",
       "}\n",
       "\n",
       "#sk-container-id-1 label.sk-toggleable__label-arrow:hover:before {\n",
       "  color: var(--sklearn-color-text);\n",
       "}\n",
       "\n",
       "/* Toggleable content - dropdown */\n",
       "\n",
       "#sk-container-id-1 div.sk-toggleable__content {\n",
       "  max-height: 0;\n",
       "  max-width: 0;\n",
       "  overflow: hidden;\n",
       "  text-align: left;\n",
       "  /* unfitted */\n",
       "  background-color: var(--sklearn-color-unfitted-level-0);\n",
       "}\n",
       "\n",
       "#sk-container-id-1 div.sk-toggleable__content.fitted {\n",
       "  /* fitted */\n",
       "  background-color: var(--sklearn-color-fitted-level-0);\n",
       "}\n",
       "\n",
       "#sk-container-id-1 div.sk-toggleable__content pre {\n",
       "  margin: 0.2em;\n",
       "  border-radius: 0.25em;\n",
       "  color: var(--sklearn-color-text);\n",
       "  /* unfitted */\n",
       "  background-color: var(--sklearn-color-unfitted-level-0);\n",
       "}\n",
       "\n",
       "#sk-container-id-1 div.sk-toggleable__content.fitted pre {\n",
       "  /* unfitted */\n",
       "  background-color: var(--sklearn-color-fitted-level-0);\n",
       "}\n",
       "\n",
       "#sk-container-id-1 input.sk-toggleable__control:checked~div.sk-toggleable__content {\n",
       "  /* Expand drop-down */\n",
       "  max-height: 200px;\n",
       "  max-width: 100%;\n",
       "  overflow: auto;\n",
       "}\n",
       "\n",
       "#sk-container-id-1 input.sk-toggleable__control:checked~label.sk-toggleable__label-arrow:before {\n",
       "  content: \"▾\";\n",
       "}\n",
       "\n",
       "/* Pipeline/ColumnTransformer-specific style */\n",
       "\n",
       "#sk-container-id-1 div.sk-label input.sk-toggleable__control:checked~label.sk-toggleable__label {\n",
       "  color: var(--sklearn-color-text);\n",
       "  background-color: var(--sklearn-color-unfitted-level-2);\n",
       "}\n",
       "\n",
       "#sk-container-id-1 div.sk-label.fitted input.sk-toggleable__control:checked~label.sk-toggleable__label {\n",
       "  background-color: var(--sklearn-color-fitted-level-2);\n",
       "}\n",
       "\n",
       "/* Estimator-specific style */\n",
       "\n",
       "/* Colorize estimator box */\n",
       "#sk-container-id-1 div.sk-estimator input.sk-toggleable__control:checked~label.sk-toggleable__label {\n",
       "  /* unfitted */\n",
       "  background-color: var(--sklearn-color-unfitted-level-2);\n",
       "}\n",
       "\n",
       "#sk-container-id-1 div.sk-estimator.fitted input.sk-toggleable__control:checked~label.sk-toggleable__label {\n",
       "  /* fitted */\n",
       "  background-color: var(--sklearn-color-fitted-level-2);\n",
       "}\n",
       "\n",
       "#sk-container-id-1 div.sk-label label.sk-toggleable__label,\n",
       "#sk-container-id-1 div.sk-label label {\n",
       "  /* The background is the default theme color */\n",
       "  color: var(--sklearn-color-text-on-default-background);\n",
       "}\n",
       "\n",
       "/* On hover, darken the color of the background */\n",
       "#sk-container-id-1 div.sk-label:hover label.sk-toggleable__label {\n",
       "  color: var(--sklearn-color-text);\n",
       "  background-color: var(--sklearn-color-unfitted-level-2);\n",
       "}\n",
       "\n",
       "/* Label box, darken color on hover, fitted */\n",
       "#sk-container-id-1 div.sk-label.fitted:hover label.sk-toggleable__label.fitted {\n",
       "  color: var(--sklearn-color-text);\n",
       "  background-color: var(--sklearn-color-fitted-level-2);\n",
       "}\n",
       "\n",
       "/* Estimator label */\n",
       "\n",
       "#sk-container-id-1 div.sk-label label {\n",
       "  font-family: monospace;\n",
       "  font-weight: bold;\n",
       "  display: inline-block;\n",
       "  line-height: 1.2em;\n",
       "}\n",
       "\n",
       "#sk-container-id-1 div.sk-label-container {\n",
       "  text-align: center;\n",
       "}\n",
       "\n",
       "/* Estimator-specific */\n",
       "#sk-container-id-1 div.sk-estimator {\n",
       "  font-family: monospace;\n",
       "  border: 1px dotted var(--sklearn-color-border-box);\n",
       "  border-radius: 0.25em;\n",
       "  box-sizing: border-box;\n",
       "  margin-bottom: 0.5em;\n",
       "  /* unfitted */\n",
       "  background-color: var(--sklearn-color-unfitted-level-0);\n",
       "}\n",
       "\n",
       "#sk-container-id-1 div.sk-estimator.fitted {\n",
       "  /* fitted */\n",
       "  background-color: var(--sklearn-color-fitted-level-0);\n",
       "}\n",
       "\n",
       "/* on hover */\n",
       "#sk-container-id-1 div.sk-estimator:hover {\n",
       "  /* unfitted */\n",
       "  background-color: var(--sklearn-color-unfitted-level-2);\n",
       "}\n",
       "\n",
       "#sk-container-id-1 div.sk-estimator.fitted:hover {\n",
       "  /* fitted */\n",
       "  background-color: var(--sklearn-color-fitted-level-2);\n",
       "}\n",
       "\n",
       "/* Specification for estimator info (e.g. \"i\" and \"?\") */\n",
       "\n",
       "/* Common style for \"i\" and \"?\" */\n",
       "\n",
       ".sk-estimator-doc-link,\n",
       "a:link.sk-estimator-doc-link,\n",
       "a:visited.sk-estimator-doc-link {\n",
       "  float: right;\n",
       "  font-size: smaller;\n",
       "  line-height: 1em;\n",
       "  font-family: monospace;\n",
       "  background-color: var(--sklearn-color-background);\n",
       "  border-radius: 1em;\n",
       "  height: 1em;\n",
       "  width: 1em;\n",
       "  text-decoration: none !important;\n",
       "  margin-left: 1ex;\n",
       "  /* unfitted */\n",
       "  border: var(--sklearn-color-unfitted-level-1) 1pt solid;\n",
       "  color: var(--sklearn-color-unfitted-level-1);\n",
       "}\n",
       "\n",
       ".sk-estimator-doc-link.fitted,\n",
       "a:link.sk-estimator-doc-link.fitted,\n",
       "a:visited.sk-estimator-doc-link.fitted {\n",
       "  /* fitted */\n",
       "  border: var(--sklearn-color-fitted-level-1) 1pt solid;\n",
       "  color: var(--sklearn-color-fitted-level-1);\n",
       "}\n",
       "\n",
       "/* On hover */\n",
       "div.sk-estimator:hover .sk-estimator-doc-link:hover,\n",
       ".sk-estimator-doc-link:hover,\n",
       "div.sk-label-container:hover .sk-estimator-doc-link:hover,\n",
       ".sk-estimator-doc-link:hover {\n",
       "  /* unfitted */\n",
       "  background-color: var(--sklearn-color-unfitted-level-3);\n",
       "  color: var(--sklearn-color-background);\n",
       "  text-decoration: none;\n",
       "}\n",
       "\n",
       "div.sk-estimator.fitted:hover .sk-estimator-doc-link.fitted:hover,\n",
       ".sk-estimator-doc-link.fitted:hover,\n",
       "div.sk-label-container:hover .sk-estimator-doc-link.fitted:hover,\n",
       ".sk-estimator-doc-link.fitted:hover {\n",
       "  /* fitted */\n",
       "  background-color: var(--sklearn-color-fitted-level-3);\n",
       "  color: var(--sklearn-color-background);\n",
       "  text-decoration: none;\n",
       "}\n",
       "\n",
       "/* Span, style for the box shown on hovering the info icon */\n",
       ".sk-estimator-doc-link span {\n",
       "  display: none;\n",
       "  z-index: 9999;\n",
       "  position: relative;\n",
       "  font-weight: normal;\n",
       "  right: .2ex;\n",
       "  padding: .5ex;\n",
       "  margin: .5ex;\n",
       "  width: min-content;\n",
       "  min-width: 20ex;\n",
       "  max-width: 50ex;\n",
       "  color: var(--sklearn-color-text);\n",
       "  box-shadow: 2pt 2pt 4pt #999;\n",
       "  /* unfitted */\n",
       "  background: var(--sklearn-color-unfitted-level-0);\n",
       "  border: .5pt solid var(--sklearn-color-unfitted-level-3);\n",
       "}\n",
       "\n",
       ".sk-estimator-doc-link.fitted span {\n",
       "  /* fitted */\n",
       "  background: var(--sklearn-color-fitted-level-0);\n",
       "  border: var(--sklearn-color-fitted-level-3);\n",
       "}\n",
       "\n",
       ".sk-estimator-doc-link:hover span {\n",
       "  display: block;\n",
       "}\n",
       "\n",
       "/* \"?\"-specific style due to the `<a>` HTML tag */\n",
       "\n",
       "#sk-container-id-1 a.estimator_doc_link {\n",
       "  float: right;\n",
       "  font-size: 1rem;\n",
       "  line-height: 1em;\n",
       "  font-family: monospace;\n",
       "  background-color: var(--sklearn-color-background);\n",
       "  border-radius: 1rem;\n",
       "  height: 1rem;\n",
       "  width: 1rem;\n",
       "  text-decoration: none;\n",
       "  /* unfitted */\n",
       "  color: var(--sklearn-color-unfitted-level-1);\n",
       "  border: var(--sklearn-color-unfitted-level-1) 1pt solid;\n",
       "}\n",
       "\n",
       "#sk-container-id-1 a.estimator_doc_link.fitted {\n",
       "  /* fitted */\n",
       "  border: var(--sklearn-color-fitted-level-1) 1pt solid;\n",
       "  color: var(--sklearn-color-fitted-level-1);\n",
       "}\n",
       "\n",
       "/* On hover */\n",
       "#sk-container-id-1 a.estimator_doc_link:hover {\n",
       "  /* unfitted */\n",
       "  background-color: var(--sklearn-color-unfitted-level-3);\n",
       "  color: var(--sklearn-color-background);\n",
       "  text-decoration: none;\n",
       "}\n",
       "\n",
       "#sk-container-id-1 a.estimator_doc_link.fitted:hover {\n",
       "  /* fitted */\n",
       "  background-color: var(--sklearn-color-fitted-level-3);\n",
       "}\n",
       "</style><div id=\"sk-container-id-1\" class=\"sk-top-container\"><div class=\"sk-text-repr-fallback\"><pre>LatentDirichletAllocation(n_components=5, random_state=42)</pre><b>In a Jupyter environment, please rerun this cell to show the HTML representation or trust the notebook. <br />On GitHub, the HTML representation is unable to render, please try loading this page with nbviewer.org.</b></div><div class=\"sk-container\" hidden><div class=\"sk-item\"><div class=\"sk-estimator fitted sk-toggleable\"><input class=\"sk-toggleable__control sk-hidden--visually\" id=\"sk-estimator-id-1\" type=\"checkbox\" checked><label for=\"sk-estimator-id-1\" class=\"sk-toggleable__label fitted sk-toggleable__label-arrow fitted\">&nbsp;&nbsp;LatentDirichletAllocation<a class=\"sk-estimator-doc-link fitted\" rel=\"noreferrer\" target=\"_blank\" href=\"https://scikit-learn.org/1.4/modules/generated/sklearn.decomposition.LatentDirichletAllocation.html\">?<span>Documentation for LatentDirichletAllocation</span></a><span class=\"sk-estimator-doc-link fitted\">i<span>Fitted</span></span></label><div class=\"sk-toggleable__content fitted\"><pre>LatentDirichletAllocation(n_components=5, random_state=42)</pre></div> </div></div></div></div>"
      ],
      "text/plain": [
       "LatentDirichletAllocation(n_components=5, random_state=42)"
      ]
     },
     "execution_count": 47,
     "metadata": {},
     "output_type": "execute_result"
    }
   ],
   "source": [
    "lda = LatentDirichletAllocation(n_components=5, random_state=42)\n",
    "lda.fit(thematic_lyrics_vector)"
   ]
  },
  {
   "cell_type": "code",
   "execution_count": 48,
   "id": "ee7da402-a18c-409c-bc86-49ae70d1eb05",
   "metadata": {},
   "outputs": [],
   "source": [
    "test = lda.get_feature_names_out()"
   ]
  },
  {
   "cell_type": "code",
   "execution_count": 49,
   "id": "e2cd7723-644f-474d-987e-d04b782edae7",
   "metadata": {},
   "outputs": [],
   "source": [
    "test2 = lda.components_"
   ]
  },
  {
   "cell_type": "markdown",
   "id": "fdb84895-abc6-4dc7-90b6-0c8b0d7c51ce",
   "metadata": {},
   "source": [
    "#### Sentiment Analysis on Full song lyrics, on token lyrics and on lemma lyrics"
   ]
  },
  {
   "cell_type": "code",
   "execution_count": 50,
   "id": "9ade8707-a7fd-4aa5-bb82-11fcd5b9518e",
   "metadata": {},
   "outputs": [],
   "source": [
    "sentiment_finder = SentimentIntensityAnalyzer()"
   ]
  },
  {
   "cell_type": "code",
   "execution_count": 51,
   "id": "558c2bb8-d5de-4e14-bdff-3accbfc7dc68",
   "metadata": {},
   "outputs": [],
   "source": [
    "def sentiment(text):\n",
    "    scores = sentiment_finder.polarity_scores(text)\n",
    "    sentiment = scores['compound'] #if you want to see all of the scores, just remove the compound part\n",
    "    return sentiment"
   ]
  },
  {
   "cell_type": "code",
   "execution_count": 52,
   "id": "19caa54f-e003-4808-9813-98342651ee07",
   "metadata": {},
   "outputs": [],
   "source": [
    "song_df['Lyrics_Sent'] = song_df['Lyrics'].apply(sentiment)"
   ]
  },
  {
   "cell_type": "code",
   "execution_count": 53,
   "id": "f8161e54-926b-41b3-b381-cc35dc8c44d3",
   "metadata": {},
   "outputs": [],
   "source": [
    "song_df['Token_Sent'] = song_df['Str_Lyrics'].apply(sentiment)"
   ]
  },
  {
   "cell_type": "code",
   "execution_count": 54,
   "id": "6c539949-eee2-42c1-97f7-060794b819ad",
   "metadata": {},
   "outputs": [],
   "source": [
    "song_df['Lemma_Sent'] = song_df['Lemma_Str_Lyrics'].apply(sentiment)"
   ]
  },
  {
   "cell_type": "code",
   "execution_count": 55,
   "id": "d34a66da-44bf-4edb-9d9e-cdce38498c56",
   "metadata": {},
   "outputs": [],
   "source": [
    "song_df['Simple_Lyrics_Sent'] = song_df['Simple_Lyrics_Str'].apply(sentiment)"
   ]
  },
  {
   "cell_type": "code",
   "execution_count": 231,
   "id": "c661338f-cf01-4a43-9349-83de2c65b5f8",
   "metadata": {},
   "outputs": [
    {
     "data": {
      "text/plain": [
       "[]"
      ]
     },
     "execution_count": 231,
     "metadata": {},
     "output_type": "execute_result"
    },
    {
     "data": {
      "image/png": "[encoded data removed]",
      "text/plain": [
       "<Figure size 1500x1000 with 1 Axes>"
      ]
     },
     "metadata": {},
     "output_type": "display_data"
    }
   ],
   "source": [
    "plt.figure(figsize=(15,10))\n",
    "plt.title('Simple Lyrics Sentiment Score Barplot')\n",
    "plt.xticks(rotation=90)\n",
    "sns.barplot(data=song_df, x='Song_Title', y='Simple_Lyrics_Sent')\n",
    "plt.plot()"
   ]
  },
  {
   "cell_type": "markdown",
   "id": "ac857c49-47a4-4ca5-9a01-a29099b67f74",
   "metadata": {},
   "source": [
    "I made a barplot of the sentiment scores of each song. I went with the \"simple lyrics\" here because, when I did this with the lemmatized lyrics, it said that \"Over My Head\" was a happy song. That was not a statement I could endorse, so I didn't endorse it. I felt the simple lyrics gave me a slightly better snapshot of the songs - but obviously, this is just tallying up the score based on values assigned to words, so its all a bit arbitrary. "
   ]
  },
  {
   "cell_type": "markdown",
   "id": "8beb0949-1d10-4e22-a72d-8ac2b94e7821",
   "metadata": {},
   "source": [
    "#### Making Different Clusters based on the number of pre-processing steps I did"
   ]
  },
  {
   "cell_type": "markdown",
   "id": "83e68967-79e5-49c6-88cd-f3f9d66c6296",
   "metadata": {},
   "source": [
    "This section is a bit messy and is messy because I was figuring out the best way to run the clusters. But, I ended up settling on the vectorizer settings you see below. But, I tried vectorizing the various types of lyrics I made with my cleaning steps without the parameters seen below first. I just used the defaults of 0 and 0 for max_df and min_df. But, I eventually used these settings because I needed to reduce the noise in the dataset and these were good starting places. Of course, more optimization could be done by tweaking these settings. "
   ]
  },
  {
   "cell_type": "markdown",
   "id": "81835288-2c50-4262-8697-73b9620ee8da",
   "metadata": {},
   "source": [
    "This section also shows me pulling out top words from each song and making different kmeans models with the various lyrics I made. "
   ]
  },
  {
   "cell_type": "code",
   "execution_count": 57,
   "id": "30c3e84e-1163-480b-ab70-b70d79c7b3d2",
   "metadata": {},
   "outputs": [],
   "source": [
    "vectorizer = TfidfVectorizer(max_df = .5, min_df = 5, stop_words='english') #play with these settings, see if you can clean up noise with them..."
   ]
  },
  {
   "cell_type": "code",
   "execution_count": 58,
   "id": "10d0decb-07c6-4941-a8db-ed3fc24007f0",
   "metadata": {},
   "outputs": [],
   "source": [
    "text = vectorizer.fit_transform(song_df['Lyrics'].values.astype(str)) #first attempt at kmeans"
   ]
  },
  {
   "cell_type": "code",
   "execution_count": 59,
   "id": "66714c08-6af6-484b-a189-f7423a50aba9",
   "metadata": {},
   "outputs": [],
   "source": [
    "text_3 = vectorizer.fit_transform(song_df['Str_Lyrics'].values.astype(str)) #second attempt at kmeans"
   ]
  },
  {
   "cell_type": "code",
   "execution_count": 60,
   "id": "89075f94-40ad-42b3-8371-7a5d1134d499",
   "metadata": {},
   "outputs": [],
   "source": [
    "text_4 = vectorizer.fit_transform(song_df['Lemma_Str_Lyrics'].values.astype(str))"
   ]
  },
  {
   "cell_type": "code",
   "execution_count": 61,
   "id": "56fcfba1-d280-4685-8e70-1d466f9ae2a6",
   "metadata": {},
   "outputs": [],
   "source": [
    "text_5 = vectorizer.fit_transform(song_df['Simple_Lyrics_Str'].values.astype(str))"
   ]
  },
  {
   "cell_type": "code",
   "execution_count": 62,
   "id": "479da7b1-e2ed-48c8-93a9-527cb438613f",
   "metadata": {},
   "outputs": [],
   "source": [
    "test = text_5.toarray()"
   ]
  },
  {
   "cell_type": "code",
   "execution_count": 63,
   "id": "da036aa1-dc13-4ae0-ac60-e52a668d221e",
   "metadata": {},
   "outputs": [
    {
     "name": "stdout",
     "output_type": "stream",
     "text": [
      "{'knew': 60, 'falling': 31, 'waiting': 126, 'turn': 124, 'run': 94, 'got': 45, 'coming': 22, 'way': 133, 'stay': 105, 'standing': 103, 'head': 50, 'left': 64, 'mind': 82, 'let': 65, 'just': 57, 'say': 96, 'change': 15, 'friend': 38, 'lose': 74, 'comes': 21, 'ground': 46, 'thought': 115, 'wanted': 130, 'bring': 10, 'til': 116, 'come': 20, 'love': 76, 'day': 24, 'days': 25, 'feel': 34, 'away': 1, 'want': 129, 'need': 83, 'look': 73, 'floor': 36, 'wonder': 135, 'going': 42, 'fear': 33, 'god': 40, 'swear': 109, 'right': 92, 'maybe': 79, 'little': 70, 'make': 78, 'door': 28, 'words': 136, 'goes': 41, 'gone': 43, 'long': 71, 'meet': 80, 'thing': 112, 'face': 29, 'reason': 90, 'time': 117, 'life': 66, 'line': 69, 'talk': 110, 'city': 16, 'night': 85, 'today': 118, 'fight': 35, 'inside': 55, 'like': 68, 'far': 32, 'lay': 61, 'did': 26, 'kiss': 58, 'sun': 108, 'fall': 30, 'waves': 132, 'begin': 3, 'leave': 62, 'tonight': 120, 'leaving': 63, 'things': 113, 'instead': 56, 'breathing': 9, 'tell': 111, 'hard': 49, 'walk': 127, 'rain': 89, 'wrong': 138, 'wait': 125, 'home': 54, 'place': 88, 'stand': 102, 'walking': 128, 'break': 8, 'close': 17, 'heart': 52, 'knees': 59, 'hold': 53, 'window': 134, 'came': 13, 'lost': 75, 'best': 5, 'try': 122, 'told': 119, 'begins': 4, 'road': 93, 'better': 6, 'world': 137, 'longer': 72, 'said': 95, 'years': 140, 'alright': 0, 'good': 44, 'oh': 86, 'baby': 2, 'slow': 99, 'trying': 123, 'slowly': 100, 'new': 84, 'story': 107, 'forget': 37, 'miles': 81, 'light': 67, 'closer': 18, 'stop': 106, 'hear': 51, 'hands': 48, 'carry': 14, 'broken': 11, 'start': 104, 'hand': 47, 'body': 7, 'yeah': 139, 'old': 87, 'soul': 101, 'cold': 19, 'remember': 91, 'friends': 39, 'lovers': 77, 'different': 27, 'think': 114, 'burning': 12, 'touch': 121, 'sky': 98, 'darling': 23, 'water': 131, 'skin': 97}\n"
     ]
    }
   ],
   "source": [
    "print(vectorizer.vocabulary_)"
   ]
  },
  {
   "cell_type": "code",
   "execution_count": 64,
   "id": "22e841e3-eaa9-41ea-9ff6-02c99514dfa7",
   "metadata": {},
   "outputs": [],
   "source": [
    "top_n = 10\n",
    "top_indices = test.argsort(axis=1)[:, -top_n:]"
   ]
  },
  {
   "cell_type": "code",
   "execution_count": 65,
   "id": "ced08146-5859-4aeb-8d15-2e79ba68cada",
   "metadata": {},
   "outputs": [],
   "source": [
    "top_tfidf_array = np.zeros_like(test)\n",
    "for i, indices in enumerate(top_indices):\n",
    "    top_tfidf_array[i, indices] = test[i, indices]"
   ]
  },
  {
   "cell_type": "code",
   "execution_count": 66,
   "id": "bfeb8a6a-a633-4da3-bd3c-173d6a680917",
   "metadata": {},
   "outputs": [],
   "source": [
    "words_df = pd.DataFrame(top_tfidf_array)"
   ]
  },
  {
   "cell_type": "code",
   "execution_count": 67,
   "id": "ef1c3761-5201-4f1b-ac0f-266fb3ecf8c0",
   "metadata": {},
   "outputs": [
    {
     "name": "stdout",
     "output_type": "stream",
     "text": [
      "<class 'pandas.core.frame.DataFrame'>\n",
      "RangeIndex: 76 entries, 0 to 75\n",
      "Columns: 141 entries, 0 to 140\n",
      "dtypes: float64(141)\n",
      "memory usage: 83.8 KB\n"
     ]
    }
   ],
   "source": [
    "words_df.info()"
   ]
  },
  {
   "cell_type": "code",
   "execution_count": 68,
   "id": "e362f702-510e-482b-aaf2-af29a780ed7a",
   "metadata": {},
   "outputs": [],
   "source": [
    "top_tfidf_matrix = csr_matrix(top_tfidf_array)"
   ]
  },
  {
   "cell_type": "code",
   "execution_count": 69,
   "id": "15536b66-cb4c-49e4-bfed-e83d9cb0167d",
   "metadata": {},
   "outputs": [],
   "source": [
    "top_tfidf_df = pd.DataFrame(top_tfidf_matrix.toarray(), columns = vectorizer.get_feature_names_out())"
   ]
  },
  {
   "cell_type": "code",
   "execution_count": 70,
   "id": "192a1636-e5e2-4886-909d-51ad62d6dab5",
   "metadata": {},
   "outputs": [
    {
     "name": "stdout",
     "output_type": "stream",
     "text": [
      "<class 'pandas.core.frame.DataFrame'>\n",
      "RangeIndex: 76 entries, 0 to 75\n",
      "Columns: 141 entries, alright to years\n",
      "dtypes: float64(141)\n",
      "memory usage: 83.8 KB\n"
     ]
    }
   ],
   "source": [
    "top_tfidf_df.info()"
   ]
  },
  {
   "cell_type": "code",
   "execution_count": 71,
   "id": "e3d11b1a-8ca1-4bdc-aeb7-6e8b9d3753fc",
   "metadata": {},
   "outputs": [],
   "source": [
    "test_row = top_tfidf_df.loc[75]\n",
    "non_zero_columns = test_row.index"
   ]
  },
  {
   "cell_type": "code",
   "execution_count": 72,
   "id": "e3e7e642-aa7a-4bc9-bf41-5d3c2b196be9",
   "metadata": {},
   "outputs": [],
   "source": [
    "top_new = top_tfidf_df.loc[:, (top_tfidf_df != 0).any(axis=0)]"
   ]
  },
  {
   "cell_type": "code",
   "execution_count": 73,
   "id": "3748cc7c-d435-45e8-acf0-8df0a6030994",
   "metadata": {},
   "outputs": [],
   "source": [
    "test_row_new = top_new.loc[75]\n",
    "non_zero_col_new = test_row_new.index"
   ]
  },
  {
   "cell_type": "code",
   "execution_count": 74,
   "id": "25fbb72f-85ad-42e3-984e-864e835dc0af",
   "metadata": {},
   "outputs": [],
   "source": [
    "top_new2 = pd.merge(top_new, song_df[['Len_Simple_Lyrics', 'Simple_Lyrics_Sent']], how='left', left_index=True, right_index=True)"
   ]
  },
  {
   "cell_type": "code",
   "execution_count": 75,
   "id": "d15997d7-2c0a-42b1-a298-2ac2e1228122",
   "metadata": {},
   "outputs": [],
   "source": [
    "scaler = MinMaxScaler()"
   ]
  },
  {
   "cell_type": "code",
   "execution_count": 76,
   "id": "a9734d95-871c-4fe0-b5ed-eb916e5af0b7",
   "metadata": {},
   "outputs": [
    {
     "data": {
      "text/html": [
       "<style>#sk-container-id-2 {\n",
       "  /* Definition of color scheme common for light and dark mode */\n",
       "  --sklearn-color-text: black;\n",
       "  --sklearn-color-line: gray;\n",
       "  /* Definition of color scheme for unfitted estimators */\n",
       "  --sklearn-color-unfitted-level-0: #fff5e6;\n",
       "  --sklearn-color-unfitted-level-1: #f6e4d2;\n",
       "  --sklearn-color-unfitted-level-2: #ffe0b3;\n",
       "  --sklearn-color-unfitted-level-3: chocolate;\n",
       "  /* Definition of color scheme for fitted estimators */\n",
       "  --sklearn-color-fitted-level-0: #f0f8ff;\n",
       "  --sklearn-color-fitted-level-1: #d4ebff;\n",
       "  --sklearn-color-fitted-level-2: #b3dbfd;\n",
       "  --sklearn-color-fitted-level-3: cornflowerblue;\n",
       "\n",
       "  /* Specific color for light theme */\n",
       "  --sklearn-color-text-on-default-background: var(--sg-text-color, var(--theme-code-foreground, var(--jp-content-font-color1, black)));\n",
       "  --sklearn-color-background: var(--sg-background-color, var(--theme-background, var(--jp-layout-color0, white)));\n",
       "  --sklearn-color-border-box: var(--sg-text-color, var(--theme-code-foreground, var(--jp-content-font-color1, black)));\n",
       "  --sklearn-color-icon: #696969;\n",
       "\n",
       "  @media (prefers-color-scheme: dark) {\n",
       "    /* Redefinition of color scheme for dark theme */\n",
       "    --sklearn-color-text-on-default-background: var(--sg-text-color, var(--theme-code-foreground, var(--jp-content-font-color1, white)));\n",
       "    --sklearn-color-background: var(--sg-background-color, var(--theme-background, var(--jp-layout-color0, #111)));\n",
       "    --sklearn-color-border-box: var(--sg-text-color, var(--theme-code-foreground, var(--jp-content-font-color1, white)));\n",
       "    --sklearn-color-icon: #878787;\n",
       "  }\n",
       "}\n",
       "\n",
       "#sk-container-id-2 {\n",
       "  color: var(--sklearn-color-text);\n",
       "}\n",
       "\n",
       "#sk-container-id-2 pre {\n",
       "  padding: 0;\n",
       "}\n",
       "\n",
       "#sk-container-id-2 input.sk-hidden--visually {\n",
       "  border: 0;\n",
       "  clip: rect(1px 1px 1px 1px);\n",
       "  clip: rect(1px, 1px, 1px, 1px);\n",
       "  height: 1px;\n",
       "  margin: -1px;\n",
       "  overflow: hidden;\n",
       "  padding: 0;\n",
       "  position: absolute;\n",
       "  width: 1px;\n",
       "}\n",
       "\n",
       "#sk-container-id-2 div.sk-dashed-wrapped {\n",
       "  border: 1px dashed var(--sklearn-color-line);\n",
       "  margin: 0 0.4em 0.5em 0.4em;\n",
       "  box-sizing: border-box;\n",
       "  padding-bottom: 0.4em;\n",
       "  background-color: var(--sklearn-color-background);\n",
       "}\n",
       "\n",
       "#sk-container-id-2 div.sk-container {\n",
       "  /* jupyter's `normalize.less` sets `[hidden] { display: none; }`\n",
       "     but bootstrap.min.css set `[hidden] { display: none !important; }`\n",
       "     so we also need the `!important` here to be able to override the\n",
       "     default hidden behavior on the sphinx rendered scikit-learn.org.\n",
       "     See: https://github.com/scikit-learn/scikit-learn/issues/21755 */\n",
       "  display: inline-block !important;\n",
       "  position: relative;\n",
       "}\n",
       "\n",
       "#sk-container-id-2 div.sk-text-repr-fallback {\n",
       "  display: none;\n",
       "}\n",
       "\n",
       "div.sk-parallel-item,\n",
       "div.sk-serial,\n",
       "div.sk-item {\n",
       "  /* draw centered vertical line to link estimators */\n",
       "  background-image: linear-gradient(var(--sklearn-color-text-on-default-background), var(--sklearn-color-text-on-default-background));\n",
       "  background-size: 2px 100%;\n",
       "  background-repeat: no-repeat;\n",
       "  background-position: center center;\n",
       "}\n",
       "\n",
       "/* Parallel-specific style estimator block */\n",
       "\n",
       "#sk-container-id-2 div.sk-parallel-item::after {\n",
       "  content: \"\";\n",
       "  width: 100%;\n",
       "  border-bottom: 2px solid var(--sklearn-color-text-on-default-background);\n",
       "  flex-grow: 1;\n",
       "}\n",
       "\n",
       "#sk-container-id-2 div.sk-parallel {\n",
       "  display: flex;\n",
       "  align-items: stretch;\n",
       "  justify-content: center;\n",
       "  background-color: var(--sklearn-color-background);\n",
       "  position: relative;\n",
       "}\n",
       "\n",
       "#sk-container-id-2 div.sk-parallel-item {\n",
       "  display: flex;\n",
       "  flex-direction: column;\n",
       "}\n",
       "\n",
       "#sk-container-id-2 div.sk-parallel-item:first-child::after {\n",
       "  align-self: flex-end;\n",
       "  width: 50%;\n",
       "}\n",
       "\n",
       "#sk-container-id-2 div.sk-parallel-item:last-child::after {\n",
       "  align-self: flex-start;\n",
       "  width: 50%;\n",
       "}\n",
       "\n",
       "#sk-container-id-2 div.sk-parallel-item:only-child::after {\n",
       "  width: 0;\n",
       "}\n",
       "\n",
       "/* Serial-specific style estimator block */\n",
       "\n",
       "#sk-container-id-2 div.sk-serial {\n",
       "  display: flex;\n",
       "  flex-direction: column;\n",
       "  align-items: center;\n",
       "  background-color: var(--sklearn-color-background);\n",
       "  padding-right: 1em;\n",
       "  padding-left: 1em;\n",
       "}\n",
       "\n",
       "\n",
       "/* Toggleable style: style used for estimator/Pipeline/ColumnTransformer box that is\n",
       "clickable and can be expanded/collapsed.\n",
       "- Pipeline and ColumnTransformer use this feature and define the default style\n",
       "- Estimators will overwrite some part of the style using the `sk-estimator` class\n",
       "*/\n",
       "\n",
       "/* Pipeline and ColumnTransformer style (default) */\n",
       "\n",
       "#sk-container-id-2 div.sk-toggleable {\n",
       "  /* Default theme specific background. It is overwritten whether we have a\n",
       "  specific estimator or a Pipeline/ColumnTransformer */\n",
       "  background-color: var(--sklearn-color-background);\n",
       "}\n",
       "\n",
       "/* Toggleable label */\n",
       "#sk-container-id-2 label.sk-toggleable__label {\n",
       "  cursor: pointer;\n",
       "  display: block;\n",
       "  width: 100%;\n",
       "  margin-bottom: 0;\n",
       "  padding: 0.5em;\n",
       "  box-sizing: border-box;\n",
       "  text-align: center;\n",
       "}\n",
       "\n",
       "#sk-container-id-2 label.sk-toggleable__label-arrow:before {\n",
       "  /* Arrow on the left of the label */\n",
       "  content: \"▸\";\n",
       "  float: left;\n",
       "  margin-right: 0.25em;\n",
       "  color: var(--sklearn-color-icon);\n",
       "}\n",
       "\n",
       "#sk-container-id-2 label.sk-toggleable__label-arrow:hover:before {\n",
       "  color: var(--sklearn-color-text);\n",
       "}\n",
       "\n",
       "/* Toggleable content - dropdown */\n",
       "\n",
       "#sk-container-id-2 div.sk-toggleable__content {\n",
       "  max-height: 0;\n",
       "  max-width: 0;\n",
       "  overflow: hidden;\n",
       "  text-align: left;\n",
       "  /* unfitted */\n",
       "  background-color: var(--sklearn-color-unfitted-level-0);\n",
       "}\n",
       "\n",
       "#sk-container-id-2 div.sk-toggleable__content.fitted {\n",
       "  /* fitted */\n",
       "  background-color: var(--sklearn-color-fitted-level-0);\n",
       "}\n",
       "\n",
       "#sk-container-id-2 div.sk-toggleable__content pre {\n",
       "  margin: 0.2em;\n",
       "  border-radius: 0.25em;\n",
       "  color: var(--sklearn-color-text);\n",
       "  /* unfitted */\n",
       "  background-color: var(--sklearn-color-unfitted-level-0);\n",
       "}\n",
       "\n",
       "#sk-container-id-2 div.sk-toggleable__content.fitted pre {\n",
       "  /* unfitted */\n",
       "  background-color: var(--sklearn-color-fitted-level-0);\n",
       "}\n",
       "\n",
       "#sk-container-id-2 input.sk-toggleable__control:checked~div.sk-toggleable__content {\n",
       "  /* Expand drop-down */\n",
       "  max-height: 200px;\n",
       "  max-width: 100%;\n",
       "  overflow: auto;\n",
       "}\n",
       "\n",
       "#sk-container-id-2 input.sk-toggleable__control:checked~label.sk-toggleable__label-arrow:before {\n",
       "  content: \"▾\";\n",
       "}\n",
       "\n",
       "/* Pipeline/ColumnTransformer-specific style */\n",
       "\n",
       "#sk-container-id-2 div.sk-label input.sk-toggleable__control:checked~label.sk-toggleable__label {\n",
       "  color: var(--sklearn-color-text);\n",
       "  background-color: var(--sklearn-color-unfitted-level-2);\n",
       "}\n",
       "\n",
       "#sk-container-id-2 div.sk-label.fitted input.sk-toggleable__control:checked~label.sk-toggleable__label {\n",
       "  background-color: var(--sklearn-color-fitted-level-2);\n",
       "}\n",
       "\n",
       "/* Estimator-specific style */\n",
       "\n",
       "/* Colorize estimator box */\n",
       "#sk-container-id-2 div.sk-estimator input.sk-toggleable__control:checked~label.sk-toggleable__label {\n",
       "  /* unfitted */\n",
       "  background-color: var(--sklearn-color-unfitted-level-2);\n",
       "}\n",
       "\n",
       "#sk-container-id-2 div.sk-estimator.fitted input.sk-toggleable__control:checked~label.sk-toggleable__label {\n",
       "  /* fitted */\n",
       "  background-color: var(--sklearn-color-fitted-level-2);\n",
       "}\n",
       "\n",
       "#sk-container-id-2 div.sk-label label.sk-toggleable__label,\n",
       "#sk-container-id-2 div.sk-label label {\n",
       "  /* The background is the default theme color */\n",
       "  color: var(--sklearn-color-text-on-default-background);\n",
       "}\n",
       "\n",
       "/* On hover, darken the color of the background */\n",
       "#sk-container-id-2 div.sk-label:hover label.sk-toggleable__label {\n",
       "  color: var(--sklearn-color-text);\n",
       "  background-color: var(--sklearn-color-unfitted-level-2);\n",
       "}\n",
       "\n",
       "/* Label box, darken color on hover, fitted */\n",
       "#sk-container-id-2 div.sk-label.fitted:hover label.sk-toggleable__label.fitted {\n",
       "  color: var(--sklearn-color-text);\n",
       "  background-color: var(--sklearn-color-fitted-level-2);\n",
       "}\n",
       "\n",
       "/* Estimator label */\n",
       "\n",
       "#sk-container-id-2 div.sk-label label {\n",
       "  font-family: monospace;\n",
       "  font-weight: bold;\n",
       "  display: inline-block;\n",
       "  line-height: 1.2em;\n",
       "}\n",
       "\n",
       "#sk-container-id-2 div.sk-label-container {\n",
       "  text-align: center;\n",
       "}\n",
       "\n",
       "/* Estimator-specific */\n",
       "#sk-container-id-2 div.sk-estimator {\n",
       "  font-family: monospace;\n",
       "  border: 1px dotted var(--sklearn-color-border-box);\n",
       "  border-radius: 0.25em;\n",
       "  box-sizing: border-box;\n",
       "  margin-bottom: 0.5em;\n",
       "  /* unfitted */\n",
       "  background-color: var(--sklearn-color-unfitted-level-0);\n",
       "}\n",
       "\n",
       "#sk-container-id-2 div.sk-estimator.fitted {\n",
       "  /* fitted */\n",
       "  background-color: var(--sklearn-color-fitted-level-0);\n",
       "}\n",
       "\n",
       "/* on hover */\n",
       "#sk-container-id-2 div.sk-estimator:hover {\n",
       "  /* unfitted */\n",
       "  background-color: var(--sklearn-color-unfitted-level-2);\n",
       "}\n",
       "\n",
       "#sk-container-id-2 div.sk-estimator.fitted:hover {\n",
       "  /* fitted */\n",
       "  background-color: var(--sklearn-color-fitted-level-2);\n",
       "}\n",
       "\n",
       "/* Specification for estimator info (e.g. \"i\" and \"?\") */\n",
       "\n",
       "/* Common style for \"i\" and \"?\" */\n",
       "\n",
       ".sk-estimator-doc-link,\n",
       "a:link.sk-estimator-doc-link,\n",
       "a:visited.sk-estimator-doc-link {\n",
       "  float: right;\n",
       "  font-size: smaller;\n",
       "  line-height: 1em;\n",
       "  font-family: monospace;\n",
       "  background-color: var(--sklearn-color-background);\n",
       "  border-radius: 1em;\n",
       "  height: 1em;\n",
       "  width: 1em;\n",
       "  text-decoration: none !important;\n",
       "  margin-left: 1ex;\n",
       "  /* unfitted */\n",
       "  border: var(--sklearn-color-unfitted-level-1) 1pt solid;\n",
       "  color: var(--sklearn-color-unfitted-level-1);\n",
       "}\n",
       "\n",
       ".sk-estimator-doc-link.fitted,\n",
       "a:link.sk-estimator-doc-link.fitted,\n",
       "a:visited.sk-estimator-doc-link.fitted {\n",
       "  /* fitted */\n",
       "  border: var(--sklearn-color-fitted-level-1) 1pt solid;\n",
       "  color: var(--sklearn-color-fitted-level-1);\n",
       "}\n",
       "\n",
       "/* On hover */\n",
       "div.sk-estimator:hover .sk-estimator-doc-link:hover,\n",
       ".sk-estimator-doc-link:hover,\n",
       "div.sk-label-container:hover .sk-estimator-doc-link:hover,\n",
       ".sk-estimator-doc-link:hover {\n",
       "  /* unfitted */\n",
       "  background-color: var(--sklearn-color-unfitted-level-3);\n",
       "  color: var(--sklearn-color-background);\n",
       "  text-decoration: none;\n",
       "}\n",
       "\n",
       "div.sk-estimator.fitted:hover .sk-estimator-doc-link.fitted:hover,\n",
       ".sk-estimator-doc-link.fitted:hover,\n",
       "div.sk-label-container:hover .sk-estimator-doc-link.fitted:hover,\n",
       ".sk-estimator-doc-link.fitted:hover {\n",
       "  /* fitted */\n",
       "  background-color: var(--sklearn-color-fitted-level-3);\n",
       "  color: var(--sklearn-color-background);\n",
       "  text-decoration: none;\n",
       "}\n",
       "\n",
       "/* Span, style for the box shown on hovering the info icon */\n",
       ".sk-estimator-doc-link span {\n",
       "  display: none;\n",
       "  z-index: 9999;\n",
       "  position: relative;\n",
       "  font-weight: normal;\n",
       "  right: .2ex;\n",
       "  padding: .5ex;\n",
       "  margin: .5ex;\n",
       "  width: min-content;\n",
       "  min-width: 20ex;\n",
       "  max-width: 50ex;\n",
       "  color: var(--sklearn-color-text);\n",
       "  box-shadow: 2pt 2pt 4pt #999;\n",
       "  /* unfitted */\n",
       "  background: var(--sklearn-color-unfitted-level-0);\n",
       "  border: .5pt solid var(--sklearn-color-unfitted-level-3);\n",
       "}\n",
       "\n",
       ".sk-estimator-doc-link.fitted span {\n",
       "  /* fitted */\n",
       "  background: var(--sklearn-color-fitted-level-0);\n",
       "  border: var(--sklearn-color-fitted-level-3);\n",
       "}\n",
       "\n",
       ".sk-estimator-doc-link:hover span {\n",
       "  display: block;\n",
       "}\n",
       "\n",
       "/* \"?\"-specific style due to the `<a>` HTML tag */\n",
       "\n",
       "#sk-container-id-2 a.estimator_doc_link {\n",
       "  float: right;\n",
       "  font-size: 1rem;\n",
       "  line-height: 1em;\n",
       "  font-family: monospace;\n",
       "  background-color: var(--sklearn-color-background);\n",
       "  border-radius: 1rem;\n",
       "  height: 1rem;\n",
       "  width: 1rem;\n",
       "  text-decoration: none;\n",
       "  /* unfitted */\n",
       "  color: var(--sklearn-color-unfitted-level-1);\n",
       "  border: var(--sklearn-color-unfitted-level-1) 1pt solid;\n",
       "}\n",
       "\n",
       "#sk-container-id-2 a.estimator_doc_link.fitted {\n",
       "  /* fitted */\n",
       "  border: var(--sklearn-color-fitted-level-1) 1pt solid;\n",
       "  color: var(--sklearn-color-fitted-level-1);\n",
       "}\n",
       "\n",
       "/* On hover */\n",
       "#sk-container-id-2 a.estimator_doc_link:hover {\n",
       "  /* unfitted */\n",
       "  background-color: var(--sklearn-color-unfitted-level-3);\n",
       "  color: var(--sklearn-color-background);\n",
       "  text-decoration: none;\n",
       "}\n",
       "\n",
       "#sk-container-id-2 a.estimator_doc_link.fitted:hover {\n",
       "  /* fitted */\n",
       "  background-color: var(--sklearn-color-fitted-level-3);\n",
       "}\n",
       "</style><div id=\"sk-container-id-2\" class=\"sk-top-container\"><div class=\"sk-text-repr-fallback\"><pre>MinMaxScaler()</pre><b>In a Jupyter environment, please rerun this cell to show the HTML representation or trust the notebook. <br />On GitHub, the HTML representation is unable to render, please try loading this page with nbviewer.org.</b></div><div class=\"sk-container\" hidden><div class=\"sk-item\"><div class=\"sk-estimator fitted sk-toggleable\"><input class=\"sk-toggleable__control sk-hidden--visually\" id=\"sk-estimator-id-2\" type=\"checkbox\" checked><label for=\"sk-estimator-id-2\" class=\"sk-toggleable__label fitted sk-toggleable__label-arrow fitted\">&nbsp;&nbsp;MinMaxScaler<a class=\"sk-estimator-doc-link fitted\" rel=\"noreferrer\" target=\"_blank\" href=\"https://scikit-learn.org/1.4/modules/generated/sklearn.preprocessing.MinMaxScaler.html\">?<span>Documentation for MinMaxScaler</span></a><span class=\"sk-estimator-doc-link fitted\">i<span>Fitted</span></span></label><div class=\"sk-toggleable__content fitted\"><pre>MinMaxScaler()</pre></div> </div></div></div></div>"
      ],
      "text/plain": [
       "MinMaxScaler()"
      ]
     },
     "execution_count": 76,
     "metadata": {},
     "output_type": "execute_result"
    }
   ],
   "source": [
    "scaler.fit(top_new)"
   ]
  },
  {
   "cell_type": "code",
   "execution_count": 77,
   "id": "1b819c64-e3e1-455d-b41a-ee8c323243b5",
   "metadata": {},
   "outputs": [],
   "source": [
    "standard_top_new = scaler.transform(top_new)"
   ]
  },
  {
   "cell_type": "code",
   "execution_count": 78,
   "id": "d054e0b3-aad9-47e6-84af-115048c731f1",
   "metadata": {},
   "outputs": [
    {
     "name": "stdout",
     "output_type": "stream",
     "text": [
      "0.27180437901402316 ['alright' 'away' 'baby' 'begin' 'begins' 'best' 'better' 'body' 'break'\n",
      " 'breathing' 'bring' 'broken' 'burning' 'came' 'carry' 'change' 'city'\n",
      " 'close' 'closer' 'cold' 'come' 'comes' 'coming' 'darling' 'day' 'days'\n",
      " 'did' 'different' 'door' 'face' 'fall' 'falling' 'far' 'fear' 'feel'\n",
      " 'fight' 'floor' 'forget' 'friend' 'friends' 'god' 'goes' 'going' 'gone'\n",
      " 'good' 'got' 'ground' 'hand' 'hands' 'hard' 'head' 'hear' 'heart' 'hold'\n",
      " 'home' 'inside' 'instead' 'just' 'kiss' 'knees' 'knew' 'lay' 'leave'\n",
      " 'leaving' 'left' 'let' 'life' 'light' 'like' 'line' 'little' 'long'\n",
      " 'longer' 'look' 'lose' 'lost' 'love' 'lovers' 'make' 'maybe' 'meet'\n",
      " 'miles' 'mind' 'need' 'new' 'night' 'oh' 'old' 'place' 'rain' 'reason'\n",
      " 'remember' 'right' 'road' 'run' 'said' 'say' 'skin' 'sky' 'slow' 'slowly'\n",
      " 'soul' 'stand' 'standing' 'start' 'stay' 'stop' 'story' 'sun' 'swear'\n",
      " 'talk' 'tell' 'thing' 'things' 'think' 'thought' 'til' 'time' 'today'\n",
      " 'told' 'tonight' 'touch' 'try' 'trying' 'turn' 'wait' 'waiting' 'walk'\n",
      " 'walking' 'want' 'wanted' 'water' 'waves' 'way' 'window' 'wonder' 'words'\n",
      " 'world' 'wrong' 'yeah' 'years']\n",
      "0.4702601748769281 ['alright' 'away' 'baby' 'begin' 'begins' 'best' 'better' 'body' 'break'\n",
      " 'breathing' 'bring' 'broken' 'burning' 'came' 'carry' 'change' 'city'\n",
      " 'close' 'closer' 'cold' 'come' 'comes' 'coming' 'darling' 'day' 'days'\n",
      " 'did' 'different' 'door' 'face' 'fall' 'falling' 'far' 'fear' 'feel'\n",
      " 'fight' 'floor' 'forget' 'friend' 'friends' 'god' 'goes' 'going' 'gone'\n",
      " 'good' 'got' 'ground' 'hand' 'hands' 'hard' 'head' 'hear' 'heart' 'hold'\n",
      " 'home' 'inside' 'instead' 'just' 'kiss' 'knees' 'knew' 'lay' 'leave'\n",
      " 'leaving' 'left' 'let' 'life' 'light' 'like' 'line' 'little' 'long'\n",
      " 'longer' 'look' 'lose' 'lost' 'love' 'lovers' 'make' 'maybe' 'meet'\n",
      " 'miles' 'mind' 'need' 'new' 'night' 'oh' 'old' 'place' 'rain' 'reason'\n",
      " 'remember' 'right' 'road' 'run' 'said' 'say' 'skin' 'sky' 'slow' 'slowly'\n",
      " 'soul' 'stand' 'standing' 'start' 'stay' 'stop' 'story' 'sun' 'swear'\n",
      " 'talk' 'tell' 'thing' 'things' 'think' 'thought' 'til' 'time' 'today'\n",
      " 'told' 'tonight' 'touch' 'try' 'trying' 'turn' 'wait' 'waiting' 'walk'\n",
      " 'walking' 'want' 'wanted' 'water' 'waves' 'way' 'window' 'wonder' 'words'\n",
      " 'world' 'wrong' 'yeah' 'years']\n",
      "0.2805981720778533 ['alright' 'away' 'baby' 'begin' 'begins' 'best' 'better' 'body' 'break'\n",
      " 'breathing' 'bring' 'broken' 'burning' 'came' 'carry' 'change' 'city'\n",
      " 'close' 'closer' 'cold' 'come' 'comes' 'coming' 'darling' 'day' 'days'\n",
      " 'did' 'different' 'door' 'face' 'fall' 'falling' 'far' 'fear' 'feel'\n",
      " 'fight' 'floor' 'forget' 'friend' 'friends' 'god' 'goes' 'going' 'gone'\n",
      " 'good' 'got' 'ground' 'hand' 'hands' 'hard' 'head' 'hear' 'heart' 'hold'\n",
      " 'home' 'inside' 'instead' 'just' 'kiss' 'knees' 'knew' 'lay' 'leave'\n",
      " 'leaving' 'left' 'let' 'life' 'light' 'like' 'line' 'little' 'long'\n",
      " 'longer' 'look' 'lose' 'lost' 'love' 'lovers' 'make' 'maybe' 'meet'\n",
      " 'miles' 'mind' 'need' 'new' 'night' 'oh' 'old' 'place' 'rain' 'reason'\n",
      " 'remember' 'right' 'road' 'run' 'said' 'say' 'skin' 'sky' 'slow' 'slowly'\n",
      " 'soul' 'stand' 'standing' 'start' 'stay' 'stop' 'story' 'sun' 'swear'\n",
      " 'talk' 'tell' 'thing' 'things' 'think' 'thought' 'til' 'time' 'today'\n",
      " 'told' 'tonight' 'touch' 'try' 'trying' 'turn' 'wait' 'waiting' 'walk'\n",
      " 'walking' 'want' 'wanted' 'water' 'waves' 'way' 'window' 'wonder' 'words'\n",
      " 'world' 'wrong' 'yeah' 'years']\n",
      "0.40770656852103476 ['alright' 'away' 'baby' 'begin' 'begins' 'best' 'better' 'body' 'break'\n",
      " 'breathing' 'bring' 'broken' 'burning' 'came' 'carry' 'change' 'city'\n",
      " 'close' 'closer' 'cold' 'come' 'comes' 'coming' 'darling' 'day' 'days'\n",
      " 'did' 'different' 'door' 'face' 'fall' 'falling' 'far' 'fear' 'feel'\n",
      " 'fight' 'floor' 'forget' 'friend' 'friends' 'god' 'goes' 'going' 'gone'\n",
      " 'good' 'got' 'ground' 'hand' 'hands' 'hard' 'head' 'hear' 'heart' 'hold'\n",
      " 'home' 'inside' 'instead' 'just' 'kiss' 'knees' 'knew' 'lay' 'leave'\n",
      " 'leaving' 'left' 'let' 'life' 'light' 'like' 'line' 'little' 'long'\n",
      " 'longer' 'look' 'lose' 'lost' 'love' 'lovers' 'make' 'maybe' 'meet'\n",
      " 'miles' 'mind' 'need' 'new' 'night' 'oh' 'old' 'place' 'rain' 'reason'\n",
      " 'remember' 'right' 'road' 'run' 'said' 'say' 'skin' 'sky' 'slow' 'slowly'\n",
      " 'soul' 'stand' 'standing' 'start' 'stay' 'stop' 'story' 'sun' 'swear'\n",
      " 'talk' 'tell' 'thing' 'things' 'think' 'thought' 'til' 'time' 'today'\n",
      " 'told' 'tonight' 'touch' 'try' 'trying' 'turn' 'wait' 'waiting' 'walk'\n",
      " 'walking' 'want' 'wanted' 'water' 'waves' 'way' 'window' 'wonder' 'words'\n",
      " 'world' 'wrong' 'yeah' 'years']\n",
      "0.24318793675328498 ['alright' 'away' 'baby' 'begin' 'begins' 'best' 'better' 'body' 'break'\n",
      " 'breathing' 'bring' 'broken' 'burning' 'came' 'carry' 'change' 'city'\n",
      " 'close' 'closer' 'cold' 'come' 'comes' 'coming' 'darling' 'day' 'days'\n",
      " 'did' 'different' 'door' 'face' 'fall' 'falling' 'far' 'fear' 'feel'\n",
      " 'fight' 'floor' 'forget' 'friend' 'friends' 'god' 'goes' 'going' 'gone'\n",
      " 'good' 'got' 'ground' 'hand' 'hands' 'hard' 'head' 'hear' 'heart' 'hold'\n",
      " 'home' 'inside' 'instead' 'just' 'kiss' 'knees' 'knew' 'lay' 'leave'\n",
      " 'leaving' 'left' 'let' 'life' 'light' 'like' 'line' 'little' 'long'\n",
      " 'longer' 'look' 'lose' 'lost' 'love' 'lovers' 'make' 'maybe' 'meet'\n",
      " 'miles' 'mind' 'need' 'new' 'night' 'oh' 'old' 'place' 'rain' 'reason'\n",
      " 'remember' 'right' 'road' 'run' 'said' 'say' 'skin' 'sky' 'slow' 'slowly'\n",
      " 'soul' 'stand' 'standing' 'start' 'stay' 'stop' 'story' 'sun' 'swear'\n",
      " 'talk' 'tell' 'thing' 'things' 'think' 'thought' 'til' 'time' 'today'\n",
      " 'told' 'tonight' 'touch' 'try' 'trying' 'turn' 'wait' 'waiting' 'walk'\n",
      " 'walking' 'want' 'wanted' 'water' 'waves' 'way' 'window' 'wonder' 'words'\n",
      " 'world' 'wrong' 'yeah' 'years']\n"
     ]
    }
   ],
   "source": [
    "for value in test[0]:\n",
    "    if value > .24:\n",
    "        print(value, vectorizer.get_feature_names_out())"
   ]
  },
  {
   "cell_type": "code",
   "execution_count": 79,
   "id": "10ec7a35-f564-431f-8a4d-2061025fbb77",
   "metadata": {},
   "outputs": [],
   "source": [
    "test_dict_2 = dict(zip(vectorizer.get_feature_names_out(), test[0]))"
   ]
  },
  {
   "cell_type": "code",
   "execution_count": 80,
   "id": "10f807a5-04c9-4820-97aa-1bb47e9fa5ac",
   "metadata": {},
   "outputs": [],
   "source": [
    "test2 = pd.DataFrame(test, columns = vectorizer.get_feature_names_out())"
   ]
  },
  {
   "cell_type": "code",
   "execution_count": 81,
   "id": "fcc109a2-f3cb-4f61-b356-0bce5e96e35b",
   "metadata": {},
   "outputs": [],
   "source": [
    "kmeans = KMeans(n_clusters=7, random_state=42).fit(text) #unfiltered lyrics"
   ]
  },
  {
   "cell_type": "code",
   "execution_count": 82,
   "id": "f13d9ccc-c58e-46ce-8cbd-d2e520d60271",
   "metadata": {},
   "outputs": [],
   "source": [
    "kmeans_labels = (kmeans.labels_)"
   ]
  },
  {
   "cell_type": "code",
   "execution_count": 83,
   "id": "19156aa8-c363-4f07-a586-1107fc9d5776",
   "metadata": {},
   "outputs": [],
   "source": [
    "kmeans2 = KMeans(n_clusters=10, random_state=42).fit(text_3)"
   ]
  },
  {
   "cell_type": "code",
   "execution_count": 84,
   "id": "3cfd65f1-cd05-4fa5-9ef0-1fc997361573",
   "metadata": {},
   "outputs": [],
   "source": [
    "kmeans2_labels = kmeans2.labels_"
   ]
  },
  {
   "cell_type": "code",
   "execution_count": 85,
   "id": "2b63c14f-4593-4ed7-a540-832177d046b3",
   "metadata": {},
   "outputs": [],
   "source": [
    "kmeans3 = KMeans(n_clusters=7, random_state=42).fit(text_4)"
   ]
  },
  {
   "cell_type": "code",
   "execution_count": 86,
   "id": "e05ca4f8-e069-4d39-b46b-41293161459c",
   "metadata": {},
   "outputs": [],
   "source": [
    "kmeans3_labels = kmeans3.labels_"
   ]
  },
  {
   "cell_type": "code",
   "execution_count": 87,
   "id": "1bcee0e2-1f3f-4d0a-935e-5e9e64c3111a",
   "metadata": {},
   "outputs": [],
   "source": [
    "kmeans4 = KMeans(n_clusters=7, random_state=42).fit(text_5)"
   ]
  },
  {
   "cell_type": "code",
   "execution_count": 88,
   "id": "225ed909-05e0-42bc-b679-eb91cfb53822",
   "metadata": {},
   "outputs": [],
   "source": [
    "kmeans4_labels = kmeans4.labels_"
   ]
  },
  {
   "cell_type": "code",
   "execution_count": 89,
   "id": "a006c680-dbcc-4ce4-ac3d-6e94fef725cb",
   "metadata": {},
   "outputs": [
    {
     "name": "stderr",
     "output_type": "stream",
     "text": [
      "C:\\Users\\danie\\anaconda3\\envs\\home_env\\Lib\\site-packages\\sklearn\\cluster\\_kmeans.py:1446: UserWarning: KMeans is known to have a memory leak on Windows with MKL, when there are less chunks than available threads. You can avoid it by setting the environment variable OMP_NUM_THREADS=1.\n",
      "  warnings.warn(\n"
     ]
    }
   ],
   "source": [
    "kmeans5 = KMeans(n_clusters=7, random_state=42).fit(song_df[['Len_Simple_Lyrics', 'Simple_Lyrics_Sent']])"
   ]
  },
  {
   "cell_type": "code",
   "execution_count": 90,
   "id": "6ac248c2-092c-4f35-8137-b717eba87e8b",
   "metadata": {},
   "outputs": [],
   "source": [
    "kmeans5_labels = kmeans5.labels_"
   ]
  },
  {
   "cell_type": "code",
   "execution_count": 91,
   "id": "460a2a21-b5fa-4469-996a-3f4f32dce737",
   "metadata": {},
   "outputs": [],
   "source": [
    "kmeans6 = KMeans(n_clusters=7, random_state=42).fit(top_tfidf_matrix)"
   ]
  },
  {
   "cell_type": "code",
   "execution_count": 92,
   "id": "ba3f3c97-c179-41d8-884f-988a32d59777",
   "metadata": {},
   "outputs": [],
   "source": [
    "kmeans6_labels = kmeans6.labels_"
   ]
  },
  {
   "cell_type": "code",
   "execution_count": 93,
   "id": "02216bcf-bf3c-4eb2-986d-c6a6d2f8fba2",
   "metadata": {},
   "outputs": [
    {
     "name": "stderr",
     "output_type": "stream",
     "text": [
      "C:\\Users\\danie\\anaconda3\\envs\\home_env\\Lib\\site-packages\\sklearn\\cluster\\_kmeans.py:1446: UserWarning: KMeans is known to have a memory leak on Windows with MKL, when there are less chunks than available threads. You can avoid it by setting the environment variable OMP_NUM_THREADS=1.\n",
      "  warnings.warn(\n"
     ]
    }
   ],
   "source": [
    "kmeans7 = KMeans(n_clusters=7, random_state=42).fit(top_new2)"
   ]
  },
  {
   "cell_type": "code",
   "execution_count": 94,
   "id": "298e0112-8366-4763-9674-c6cd732ba0fd",
   "metadata": {},
   "outputs": [],
   "source": [
    "kmeans7_labels = kmeans7.labels_"
   ]
  },
  {
   "cell_type": "code",
   "execution_count": 95,
   "id": "9a046b6f-31c4-4551-afb1-a0bbe6acc205",
   "metadata": {},
   "outputs": [
    {
     "name": "stderr",
     "output_type": "stream",
     "text": [
      "C:\\Users\\danie\\anaconda3\\envs\\home_env\\Lib\\site-packages\\sklearn\\cluster\\_kmeans.py:1446: UserWarning: KMeans is known to have a memory leak on Windows with MKL, when there are less chunks than available threads. You can avoid it by setting the environment variable OMP_NUM_THREADS=1.\n",
      "  warnings.warn(\n"
     ]
    }
   ],
   "source": [
    "kmeans8 = KMeans(n_clusters=7, random_state=42).fit(standard_top_new)"
   ]
  },
  {
   "cell_type": "code",
   "execution_count": 96,
   "id": "6e199e67-bc75-4f9b-a631-6c709713021b",
   "metadata": {},
   "outputs": [],
   "source": [
    "kmeans8_labels = kmeans8.labels_"
   ]
  },
  {
   "cell_type": "code",
   "execution_count": 97,
   "id": "87693c78-2c47-449a-b2cf-01277e7ea0f9",
   "metadata": {},
   "outputs": [
    {
     "name": "stderr",
     "output_type": "stream",
     "text": [
      "C:\\Users\\danie\\anaconda3\\envs\\home_env\\Lib\\site-packages\\sklearn\\cluster\\_kmeans.py:1446: UserWarning: KMeans is known to have a memory leak on Windows with MKL, when there are less chunks than available threads. You can avoid it by setting the environment variable OMP_NUM_THREADS=1.\n",
      "  warnings.warn(\n"
     ]
    }
   ],
   "source": [
    "kmeans9 = KMeans(n_clusters=7, random_state=42).fit(top_new)"
   ]
  },
  {
   "cell_type": "code",
   "execution_count": 98,
   "id": "b7bb2f3a-4888-4f11-88e6-2f7bc0aef964",
   "metadata": {},
   "outputs": [],
   "source": [
    "kmeans9_labels = kmeans9.labels_"
   ]
  },
  {
   "cell_type": "code",
   "execution_count": 99,
   "id": "0c43a097-fec0-44e4-83e9-ca7e20a87bad",
   "metadata": {},
   "outputs": [],
   "source": [
    "song_df['Cluster_Num'] = kmeans_labels #adding the labels to the dataframe with our data in it"
   ]
  },
  {
   "cell_type": "code",
   "execution_count": 100,
   "id": "18c9de46-6611-4346-a3b0-34ddf5ca1817",
   "metadata": {},
   "outputs": [],
   "source": [
    "song_df['KMeans_Labels3'] = kmeans3_labels"
   ]
  },
  {
   "cell_type": "code",
   "execution_count": 101,
   "id": "ed972fd2-72b3-4d34-b6d0-2ff707a14e14",
   "metadata": {},
   "outputs": [],
   "source": [
    "song_df['KMeans_Labels2'] = kmeans2_labels"
   ]
  },
  {
   "cell_type": "code",
   "execution_count": 102,
   "id": "c8f9e705-f399-4885-a2bf-edaa2573ed75",
   "metadata": {},
   "outputs": [],
   "source": [
    "song_df['KMeans_Labels4'] = kmeans4_labels"
   ]
  },
  {
   "cell_type": "code",
   "execution_count": 103,
   "id": "3a8416b5-d4ed-4ad4-8036-929292bb0f22",
   "metadata": {},
   "outputs": [],
   "source": [
    "song_df['KMeans_Labels5'] = kmeans5.labels_"
   ]
  },
  {
   "cell_type": "code",
   "execution_count": 104,
   "id": "185cd884-5fca-4892-8f7d-c6814ced7ef5",
   "metadata": {},
   "outputs": [],
   "source": [
    "song_df['KMeans_Labels6'] = kmeans6_labels"
   ]
  },
  {
   "cell_type": "code",
   "execution_count": 105,
   "id": "5d010235-4fc3-4111-beb7-ed6693222a70",
   "metadata": {},
   "outputs": [],
   "source": [
    "song_df['KMeans_Labels7'] = kmeans7_labels"
   ]
  },
  {
   "cell_type": "code",
   "execution_count": 106,
   "id": "b5bed012-ad76-4aa2-ab72-9a0090d0b14a",
   "metadata": {},
   "outputs": [],
   "source": [
    "song_df['KMeans_Labels8'] = kmeans8_labels"
   ]
  },
  {
   "cell_type": "code",
   "execution_count": 107,
   "id": "d435eb85-8dd9-4f5d-9125-f82b00516fb1",
   "metadata": {},
   "outputs": [],
   "source": [
    "song_df['KMeans_Labels9'] = kmeans9_labels"
   ]
  },
  {
   "cell_type": "markdown",
   "id": "fc881373-dfb4-44d3-897a-7703ba07ffbc",
   "metadata": {},
   "source": [
    "### Evaluating how many clusters by using a silhouette score and the elbow method. "
   ]
  },
  {
   "cell_type": "code",
   "execution_count": 108,
   "id": "19fdbf6a-c606-4a96-bc93-21ed1e8abfb8",
   "metadata": {},
   "outputs": [],
   "source": [
    "silhouette_score2 = silhouette_score(top_tfidf_matrix, kmeans.labels_) #string lyrics as input for silhouette score"
   ]
  },
  {
   "cell_type": "code",
   "execution_count": 109,
   "id": "2e2c78e3-92c4-4dd7-a727-2a8a4febc39f",
   "metadata": {},
   "outputs": [
    {
     "name": "stdout",
     "output_type": "stream",
     "text": [
      "-0.005947331884222767\n"
     ]
    }
   ],
   "source": [
    "print(silhouette_score2)"
   ]
  },
  {
   "cell_type": "code",
   "execution_count": 110,
   "id": "6f60f36c-d2ce-4807-8375-e99af8e278ca",
   "metadata": {},
   "outputs": [
    {
     "name": "stdout",
     "output_type": "stream",
     "text": [
      "0.5665801389535342\n",
      "0.5647997308090891\n",
      "0.4814785881538769\n",
      "0.40418056984329065\n",
      "0.38569757310204433\n",
      "0.4195767339866916\n",
      "0.3248818853171935\n",
      "0.3558693267663115\n",
      "0.32874837028589166\n"
     ]
    },
    {
     "name": "stderr",
     "output_type": "stream",
     "text": [
      "C:\\Users\\danie\\anaconda3\\envs\\home_env\\Lib\\site-packages\\sklearn\\cluster\\_kmeans.py:1446: UserWarning: KMeans is known to have a memory leak on Windows with MKL, when there are less chunks than available threads. You can avoid it by setting the environment variable OMP_NUM_THREADS=1.\n",
      "  warnings.warn(\n",
      "C:\\Users\\danie\\anaconda3\\envs\\home_env\\Lib\\site-packages\\sklearn\\cluster\\_kmeans.py:1446: UserWarning: KMeans is known to have a memory leak on Windows with MKL, when there are less chunks than available threads. You can avoid it by setting the environment variable OMP_NUM_THREADS=1.\n",
      "  warnings.warn(\n",
      "C:\\Users\\danie\\anaconda3\\envs\\home_env\\Lib\\site-packages\\sklearn\\cluster\\_kmeans.py:1446: UserWarning: KMeans is known to have a memory leak on Windows with MKL, when there are less chunks than available threads. You can avoid it by setting the environment variable OMP_NUM_THREADS=1.\n",
      "  warnings.warn(\n",
      "C:\\Users\\danie\\anaconda3\\envs\\home_env\\Lib\\site-packages\\sklearn\\cluster\\_kmeans.py:1446: UserWarning: KMeans is known to have a memory leak on Windows with MKL, when there are less chunks than available threads. You can avoid it by setting the environment variable OMP_NUM_THREADS=1.\n",
      "  warnings.warn(\n",
      "C:\\Users\\danie\\anaconda3\\envs\\home_env\\Lib\\site-packages\\sklearn\\cluster\\_kmeans.py:1446: UserWarning: KMeans is known to have a memory leak on Windows with MKL, when there are less chunks than available threads. You can avoid it by setting the environment variable OMP_NUM_THREADS=1.\n",
      "  warnings.warn(\n",
      "C:\\Users\\danie\\anaconda3\\envs\\home_env\\Lib\\site-packages\\sklearn\\cluster\\_kmeans.py:1446: UserWarning: KMeans is known to have a memory leak on Windows with MKL, when there are less chunks than available threads. You can avoid it by setting the environment variable OMP_NUM_THREADS=1.\n",
      "  warnings.warn(\n",
      "C:\\Users\\danie\\anaconda3\\envs\\home_env\\Lib\\site-packages\\sklearn\\cluster\\_kmeans.py:1446: UserWarning: KMeans is known to have a memory leak on Windows with MKL, when there are less chunks than available threads. You can avoid it by setting the environment variable OMP_NUM_THREADS=1.\n",
      "  warnings.warn(\n",
      "C:\\Users\\danie\\anaconda3\\envs\\home_env\\Lib\\site-packages\\sklearn\\cluster\\_kmeans.py:1446: UserWarning: KMeans is known to have a memory leak on Windows with MKL, when there are less chunks than available threads. You can avoid it by setting the environment variable OMP_NUM_THREADS=1.\n",
      "  warnings.warn(\n",
      "C:\\Users\\danie\\anaconda3\\envs\\home_env\\Lib\\site-packages\\sklearn\\cluster\\_kmeans.py:1446: UserWarning: KMeans is known to have a memory leak on Windows with MKL, when there are less chunks than available threads. You can avoid it by setting the environment variable OMP_NUM_THREADS=1.\n",
      "  warnings.warn(\n"
     ]
    }
   ],
   "source": [
    "silhouette_scores2 = []\n",
    "for n_clusters in range(2, 11):\n",
    "    kmeans = KMeans(n_clusters=n_clusters, random_state=42)\n",
    "    kmeans.fit(top_new2)\n",
    "    silhouette_avg = silhouette_score(top_new2, kmeans.labels_)\n",
    "    silhouette_scores2.append(silhouette_avg)\n",
    "    print(silhouette_avg)"
   ]
  },
  {
   "cell_type": "code",
   "execution_count": 111,
   "id": "6fb082e0-90e6-4005-90a4-4d531e189f07",
   "metadata": {},
   "outputs": [
    {
     "name": "stdout",
     "output_type": "stream",
     "text": [
      "Optimal number of clusters: 2\n"
     ]
    }
   ],
   "source": [
    "optimal_clusters = silhouette_scores2.index(max(silhouette_scores2)) + 2 #2 b/c range is 2-11\n",
    "print(\"Optimal number of clusters:\", optimal_clusters)"
   ]
  },
  {
   "cell_type": "markdown",
   "id": "cf33f8e1-f5d7-41d2-ad83-692afcfa1bf0",
   "metadata": {},
   "source": [
    "So, doing the elbow on just the vectorized \"top words\" would have suggested we use 4 clusters as opposed to 7. Again, I wanted to use 7 just because I knew that we had 7 lables, but in reality, we wouldn't \"have\" to have 7 labels. Theoretically, a band could use very similar lyrics across 7 albums, which would result in fewer clusters, or maybe they experiment a lot with their lyrics and would have more than 7. "
   ]
  },
  {
   "cell_type": "code",
   "execution_count": 112,
   "id": "8b3e488a-42ec-41b0-a526-d8bae904fa08",
   "metadata": {},
   "outputs": [
    {
     "name": "stderr",
     "output_type": "stream",
     "text": [
      "C:\\Users\\danie\\anaconda3\\envs\\home_env\\Lib\\site-packages\\sklearn\\cluster\\_kmeans.py:1446: UserWarning: KMeans is known to have a memory leak on Windows with MKL, when there are less chunks than available threads. You can avoid it by setting the environment variable OMP_NUM_THREADS=1.\n",
      "  warnings.warn(\n",
      "C:\\Users\\danie\\anaconda3\\envs\\home_env\\Lib\\site-packages\\sklearn\\cluster\\_kmeans.py:1446: UserWarning: KMeans is known to have a memory leak on Windows with MKL, when there are less chunks than available threads. You can avoid it by setting the environment variable OMP_NUM_THREADS=1.\n",
      "  warnings.warn(\n",
      "C:\\Users\\danie\\anaconda3\\envs\\home_env\\Lib\\site-packages\\sklearn\\cluster\\_kmeans.py:1446: UserWarning: KMeans is known to have a memory leak on Windows with MKL, when there are less chunks than available threads. You can avoid it by setting the environment variable OMP_NUM_THREADS=1.\n",
      "  warnings.warn(\n",
      "C:\\Users\\danie\\anaconda3\\envs\\home_env\\Lib\\site-packages\\sklearn\\cluster\\_kmeans.py:1446: UserWarning: KMeans is known to have a memory leak on Windows with MKL, when there are less chunks than available threads. You can avoid it by setting the environment variable OMP_NUM_THREADS=1.\n",
      "  warnings.warn(\n",
      "C:\\Users\\danie\\anaconda3\\envs\\home_env\\Lib\\site-packages\\sklearn\\cluster\\_kmeans.py:1446: UserWarning: KMeans is known to have a memory leak on Windows with MKL, when there are less chunks than available threads. You can avoid it by setting the environment variable OMP_NUM_THREADS=1.\n",
      "  warnings.warn(\n",
      "C:\\Users\\danie\\anaconda3\\envs\\home_env\\Lib\\site-packages\\sklearn\\cluster\\_kmeans.py:1446: UserWarning: KMeans is known to have a memory leak on Windows with MKL, when there are less chunks than available threads. You can avoid it by setting the environment variable OMP_NUM_THREADS=1.\n",
      "  warnings.warn(\n",
      "C:\\Users\\danie\\anaconda3\\envs\\home_env\\Lib\\site-packages\\sklearn\\cluster\\_kmeans.py:1446: UserWarning: KMeans is known to have a memory leak on Windows with MKL, when there are less chunks than available threads. You can avoid it by setting the environment variable OMP_NUM_THREADS=1.\n",
      "  warnings.warn(\n",
      "C:\\Users\\danie\\anaconda3\\envs\\home_env\\Lib\\site-packages\\sklearn\\cluster\\_kmeans.py:1446: UserWarning: KMeans is known to have a memory leak on Windows with MKL, when there are less chunks than available threads. You can avoid it by setting the environment variable OMP_NUM_THREADS=1.\n",
      "  warnings.warn(\n",
      "C:\\Users\\danie\\anaconda3\\envs\\home_env\\Lib\\site-packages\\sklearn\\cluster\\_kmeans.py:1446: UserWarning: KMeans is known to have a memory leak on Windows with MKL, when there are less chunks than available threads. You can avoid it by setting the environment variable OMP_NUM_THREADS=1.\n",
      "  warnings.warn(\n",
      "C:\\Users\\danie\\anaconda3\\envs\\home_env\\Lib\\site-packages\\sklearn\\cluster\\_kmeans.py:1446: UserWarning: KMeans is known to have a memory leak on Windows with MKL, when there are less chunks than available threads. You can avoid it by setting the environment variable OMP_NUM_THREADS=1.\n",
      "  warnings.warn(\n",
      "C:\\Users\\danie\\anaconda3\\envs\\home_env\\Lib\\site-packages\\sklearn\\cluster\\_kmeans.py:1446: UserWarning: KMeans is known to have a memory leak on Windows with MKL, when there are less chunks than available threads. You can avoid it by setting the environment variable OMP_NUM_THREADS=1.\n",
      "  warnings.warn(\n"
     ]
    }
   ],
   "source": [
    "inertia2 = [] #elbow method on the string text data\n",
    "k_ranges = range(1,12)\n",
    "for k in k_ranges:\n",
    "    kmeans = KMeans(n_clusters=k, random_state=42)\n",
    "    kmeans.fit(top_new2)\n",
    "    inertia2.append(kmeans.inertia_)"
   ]
  },
  {
   "cell_type": "code",
   "execution_count": 113,
   "id": "255f7846-9d4c-4cf2-b1bf-708b186b1162",
   "metadata": {},
   "outputs": [
    {
     "data": {
      "image/png": "[encoded data removed]",
      "text/plain": [
       "<Figure size 640x480 with 1 Axes>"
      ]
     },
     "metadata": {},
     "output_type": "display_data"
    }
   ],
   "source": [
    "plt.plot(k_ranges, inertia2, marker='o')\n",
    "plt.xlabel('Number of clusters (k)')\n",
    "plt.ylabel('Inertia')\n",
    "plt.title('Kmeans Elbow Method')\n",
    "plt.show()"
   ]
  },
  {
   "cell_type": "code",
   "execution_count": 114,
   "id": "5338fafc-d160-4f8f-8cb4-35b5bd46d413",
   "metadata": {},
   "outputs": [],
   "source": [
    "inertia = []\n",
    "k_range = range(1,40)\n",
    "for k in k_range:\n",
    "    kmeans = KMeans(n_clusters=k, random_state=42)\n",
    "    kmeans.fit(text)\n",
    "    inertia.append(kmeans.inertia_)"
   ]
  },
  {
   "cell_type": "code",
   "execution_count": 115,
   "id": "5ab27adb-1984-49e9-a90d-639fdeede96a",
   "metadata": {},
   "outputs": [
    {
     "data": {
      "image/png": "[encoded data removed]",
      "text/plain": [
       "<Figure size 640x480 with 1 Axes>"
      ]
     },
     "metadata": {},
     "output_type": "display_data"
    }
   ],
   "source": [
    "plt.plot(k_range, inertia, marker='o')\n",
    "plt.xlabel('Number of clusters (k)')\n",
    "plt.ylabel('Inertia')\n",
    "plt.title('Kmeans Elbow Method')\n",
    "plt.show()"
   ]
  },
  {
   "cell_type": "markdown",
   "id": "2765092d-b34c-4413-b7e7-6423ac11e4b8",
   "metadata": {},
   "source": [
    "#### Clustering and the TSNE Plots of the Different Clusters"
   ]
  },
  {
   "cell_type": "markdown",
   "id": "63a3b088-17a7-49cb-a03b-ca920be75ebf",
   "metadata": {},
   "source": [
    "This section of the notebook looks at my struggles with making coherent clusters. There are three main efforts here - \n",
    "1) starting to figure things out by just doing clusters on the lyrics without really playing with the settings in the vectorizer or doing any dimensionality reduction.\n",
    "2) trying to create some other quantitative variables to use to help give the clusters something a little more to hang on to, so to speak. I ended up abandoning this when I figured out that I was just clustering off of the bigger quantitative variables and that Spotify didn't want you putting their song data into machine learning models.\n",
    "3) is the final method, and pictured below in a different section. But, this is what I ended up doing after following SKlearn's coding example for kmeans clustering on text data. I reduced the dimensionality of the data and restricted the words the vectorizer actually vectorized. "
   ]
  },
  {
   "cell_type": "markdown",
   "id": "7b6befd9-a9ac-453b-8a9e-a9a7ac678829",
   "metadata": {},
   "source": [
    "#### Attempt 1 - Just going for it"
   ]
  },
  {
   "cell_type": "code",
   "execution_count": 116,
   "id": "082b4ad8-bca4-4e6b-99a3-659c04244451",
   "metadata": {},
   "outputs": [],
   "source": [
    "tsne2 = TSNE(n_components=3, random_state=42) #tsne of the lemmatized lyrics that were vectorized\n",
    "text_tsne2 = tsne2.fit_transform(text_4.toarray())"
   ]
  },
  {
   "cell_type": "code",
   "execution_count": 117,
   "id": "54d5833f-091c-4323-9f1e-35092ee48f85",
   "metadata": {},
   "outputs": [
    {
     "data": {
      "image/png": "[encoded data removed]",
      "text/plain": [
       "<Figure size 800x600 with 1 Axes>"
      ]
     },
     "metadata": {},
     "output_type": "display_data"
    }
   ],
   "source": [
    "plt.figure(figsize=(8,6))\n",
    "plt.scatter(text_tsne2[:, 0], text_tsne2[:,1], c=kmeans3_labels, cmap='viridis', marker='o')\n",
    "plt.title('t-SNE plot of Second Kmeans Labels')\n",
    "plt.show()"
   ]
  },
  {
   "cell_type": "markdown",
   "id": "6ed56b29-fbb1-431b-b4da-e22d23add120",
   "metadata": {},
   "source": [
    "#### Attempt 2 - Trying to use some other quanitative variables. "
   ]
  },
  {
   "cell_type": "markdown",
   "id": "1f28e7eb-7d9a-4c0c-b300-1e2e1581657b",
   "metadata": {},
   "source": [
    "In this example I just used the quantitative variables by themselves, but I did have a version of this where I used the vectorized words as well, but the clusters looked similar. "
   ]
  },
  {
   "cell_type": "code",
   "execution_count": 122,
   "id": "4bb6a326-6adc-47f9-a43d-b059377d7f95",
   "metadata": {},
   "outputs": [],
   "source": [
    "sent_score = song_df[['Len_Simple_Lyrics','Simple_Lyrics_Sent']]"
   ]
  },
  {
   "cell_type": "code",
   "execution_count": 123,
   "id": "cefc0e22-a6db-4eaf-b933-5a613dd96b5c",
   "metadata": {},
   "outputs": [],
   "source": [
    "tsne4 = TSNE(n_components=2, random_state = 42)\n",
    "text_tsne4 = tsne4.fit_transform(sent_score)"
   ]
  },
  {
   "cell_type": "code",
   "execution_count": 124,
   "id": "eeef3fa5-ef03-4826-80a8-13039d9fd329",
   "metadata": {},
   "outputs": [
    {
     "data": {
      "image/png": "[encoded data removed]",
      "text/plain": [
       "<Figure size 800x600 with 1 Axes>"
      ]
     },
     "metadata": {},
     "output_type": "display_data"
    }
   ],
   "source": [
    "plt.figure(figsize=(8,6))\n",
    "plt.scatter(text_tsne4[:, 0], text_tsne4[:,1], c=kmeans5_labels, cmap='viridis', marker='o')\n",
    "plt.title('t-SNE plot of 5th Kmeans Labels')\n",
    "plt.show()"
   ]
  },
  {
   "cell_type": "markdown",
   "id": "433cca2c-78cd-40f7-8ccb-053dc4b5b888",
   "metadata": {},
   "source": [
    "#### Seeing the Important Words to Each Song - According to the Vectorized Song Lyrics"
   ]
  },
  {
   "cell_type": "code",
   "execution_count": 140,
   "id": "1f6ae616-f8db-4319-b9ab-89e13b528638",
   "metadata": {},
   "outputs": [],
   "source": [
    "top_new2['Cluster_Outputs'] = song_df['KMeans_Labels7']"
   ]
  },
  {
   "cell_type": "code",
   "execution_count": 141,
   "id": "dc4c7ab5-6fd5-4b71-a3d5-ec20bfb23d95",
   "metadata": {},
   "outputs": [],
   "source": [
    "cluster_values_list = top_new.index.values.tolist()"
   ]
  },
  {
   "cell_type": "code",
   "execution_count": 143,
   "id": "23dec16f-f9ce-4365-96cb-95383c169b85",
   "metadata": {},
   "outputs": [],
   "source": [
    "top_words_list = []"
   ]
  },
  {
   "cell_type": "code",
   "execution_count": 144,
   "id": "53255b1e-24da-4704-9738-2cb471f06224",
   "metadata": {},
   "outputs": [
    {
     "name": "stdout",
     "output_type": "stream",
     "text": [
      "Over My Head (Cable Car) 0 ['bring', 'ground', 'head', 'just', 'knew', 'let', 'lose', 'mind', 'run']\n",
      "Together 1 ['come', 'day', 'days', 'love']\n",
      "Some Trust 2 ['away', 'door', 'fear', 'god', 'going', 'just', 'little', 'love', 'swear']\n",
      "Vienna 3 ['day', 'face', 'friend', 'goes', 'gone', 'long', 'maybe', 'meet', 'way']\n",
      "Without Reason 4 ['comes', 'feel', 'life', 'line', 'mind', 'reason', 'run', 'talk', 'time']\n",
      "City Hall 5 ['city', 'fight', 'inside', 'like', 'make', 'mind', 'night', 'say', 'today']\n",
      "Oceans 6 ['away', 'begin', 'gone', 'ground', 'leave', 'make', 'today', 'waves', 'way']\n",
      "Unsaid 7 ['breathing', 'hard', 'instead', 'leaving', 'rain', 'say', 'talk', 'things', 'today']\n",
      "She Is 8 ['bring', 'close', 'going', 'instead', 'knees', 'knew', 'place', 'stand', 'walking']\n",
      "How To Save A Life 9 ['begin', 'best', 'came', 'god', 'life', 'right', 'say', 'talk', 'wonder']\n",
      "All At Once 10 ['begin', 'begins', 'better', 'longer', 'maybe', 'need', 'right', 'thing', 'want']\n",
      "Fall Away 11 ['away', 'face', 'fall', 'fight', 'left', 'maybe', 'mind', 'run', 'swear']\n",
      "Heaven Forbid 12 ['alright', 'face', 'good', 'long', 'longer', 'mind', 'reason', 'wait', 'wanted']\n",
      "Look After You 13 ['break', 'city', 'heart', 'home', 'leaving', 'look', 'love', 'oh', 'slow']\n",
      "Hundred 14 ['away', 'hard', 'love', 'meet', 'right', 'say', 'wrong']\n",
      "Dead Wrong 15 ['best', 'knew', 'lose', 'new', 'slowly', 'story', 'thought', 'trying', 'way']\n",
      "Little House 16 ['forget', 'line', 'look', 'time', 'want', 'way']\n",
      "Trust Me 17 ['city', 'maybe', 'need', 'place', 'said', 'say', 'things', 'today', 'want']\n",
      "Syndicate 18 ['baby', 'closer', 'forget', 'ground', 'hold', 'lost', 'miles', 'thing', 'til']\n",
      "Absolute 19 ['gone', 'hear', 'inside', 'kiss', 'new', 'night', 'stop', 'tell', 'want']\n",
      "You Found Me 20 ['city', 'days', 'did', 'floor', 'god', 'little', 'said', 'wait', 'want']\n",
      "Say When 21 ['bring', 'closer', 'come', 'coming', 'good', 'say', 'stay', 'tonight', 'want']\n",
      "Never Say Never 22 ['coming', 'falling', 'far', 'hand', 'hold', 'let', 'say', 'talk', 'things']\n",
      "Where The Story Ends 23 ['away', 'forget', 'ground', 'instead', 'kiss', 'lose', 'story', 'trying', 'wonder']\n",
      "Enough For Now 24 ['begins', 'breathing', 'broken', 'instead', 'kiss', 'left', 'longer', 'things', 'told']\n",
      "Ungodly Hour 25 ['begins', 'best', 'carry', 'leave', 'leaving', 'say', 'talk', 'thing', 'way']\n",
      "We Build Then We Break 26 ['did', 'gone', 'left', 'little', 'longer', 'oh', 'stay', 'things', 'til']\n",
      "Happiness 27 ['gone', 'good', 'home', 'just', 'let', 'light', 'like', 'little', 'miles']\n",
      "Heartless 28 ['cold', 'got', 'hear', 'just', 'new', 'night', 'soul', 'talk', 'things']\n",
      "Fair Fight 29 ['alright', 'breathing', 'change', 'city', 'fight', 'forget', 'friends', 'left', 'light']\n",
      "Be The One 30 ['best', 'did', 'different', 'knew', 'lovers', 'night', 'road', 'say', 'wait']\n",
      "Uncertainty 31 ['came', 'far', 'fight', 'going', 'gone', 'left', 'lost', 'maybe', 'place']\n",
      "Heartbeat 32 ['burning', 'coming', 'feel', 'got', 'love', 'oh', 'rain', 'thought', 'trying']\n",
      "The Fighter 33 ['carry', 'coming', 'goes', 'home', 'love', 'lovers', 'maybe', 'said', 'swear']\n",
      "Turn Me On 34 ['away', 'burning', 'cold', 'feel', 'oh', 'touch', 'turn', 'walk', 'want']\n",
      "Run For Your Life 35 ['body', 'day', 'floor', 'hear', 'inside', 'life', 'long', 'lose', 'oh']\n",
      "The Wind 36 ['break', 'come', 'coming', 'feel', 'line', 'lost', 'sky', 'sun', 'waiting']\n",
      "1961 37 ['broken', 'feel', 'got', 'just', 'miles', 'reason', 'stand', 'touch', 'walking']\n",
      "I Can Barely Say 38 ['long', 'run', 'say', 'told', 'trying', 'turn', 'waiting', 'want', 'wanted']\n",
      "Munich 39 ['begins', 'close', 'closer', 'face', 'fall', 'friends', 'hand', 'inside', 'left']\n",
      "Here We Are 40 ['away', 'begin', 'body', 'far', 'going', 'hands', 'lay', 'lovers', 'window']\n",
      "48 To Go 41 ['burning', 'come', 'darling', 'lay', 'mind', 'old', 'road', 'slow', 'sun']\n",
      "Rainy Zurich 42 ['breathing', 'burning', 'falling', 'home', 'knew', 'maybe', 'road', 'skin', 'sky']\n",
      "Be Still 43 ['came', 'comes', 'fear', 'forget', 'longer', 'lose', 'remember', 'said', 'standing']\n",
      "Maps 44 ['lay', 'like', 'love', 'oh', 'say', 'stay', 'wait']\n",
      "Ready Or Not 45 ['baby', 'going', 'got', 'like', 'make', 'oh', 'slowly', 'think', 'want']\n",
      "Why 46 ['better', 'falling', 'feel', 'inside', 'said', 'tell', 'things', 'try', 'water']\n",
      "Boulder To Birmingham 47 ['face', 'got', 'hear', 'life', 'sky', 'soul', 'story', 'thought', 'time']\n",
      "Streets Of Philadelphia 48 ['away', 'burning', 'feel', 'just', 'leave', 'like', 'miles', 'night', 'rain']\n",
      "Hold My Hand 49 ['did', 'falling', 'hand', 'hear', 'hold', 'knees', 'need', 'sky', 'want']\n",
      "Love Don't Die 50 ['body', 'ground', 'leaving', 'lose', 'love', 'say', 'thing', 'try', 'yeah']\n",
      "Give It Away 51 ['away', 'come', 'going', 'hand', 'home', 'light', 'love', 'soul', 'start']\n",
      "Closer To Me 52 ['closer', 'come', 'different', 'got', 'hands', 'just', 'line', 'little', 'look']\n",
      "Hurricane 53 ['body', 'break', 'hear', 'meet', 'rain', 'run', 'sun', 'want', 'waves']\n",
      "Keep On Wanting 54 ['alright', 'broken', 'floor', 'heart', 'just', 'need', 'tonight', 'want', 'way']\n",
      "Our Last Days 55 ['alright', 'broken', 'darling', 'days', 'hold', 'little', 'old', 'place', 'stand']\n",
      "Break Your Plans 56 ['better', 'break', 'breathing', 'just', 'leaving', 'make', 'maybe', 'reason', 'stay']\n",
      "Wherever This Goes 57 ['alright', 'came', 'goes', 'got', 'like', 'slow', 'stand', 'standing', 'til']\n",
      "Shadow And A Dancer 58 ['change', 'fall', 'friend', 'like', 'love', 'remember', 'skin', 'slowly', 'touch']\n",
      "Same As You 59 ['carry', 'days', 'hands', 'skin', 'soul', 'stand', 'swear', 'touch', 'want']\n",
      "Winter Sun 60 ['bring', 'come', 'coming', 'going', 'home', 'long', 'sun', 'thing', 'want']\n",
      "500,000 Acres 61 ['days', 'floor', 'hands', 'head', 'lose', 'miles', 'think', 'walk', 'water']\n",
      "Angeleno Moon 62 ['darling', 'different', 'home', 'long', 'new', 'old', 'trying', 'walk', 'walking']\n",
      "Same Thing 63 ['away', 'better', 'change', 'let', 'maybe', 'say', 'stop', 'tell', 'thing']\n",
      "Not Now 64 ['change', 'face', 'forget', 'hard', 'let', 'remember', 'start', 'tell', 'trying']\n",
      "Don't Look Down 65 ['close', 'darling', 'good', 'hold', 'just', 'look', 'standing', 'stop', 'swear']\n",
      "Time Well Wasted 66 ['best', 'broken', 'friends', 'lost', 'old', 'place', 'talk', 'think', 'thought']\n",
      "Known You Always 67 ['best', 'change', 'different', 'door', 'hard', 'inside', 'knees', 'light', 'place']\n",
      "Changing Tides 68 ['broken', 'came', 'carry', 'darling', 'going', 'hands', 'knees', 'life', 'lovers']\n",
      "Corners 69 ['best', 'came', 'different', 'goes', 'head', 'heart', 'love', 'old', 'stop']\n",
      "Dixie 70 ['cold', 'day', 'falling', 'fight', 'hard', 'need', 'sun', 'tell', 'try']\n",
      "Happy Xmas (War Is Over) 71 ['fear', 'fight', 'good', 'just', 'let', 'new', 'old', 'stop', 'world']\n",
      "It's For You 72 ['cold', 'come', 'lay', 'right', 'turn', 'walk', 'world']\n",
      "Kiss Me 73 ['bring', 'broken', 'floor', 'hand', 'kiss', 'make', 'oh']\n",
      "Singing Low 74 ['closer', 'heart', 'lay', 'love', 'oh', 'skin', 'slow', 'want', 'water']\n",
      "Where You Want To 75 ['close', 'come', 'face', 'mind', 'need', 'right', 'today', 'wait', 'want']\n"
     ]
    }
   ],
   "source": [
    "for index in cluster_values_list:\n",
    "    song_df1 = top_new.loc[index]\n",
    "    song_df2 = song_df1[song_df1 != 0].index.values.tolist()\n",
    "    song_df2 = song_df2[0:9]\n",
    "    top_words_list.append(song_df2)\n",
    "    print(song_df['Song_Title'].loc[index], index, song_df2)"
   ]
  },
  {
   "cell_type": "code",
   "execution_count": 145,
   "id": "6435988e-8013-4dc5-b79c-d567567bdf45",
   "metadata": {},
   "outputs": [],
   "source": [
    "song_df['Top_Lyrics_Per_Song'] = top_words_list"
   ]
  },
  {
   "cell_type": "markdown",
   "id": "dfccdabe-b6c2-4a64-9ce0-574afd372ae0",
   "metadata": {},
   "source": [
    "### Attempt 3 - Testing SKLearn documentation"
   ]
  },
  {
   "cell_type": "markdown",
   "id": "40f01d33-1713-4c8f-8139-3fabe15030d3",
   "metadata": {},
   "source": [
    "I got the code below from an example from SKLearn's documentation on how to do \"Latent Thematic Analysis\" on text by using a combination of dimensionality reduction and vectorization. So, I did not come up with this code, but I had to make a couple of small tweaks to get it to run here. I also did not rely heavily on this for decision making, though I did think learning about what percentage of the variance was explained by the SVD factors was interesting. \n",
    "\n",
    "I also looked at the elbow method to see how many clusters that would suggest I use for the project. You could also look at silhouette scores for the data, which I did not do for this project but is another way to determine the number of clusters you should optimally use for your data."
   ]
  },
  {
   "cell_type": "code",
   "execution_count": 147,
   "id": "d7eb70a4-e015-44a7-a5c7-26d81131cbff",
   "metadata": {},
   "outputs": [],
   "source": [
    "from sklearn.decomposition import TruncatedSVD\n",
    "from sklearn.pipeline import make_pipeline\n",
    "from sklearn.preprocessing import Normalizer"
   ]
  },
  {
   "cell_type": "code",
   "execution_count": 148,
   "id": "4cb326b8-153b-430b-b39c-5685179952ce",
   "metadata": {},
   "outputs": [
    {
     "name": "stdout",
     "output_type": "stream",
     "text": [
      "Explained variance of the SVD step: 22.8%\n"
     ]
    }
   ],
   "source": [
    "lsa = make_pipeline(TruncatedSVD(n_components=7), Normalizer(copy=False))\n",
    "#lsa = TruncatedSVD(n_components=7, n_iter=7, random_state=42)\n",
    "X_lsa = lsa.fit_transform(top_tfidf_matrix)\n",
    "explained_variance = lsa[0].explained_variance_ratio_.sum()\n",
    "\n",
    "print(f\"Explained variance of the SVD step: {explained_variance * 100:.1f}%\")"
   ]
  },
  {
   "cell_type": "code",
   "execution_count": 149,
   "id": "921b6775-28dd-4f60-be43-10c3335563f4",
   "metadata": {},
   "outputs": [
    {
     "name": "stdout",
     "output_type": "stream",
     "text": [
      "clustering done in 0.00 ± 0.00 s \n",
      "Silhouette Coefficient: 0.241 ± 0.017\n"
     ]
    },
    {
     "name": "stderr",
     "output_type": "stream",
     "text": [
      "C:\\Users\\danie\\anaconda3\\envs\\home_env\\Lib\\site-packages\\sklearn\\cluster\\_kmeans.py:1446: UserWarning: KMeans is known to have a memory leak on Windows with MKL, when there are less chunks than available threads. You can avoid it by setting the environment variable OMP_NUM_THREADS=1.\n",
      "  warnings.warn(\n",
      "C:\\Users\\danie\\anaconda3\\envs\\home_env\\Lib\\site-packages\\sklearn\\cluster\\_kmeans.py:1446: UserWarning: KMeans is known to have a memory leak on Windows with MKL, when there are less chunks than available threads. You can avoid it by setting the environment variable OMP_NUM_THREADS=1.\n",
      "  warnings.warn(\n",
      "C:\\Users\\danie\\anaconda3\\envs\\home_env\\Lib\\site-packages\\sklearn\\cluster\\_kmeans.py:1446: UserWarning: KMeans is known to have a memory leak on Windows with MKL, when there are less chunks than available threads. You can avoid it by setting the environment variable OMP_NUM_THREADS=1.\n",
      "  warnings.warn(\n",
      "C:\\Users\\danie\\anaconda3\\envs\\home_env\\Lib\\site-packages\\sklearn\\cluster\\_kmeans.py:1446: UserWarning: KMeans is known to have a memory leak on Windows with MKL, when there are less chunks than available threads. You can avoid it by setting the environment variable OMP_NUM_THREADS=1.\n",
      "  warnings.warn(\n",
      "C:\\Users\\danie\\anaconda3\\envs\\home_env\\Lib\\site-packages\\sklearn\\cluster\\_kmeans.py:1446: UserWarning: KMeans is known to have a memory leak on Windows with MKL, when there are less chunks than available threads. You can avoid it by setting the environment variable OMP_NUM_THREADS=1.\n",
      "  warnings.warn(\n"
     ]
    }
   ],
   "source": [
    "kmeans = KMeans(\n",
    "    n_clusters=7,\n",
    "    max_iter=100,\n",
    "    n_init=1,\n",
    "    random_state=42\n",
    ")\n",
    "\n",
    "fit_and_evaluate(kmeans, X_lsa, name=\"KMeans\\nwith LSA on tf-idf vectors\")"
   ]
  },
  {
   "cell_type": "code",
   "execution_count": 206,
   "id": "47e0faf9-6491-4ea6-825a-623fb3cc2db3",
   "metadata": {},
   "outputs": [
    {
     "name": "stderr",
     "output_type": "stream",
     "text": [
      "C:\\Users\\danie\\anaconda3\\envs\\home_env\\Lib\\site-packages\\sklearn\\cluster\\_kmeans.py:1446: UserWarning: KMeans is known to have a memory leak on Windows with MKL, when there are less chunks than available threads. You can avoid it by setting the environment variable OMP_NUM_THREADS=1.\n",
      "  warnings.warn(\n"
     ]
    }
   ],
   "source": [
    "kmeans_newest = KMeans(n_clusters = 7, max_iter=100, n_init=1, random_state=42).fit(X_lsa)"
   ]
  },
  {
   "cell_type": "code",
   "execution_count": 207,
   "id": "09fca569-17e8-4d73-8bc7-0201bcf15fb2",
   "metadata": {},
   "outputs": [],
   "source": [
    "kmeans_newest_labels = kmeans_newest.labels_"
   ]
  },
  {
   "cell_type": "code",
   "execution_count": 216,
   "id": "259d062e-0a6b-4401-a42c-471667d895e1",
   "metadata": {},
   "outputs": [
    {
     "name": "stderr",
     "output_type": "stream",
     "text": [
      "C:\\Users\\danie\\anaconda3\\envs\\home_env\\Lib\\site-packages\\sklearn\\cluster\\_kmeans.py:1446: UserWarning: KMeans is known to have a memory leak on Windows with MKL, when there are less chunks than available threads. You can avoid it by setting the environment variable OMP_NUM_THREADS=1.\n",
      "  warnings.warn(\n",
      "C:\\Users\\danie\\anaconda3\\envs\\home_env\\Lib\\site-packages\\sklearn\\cluster\\_kmeans.py:1446: UserWarning: KMeans is known to have a memory leak on Windows with MKL, when there are less chunks than available threads. You can avoid it by setting the environment variable OMP_NUM_THREADS=1.\n",
      "  warnings.warn(\n",
      "C:\\Users\\danie\\anaconda3\\envs\\home_env\\Lib\\site-packages\\sklearn\\cluster\\_kmeans.py:1446: UserWarning: KMeans is known to have a memory leak on Windows with MKL, when there are less chunks than available threads. You can avoid it by setting the environment variable OMP_NUM_THREADS=1.\n",
      "  warnings.warn(\n",
      "C:\\Users\\danie\\anaconda3\\envs\\home_env\\Lib\\site-packages\\sklearn\\cluster\\_kmeans.py:1446: UserWarning: KMeans is known to have a memory leak on Windows with MKL, when there are less chunks than available threads. You can avoid it by setting the environment variable OMP_NUM_THREADS=1.\n",
      "  warnings.warn(\n",
      "C:\\Users\\danie\\anaconda3\\envs\\home_env\\Lib\\site-packages\\sklearn\\cluster\\_kmeans.py:1446: UserWarning: KMeans is known to have a memory leak on Windows with MKL, when there are less chunks than available threads. You can avoid it by setting the environment variable OMP_NUM_THREADS=1.\n",
      "  warnings.warn(\n",
      "C:\\Users\\danie\\anaconda3\\envs\\home_env\\Lib\\site-packages\\sklearn\\cluster\\_kmeans.py:1446: UserWarning: KMeans is known to have a memory leak on Windows with MKL, when there are less chunks than available threads. You can avoid it by setting the environment variable OMP_NUM_THREADS=1.\n",
      "  warnings.warn(\n",
      "C:\\Users\\danie\\anaconda3\\envs\\home_env\\Lib\\site-packages\\sklearn\\cluster\\_kmeans.py:1446: UserWarning: KMeans is known to have a memory leak on Windows with MKL, when there are less chunks than available threads. You can avoid it by setting the environment variable OMP_NUM_THREADS=1.\n",
      "  warnings.warn(\n",
      "C:\\Users\\danie\\anaconda3\\envs\\home_env\\Lib\\site-packages\\sklearn\\cluster\\_kmeans.py:1446: UserWarning: KMeans is known to have a memory leak on Windows with MKL, when there are less chunks than available threads. You can avoid it by setting the environment variable OMP_NUM_THREADS=1.\n",
      "  warnings.warn(\n",
      "C:\\Users\\danie\\anaconda3\\envs\\home_env\\Lib\\site-packages\\sklearn\\cluster\\_kmeans.py:1446: UserWarning: KMeans is known to have a memory leak on Windows with MKL, when there are less chunks than available threads. You can avoid it by setting the environment variable OMP_NUM_THREADS=1.\n",
      "  warnings.warn(\n",
      "C:\\Users\\danie\\anaconda3\\envs\\home_env\\Lib\\site-packages\\sklearn\\cluster\\_kmeans.py:1446: UserWarning: KMeans is known to have a memory leak on Windows with MKL, when there are less chunks than available threads. You can avoid it by setting the environment variable OMP_NUM_THREADS=1.\n",
      "  warnings.warn(\n",
      "C:\\Users\\danie\\anaconda3\\envs\\home_env\\Lib\\site-packages\\sklearn\\cluster\\_kmeans.py:1446: UserWarning: KMeans is known to have a memory leak on Windows with MKL, when there are less chunks than available threads. You can avoid it by setting the environment variable OMP_NUM_THREADS=1.\n",
      "  warnings.warn(\n"
     ]
    }
   ],
   "source": [
    "inertia3 = [] #elbow method on the string text data\n",
    "k_ranges = range(1,12)\n",
    "for k in k_ranges:\n",
    "    kmeans = KMeans(n_clusters=k, max_iter=100, n_init=1, random_state=42)\n",
    "    kmeans.fit(X_lsa)\n",
    "    inertia3.append(kmeans.inertia_)"
   ]
  },
  {
   "cell_type": "code",
   "execution_count": 217,
   "id": "388ae8d6-c90b-4a85-9182-f5e3f18f9ff0",
   "metadata": {},
   "outputs": [
    {
     "data": {
      "image/png": "[encoded data removed]",
      "text/plain": [
       "<Figure size 640x480 with 1 Axes>"
      ]
     },
     "metadata": {},
     "output_type": "display_data"
    }
   ],
   "source": [
    "plt.plot(k_ranges, inertia3, marker='o')\n",
    "plt.xlabel('Number of clusters (k)')\n",
    "plt.ylabel('Inertia')\n",
    "plt.title('Kmeans Elbow Method')\n",
    "plt.show()"
   ]
  },
  {
   "cell_type": "markdown",
   "id": "949d8545-bc19-4106-a8dc-3864a23a17f6",
   "metadata": {},
   "source": [
    "I'm going to stick with seven clusters because there are seven groupings of albums from AZ Lyrics. However, eight might also work, as that seems to be the bottom of the elbow. "
   ]
  },
  {
   "cell_type": "code",
   "execution_count": 218,
   "id": "89fdb0cf-e313-43a2-b77d-1f841914cbd2",
   "metadata": {},
   "outputs": [],
   "source": [
    "song_df['Newest_Labels'] = kmeans_newest_labels"
   ]
  },
  {
   "cell_type": "code",
   "execution_count": 219,
   "id": "237cf600-50f0-4173-8078-5e47d9d254e9",
   "metadata": {},
   "outputs": [
    {
     "name": "stdout",
     "output_type": "stream",
     "text": [
      "                  Song_Title                Album\n",
      "0   Over My Head (Cable Car)   How To Save A Life\n",
      "15                Dead Wrong   How To Save A Life\n",
      "25              Ungodly Hour             The Fray\n",
      "28                 Heartless             The Fray\n",
      "43                  Be Still    Scars And Stories\n",
      "57        Wherever This Goes               Helios\n",
      "61             500,000 Acres               Helios\n",
      "62             Angeleno Moon  EP:The Fray Is Back\n",
      "65           Don't Look Down  EP:The Fray Is Back\n",
      "66          Time Well Wasted  EP:The Fray Is Back\n",
      "67          Known You Always  EP:The Fray Is Back\n",
      "71  Happy Xmas (War Is Over)    You May Also Like\n",
      "             Song_Title               Album\n",
      "1              Together           EP:Reason\n",
      "13       Look After You  How To Save A Life\n",
      "32            Heartbeat   Scars And Stories\n",
      "34           Turn Me On   Scars And Stories\n",
      "45         Ready Or Not   Scars And Stories\n",
      "58  Shadow And A Dancer              Helios\n",
      "69              Corners   You May Also Like\n",
      "72         It's For You   You May Also Like\n",
      "74          Singing Low   You May Also Like\n",
      "          Song_Title                Album\n",
      "3             Vienna            EP:Reason\n",
      "10       All At Once   How To Save A Life\n",
      "17          Trust Me   How To Save A Life\n",
      "31       Uncertainty             The Fray\n",
      "33       The Fighter    Scars And Stories\n",
      "42      Rainy Zurich    Scars And Stories\n",
      "56  Break Your Plans               Helios\n",
      "63        Same Thing  EP:The Fray Is Back\n",
      "               Song_Title                Album\n",
      "4          Without Reason            EP:Reason\n",
      "8                  She Is   How To Save A Life\n",
      "16           Little House   How To Save A Life\n",
      "18              Syndicate             The Fray\n",
      "19               Absolute             The Fray\n",
      "22        Never Say Never             The Fray\n",
      "35      Run For Your Life    Scars And Stories\n",
      "36               The Wind    Scars And Stories\n",
      "37                   1961    Scars And Stories\n",
      "38       I Can Barely Say    Scars And Stories\n",
      "46                    Why    Scars And Stories\n",
      "47  Boulder To Birmingham    Scars And Stories\n",
      "49           Hold My Hand               Helios\n",
      "53              Hurricane               Helios\n",
      "54        Keep On Wanting               Helios\n",
      "59            Same As You               Helios\n",
      "64                Not Now  EP:The Fray Is Back\n",
      "75      Where You Want To    You May Also Like\n",
      "                 Song_Title               Album\n",
      "2                Some Trust           EP:Reason\n",
      "6                    Oceans           EP:Reason\n",
      "11                Fall Away  How To Save A Life\n",
      "27                Happiness            The Fray\n",
      "39                   Munich   Scars And Stories\n",
      "40              Here We Are   Scars And Stories\n",
      "41                 48 To Go   Scars And Stories\n",
      "48  Streets Of Philadelphia   Scars And Stories\n",
      "51             Give It Away              Helios\n",
      "52             Closer To Me              Helios\n",
      "60               Winter Sun              Helios\n",
      "68           Changing Tides   You May Also Like\n",
      "            Song_Title               Album\n",
      "5            City Hall           EP:Reason\n",
      "7               Unsaid           EP:Reason\n",
      "9   How To Save A Life  How To Save A Life\n",
      "14             Hundred  How To Save A Life\n",
      "21            Say When            The Fray\n",
      "30          Be The One            The Fray\n",
      "44                Maps   Scars And Stories\n",
      "50      Love Don't Die              Helios\n",
      "70               Dixie   You May Also Like\n",
      "                Song_Title               Album\n",
      "12           Heaven Forbid  How To Save A Life\n",
      "20            You Found Me            The Fray\n",
      "23    Where The Story Ends            The Fray\n",
      "24          Enough For Now            The Fray\n",
      "26  We Build Then We Break            The Fray\n",
      "29              Fair Fight            The Fray\n",
      "55           Our Last Days              Helios\n",
      "73                 Kiss Me   You May Also Like\n"
     ]
    }
   ],
   "source": [
    "for item in range(0,7):\n",
    "    print(song_df[song_df['Newest_Labels'] == item][['Song_Title','Album']])"
   ]
  },
  {
   "cell_type": "markdown",
   "id": "769ff0b3-f369-4718-b037-4a9e76fe4443",
   "metadata": {},
   "source": [
    "#### Setting up the visualization for the latest clusters"
   ]
  },
  {
   "cell_type": "code",
   "execution_count": 210,
   "id": "4e712e70-a751-4b68-80bd-69755a5221b6",
   "metadata": {},
   "outputs": [],
   "source": [
    "legend = [0,1,2,3,4,5,6]"
   ]
  },
  {
   "cell_type": "code",
   "execution_count": 211,
   "id": "6f336ae5-b6ea-4eb7-8084-a3acb56fc358",
   "metadata": {},
   "outputs": [],
   "source": [
    "tsne10 = TSNE(n_components=2, random_state = 42)\n",
    "text_tsne10 = tsne10.fit_transform(X_lsa)"
   ]
  },
  {
   "cell_type": "code",
   "execution_count": 192,
   "id": "9f6c3179-70ca-44a5-9418-9fa7e758a228",
   "metadata": {},
   "outputs": [],
   "source": [
    "tsne10_df = pd.DataFrame(text_tsne10)"
   ]
  },
  {
   "cell_type": "code",
   "execution_count": 194,
   "id": "73c868f9-e19d-4d6b-8793-64b8ec953371",
   "metadata": {},
   "outputs": [],
   "source": [
    "tsne10_df['KMeans_newest_labels'] = kmeans_newest_labels #0 = x, 1 = y"
   ]
  },
  {
   "cell_type": "code",
   "execution_count": 230,
   "id": "743442cc-8d44-4b05-a8f4-6b7706da71b7",
   "metadata": {},
   "outputs": [
    {
     "data": {
      "image/png": "[encoded data removed]",
      "text/plain": [
       "<Figure size 640x480 with 1 Axes>"
      ]
     },
     "metadata": {},
     "output_type": "display_data"
    }
   ],
   "source": [
    "for number in legend:\n",
    "    plt.scatter(tsne10_df[tsne10_df['KMeans_newest_labels']==number][0], tsne10_df[tsne10_df['KMeans_newest_labels']==number][1], label=number)\n",
    "plt.legend(bbox_to_anchor = (1, 1))\n",
    "plt.title('Kmeans Clusters - Newest/Final (SVD Topics)')\n",
    "plt.ylabel('Factor 1')\n",
    "plt.xlabel('Factor 2')\n",
    "plt.show()"
   ]
  },
  {
   "cell_type": "markdown",
   "id": "ee06a54e-c64a-448e-b788-fec91c7f8aa7",
   "metadata": {},
   "source": [
    "#### Seeing what words the clusters centered on"
   ]
  },
  {
   "cell_type": "code",
   "execution_count": 158,
   "id": "0628cadd-fb3b-4120-8fd7-8c42dc2dac04",
   "metadata": {},
   "outputs": [
    {
     "name": "stdout",
     "output_type": "stream",
     "text": [
      "Cluster 0: way new wrong best stop just let time thought lose \n",
      "Cluster 1: oh love lay way going away say want like come \n",
      "Cluster 2: maybe place goes thing say gone way need stop home \n",
      "Cluster 3: want time run tell need life hear way reason face \n",
      "Cluster 4: away going come love home bring fall lay hand just \n",
      "Cluster 5: say love right wait hard leaving best things wrong today \n",
      "Cluster 6: years left broken kiss things little wait alright told did \n"
     ]
    }
   ],
   "source": [
    "original_space_centroids = lsa[0].inverse_transform(kmeans_newest.cluster_centers_)\n",
    "order_centroids = original_space_centroids.argsort()[:, ::-1]\n",
    "terms = vectorizer.get_feature_names_out()\n",
    "\n",
    "for i in range(7):\n",
    "    print(f\"Cluster {i}: \", end=\"\")\n",
    "    for ind in order_centroids[i, :10]:\n",
    "        print(f\"{terms[ind]} \", end=\"\")\n",
    "    print()"
   ]
  },
  {
   "cell_type": "markdown",
   "id": "b981fc87-2d88-4fd1-b921-2c7bc9c0581d",
   "metadata": {},
   "source": [
    "### Qualitative Assessment of the Clusters"
   ]
  },
  {
   "cell_type": "markdown",
   "id": "83e7b415-8ee4-4261-8ae0-a3b4220b2a28",
   "metadata": {},
   "source": [
    "Cluster 0 – Turmoil in Relationships\n",
    "\r",
    "- important words: way, new, wrong, best, stop, just, let, time, thought, lose\n",
    "- Notable Songs: Over My Head, Dead Wrong, Be Still, Angeleno Moon, Don’t Look Down, Time Well Wasted, Known You Alway\n",
    "- Total Song Count: 12"
   ]
  },
  {
   "cell_type": "markdown",
   "id": "db174cdc-4bf1-4a80-85a2-d2247f4704cd",
   "metadata": {},
   "source": [
    "This cluster is about close relationships and their turmoil, being present in those relationships, and carrying the people you love in your heart (whether they are alive or not). And, again, if we re-run these clusters its likely these songs would fall in slightly different places, but the ghink I like about this particular grouping is that four of the new songs from The Fray is Back EP are in this cluster and so is one of their most notable songs, Over My Head.  "
   ]
  },
  {
   "cell_type": "markdown",
   "id": "95869e3a-3466-4d50-af76-6dbc3e597e26",
   "metadata": {},
   "source": [
    "I believe that Slade has discussed Over My Head’s meaning in interviews, but we will borrow from MusicBanter’s analysis, and highlight the fact that the song is written from Slade’s brother’s perspective and about Slade’s brother leaving the band. "
   ]
  },
  {
   "cell_type": "markdown",
   "id": "550dc89c-1512-4874-b974-d0f17dfa0ce0",
   "metadata": {},
   "source": [
    "So, isn’t it poetic, then, that the Fray’s first song from their new EP is Time Well Wasted. A song, tat is, in my opinion, about Slade himself leaving the band. From the chorus, “Never thought we’d get lost, Never thought we’d get broken… Even though we couldn’t save it, it was time well wasted.” This is a song about people dreaming “big dreams” together, going on an adventure, and then going separate\n",
    "ways."
   ]
  },
  {
   "cell_type": "markdown",
   "id": "4567f0e9-589c-4a14-827e-e5c9a66f735c",
   "metadata": {},
   "source": [
    " \n",
    "“And suddenly I become part of your past, I’m becoming the part that don’t last, I’m losing you, and it’s effortless”. Sound familiar? People who are close to on another who part ways.  While Time Well Wasted has more positive unertonese, both songs are talking about being close to someone and going separate ways. Be Still and Don’t Look Down are more positive takes on close relationships, where we are encouraged to be close with someone and trust them. Angeleno Moon, Known You Always, and Ungodly Hour strike me as songs where our singer is dealing with loss of a close relationship of some kind."
   ]
  },
  {
   "cell_type": "markdown",
   "id": "96aef62d-5cba-45fc-b3ea-42b99244964f",
   "metadata": {},
   "source": [
    "\n",
    "Of course, this cluster is not great, we have three stragglers hanging out closer to clusters 5 and 3, but the overall theme is evidenced by these songs generally dealing with close personal relationships and the different emotions that they bring u. sConsequently, this cluster highlights The Fray really returning to their roots in their newest EP with four of their new songs (Time Well Wasted, Known You Always, Angeleno Moon, and Don't Look Down) striking a similar chord as one of their biggest htsi.\r"
   ]
  },
  {
   "cell_type": "markdown",
   "id": "3da37c9c-96bc-4243-b192-d70c061c205f",
   "metadata": {},
   "source": [
    "### Conclusion"
   ]
  },
  {
   "cell_type": "markdown",
   "id": "c2499d01-edac-426f-9d7e-8a938940531c",
   "metadata": {},
   "source": [
    "The Fray are back. "
   ]
  },
  {
   "cell_type": "markdown",
   "id": "699ba9a0-09f1-420d-96d5-512e1258a0cb",
   "metadata": {},
   "source": [
    "Thankfully. I missed them a lot. "
   ]
  },
  {
   "cell_type": "markdown",
   "id": "04b66fe2-9e26-42ce-8787-a66718fb3631",
   "metadata": {},
   "source": [
    "The following sections offer some explanations for the other clusters, but I think we have enough data to settle the debate and answer the research question I laid out at the beginning of this piece. Thanks for reading!"
   ]
  },
  {
   "cell_type": "markdown",
   "id": "9319f9a5-1745-4558-b0bc-8144b26a3a34",
   "metadata": {},
   "source": [
    "#### Additional Clusters"
   ]
  },
  {
   "cell_type": "markdown",
   "id": "99b0f31b-0e34-4a4f-ac71-734d8e12d791",
   "metadata": {},
   "source": [
    "As a last methodological note, I will highlight that this kind of analysis is a bit tricky because the words that are determining a song's inclusion in a cluster are not necessarily functioning in the same way, thematically, between each song. For example, \"Love\" could be equally important in several songs, but could be used in one song to communicate how much someone loves their significant other and the joy that comes along with that. While, on the other hand, \"Love\" could be used to convey the extreme pain felt by someone after losing a loved one, where you need to know how much love there is for this person to understand the survivor's pain at having lost them."
   ]
  },
  {
   "cell_type": "markdown",
   "id": "bd427464-a354-4636-b1d0-548d1f2f2992",
   "metadata": {},
   "source": [
    "#### Cluster 1 - Unconditional Love\n",
    " - Important Words: oh, love, lay, way, going, away, say, like, come\n",
    " - Notable Songs: Heartbeat, Look After You, Cornerns, Singing Low\n",
    " - Total Song Count: 9"
   ]
  },
  {
   "cell_type": "markdown",
   "id": "d0040963-e9a0-4555-9a48-c2b6d5b55f7f",
   "metadata": {},
   "source": [
    "I’ll center this analysis on my favorite song in this grouping, Corners. This song was one of the last new songs we received from the Fray before their hiatus, and it is one of my favorite songs by them. Love and lay are the key words from our list that appear to be heavy hitters in this song. I would argue that this song is about unconditional love. Where, in our last cluster we had the specter of loss haunting our close relationships, this grouping is more about loving through life – no matter what that looks like. “It doesn’t matter what we said, I’ll never stop loving you back.” "
   ]
  },
  {
   "cell_type": "markdown",
   "id": "4d58ad24-b25b-41b4-8f0c-753c70ce04c1",
   "metadata": {},
   "source": [
    "Heartbeat hits a similar note singing - “love someone, love them all the same… I want to kiss your scars tonight”. Look After You’s chorus is a refrain for caring about someone, and tells us that when the singer loses control, their baby is the “only one who knows” who “slow[s] it down”. That last line makes me think of the people in our lives who know how to push our buttons, and in this case, the button is the “pressure release” valve that helps us calm down from a panic. Together follows lovers “becoming one” and spending everyday together. "
   ]
  },
  {
   "cell_type": "markdown",
   "id": "53d7ca80-b88f-4cd2-a309-ca153fc00dbc",
   "metadata": {},
   "source": [
    "I think Shadow and a Dancer, similarly, talks about being inseparable from your partner, or lover. Shadows and their Dancers are in lock-step all the time. The imagery invoked by the Pacific Ocean and Cascade Mountains also conjures up thoughts of permanence and splendor – like unconditional love. And even though a winter has set in, that doesn’t mean there is less love. "
   ]
  },
  {
   "cell_type": "markdown",
   "id": "2a5c08e4-a5fb-4680-a559-808a456fdc8e",
   "metadata": {},
   "source": [
    "#### Cluster 2 - Missing the Connection (With someone important)\n",
    "- Important Words: maybe, place, goes, thing, say, gone, need, stop, home\n",
    "- Notable Songs: All at Once, The Fighter, Rainy Zurich, Break Your Plans\n",
    "- Total Song Count: 8"
   ]
  },
  {
   "cell_type": "markdown",
   "id": "260d2b34-762e-4fc2-a5ae-cf72172b28e9",
   "metadata": {},
   "source": [
    "This cluster is about not ending up with someone you love. Break Your Plans seems to speak of a couple who are undergoing a pretty painful break-up. The Fighter regales us with a tale of a boxer who goes into the ring but does not come back out again. Rainy Zurich talks about someone’s desire to find the woman they love, but the line “Maybe I’ll find you, Maybe I won’t” seems to indicate that these two people don’t connect – at least not in the song. "
   ]
  },
  {
   "cell_type": "markdown",
   "id": "d7a08621-32d3-40e9-a16d-789b5122aa2b",
   "metadata": {},
   "source": [
    "In Vienna, our singer is saying goodbye to someone at a “one-way” train and telling us that “later” they will “meet again” and “straighten this whole thing out”. “This is Vienna” indicates that the train has arrived at its destination and its time to get off, but really our singer was “already gone” telling us as the listener that they were not going to be together.  "
   ]
  },
  {
   "cell_type": "markdown",
   "id": "bcecb9fd-d7b4-47d3-a449-d6a28246258f",
   "metadata": {},
   "source": [
    "#### Cluster 3 - The Crazy Cluster. Thematically - Surviving Tragedy\n",
    "- Important Words: want, time, run, tell, need, life, hear, way, reason, face\n",
    "- Notable Songs: Run For Your Life, She Is, Little House, The Wind, Hurricane, Hold My Hand, Keep on Wanting\n",
    "- Total Song Count: 18"
   ]
  },
  {
   "cell_type": "markdown",
   "id": "2dd6719b-aa69-4da8-9562-dd92b070eb2b",
   "metadata": {},
   "source": [
    "Little House seems to speak of someone who has undergone a lot of tragedy and is in the throws of mental illness. “Something scratching its way out, something you want to forget about” makes me think of a survivor of childhood, or some other kind of, abuse. "
   ]
  },
  {
   "cell_type": "markdown",
   "id": "1bc4e826-df80-4e9e-9f89-0c87902220a8",
   "metadata": {},
   "source": [
    "Never Say Never, honestly, reminds me more of The Fighter or the other songs in cluster two, but my wager as to this song’s inclusion largely stems from the opening line, where we are told “somethings we don’t talk about.\" \n",
    "\n",
    "I might make a logical leap to say the thing that isn’t talked about, is the reason the people in the song “pull apart” and “come together” “time, time, and time again.” "
   ]
  },
  {
   "cell_type": "markdown",
   "id": "77d8a241-2f3b-4517-8c1a-e127eb726e1a",
   "metadata": {},
   "source": [
    "In Hold My Hand we “can hear the ghosts calling” and our singer asks the person he is closest with the hold his hand and “stay with me… even if the sky is falling.” "
   ]
  },
  {
   "cell_type": "markdown",
   "id": "98a5d452-a864-490a-9880-95710bfdb342",
   "metadata": {},
   "source": [
    "I Can Barely Say starts off with an admission of omission. Our singer doesn’t know if too much time has past and if there is a way back from a transgression or past pain. "
   ]
  },
  {
   "cell_type": "markdown",
   "id": "09a2d162-32d1-4cd8-a011-73618ce1bf78",
   "metadata": {},
   "source": [
    "Other songs, like 1961, Why, and Same as You fall into the bucket of people bonding through, or just moving through, traumatic experiences. Though there are others that don't fit this theme extremely well, Hurricane for example is about someone being enamored by a woman who is just a pure force of nature, I think that trauma, and dealing with that trauma is a major theme of this cluster.  "
   ]
  },
  {
   "cell_type": "markdown",
   "id": "2775d5c8-ce9b-4041-a919-51398c830f50",
   "metadata": {},
   "source": [
    "#### Cluster 4 - Moving\n",
    "- Important Words: away, going, come, love, home, bring, fall, lay, hand, just\n",
    "- Noteable Songs: 48 To Go, Give It Away, Closer to Me, Winter Sun, Changing Tides, Munich\n",
    "- Total Song Count: 12"
   ]
  },
  {
   "cell_type": "markdown",
   "id": "b67e59dd-de17-4b06-a7a0-69569dc8f65c",
   "metadata": {},
   "source": [
    "I think, I am going to clue in on the theme of “movement” here. And, yes, the Fray’s songs all have some element of movement, but here given we have words like “away, going, come, home, and fall” in our important words list, I think the theme fits a little better. But in Fall Away, our singer is talking about someone trying to “fall away” from their past as it seemingly haunts them. In “Closer to Me” our singer is both running from the law and encouraging someone to come closer to them. Winter Sun arrives to warm our singer and he promises to “bring it home to my love” - ie, moving across space to arrive next to their love. Some Trust talks about getting “away with everything you want” in a struggle for survival. "
   ]
  },
  {
   "cell_type": "markdown",
   "id": "784edc92-9e56-4254-9a9f-25f52441b94a",
   "metadata": {},
   "source": [
    "Give it Away encourages the listener to use their natural born talents across the world to “go on and light it up”. Changing Tides follows two lovers through life’s changes, following, moving along the path that others set up for them. In Oceans it’s the sun that disappears quickly while vast distances separate our singer and his former lover. Streets of Philadelphia has our singer walking on an avenue until their “legs feel like stone” and when night falls, their blood is “runnin’ through [their] veins”. Here We Are starts with our singer talking about the great distance that they put between themselves and their starting place. They pace ‘back and forth’ hoping that someone will tell them “where to begin”.  And in Munich – our singer simply seems to fall off of an edge. "
   ]
  },
  {
   "cell_type": "markdown",
   "id": "330e7dd9-8f6a-41d6-a48f-7ff321ddaf98",
   "metadata": {},
   "source": [
    "#### Cluster 5 - Reaching Out With Love (Love as Help)\n",
    "- Important Words: say, love, right, wait, hard, leaving, best, things, wrong, today\n",
    "- Notable Songs: How to Save a Life, Say When, Maps, Love Don't Die\n",
    "- Total Song Count: 9 "
   ]
  },
  {
   "cell_type": "markdown",
   "id": "c391d4b0-cbf7-4a74-9eb9-e0b4aee35d0c",
   "metadata": {},
   "source": [
    "I think that my interpretation of this cluster is likely going to be very colored by the big hit in it – How to Save a Life. Slade’s motivation for writing the song is a little clearer, with it being about not being able to help someone who needed it. Say When pulls on a similar thread, where our singer is telling another troubled person that they will comfort them, all the troubled one has to say is “when.” In Maps, our singer tells their listener that Maps don’t love them like the singer loves them. The singer’s love, or help, is better than whatever else is out there. Love Don’t Die sings of an undying or unconditional love that can never be taken away from someone – perhaps this is the help that was not received in How to Save a Life. Dixie, perhaps is the opposite, where the singer is the one asking, or begging for help that we assume arrived because they say they will “try another day.” "
   ]
  },
  {
   "cell_type": "markdown",
   "id": "1ad3bf18-7bd1-415e-bf04-a095463d223b",
   "metadata": {},
   "source": [
    "#### Cluster 6 - Endings, and where we end our analysis\n",
    "- Important Words: years, left, broken, kiss, things, little, wait, alright, told, did\n",
    "- Notable Songs: You Found Me, Heaven Forbid, Where the Story Ends, Our Last Days\n",
    "- Total Song Count: 8 "
   ]
  },
  {
   "cell_type": "markdown",
   "id": "e7220a8c-8c19-466e-9797-87d181319c2a",
   "metadata": {},
   "source": [
    "Again, the big hit in this cluster might be coloring my analysis a little bit too much. But, in You Found Me, the singer has clearly suffered a great loss (ending) and is mad at God for leaving them alone. God finds the singer \"lost and insecure...just a little late.\" The tardiness of God's arrival suggests an ending of some kind. "
   ]
  },
  {
   "cell_type": "markdown",
   "id": "786d9548-dfac-4899-9a3d-7b0ec7e69849",
   "metadata": {},
   "source": [
    "Where the Story Ends is aptly titled for this cluster, and ends “without so much as a kiss”. Similarly, Enough For Now echoes the lyrics of our previous song, adding on a note that “breathing comes in pairs, except for twice, one begins and one’s goodbye.” "
   ]
  },
  {
   "cell_type": "markdown",
   "id": "fab434b3-0704-4045-bf97-b21ad2e8de6f",
   "metadata": {},
   "source": [
    "Our Last Days, starts with a sunset in small town America that “used to hold heroes”. The person’s fondness for their hometown will live on until their last days, but the days they are remembering are over and have ended."
   ]
  },
  {
   "cell_type": "markdown",
   "id": "9e2df06d-f812-4e24-b950-ac9d2d2f11d0",
   "metadata": {},
   "source": [
    "Dumping out the model for future use. "
   ]
  },
  {
   "cell_type": "code",
   "execution_count": 232,
   "id": "bada85d5-ea1c-4f84-8fcf-8e4d5e0dfb42",
   "metadata": {},
   "outputs": [],
   "source": [
    "import pickle"
   ]
  },
  {
   "cell_type": "code",
   "execution_count": 161,
   "id": "aeb18957-a36e-4add-9dee-180620202095",
   "metadata": {},
   "outputs": [],
   "source": [
    "with open('kmeans_newest.pkl', 'wb') as file:\n",
    "    pickle.dump(kmeans_newest, file)"
   ]
  },
  {
   "cell_type": "code",
   "execution_count": 162,
   "id": "7901a652-ea3b-4e2e-83fe-8c891f5f0b6e",
   "metadata": {},
   "outputs": [],
   "source": [
    "with open('kmeans_newest.pkl', 'rb') as file:\n",
    "    model = pickle.load(file)"
   ]
  },
  {
   "cell_type": "markdown",
   "id": "f05d9004-406c-4be4-9bdb-344a9f2f0d52",
   "metadata": {},
   "source": [
    "Extra Code that I looked at but did not really use for the project."
   ]
  },
  {
   "cell_type": "code",
   "execution_count": 146,
   "id": "e3876a9b-238a-4b8b-92ad-243b2bc2b823",
   "metadata": {},
   "outputs": [],
   "source": [
    "#more code from sklearn's documentation referenced above\n",
    "from collections import defaultdict\n",
    "from time import time\n",
    "\n",
    "from sklearn import metrics\n",
    "\n",
    "evaluations = []\n",
    "evaluations_std = []\n",
    "\n",
    "\n",
    "def fit_and_evaluate(km, X, name=None, n_runs=5):\n",
    "    name = km.__class__.__name__ if name is None else name\n",
    "\n",
    "    train_times = []\n",
    "    scores = defaultdict(list)\n",
    "    for seed in range(n_runs):\n",
    "        km.set_params(random_state=seed)\n",
    "        t0 = time()\n",
    "        km.fit(X)\n",
    "        train_times.append(time() - t0)\n",
    "        scores[\"Silhouette Coefficient\"].append(\n",
    "            metrics.silhouette_score(X, km.labels_, sample_size=2000)\n",
    "        )\n",
    "    train_times = np.asarray(train_times)\n",
    "\n",
    "    print(f\"clustering done in {train_times.mean():.2f} ± {train_times.std():.2f} s \")\n",
    "    evaluation = {\n",
    "        \"estimator\": name,\n",
    "        \"train_time\": train_times.mean(),\n",
    "    }\n",
    "    evaluation_std = {\n",
    "        \"estimator\": name,\n",
    "        \"train_time\": train_times.std(),\n",
    "    }\n",
    "    for score_name, score_values in scores.items():\n",
    "        mean_score, std_score = np.mean(score_values), np.std(score_values)\n",
    "        print(f\"{score_name}: {mean_score:.3f} ± {std_score:.3f}\")\n",
    "        evaluation[score_name] = mean_score\n",
    "        evaluation_std[score_name] = std_score\n",
    "    evaluations.append(evaluation)\n",
    "    evaluations_std.append(evaluation_std)"
   ]
  },
  {
   "cell_type": "code",
   "execution_count": 221,
   "id": "4f6439a3-decf-4cf4-b6d7-5662407551ce",
   "metadata": {},
   "outputs": [],
   "source": [
    "#code from carpentries-incubator.github.io/python-text-analysis/06-lsa/index.html\n",
    "def show_topics(vectorizer, svdmodel, topic_number, n):\n",
    "    # Get the feature names (terms) from the TF-IDF vectorizer\n",
    "    terms = vectorizer.get_feature_names_out()\n",
    "    \n",
    "    # Get the weights of the terms for the specified topic from the SVD model\n",
    "    weights = svdmodel[0].components_[topic_number]\n",
    "    \n",
    "    # Create a DataFrame with terms and their corresponding weights\n",
    "    df = pd.DataFrame({\"Term\": terms, \"Weight\": weights})\n",
    "    \n",
    "    # Sort the DataFrame by weights in descending order to get top n terms (largest positive weights)\n",
    "    highs = df.sort_values(by=[\"Weight\"], ascending=False)[0:n]\n",
    "    \n",
    "    # Sort the DataFrame by weights in ascending order to get bottom n terms (largest negative weights)\n",
    "    lows = df.sort_values(by=[\"Weight\"], ascending=False)[-n:]\n",
    "    \n",
    "    # Concatenate top and bottom terms into a single DataFrame and return\n",
    "    return pd.concat([highs, lows])"
   ]
  },
  {
   "cell_type": "markdown",
   "id": "62260a3c-0a4a-42ec-b1c4-ee8238576b13",
   "metadata": {},
   "source": [
    "The cell below stores the axis that the dimensionality reduction used on the data. "
   ]
  },
  {
   "cell_type": "code",
   "execution_count": 222,
   "id": "8940f8cb-2fe5-465c-99d7-d578bd0ec79a",
   "metadata": {},
   "outputs": [],
   "source": [
    "# Get the top 5 and bottom 5 terms for each specified topic\n",
    "topic_words_x = show_topics(vectorizer, lsa, 0, 10)  # Topic 0\n",
    "topic_words_1 = show_topics(vectorizer, lsa, 1, 10) # Topic 1\n",
    "topic_words_y = show_topics(vectorizer, lsa, 2, 10)  # Topic 2\n",
    "topic_words_3 = show_topics(vectorizer, lsa, 3, 10)\n",
    "topic_words_6 = show_topics(vectorizer, lsa, 6, 15)"
   ]
  }
 ],
 "metadata": {
  "kernelspec": {
   "display_name": "Python 3 (ipykernel)",
   "language": "python",
   "name": "python3"
  },
  "language_info": {
   "codemirror_mode": {
    "name": "ipython",
    "version": 3
   },
   "file_extension": ".py",
   "mimetype": "text/x-python",
   "name": "python",
   "nbconvert_exporter": "python",
   "pygments_lexer": "ipython3",
   "version": "3.12.4"
  }
 },
 "nbformat": 4,
 "nbformat_minor": 5
}
